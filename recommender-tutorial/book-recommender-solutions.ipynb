{
 "cells": [
  {
   "cell_type": "code",
   "execution_count": 1,
   "metadata": {
    "collapsed": true
   },
   "outputs": [],
   "source": [
    "import graphlab as gl\n",
    "gl.canvas.set_target('ipynb')"
   ]
  },
  {
   "cell_type": "markdown",
   "metadata": {},
   "source": [
    "The following code snippet will parse the books data provided at the training."
   ]
  },
  {
   "cell_type": "code",
   "execution_count": 2,
   "metadata": {
    "collapsed": false
   },
   "outputs": [
    {
     "name": "stderr",
     "output_type": "stream",
     "text": [
      "[INFO] graphlab.cython.cy_server: GraphLab Create v2.0 started. Logging: /tmp/graphlab_server_1468091566.log\n",
      "INFO:graphlab.cython.cy_server:GraphLab Create v2.0 started. Logging: /tmp/graphlab_server_1468091566.log\n"
     ]
    },
    {
     "name": "stdout",
     "output_type": "stream",
     "text": [
      "This commercial license of GraphLab Create is assigned to engr@dato.com.\n"
     ]
    }
   ],
   "source": [
    "import os\n",
    "if os.path.exists('books/ratings'):\n",
    "    ratings = gl.SFrame('books/ratings')\n",
    "    items = gl.SFrame('books/items')\n",
    "    users = gl.SFrame('books/users')\n",
    "else:\n",
    "    ratings = gl.SFrame.read_csv('books/book-ratings.csv')\n",
    "    ratings.save('books/ratings')\n",
    "    items = gl.SFrame.read_csv('books/book-data.csv')\n",
    "    items.save('books/items')\n",
    "    users = gl.SFrame.read_csv('books/user-data.csv')\n",
    "    users.save('books/users')"
   ]
  },
  {
   "cell_type": "markdown",
   "metadata": {},
   "source": [
    "Visually explore the above data using GraphLab Canvas."
   ]
  },
  {
   "cell_type": "code",
   "execution_count": 3,
   "metadata": {
    "collapsed": false
   },
   "outputs": [
    {
     "data": {
      "application/javascript": [
       "$(\"head\").append($(\"<link/>\").attr({\n",
       "  rel:  \"stylesheet\",\n",
       "  type: \"text/css\",\n",
       "  href: \"//cdnjs.cloudflare.com/ajax/libs/font-awesome/4.1.0/css/font-awesome.min.css\"\n",
       "}));\n",
       "$(\"head\").append($(\"<link/>\").attr({\n",
       "  rel:  \"stylesheet\",\n",
       "  type: \"text/css\",\n",
       "  href: \"https://static.turi.com/products/graphlab-create/2.0/canvas/css/canvas.css\"\n",
       "}));\n",
       "\n",
       "            (function(){\n",
       "\n",
       "                var e = null;\n",
       "                if (typeof element == 'undefined') {\n",
       "                    var scripts = document.getElementsByTagName('script');\n",
       "                    var thisScriptTag = scripts[scripts.length-1];\n",
       "                    var parentDiv = thisScriptTag.parentNode;\n",
       "                    e = document.createElement('div');\n",
       "                    parentDiv.appendChild(e);\n",
       "                } else {\n",
       "                    e = element[0];\n",
       "                }\n",
       "\n",
       "                if (typeof requirejs !== 'undefined') {\n",
       "                    // disable load timeout; ipython_app.js is large and can take a while to load.\n",
       "                    requirejs.config({waitSeconds: 0});\n",
       "                }\n",
       "\n",
       "                require(['https://static.turi.com/products/graphlab-create/2.0/canvas/js/ipython_app.js'], function(IPythonApp){\n",
       "                    var app = new IPythonApp();\n",
       "                    app.attachView('sframe','Summary', {\"ipython\": true, \"sketch\": {\"rating\": {\"std\": 0.9938442841109081, \"complete\": true, \"min\": 1.0, \"max\": 5.0, \"quantile\": [1.0, 1.0, 1.0, 2.0, 2.0, 2.0, 2.0, 2.0, 2.0, 2.0, 2.0, 2.0, 2.0, 2.0, 2.0, 2.0, 3.0, 3.0, 3.0, 3.0, 3.0, 3.0, 3.0, 3.0, 3.0, 3.0, 3.0, 3.0, 3.0, 3.0, 3.0, 3.0, 3.0, 3.0, 3.0, 3.0, 3.0, 3.0, 3.0, 3.0, 3.0, 3.0, 4.0, 4.0, 4.0, 4.0, 4.0, 4.0, 4.0, 4.0, 4.0, 4.0, 4.0, 4.0, 4.0, 4.0, 4.0, 4.0, 4.0, 4.0, 4.0, 4.0, 4.0, 4.0, 4.0, 4.0, 4.0, 4.0, 4.0, 4.0, 4.0, 4.0, 4.0, 4.0, 4.0, 4.0, 4.0, 4.0, 4.0, 4.0, 4.0, 4.0, 4.0, 5.0, 5.0, 5.0, 5.0, 5.0, 5.0, 5.0, 5.0, 5.0, 5.0, 5.0, 5.0, 5.0, 5.0, 5.0, 5.0, 5.0, 5.0], \"median\": 4.0, \"numeric\": true, \"num_unique\": 5, \"num_undefined\": 0, \"var\": 0.9877264610599235, \"progress\": 1.0, \"size\": 98077, \"frequent_items\": {\"1\": {\"frequency\": 2463, \"value\": 1}, \"2\": {\"frequency\": 12294, \"value\": 2}, \"3\": {\"frequency\": 25696, \"value\": 3}, \"4\": {\"frequency\": 40787, \"value\": 4}, \"5\": {\"frequency\": 16837, \"value\": 5}}, \"mean\": 3.5836332677386142}, \"book\": {\"complete\": true, \"numeric\": false, \"num_unique\": 11121, \"num_undefined\": 0, \"progress\": 1.0, \"frequent_items\": {\"The Fool's Run\": {\"frequency\": 18, \"value\": \"The Fool's Run\"}, \"Uppity Women of Medieval Times\": {\"frequency\": 11, \"value\": \"Uppity Women of ...\"}, \"Resort To Murder: A Henrie O Mystery\": {\"frequency\": 9, \"value\": \"Resort To Murder: ...\"}, \"Bloomability\": {\"frequency\": 13, \"value\": \"Bloomability\"}, \"Singing in the Comeback Choir\": {\"frequency\": 13, \"value\": \"Singing in the ...\"}, \"CSI: Sin City\": {\"frequency\": 12, \"value\": \"CSI: Sin City\"}, \"Life of Pi\": {\"frequency\": 336, \"value\": \"Life of Pi\"}, \"Rebecca's Tale\": {\"frequency\": 10, \"value\": \"Rebecca's Tale\"}, \"The Man Who Listens to Horses\": {\"frequency\": 19, \"value\": \"The Man Who ...\"}, \"Reunion in Death\": {\"frequency\": 37, \"value\": \"Reunion in Death\"}, \"The Corrections\": {\"frequency\": 66, \"value\": \"The Corrections\"}, \"Shrink Rap\": {\"frequency\": 13, \"value\": \"Shrink Rap\"}, \"Sushi for Beginners\": {\"frequency\": 19, \"value\": \"Sushi for ...\"}, \"The Hellfire Club\": {\"frequency\": 15, \"value\": \"The Hellfire Club\"}, \"Point of Origin\": {\"frequency\": 114, \"value\": \"Point of Origin\"}, \"Once a Princess\": {\"frequency\": 15, \"value\": \"Once a Princess\"}, \"The Silmarillion\": {\"frequency\": 11, \"value\": \"The Silmarillion\"}, \"Four Blondes\": {\"frequency\": 66, \"value\": \"Four Blondes\"}, \"A Small Death in Lisbon\": {\"frequency\": 22, \"value\": \"A Small Death in ...\"}, \"Twilight Hunger\": {\"frequency\": 16, \"value\": \"Twilight Hunger\"}, \"Riding in Cars With Boys: Confessions of a Bad Girl Who Makes Good\": {\"frequency\": 27, \"value\": \"Riding in Cars ...\"}, \"Burnt Sienna\": {\"frequency\": 10, \"value\": \"Burnt Sienna\"}, \"I'm the One That I Want\": {\"frequency\": 13, \"value\": \"I'm the One That I ...\"}, \"New York Dead\": {\"frequency\": 16, \"value\": \"New York Dead\"}, \"Mrs. Mike\": {\"frequency\": 13, \"value\": \"Mrs. Mike\"}, \"Five Quarters of the Orange\": {\"frequency\": 97, \"value\": \"Five Quarters of ...\"}, \"Geek Love\": {\"frequency\": 56, \"value\": \"Geek Love\"}, \"The Frog King: A Love Story\": {\"frequency\": 17, \"value\": \"The Frog King: A ...\"}, \"Santa Fe Rules\": {\"frequency\": 12, \"value\": \"Santa Fe Rules\"}, \"Getting Rid Of Bradley\": {\"frequency\": 26, \"value\": \"Getting Rid Of ...\"}, \"Crazy Ladies\": {\"frequency\": 13, \"value\": \"Crazy Ladies\"}, \"Tigana\": {\"frequency\": 17, \"value\": \"Tigana\"}, \"Asta's Book\": {\"frequency\": 12, \"value\": \"Asta's Book\"}, \"The Elements of Style, Fourth Edition\": {\"frequency\": 14, \"value\": \"The Elements of ...\"}, \"'Salem's Lot\": {\"frequency\": 22, \"value\": \"'Salem's Lot\"}, \"The Stone Diaries\": {\"frequency\": 71, \"value\": \"The Stone Diaries\"}, \"Mirror Image\": {\"frequency\": 50, \"value\": \"Mirror Image\"}, \"Trial by Fire\": {\"frequency\": 17, \"value\": \"Trial by Fire\"}, \"To Sir Phillip, With Love\": {\"frequency\": 22, \"value\": \"To Sir Phillip, ...\"}, \"Balzac and the Little Chinese Seamstress\": {\"frequency\": 44, \"value\": \"Balzac and the ...\"}, \"The Cross-Country Quilters\": {\"frequency\": 13, \"value\": \"The Cross-Country ...\"}, \"A Gentle Feuding\": {\"frequency\": 10, \"value\": \"A Gentle Feuding\"}, \"The Bell Jar\": {\"frequency\": 35, \"value\": \"The Bell Jar\"}, \"Bad Heir Day\": {\"frequency\": 27, \"value\": \"Bad Heir Day\"}, \"Trail of Secrets\": {\"frequency\": 12, \"value\": \"Trail of Secrets\"}, \"Dragondrums\": {\"frequency\": 11, \"value\": \"Dragondrums\"}, \"Hearts In Atlantis\": {\"frequency\": 75, \"value\": \"Hearts In Atlantis\"}, \"The Hobbit\": {\"frequency\": 33, \"value\": \"The Hobbit\"}, \"Private Screening\": {\"frequency\": 12, \"value\": \"Private Screening\"}, \"The Homing\": {\"frequency\": 24, \"value\": \"The Homing\"}, \"The Absence of Nectar\": {\"frequency\": 35, \"value\": \"The Absence of ...\"}, \"The Undertaking: Life Studies from the Dismal Trade\": {\"frequency\": 9, \"value\": \"The Undertaking: ...\"}, \"The Fourth Estate\": {\"frequency\": 14, \"value\": \"The Fourth Estate\"}, \"The Grilling Season\": {\"frequency\": 35, \"value\": \"The Grilling ...\"}, \"Crocodile on the Sandbank\": {\"frequency\": 32, \"value\": \"Crocodile on the ...\"}, \"Protect and Defend\": {\"frequency\": 30, \"value\": \"Protect and Defend\"}, \"Die for Love\": {\"frequency\": 11, \"value\": \"Die for Love\"}, \"Snow in August\": {\"frequency\": 21, \"value\": \"Snow in August\"}, \"14,000 Things to Be Happy About\": {\"frequency\": 15, \"value\": \"14,000 Things to ...\"}, \"Lord of Hawkfell Island\": {\"frequency\": 9, \"value\": \"Lord of Hawkfell ...\"}, \"Summon the Keeper\": {\"frequency\": 21, \"value\": \"Summon the Keeper\"}, \"North of Montana\": {\"frequency\": 10, \"value\": \"North of Montana\"}, \"A Superior Death\": {\"frequency\": 12, \"value\": \"A Superior Death\"}, \"Finding Moon\": {\"frequency\": 28, \"value\": \"Finding Moon\"}, \"Shadow's End\": {\"frequency\": 9, \"value\": \"Shadow's End\"}, \"The Day After Tomorrow\": {\"frequency\": 25, \"value\": \"The Day After ...\"}, \"The Perfect Summer\": {\"frequency\": 22, \"value\": \"The Perfect Summer\"}, \"Diary of a Mad Mom-To-Be\": {\"frequency\": 13, \"value\": \"Diary of a Mad ...\"}, \"The Greenlanders\": {\"frequency\": 9, \"value\": \"The Greenlanders\"}, \"Oscar and Lucinda\": {\"frequency\": 15, \"value\": \"Oscar and Lucinda\"}, \"The Bonfire of the Vanities\": {\"frequency\": 57, \"value\": \"The Bonfire of the ...\"}, \"The Worst-Case Scenario Survival Handbook\": {\"frequency\": 40, \"value\": \"The Worst-Case ...\"}, \"Je Voudrais Que Quelqu'un M'Attende Quelque Part\": {\"frequency\": 22, \"value\": \"Je Voudrais Que ...\"}, \"Night Tales\": {\"frequency\": 16, \"value\": \"Night Tales\"}, \"Glory Lane\": {\"frequency\": 10, \"value\": \"Glory Lane\"}, \"The Girls He Adored\": {\"frequency\": 14, \"value\": \"The Girls He ...\"}, \"The Greatest Discovery\": {\"frequency\": 9, \"value\": \"The Greatest ...\"}, \"Through My Eyes\": {\"frequency\": 9, \"value\": \"Through My Eyes\"}, \"The Tattooed Map\": {\"frequency\": 15, \"value\": \"The Tattooed Map\"}, \"Innocent Blood\": {\"frequency\": 12, \"value\": \"Innocent Blood\"}, \"The Bride Stripped Bare\": {\"frequency\": 14, \"value\": \"The Bride Stripped ...\"}, \"The Music of Chance\": {\"frequency\": 11, \"value\": \"The Music of ...\"}, \"The Fly on the Wall\": {\"frequency\": 15, \"value\": \"The Fly on the ...\"}, \"Another Roadside Attraction\": {\"frequency\": 13, \"value\": \"Another Roadside ...\"}, \"Another Dawn\": {\"frequency\": 12, \"value\": \"Another Dawn\"}, \"Silent Honor\": {\"frequency\": 20, \"value\": \"Silent Honor\"}, \"Angelas Ashes: A Memoir\": {\"frequency\": 23, \"value\": \"Angelas Ashes: A ...\"}, \"Deep Lie\": {\"frequency\": 10, \"value\": \"Deep Lie\"}, \"A Walk in the Woods: Rediscovering America on the Appalachian Trail\": {\"frequency\": 31, \"value\": \"A Walk in the ...\"}, \"The Color of Water: A Black Man's Tribute to His White Mother\": {\"frequency\": 111, \"value\": \"The Color of ...\"}, \"Vampire$\": {\"frequency\": 14, \"value\": \"Vampire$\"}, \"The Simple Truth\": {\"frequency\": 65, \"value\": \"The Simple Truth\"}, \"The SECRET DIARY OF ANNE BOLEYN\": {\"frequency\": 16, \"value\": \"The SECRET DIARY ...\"}, \"Kentucky Rich\": {\"frequency\": 10, \"value\": \"Kentucky Rich\"}, \"10 Lb. Penalty\": {\"frequency\": 19, \"value\": \"10 Lb. Penalty\"}, \"Extreme Measures\": {\"frequency\": 30, \"value\": \"Extreme Measures\"}, \"Dave Barry's Bad Habits a 100% Fact-Free Book\": {\"frequency\": 10, \"value\": \"Dave Barry's Bad ...\"}, \"Life on the Road\": {\"frequency\": 17, \"value\": \"Life on the Road\"}, \"The Icarus Agenda\": {\"frequency\": 17, \"value\": \"The Icarus Agenda\"}, \"The Book of Bunny Suicides\": {\"frequency\": 15, \"value\": \"The Book of Bunny ...\"}, \"The Future Homemakers of America\": {\"frequency\": 32, \"value\": \"The Future ...\"}, \"The First Wives Club Movie Tie In\": {\"frequency\": 20, \"value\": \"The First Wives ...\"}, \"Do No Harm\": {\"frequency\": 14, \"value\": \"Do No Harm\"}, \"Restoree\": {\"frequency\": 10, \"value\": \"Restoree\"}, \"The Seeing Stone\": {\"frequency\": 9, \"value\": \"The Seeing Stone\"}, \"Fool's Puzzle\": {\"frequency\": 15, \"value\": \"Fool's Puzzle\"}, \"Power Lines\": {\"frequency\": 9, \"value\": \"Power Lines\"}, \"The Russian Debutante's Handbook\": {\"frequency\": 9, \"value\": \"The Russian ...\"}, \"Downsize This! Random Threats from an Unarmed American\": {\"frequency\": 21, \"value\": \"Downsize This! ...\"}, \"The Darwin Awards: Evolution in Action\": {\"frequency\": 62, \"value\": \"The Darwin Awards: ...\"}, \"Pastime\": {\"frequency\": 12, \"value\": \"Pastime\"}, \"Balzac Et LA Petite Tailleuse Chino\": {\"frequency\": 10, \"value\": \"Balzac Et LA ...\"}, \"The Carousel\": {\"frequency\": 19, \"value\": \"The Carousel\"}, \"Suspicion of Betrayal\": {\"frequency\": 14, \"value\": \"Suspicion of ...\"}, \"Tender Is the Storm\": {\"frequency\": 12, \"value\": \"Tender Is the ...\"}, \"Sailing Alone Around the Room: New and Selected Poems\": {\"frequency\": 12, \"value\": \"Sailing Alone ...\"}, \"The Millionaires\": {\"frequency\": 52, \"value\": \"The Millionaires\"}, \"Sarah's Window\": {\"frequency\": 10, \"value\": \"Sarah's Window\"}, \"The Cereal Murders\": {\"frequency\": 23, \"value\": \"The Cereal Murders\"}, \"A Maiden's Grave\": {\"frequency\": 31, \"value\": \"A Maiden's Grave\"}, \"The One World, One Heart: Everyone Has the Same Basic Needs and Emotions. We Must Put Aside Our Differences and Come Together as One in Peace, U\": {\"frequency\": 9, \"value\": \"The One World, One ...\"}, \"Honor's Splendour\": {\"frequency\": 12, \"value\": \"Honor's Splendour\"}, \"Desert Dawn\": {\"frequency\": 10, \"value\": \"Desert Dawn\"}, \"The Toynbee Convector\": {\"frequency\": 12, \"value\": \"The Toynbee ...\"}, \"Shall We Tell the President?\": {\"frequency\": 10, \"value\": \"Shall We Tell the ...\"}, \"Always the Bridesmaid\": {\"frequency\": 10, \"value\": \"Always the ...\"}, \"The First Counsel\": {\"frequency\": 40, \"value\": \"The First Counsel\"}, \"Summers at Castle Auburn\": {\"frequency\": 10, \"value\": \"Summers at Castle ...\"}, \"The Hero and the Crown\": {\"frequency\": 29, \"value\": \"The Hero and the ...\"}, \"French Silk\": {\"frequency\": 15, \"value\": \"French Silk\"}, \"Even Cowgirls Get the Blues\": {\"frequency\": 28, \"value\": \"Even Cowgirls Get ...\"}, \"Falling Backwards\": {\"frequency\": 10, \"value\": \"Falling Backwards\"}, \"Sword of Shannara\": {\"frequency\": 40, \"value\": \"Sword of Shannara\"}, \"Killer Hair\": {\"frequency\": 9, \"value\": \"Killer Hair\"}, \"Rubinroter Dschungel.\": {\"frequency\": 9, \"value\": \"Rubinroter ...\"}, \"Mother Earth Father Sky\": {\"frequency\": 15, \"value\": \"Mother Earth ...\"}, \"Hunting Season\": {\"frequency\": 11, \"value\": \"Hunting Season\"}, \"The Horse Whisperer\": {\"frequency\": 182, \"value\": \"The Horse ...\"}, \"Dilbert Fugitive From The Cubicle Police\": {\"frequency\": 20, \"value\": \"Dilbert Fugitive ...\"}, \"U.S.S. Seawolf\": {\"frequency\": 13, \"value\": \"U.S.S. Seawolf\"}, \"The Great Santini\": {\"frequency\": 22, \"value\": \"The Great Santini\"}, \"The Book of Shadows\": {\"frequency\": 21, \"value\": \"The Book of ...\"}, \"Over the Edge\": {\"frequency\": 33, \"value\": \"Over the Edge\"}, \"El perfume\": {\"frequency\": 9, \"value\": \"El perfume\"}, \"Mr. Murder\": {\"frequency\": 68, \"value\": \"Mr. Murder\"}, \"Walk Two Moons\": {\"frequency\": 32, \"value\": \"Walk Two Moons\"}, \"Yukon Ho!\": {\"frequency\": 21, \"value\": \"Yukon Ho!\"}, \"The Attorney\": {\"frequency\": 37, \"value\": \"The Attorney\"}, \"Father Melancholy's Daughter\": {\"frequency\": 10, \"value\": \"Father ...\"}, \"Baltasar and Blimunda\": {\"frequency\": 10, \"value\": \"Baltasar and ...\"}, \"The Night Crew\": {\"frequency\": 35, \"value\": \"The Night Crew\"}, \"The Essential Calvin and Hobbes\": {\"frequency\": 20, \"value\": \"The Essential ...\"}, \"Rubyfruit Jungle\": {\"frequency\": 32, \"value\": \"Rubyfruit Jungle\"}, \"Needful Things\": {\"frequency\": 76, \"value\": \"Needful Things\"}, \"Deadly Decisions\": {\"frequency\": 52, \"value\": \"Deadly Decisions\"}, \"Lady Oracle\": {\"frequency\": 14, \"value\": \"Lady Oracle\"}, \"All I Need to Know I Learned from My Cat\": {\"frequency\": 40, \"value\": \"All I Need to Know ...\"}, \"The Other Side and Back: A Psychic's Guide to Our World and Beyond\": {\"frequency\": 24, \"value\": \"The Other Side and ...\"}, \"Miracle at St. Anna\": {\"frequency\": 9, \"value\": \"Miracle at St. ...\"}, \"Enter Whining\": {\"frequency\": 9, \"value\": \"Enter Whining\"}, \"Songbook\": {\"frequency\": 10, \"value\": \"Songbook\"}, \"Horse Whisperer\": {\"frequency\": 40, \"value\": \"Horse Whisperer\"}, \"Driving Force\": {\"frequency\": 21, \"value\": \"Driving Force\"}, \"La caverna = A caverna\": {\"frequency\": 13, \"value\": \"La caverna = A ...\"}, \"Walking On Glass\": {\"frequency\": 11, \"value\": \"Walking On Glass\"}, \"The Coldest Winter Ever\": {\"frequency\": 13, \"value\": \"The Coldest Winter ...\"}, \"The Cat Who Tailed a Thief\": {\"frequency\": 28, \"value\": \"The Cat Who Tailed ...\"}, \"Seta\": {\"frequency\": 15, \"value\": \"Seta\"}, \"Prozac Nation: Young and Depressed in America\": {\"frequency\": 19, \"value\": \"Prozac Nation: ...\"}, \"Where is Joe Merchant?\": {\"frequency\": 21, \"value\": \"Where is Joe ...\"}, \"The Third Twin\": {\"frequency\": 29, \"value\": \"The Third Twin\"}, \"The Sunday Wife\": {\"frequency\": 13, \"value\": \"The Sunday Wife\"}, \"The First Victim\": {\"frequency\": 18, \"value\": \"The First Victim\"}, \"A Dog's Life\": {\"frequency\": 15, \"value\": \"A Dog's Life\"}, \"Circle of Stones\": {\"frequency\": 9, \"value\": \"Circle of Stones\"}, \"Deception Point\": {\"frequency\": 100, \"value\": \"Deception Point\"}, \"Expecting Adam: A True Story of Birth, Rebirth, and Everyday Magic\": {\"frequency\": 17, \"value\": \"Expecting Adam: A ...\"}, \"Dinner at the Homesick Restaurant\": {\"frequency\": 19, \"value\": \"Dinner at the ...\"}, \"The Price of Loyalty: George W. Bush, the White House, and the Education of Paul O'Neill\": {\"frequency\": 10, \"value\": \"The Price of ...\"}, \"Greenwitch\": {\"frequency\": 19, \"value\": \"Greenwitch\"}, \"Message from Nam\": {\"frequency\": 17, \"value\": \"Message from Nam\"}, \"A Patchwork Planet\": {\"frequency\": 20, \"value\": \"A Patchwork Planet\"}, \"From Beginning to End: The Rituals of Our Lives\": {\"frequency\": 13, \"value\": \"From Beginning to ...\"}, \"State of the Art\": {\"frequency\": 9, \"value\": \"State of the Art\"}, \"Purple Cane Road\": {\"frequency\": 16, \"value\": \"Purple Cane Road\"}, \"The Indispensable Calvin And Hobbes\": {\"frequency\": 17, \"value\": \"The Indispensable ...\"}, \"The Accidental Bride\": {\"frequency\": 12, \"value\": \"The Accidental ...\"}, \"Once and Always\": {\"frequency\": 14, \"value\": \"Once and Always\"}, \"Glimmering\": {\"frequency\": 11, \"value\": \"Glimmering\"}, \"J Is for Judgment\": {\"frequency\": 55, \"value\": \"J Is for Judgment\"}, \"Wildlife Preserves\": {\"frequency\": 11, \"value\": \"Wildlife Preserves\"}, \"Night over Water\": {\"frequency\": 42, \"value\": \"Night over Water\"}, \"Running Scared\": {\"frequency\": 17, \"value\": \"Running Scared\"}, \"He Shall Thunder in the Sky\": {\"frequency\": 11, \"value\": \"He Shall Thunder ...\"}, \"The Power of One\": {\"frequency\": 27, \"value\": \"The Power of One\"}, \"Roses Are Red\": {\"frequency\": 43, \"value\": \"Roses Are Red\"}, \"The Last Jihad\": {\"frequency\": 9, \"value\": \"The Last Jihad\"}, \"Buried Evidence\": {\"frequency\": 15, \"value\": \"Buried Evidence\"}, \"My Utmost for His Highest, Promotional Edition\": {\"frequency\": 10, \"value\": \"My Utmost for His ...\"}, \"War for the Oaks\": {\"frequency\": 13, \"value\": \"War for the Oaks\"}, \"Gridlock\": {\"frequency\": 13, \"value\": \"Gridlock\"}, \"Bastard Out of Carolina\": {\"frequency\": 81, \"value\": \"Bastard Out of ...\"}, \"Wicked Widow\": {\"frequency\": 10, \"value\": \"Wicked Widow\"}, \"Fool on the Hill. Roman.\": {\"frequency\": 11, \"value\": \"Fool on the Hill. ...\"}, \"The Broke Diaries: The Completely True and Hilarious Misadventures of a Good Girl Gone Broke\": {\"frequency\": 17, \"value\": \"The Broke Diaries: ...\"}, \"Tales of a Female Nomad: Living at Large in the World\": {\"frequency\": 26, \"value\": \"Tales of a Female ...\"}, \"Electric God\": {\"frequency\": 9, \"value\": \"Electric God\"}, \"What Not to Wear\": {\"frequency\": 10, \"value\": \"What Not to Wear\"}, \"Why Do Clocks Run Clockwise?\": {\"frequency\": 15, \"value\": \"Why Do Clocks Run ...\"}, \"The World According to Garp\": {\"frequency\": 60, \"value\": \"The World ...\"}, \"My Dream of You\": {\"frequency\": 34, \"value\": \"My Dream of You\"}, \"Ground Zero and Beyond\": {\"frequency\": 10, \"value\": \"Ground Zero and ...\"}, \"One-Hit Wonder\": {\"frequency\": 13, \"value\": \"One-Hit Wonder\"}, \"The Persian Pickle Club\": {\"frequency\": 34, \"value\": \"The Persian Pickle ...\"}, \"9-11\": {\"frequency\": 18, \"value\": \"9-11\"}, \"El Antropologo Inocente\": {\"frequency\": 9, \"value\": \"El Antropologo ...\"}, \"The Blue Sword\": {\"frequency\": 19, \"value\": \"The Blue Sword\"}, \"Good in Bed\": {\"frequency\": 247, \"value\": \"Good in Bed\"}, \"The King Must Die\": {\"frequency\": 9, \"value\": \"The King Must Die\"}, \"Still Pumped From Using The Mouse\": {\"frequency\": 18, \"value\": \"Still Pumped From ...\"}, \"Dating Big Bird\": {\"frequency\": 26, \"value\": \"Dating Big Bird\"}, \"Among the Missing\": {\"frequency\": 14, \"value\": \"Among the Missing\"}, \"Jade Peony\": {\"frequency\": 15, \"value\": \"Jade Peony\"}, \"The Secret Language of Dreams: A Visual Key to Dreams and Their Meanings\": {\"frequency\": 16, \"value\": \"The Secret ...\"}, \"Critical Judgment\": {\"frequency\": 25, \"value\": \"Critical Judgment\"}, \"Tangled Vines\": {\"frequency\": 13, \"value\": \"Tangled Vines\"}, \"Die unendliche Geschichte: Von A bis Z\": {\"frequency\": 12, \"value\": \"Die unendliche ...\"}, \"The Haj\": {\"frequency\": 10, \"value\": \"The Haj\"}, \"Celestial Navigation\": {\"frequency\": 19, \"value\": \"Celestial ...\"}, \"The Alchemist: A Fable About Following Your Dream\": {\"frequency\": 126, \"value\": \"The Alchemist: A ...\"}, \"Suddenly You\": {\"frequency\": 14, \"value\": \"Suddenly You\"}, \"Pen Pals\": {\"frequency\": 32, \"value\": \"Pen Pals\"}, \"The Fresco\": {\"frequency\": 10, \"value\": \"The Fresco\"}, \"Some Can Whistle\": {\"frequency\": 14, \"value\": \"Some Can Whistle\"}, \"Friendship Cake\": {\"frequency\": 19, \"value\": \"Friendship Cake\"}, \"Courting Trouble\": {\"frequency\": 41, \"value\": \"Courting Trouble\"}, \"Gibbon's Decline and Fall\": {\"frequency\": 14, \"value\": \"Gibbon's Decline ...\"}, \"The Restraint of Beasts\": {\"frequency\": 12, \"value\": \"The Restraint of ...\"}, \"Four Letters of Love\": {\"frequency\": 16, \"value\": \"Four Letters of ...\"}, \"The Body Farm\": {\"frequency\": 82, \"value\": \"The Body Farm\"}, \"Salem Falls\": {\"frequency\": 20, \"value\": \"Salem Falls\"}, \"Brain Child\": {\"frequency\": 10, \"value\": \"Brain Child\"}, \"Season of the Machete\": {\"frequency\": 22, \"value\": \"Season of the ...\"}, \"The Bourne Ultimatum\": {\"frequency\": 29, \"value\": \"The Bourne ...\"}, \"Assumed Identity\": {\"frequency\": 10, \"value\": \"Assumed Identity\"}, \"Breath, Eyes, Memory\": {\"frequency\": 51, \"value\": \"Breath, Eyes, ...\"}, \"How Stella Got Her Groove Back\": {\"frequency\": 62, \"value\": \"How Stella Got Her ...\"}, \"Field of Thirteen\": {\"frequency\": 22, \"value\": \"Field of Thirteen\"}, \"Freedomland\": {\"frequency\": 15, \"value\": \"Freedomland\"}, \"The Last Promise\": {\"frequency\": 16, \"value\": \"The Last Promise\"}, \"Eyes of a Child\": {\"frequency\": 29, \"value\": \"Eyes of a Child\"}, \"Dark Lord of Derkholm\": {\"frequency\": 15, \"value\": \"Dark Lord of ...\"}, \"Perdido Street Station\": {\"frequency\": 16, \"value\": \"Perdido Street ...\"}, \"Hunde von Riga.\": {\"frequency\": 21, \"value\": \"Hunde von Riga.\"}, \"The Distinguished Guest\": {\"frequency\": 10, \"value\": \"The Distinguished ...\"}, \"Sunset in St. Tropez\": {\"frequency\": 32, \"value\": \"Sunset in St. ...\"}, \"The Glasswrights' Apprentice\": {\"frequency\": 9, \"value\": \"The Glasswrights' ...\"}, \"Crazy for You\": {\"frequency\": 30, \"value\": \"Crazy for You\"}, \"By the River Piedra I Sat Down and Wept\": {\"frequency\": 14, \"value\": \"By the River ...\"}, \"Frindle\": {\"frequency\": 19, \"value\": \"Frindle\"}, \"Point Deception\": {\"frequency\": 14, \"value\": \"Point Deception\"}, \"All Things Wise and Wonderful\": {\"frequency\": 22, \"value\": \"All Things Wise ...\"}, \"Immortal Poems of the English Language\": {\"frequency\": 11, \"value\": \"Immortal Poems of ...\"}, \"Bridget Jones's Diary\": {\"frequency\": 377, \"value\": \"Bridget Jones's ...\"}, \"Cheaper by the Dozen\": {\"frequency\": 12, \"value\": \"Cheaper by the ...\"}, \"Redeeming Love\": {\"frequency\": 15, \"value\": \"Redeeming Love\"}, \"Restaurant at the End of the Universe\": {\"frequency\": 11, \"value\": \"Restaurant at the ...\"}, \"Fires of Winter\": {\"frequency\": 11, \"value\": \"Fires of Winter\"}, \"The Bachman Books: Rage, the Long Walk, Roadwork, the Running Man\": {\"frequency\": 27, \"value\": \"The Bachman Books: ...\"}, \"Farewell to Arms\": {\"frequency\": 13, \"value\": \"Farewell to Arms\"}, \"I Is for Innocent\": {\"frequency\": 55, \"value\": \"I Is for Innocent\"}, \"Rebelion en la Granja\": {\"frequency\": 10, \"value\": \"Rebelion en la ...\"}, \"Please Stop Laughing at Me: One Woman's Inspirational Story\": {\"frequency\": 15, \"value\": \"Please Stop ...\"}, \"Degree of Guilt\": {\"frequency\": 27, \"value\": \"Degree of Guilt\"}, \"Naked Pictures of Famous People\": {\"frequency\": 15, \"value\": \"Naked Pictures of ...\"}, \"A Heart of Stone\": {\"frequency\": 19, \"value\": \"A Heart of Stone\"}, \"I Am the Only Running Footman\": {\"frequency\": 12, \"value\": \"I Am the Only ...\"}, \"Lucifers Hammer\": {\"frequency\": 13, \"value\": \"Lucifers Hammer\"}, \"Das Echo.\": {\"frequency\": 12, \"value\": \"Das Echo.\"}, \"Midnight Bayou\": {\"frequency\": 75, \"value\": \"Midnight Bayou\"}, \"Rhaeva\": {\"frequency\": 13, \"value\": \"Rhaeva\"}, \"Unadulterated Cat\": {\"frequency\": 12, \"value\": \"Unadulterated Cat\"}, \"From the Corner of His Eye\": {\"frequency\": 91, \"value\": \"From the Corner of ...\"}, \"Skipping Towards Gomorrah: The Seven Deadly Sins and the Pursuit of Happiness in America\": {\"frequency\": 15, \"value\": \"Skipping Towards ...\"}, \"The Art of Deception\": {\"frequency\": 19, \"value\": \"The Art of ...\"}, \"Young Wives\": {\"frequency\": 22, \"value\": \"Young Wives\"}, \"Xanth 15: The Color of Her Panties\": {\"frequency\": 14, \"value\": \"Xanth 15: The ...\"}, \"Sleeping at the Starlite Motel: And Other Adventures on the Way Back Home\": {\"frequency\": 17, \"value\": \"Sleeping at the ...\"}, \"The Outside Man\": {\"frequency\": 14, \"value\": \"The Outside Man\"}, \"Parable of the Sower\": {\"frequency\": 21, \"value\": \"Parable of the ...\"}, \"The Other Woman\": {\"frequency\": 19, \"value\": \"The Other Woman\"}, \"A Yellow Raft in Blue Water\": {\"frequency\": 25, \"value\": \"A Yellow Raft in ...\"}, \"Gap Creek: The Story Of A Marriage\": {\"frequency\": 58, \"value\": \"Gap Creek: The ...\"}, \"The Satanic Verses\": {\"frequency\": 15, \"value\": \"The Satanic Verses\"}, \"The Idea of Perfection\": {\"frequency\": 9, \"value\": \"The Idea of ...\"}, \"Once upon a Dream\": {\"frequency\": 10, \"value\": \"Once upon a Dream\"}, \"Whatever Happened to Janie?\": {\"frequency\": 10, \"value\": \"Whatever Happened ...\"}, \"The Dark Half\": {\"frequency\": 97, \"value\": \"The Dark Half\"}, \"Incriminating Evidence\": {\"frequency\": 12, \"value\": \"Incriminating ...\"}, \"The Dark Highlander\": {\"frequency\": 15, \"value\": \"The Dark ...\"}, \"The Red Hat Club\": {\"frequency\": 13, \"value\": \"The Red Hat Club\"}, \"The Loner\": {\"frequency\": 9, \"value\": \"The Loner\"}, \"Girls' Poker Night\": {\"frequency\": 9, \"value\": \"Girls' Poker Night\"}, \"Anna's Book\": {\"frequency\": 9, \"value\": \"Anna's Book\"}, \"Simple Abundance:  A Daybook of Comfort and Joy\": {\"frequency\": 49, \"value\": \"Simple Abundance: ...\"}, \"Plantation: A Lowcountry Tale\": {\"frequency\": 20, \"value\": \"Plantation: A ...\"}, \"Making Minty Malone\": {\"frequency\": 17, \"value\": \"Making Minty ...\"}, \"Red Azalea\": {\"frequency\": 14, \"value\": \"Red Azalea\"}, \"The Stories of Eva Luna\": {\"frequency\": 15, \"value\": \"The Stories of Eva ...\"}, \"The Toughest Indian in the World\": {\"frequency\": 18, \"value\": \"The Toughest ...\"}, \"The Cat Who Knew a Cardinal\": {\"frequency\": 21, \"value\": \"The Cat Who Knew a ...\"}, \"Parsifal Mosaic\": {\"frequency\": 13, \"value\": \"Parsifal Mosaic\"}, \"The Proving Ground\": {\"frequency\": 9, \"value\": \"The Proving Ground\"}, \"Undue Influence\": {\"frequency\": 26, \"value\": \"Undue Influence\"}, \"The Murder Book\": {\"frequency\": 69, \"value\": \"The Murder Book\"}, \"In the Time of the Butterflies\": {\"frequency\": 13, \"value\": \"In the Time of the ...\"}, \"Soul Stories\": {\"frequency\": 22, \"value\": \"Soul Stories\"}, \"Truly, Madly Manhattan\": {\"frequency\": 42, \"value\": \"Truly, Madly ...\"}, \"Freaky Deaky\": {\"frequency\": 11, \"value\": \"Freaky Deaky\"}, \"Castaways of the Flying Dutchman\": {\"frequency\": 10, \"value\": \"Castaways of the ...\"}, \"Drowning Ruth\": {\"frequency\": 49, \"value\": \"Drowning Ruth\"}, \"Pleading Guilty\": {\"frequency\": 27, \"value\": \"Pleading Guilty\"}, \"Hello Darling, Are You Working?\": {\"frequency\": 11, \"value\": \"Hello Darling, Are ...\"}, \"The First Eagle\": {\"frequency\": 11, \"value\": \"The First Eagle\"}, \"Guns, Germs, and Steel: The Fates of Human Societies\": {\"frequency\": 36, \"value\": \"Guns, Germs, and ...\"}, \"Free\": {\"frequency\": 52, \"value\": \"Free\"}, \"Reaching to Heaven: A Spiritual Journey Through Life and Death\": {\"frequency\": 9, \"value\": \"Reaching to ...\"}, \"Truth, The\": {\"frequency\": 17, \"value\": \"Truth, The\"}, \"The Other Side of Midnight\": {\"frequency\": 18, \"value\": \"The Other Side of ...\"}, \"Der Hahn ist tot. Roman.\": {\"frequency\": 25, \"value\": \"Der Hahn ist tot. ...\"}, \"Tipping the Velvet\": {\"frequency\": 22, \"value\": \"Tipping the Velvet\"}, \"Always a Thief\": {\"frequency\": 12, \"value\": \"Always a Thief\"}, \"The Cat Who Sniffed Glue\": {\"frequency\": 17, \"value\": \"The Cat Who ...\"}, \"Her Daughter's Eyes\": {\"frequency\": 11, \"value\": \"Her Daughter's ...\"}, \"How to be good.\": {\"frequency\": 9, \"value\": \"How to be good.\"}, \"Because of Winn-Dixie\": {\"frequency\": 13, \"value\": \"Because of Winn- ...\"}, \"Body for Life: 12 Weeks to Mental and Physical Strength\": {\"frequency\": 13, \"value\": \"Body for Life: 12 ...\"}, \"Female Intelligence\": {\"frequency\": 27, \"value\": \"Female ...\"}, \"Bride Of The Far Side\": {\"frequency\": 9, \"value\": \"Bride Of The Far ...\"}, \"Felicia's Journey\": {\"frequency\": 22, \"value\": \"Felicia's Journey\"}, \"Crystal Singer\": {\"frequency\": 15, \"value\": \"Crystal Singer\"}, \"The Thief of Always\": {\"frequency\": 20, \"value\": \"The Thief of ...\"}, \"The Vanished Child\": {\"frequency\": 9, \"value\": \"The Vanished Child\"}, \"Debt of Honor\": {\"frequency\": 17, \"value\": \"Debt of Honor\"}, \"Unnatural Exposure\": {\"frequency\": 106, \"value\": \"Unnatural Exposure\"}, \"Hidden Prey\": {\"frequency\": 14, \"value\": \"Hidden Prey\"}, \"Bell Jar\": {\"frequency\": 29, \"value\": \"Bell Jar\"}, \"Tekwar\": {\"frequency\": 10, \"value\": \"Tekwar\"}, \"Midnight's Children\": {\"frequency\": 20, \"value\": \"Midnight's ...\"}, \"Walking Shadow\": {\"frequency\": 12, \"value\": \"Walking Shadow\"}, \"Farriers' Lane\": {\"frequency\": 10, \"value\": \"Farriers' Lane\"}, \"The Whale Rider\": {\"frequency\": 13, \"value\": \"The Whale Rider\"}, \"Oh, the Places You'll Go!\": {\"frequency\": 16, \"value\": \"Oh, the Places ...\"}, \"I Am Legend\": {\"frequency\": 16, \"value\": \"I Am Legend\"}, \"Cherry: A Memoir\": {\"frequency\": 15, \"value\": \"Cherry: A Memoir\"}, \"The Whitechapel Conspiracy\": {\"frequency\": 17, \"value\": \"The Whitechapel ...\"}, \"Around the World in Eighty Days\": {\"frequency\": 9, \"value\": \"Around the World ...\"}, \"The Caves of Steel\": {\"frequency\": 11, \"value\": \"The Caves of Steel\"}, \"Dreams Underfoot\": {\"frequency\": 9, \"value\": \"Dreams Underfoot\"}, \"Dragon on a Pedestal\": {\"frequency\": 9, \"value\": \"Dragon on a ...\"}, \"The Blue Hour\": {\"frequency\": 13, \"value\": \"The Blue Hour\"}, \"Personal Injuries\": {\"frequency\": 36, \"value\": \"Personal Injuries\"}, \"The Thief Lord\": {\"frequency\": 50, \"value\": \"The Thief Lord\"}, \"Still Life With Crows\": {\"frequency\": 9, \"value\": \"Still Life With ...\"}, \"Poisonwood Bible Edition Uk\": {\"frequency\": 14, \"value\": \"Poisonwood Bible ...\"}, \"Lirael: Daughter of the Clayr\": {\"frequency\": 18, \"value\": \"Lirael: Daughter ...\"}, \"The Cassandra Compact: A Covert-One Novel\": {\"frequency\": 11, \"value\": \"The Cassandra ...\"}, \"The Voice of the Night\": {\"frequency\": 39, \"value\": \"The Voice of the ...\"}, \"Family Honor\": {\"frequency\": 24, \"value\": \"Family Honor\"}, \"Spindle's End\": {\"frequency\": 20, \"value\": \"Spindle's End\"}, \"The Last Precinct\": {\"frequency\": 130, \"value\": \"The Last Precinct\"}, \"That Was Then, This Is Now\": {\"frequency\": 12, \"value\": \"That Was Then, ...\"}, \"Dead Men Do Tell Tales: The Strange and Fascinating Cases of a Forensic Anthropologist\": {\"frequency\": 12, \"value\": \"Dead Men Do Tell ...\"}, \"The Music of the Spheres\": {\"frequency\": 22, \"value\": \"The Music of the ...\"}, \"With A Southern Touch\": {\"frequency\": 11, \"value\": \"With A Southern ...\"}, \"Wedding Party\": {\"frequency\": 9, \"value\": \"Wedding Party\"}, \"Far Side Gallery 3 Paperback\": {\"frequency\": 16, \"value\": \"Far Side Gallery 3 ...\"}, \"Notes From a Small Planet\": {\"frequency\": 48, \"value\": \"Notes From a Small ...\"}, \"Killing Orders\": {\"frequency\": 18, \"value\": \"Killing Orders\"}, \"What's Eating Gilbert Grape\": {\"frequency\": 9, \"value\": \"What's Eating ...\"}, \"Empire Falls\": {\"frequency\": 146, \"value\": \"Empire Falls\"}, \"The Lust Lizard of Melancholy Cove\": {\"frequency\": 39, \"value\": \"The Lust Lizard of ...\"}, \"Why Cats Paint: A Theory of Feline Aesthetics\": {\"frequency\": 12, \"value\": \"Why Cats Paint: A ...\"}, \"Full Circle\": {\"frequency\": 14, \"value\": \"Full Circle\"}, \"True Betrayals\": {\"frequency\": 24, \"value\": \"True Betrayals\"}, \"Die Puppenspieler\": {\"frequency\": 12, \"value\": \"Die Puppenspieler\"}, \"Master of the Game\": {\"frequency\": 23, \"value\": \"Master of the Game\"}, \"A Light in the Attic\": {\"frequency\": 24, \"value\": \"A Light in the ...\"}, \"The Physics of Star Trek\": {\"frequency\": 11, \"value\": \"The Physics of ...\"}, \"El Codigo Da Vinci / The Da Vinci Code\": {\"frequency\": 20, \"value\": \"El Codigo Da Vinci ...\"}, \"Peachtree Road\": {\"frequency\": 12, \"value\": \"Peachtree Road\"}, \"Velvet Angel\": {\"frequency\": 12, \"value\": \"Velvet Angel\"}, \"The Breaker\": {\"frequency\": 25, \"value\": \"The Breaker\"}, \"The Face on the Milk Carton\": {\"frequency\": 23, \"value\": \"The Face on the ...\"}, \"A Kingdom of Dreams\": {\"frequency\": 16, \"value\": \"A Kingdom of ...\"}, \"Up the Down Staircase\": {\"frequency\": 12, \"value\": \"Up the Down ...\"}, \"253\": {\"frequency\": 12, \"value\": \"253\"}, \"Die Tauschung\": {\"frequency\": 9, \"value\": \"Die Tauschung\"}, \"Dreaming Water\": {\"frequency\": 10, \"value\": \"Dreaming Water\"}, \"Atlantis Found\": {\"frequency\": 49, \"value\": \"Atlantis Found\"}, \"The Bourne Supremacy\": {\"frequency\": 31, \"value\": \"The Bourne ...\"}, \"The Bone Vault\": {\"frequency\": 12, \"value\": \"The Bone Vault\"}, \"Incident at Twenty-Mile\": {\"frequency\": 14, \"value\": \"Incident at ...\"}, \"Patchwork Planet Uk Edition\": {\"frequency\": 9, \"value\": \"Patchwork Planet ...\"}, \"Portrait in Death\": {\"frequency\": 35, \"value\": \"Portrait in Death\"}, \"Prospero's Children\": {\"frequency\": 13, \"value\": \"Prospero's ...\"}, \"The Fifth Sacred Thing\": {\"frequency\": 17, \"value\": \"The Fifth Sacred ...\"}, \"Crossing to Safety\": {\"frequency\": 13, \"value\": \"Crossing to Safety\"}, \"The Ship Who Sang\": {\"frequency\": 15, \"value\": \"The Ship Who Sang\"}, \"Naked Once More\": {\"frequency\": 9, \"value\": \"Naked Once More\"}, \"Bare Necessity\": {\"frequency\": 10, \"value\": \"Bare Necessity\"}, \"Night of the Mary Kay Commandos Featuring Smell O-Toons\": {\"frequency\": 15, \"value\": \"Night of the Mary ...\"}, \"The Spirit Woman\": {\"frequency\": 9, \"value\": \"The Spirit Woman\"}, \"Wellenbrecher.\": {\"frequency\": 10, \"value\": \"Wellenbrecher.\"}, \"The Napping House\": {\"frequency\": 11, \"value\": \"The Napping House\"}, \"When You Look Like Your Passport Photo, It's Time to Go Home\": {\"frequency\": 18, \"value\": \"When You Look Like ...\"}, \"The Wailing Wind\": {\"frequency\": 50, \"value\": \"The Wailing Wind\"}, \"Night\": {\"frequency\": 99, \"value\": \"Night\"}, \"Sudden Prey\": {\"frequency\": 29, \"value\": \"Sudden Prey\"}, \"Pale Horse Coming\": {\"frequency\": 9, \"value\": \"Pale Horse Coming\"}, \"A Kiss for Little Bear\": {\"frequency\": 16, \"value\": \"A Kiss for Little ...\"}, \"Silence of the Lambs\": {\"frequency\": 121, \"value\": \"Silence of the ...\"}, \"Say No to Joe?\": {\"frequency\": 11, \"value\": \"Say No to Joe?\"}, \"Capital Crimes\": {\"frequency\": 26, \"value\": \"Capital Crimes\"}, \"Straight Man\": {\"frequency\": 12, \"value\": \"Straight Man\"}, \"Kushiel's Dart\": {\"frequency\": 26, \"value\": \"Kushiel's Dart\"}, \"Darkness Peering\": {\"frequency\": 14, \"value\": \"Darkness Peering\"}, \"Manner of Death\": {\"frequency\": 16, \"value\": \"Manner of Death\"}, \"The Edge of Town\": {\"frequency\": 19, \"value\": \"The Edge of Town\"}, \"The Falls\": {\"frequency\": 12, \"value\": \"The Falls\"}, \"The Lords of Discipline\": {\"frequency\": 9, \"value\": \"The Lords of ...\"}, \"Pigs in Heaven\": {\"frequency\": 102, \"value\": \"Pigs in Heaven\"}, \"Homeplace\": {\"frequency\": 10, \"value\": \"Homeplace\"}, \"Falling Bodies\": {\"frequency\": 11, \"value\": \"Falling Bodies\"}, \"The Magician's Assistant\": {\"frequency\": 26, \"value\": \"The Magician's ...\"}, \"The Day I Turned Uncool: Confessions of a Reluctant Grown-Up\": {\"frequency\": 10, \"value\": \"The Day I Turned ...\"}, \"The Sign of the Beaver\": {\"frequency\": 12, \"value\": \"The Sign of the ...\"}, \"Dragonsong\": {\"frequency\": 13, \"value\": \"Dragonsong\"}, \"Morning, Noon, and Night\": {\"frequency\": 14, \"value\": \"Morning, Noon, and ...\"}, \"Servant of the Bones\": {\"frequency\": 45, \"value\": \"Servant of the ...\"}, \"The Rector's Wife\": {\"frequency\": 9, \"value\": \"The Rector's Wife\"}, \"The Mysteries of Pittsburgh\": {\"frequency\": 15, \"value\": \"The Mysteries of ...\"}, \"Speaks the Nightbird, Vol. 2: Evil Unveiled\": {\"frequency\": 9, \"value\": \"Speaks the ...\"}, \"Notes from a Small Island\": {\"frequency\": 60, \"value\": \"Notes from a Small ...\"}, \"Catwatching\": {\"frequency\": 10, \"value\": \"Catwatching\"}, \"Prime Witness\": {\"frequency\": 18, \"value\": \"Prime Witness\"}, \"The Perks of Being a Wallflower\": {\"frequency\": 61, \"value\": \"The Perks of Being ...\"}, \"A Gracious Plenty\": {\"frequency\": 15, \"value\": \"A Gracious Plenty\"}, \"Warchild\": {\"frequency\": 12, \"value\": \"Warchild\"}, \"Spandau Phoenix\": {\"frequency\": 11, \"value\": \"Spandau Phoenix\"}, \"Sounder\": {\"frequency\": 16, \"value\": \"Sounder\"}, \"Menopaws: The Silent Meow\": {\"frequency\": 12, \"value\": \"Menopaws: The ...\"}, \"The Second Silence\": {\"frequency\": 11, \"value\": \"The Second Silence\"}, \"Blood Will Tell\": {\"frequency\": 9, \"value\": \"Blood Will Tell\"}, \"Farm Fatale: A Comedy of Country Manors\": {\"frequency\": 19, \"value\": \"Farm Fatale: A ...\"}, \"The Outsiders\": {\"frequency\": 34, \"value\": \"The Outsiders\"}, \"Goddesses in Everywoman: A New Psychology of Women\": {\"frequency\": 9, \"value\": \"Goddesses in ...\"}, \"A Dry Spell\": {\"frequency\": 12, \"value\": \"A Dry Spell\"}, \"Dave Barry in Cyberspace\": {\"frequency\": 21, \"value\": \"Dave Barry in ...\"}, \"The Sunne in Splendour\": {\"frequency\": 10, \"value\": \"The Sunne in ...\"}, \"A Woman Betrayed\": {\"frequency\": 16, \"value\": \"A Woman Betrayed\"}, \"Bird by Bird: Some Instructions on Writing and Life\": {\"frequency\": 30, \"value\": \"Bird by Bird: Some ...\"}, \"Going Home: Unfinished Business/ Island of Flowers/ Mind Over Matter\": {\"frequency\": 22, \"value\": \"Going Home: ...\"}, \"Bag of Bones\": {\"frequency\": 91, \"value\": \"Bag of Bones\"}, \"Now and Forever\": {\"frequency\": 12, \"value\": \"Now and Forever\"}, \"Quozl\": {\"frequency\": 10, \"value\": \"Quozl\"}, \"Oscar et la dame rose\": {\"frequency\": 14, \"value\": \"Oscar et la dame ...\"}, \"Morgan'S Run\": {\"frequency\": 10, \"value\": \"Morgan'S Run\"}, \"Suzanne's Diary for Nicholas\": {\"frequency\": 228, \"value\": \"Suzanne's Diary ...\"}, \"Thai Horse\": {\"frequency\": 9, \"value\": \"Thai Horse\"}, \"Fish! A Remarkable Way to Boost Morale and Improve Results\": {\"frequency\": 21, \"value\": \"Fish! A Remarkable ...\"}, \"The Terminal Experiment\": {\"frequency\": 12, \"value\": \"The Terminal ...\"}, \"Adrian Mole: The Cappuccino Years\": {\"frequency\": 11, \"value\": \"Adrian Mole: The ...\"}, \"Power of a Woman\": {\"frequency\": 14, \"value\": \"Power of a Woman\"}, \"East of Eden\": {\"frequency\": 19, \"value\": \"East of Eden\"}, \"Surfacing\": {\"frequency\": 18, \"value\": \"Surfacing\"}, \"The Handmaid's Tale\": {\"frequency\": 125, \"value\": \"The Handmaid's ...\"}, \"Waking the Moon\": {\"frequency\": 15, \"value\": \"Waking the Moon\"}, \"The Bad Girl's Guide to the Open Road\": {\"frequency\": 12, \"value\": \"The Bad Girl's ...\"}, \"Housekeeping\": {\"frequency\": 20, \"value\": \"Housekeeping\"}, \"Coyote Blue\": {\"frequency\": 18, \"value\": \"Coyote Blue\"}, \"The Bad Girl's Guide to Getting What You Want\": {\"frequency\": 16, \"value\": \"The Bad Girl's ...\"}, \"A Dilly of a Death\": {\"frequency\": 9, \"value\": \"A Dilly of a Death\"}, \"Sudden Mischief\": {\"frequency\": 15, \"value\": \"Sudden Mischief\"}, \"His Bright Light: The Story of Nick Traina\": {\"frequency\": 11, \"value\": \"His Bright Light: ...\"}, \"Past Lives, Future Healing: A Psychic Reveals the Secrets to Good Health and Great Relationships\": {\"frequency\": 9, \"value\": \"Past Lives, Future ...\"}, \"Moby Dick or the White Whale\": {\"frequency\": 9, \"value\": \"Moby Dick or the ...\"}, \"Star Wars Episode I: The Phantom Menace\": {\"frequency\": 16, \"value\": \"Star Wars Episode ...\"}, \"James Herriot's Favorite Dog Stories\": {\"frequency\": 9, \"value\": \"James Herriot's ...\"}, \"The Mothman Prophecies\": {\"frequency\": 30, \"value\": \"The Mothman ...\"}, \"Do Androids Dream of Electric Sheep?\": {\"frequency\": 22, \"value\": \"Do Androids Dream ...\"}, \"A Year by the Sea: Thoughts of an Unfinished Woman\": {\"frequency\": 22, \"value\": \"A Year by the Sea: ...\"}, \"Along Came Trouble\": {\"frequency\": 10, \"value\": \"Along Came Trouble\"}, \"The Velvet Promise\": {\"frequency\": 12, \"value\": \"The Velvet Promise\"}, \"Motherhood: The Second Oldest Profession\": {\"frequency\": 10, \"value\": \"Motherhood: The ...\"}, \"The Chatham School Affair\": {\"frequency\": 11, \"value\": \"The Chatham School ...\"}, \"Envy\": {\"frequency\": 69, \"value\": \"Envy\"}, \"It's Not About the Bike: My Journey Back to Life\": {\"frequency\": 60, \"value\": \"It's Not About the ...\"}, \"The Goal: A Process of Ongoing Improvement\": {\"frequency\": 9, \"value\": \"The Goal: A ...\"}, \"Reckless Endangerment\": {\"frequency\": 10, \"value\": \"Reckless ...\"}, \"The Pillars of the Earth\": {\"frequency\": 89, \"value\": \"The Pillars of the ...\"}, \"Kate Remembered\": {\"frequency\": 21, \"value\": \"Kate Remembered\"}, \"Skin Tight\": {\"frequency\": 30, \"value\": \"Skin Tight\"}, \"The Baby Book: Everything You Need to Know About Your Baby from Birth to Age Two\": {\"frequency\": 12, \"value\": \"The Baby Book: ...\"}, \"A Theory of Relativity\": {\"frequency\": 24, \"value\": \"A Theory of ...\"}, \"Russendisko.\": {\"frequency\": 36, \"value\": \"Russendisko.\"}, \"The Cobra Event\": {\"frequency\": 40, \"value\": \"The Cobra Event\"}, \"Knee Deep in Paradise\": {\"frequency\": 11, \"value\": \"Knee Deep in ...\"}, \"Small leather journal with strap-myra series\": {\"frequency\": 14, \"value\": \"Small leather ...\"}, \"Are You Experienced?\": {\"frequency\": 17, \"value\": \"Are You ...\"}, \"Fire and Hemlock\": {\"frequency\": 11, \"value\": \"Fire and Hemlock\"}, \"A Friend of the Earth\": {\"frequency\": 9, \"value\": \"A Friend of the ...\"}, \"Hidden Fires\": {\"frequency\": 12, \"value\": \"Hidden Fires\"}, \"100 Selected Poems by E. E. Cummings\": {\"frequency\": 10, \"value\": \"100 Selected Poems ...\"}, \"We Wish to Inform You That Tomorrow We Will be Killed With Our Families: Stories from Rwanda\": {\"frequency\": 14, \"value\": \"We Wish to Inform ...\"}, \"Daughter of Fortune\": {\"frequency\": 52, \"value\": \"Daughter of ...\"}, \"If Tomorrow Comes\": {\"frequency\": 20, \"value\": \"If Tomorrow Comes\"}, \"Unnatural Selections\": {\"frequency\": 18, \"value\": \"Unnatural ...\"}, \"The Fourth Perimeter\": {\"frequency\": 18, \"value\": \"The Fourth ...\"}, \"The Mistress of Spices\": {\"frequency\": 45, \"value\": \"The Mistress of ...\"}, \"Beyond Eden\": {\"frequency\": 19, \"value\": \"Beyond Eden\"}, \"Lethal Seduction\": {\"frequency\": 13, \"value\": \"Lethal Seduction\"}, \"Heat and Dust\": {\"frequency\": 13, \"value\": \"Heat and Dust\"}, \"The Skies Of Pern\": {\"frequency\": 10, \"value\": \"The Skies Of Pern\"}, \"Small Vices\": {\"frequency\": 14, \"value\": \"Small Vices\"}, \"The Cider House Rules\": {\"frequency\": 149, \"value\": \"The Cider House ...\"}, \"The Worst Day of My Life, So Far\": {\"frequency\": 10, \"value\": \"The Worst Day of ...\"}, \"Dilbert: Seven Years Of Highly Defective People (P\": {\"frequency\": 15, \"value\": \"Dilbert: Seven ...\"}, \"Mutant Message Down Under\": {\"frequency\": 51, \"value\": \"Mutant Message ...\"}, \"To Be the Best\": {\"frequency\": 10, \"value\": \"To Be the Best\"}, \"Nine Parts of Desire: The Hidden World of Islamic Women\": {\"frequency\": 20, \"value\": \"Nine Parts of ...\"}, \"We Were Soldiers Once... and Young: Ia Drang--The Battle That Changed the War in Vietnam\": {\"frequency\": 15, \"value\": \"We Were Soldiers ...\"}, \"Follow the Stars Home\": {\"frequency\": 20, \"value\": \"Follow the Stars ...\"}, \"Bad Girls of the Bible and What We Can Learn from Them\": {\"frequency\": 11, \"value\": \"Bad Girls of the ...\"}, \"The White Raven\": {\"frequency\": 10, \"value\": \"The White Raven\"}, \"The Botany of Desire: A Plant's-Eye View of the World\": {\"frequency\": 16, \"value\": \"The Botany of ...\"}, \"Go Tell It on the Mountain\": {\"frequency\": 11, \"value\": \"Go Tell It on the ...\"}, \"Dave Barry's Only Travel Guide You'll Ever Need\": {\"frequency\": 12, \"value\": \"Dave Barry's Only ...\"}, \"Goodnight, Irene\": {\"frequency\": 12, \"value\": \"Goodnight, Irene\"}, \"Floaters\": {\"frequency\": 10, \"value\": \"Floaters\"}, \"Living Buddha, Living Christ\": {\"frequency\": 12, \"value\": \"Living Buddha, ...\"}, \"The Shape of Snakes\": {\"frequency\": 20, \"value\": \"The Shape of ...\"}, \"The Woman Next Door\": {\"frequency\": 60, \"value\": \"The Woman Next ...\"}, \"The O'Reilly Factor: The Good, the Bad, and the Completely Ridiculous in American Life\": {\"frequency\": 11, \"value\": \"The O'Reilly ...\"}, \"Being There\": {\"frequency\": 14, \"value\": \"Being There\"}, \"El Diamante de Jerusalen\": {\"frequency\": 12, \"value\": \"El Diamante de ...\"}, \"Ruby Slippers, Golden Tears\": {\"frequency\": 13, \"value\": \"Ruby Slippers, ...\"}, \"Neither Here nor There: Travels in Europe\": {\"frequency\": 17, \"value\": \"Neither Here nor ...\"}, \"The Funhouse\": {\"frequency\": 28, \"value\": \"The Funhouse\"}, \"Does My Bum Look Big in This?\": {\"frequency\": 13, \"value\": \"Does My Bum Look ...\"}, \"Resurrection Row\": {\"frequency\": 9, \"value\": \"Resurrection Row\"}, \"Pierced By A Sword\": {\"frequency\": 12, \"value\": \"Pierced By A Sword\"}, \"Das Hotel New Hampshire\": {\"frequency\": 9, \"value\": \"Das Hotel New ...\"}, \"Revelation Space\": {\"frequency\": 9, \"value\": \"Revelation Space\"}, \"Die Unertragliche Leichtigkeit des Seins...The Unbearable Lightness of Being\": {\"frequency\": 23, \"value\": \"Die Unertragliche ...\"}, \"A Pirate Looks at Fifty\": {\"frequency\": 18, \"value\": \"A Pirate Looks at ...\"}, \"James Herriot's Dog Stories\": {\"frequency\": 12, \"value\": \"James Herriot's ...\"}, \"Harriet the Spy\": {\"frequency\": 38, \"value\": \"Harriet the Spy\"}, \"Skull Session\": {\"frequency\": 9, \"value\": \"Skull Session\"}, \"Girlfriends: Invisible Bonds, Enduring Ties\": {\"frequency\": 18, \"value\": \"Girlfriends: ...\"}, \"Guilty Pleasures\": {\"frequency\": 11, \"value\": \"Guilty Pleasures\"}, \"Catch Me If You Can: The True Story of a Real Fake\": {\"frequency\": 69, \"value\": \"Catch Me If You ...\"}, \"Sophocles, The Oedipus Cycle: Oedipus Rex, Oedipus at Colonus, Antigone\": {\"frequency\": 10, \"value\": \"Sophocles, The ...\"}, \"Winter Prey\": {\"frequency\": 30, \"value\": \"Winter Prey\"}, \"The Saskiad\": {\"frequency\": 10, \"value\": \"The Saskiad\"}, \"The Penwyth Curse\": {\"frequency\": 19, \"value\": \"The Penwyth Curse\"}, \"You Can Heal Your Life/101\": {\"frequency\": 11, \"value\": \"You Can Heal Your ...\"}, \"Saving Faith\": {\"frequency\": 65, \"value\": \"Saving Faith\"}, \"Red Rabbit\": {\"frequency\": 55, \"value\": \"Red Rabbit\"}, \"The Neverending Story\": {\"frequency\": 43, \"value\": \"The Neverending ...\"}, \"Bet Me\": {\"frequency\": 12, \"value\": \"Bet Me\"}, \"Oranges Are Not the Only Fruit\": {\"frequency\": 23, \"value\": \"Oranges Are Not ...\"}, \"Buddha of Suburbia\": {\"frequency\": 19, \"value\": \"Buddha of Suburbia\"}, \"Chasing the Dime\": {\"frequency\": 53, \"value\": \"Chasing the Dime\"}, \"4 Blondes\": {\"frequency\": 52, \"value\": \"4 Blondes\"}, \"Walking Across Egypt\": {\"frequency\": 20, \"value\": \"Walking Across ...\"}, \"Beyond The Far Side\": {\"frequency\": 11, \"value\": \"Beyond The Far ...\"}, \"Zen in the Art of Writing\": {\"frequency\": 11, \"value\": \"Zen in the Art of ...\"}, \"Dr. Atkins' New Diet Revolution\": {\"frequency\": 43, \"value\": \"Dr. Atkins' New ...\"}, \"A Long Fatal Love Chase\": {\"frequency\": 25, \"value\": \"A Long Fatal Love ...\"}, \"My Sergei: A Love Story\": {\"frequency\": 22, \"value\": \"My Sergei: A Love ...\"}, \"The Bullfighter Checks Her Makeup: My Encounters With Extraordinary People\": {\"frequency\": 11, \"value\": \"The Bullfighter ...\"}, \"The Cat Who Had 14 Tales\": {\"frequency\": 18, \"value\": \"The Cat Who Had 14 ...\"}, \"Last Days of Summer\": {\"frequency\": 9, \"value\": \"Last Days of ...\"}, \"Bones of the Earth\": {\"frequency\": 12, \"value\": \"Bones of the Earth\"}, \"Irresistible Forces\": {\"frequency\": 14, \"value\": \"Irresistible ...\"}, \"Cancer Schmancer\": {\"frequency\": 11, \"value\": \"Cancer Schmancer\"}, \"Feast of All Saints\": {\"frequency\": 34, \"value\": \"Feast of All ...\"}, \"Holidays on Ice: Stories\": {\"frequency\": 10, \"value\": \"Holidays on Ice: ...\"}, \"Seduction by Design\": {\"frequency\": 10, \"value\": \"Seduction by ...\"}, \"Chesapeake Blue\": {\"frequency\": 19, \"value\": \"Chesapeake Blue\"}, \"Lies and the Lying Liars Who Tell Them: A Fair and Balanced Look at the Right\": {\"frequency\": 67, \"value\": \"Lies and the Lying ...\"}, \"Shinju\": {\"frequency\": 15, \"value\": \"Shinju\"}, \"Godel, Escher, Bach: An Eternal Golden Braid\": {\"frequency\": 13, \"value\": \"Godel, Escher, ...\"}, \"When the Legends Die\": {\"frequency\": 9, \"value\": \"When the Legends ...\"}, \"Invisible Monsters\": {\"frequency\": 32, \"value\": \"Invisible Monsters\"}, \"A Place of Execution\": {\"frequency\": 24, \"value\": \"A Place of ...\"}, \"Waiting for Godot\": {\"frequency\": 19, \"value\": \"Waiting for Godot\"}, \"Retribution\": {\"frequency\": 16, \"value\": \"Retribution\"}, \"The Secret Diary of Adrian Mole, Aged 13 3/4\": {\"frequency\": 14, \"value\": \"The Secret Diary ...\"}, \"Stephen King's Danse Macabre\": {\"frequency\": 16, \"value\": \"Stephen King's ...\"}, \"Letters from a Nut\": {\"frequency\": 31, \"value\": \"Letters from a Nut\"}, \"LA Insoportable Levedad Del Ser/the Unbearable Lightness of Being\": {\"frequency\": 11, \"value\": \"LA Insoportable ...\"}, \"The House at Pooh Corner\": {\"frequency\": 13, \"value\": \"The House at Pooh ...\"}, \"3rd Degree\": {\"frequency\": 41, \"value\": \"3rd Degree\"}, \"The Vendetta Defense\": {\"frequency\": 29, \"value\": \"The Vendetta ...\"}, \"Traitor's Gate\": {\"frequency\": 12, \"value\": \"Traitor's Gate\"}, \"The Lesson of Her Death\": {\"frequency\": 11, \"value\": \"The Lesson of Her ...\"}, \"Final Target\": {\"frequency\": 68, \"value\": \"Final Target\"}, \"Rain Fall\": {\"frequency\": 10, \"value\": \"Rain Fall\"}, \"Wild Justice\": {\"frequency\": 29, \"value\": \"Wild Justice\"}, \"Rich Dad, Poor Dad: What the Rich Teach Their Kids About Money--That the Poor and Middle Class Do Not!\": {\"frequency\": 42, \"value\": \"Rich Dad, Poor ...\"}, \"L'Insoutenable Legerete de l'Etre\": {\"frequency\": 9, \"value\": \"L'Insoutenable ...\"}, \"Throat\": {\"frequency\": 12, \"value\": \"Throat\"}, \"Cannery Row\": {\"frequency\": 21, \"value\": \"Cannery Row\"}, \"Night Of Crash-Test Dummies\": {\"frequency\": 17, \"value\": \"Night Of Crash- ...\"}, \"Rage of Angels\": {\"frequency\": 21, \"value\": \"Rage of Angels\"}, \"L'Amour Dure Trois\": {\"frequency\": 9, \"value\": \"L'Amour Dure Trois\"}, \"Changing Places\": {\"frequency\": 15, \"value\": \"Changing Places\"}, \"Dead Zone\": {\"frequency\": 14, \"value\": \"Dead Zone\"}, \"Dark Challenge\": {\"frequency\": 16, \"value\": \"Dark Challenge\"}, \"In a Sunburned Country\": {\"frequency\": 40, \"value\": \"In a Sunburned ...\"}, \"The Dilbert Future: Thriving on Stupidity in the 21st Century\": {\"frequency\": 17, \"value\": \"The Dilbert ...\"}, \"A Calculated Risk\": {\"frequency\": 11, \"value\": \"A Calculated Risk\"}, \"Critical Conditions\": {\"frequency\": 11, \"value\": \"Critical ...\"}, \"The Night Listener\": {\"frequency\": 15, \"value\": \"The Night Listener\"}, \"Star Trek Memories\": {\"frequency\": 14, \"value\": \"Star Trek Memories\"}, \"The Best Democracy Money Can Buy: The Truth About Corporate Cons, Globalization and High-Finance Fraudsters\": {\"frequency\": 14, \"value\": \"The Best Democracy ...\"}, \"The Eleventh Commandment\": {\"frequency\": 12, \"value\": \"The Eleventh ...\"}, \"The Seventh Commandment\": {\"frequency\": 11, \"value\": \"The Seventh ...\"}, \"The Vor Game\": {\"frequency\": 13, \"value\": \"The Vor Game\"}, \"The Twilight Before Christmas\": {\"frequency\": 9, \"value\": \"The Twilight ...\"}, \"The Voyage of the Narwhal\": {\"frequency\": 13, \"value\": \"The Voyage of the ...\"}, \"The Cat Who Played Brahms\": {\"frequency\": 22, \"value\": \"The Cat Who Played ...\"}, \"The White House Connection\": {\"frequency\": 10, \"value\": \"The White House ...\"}, \"Flabbergasted\": {\"frequency\": 10, \"value\": \"Flabbergasted\"}, \"Easy Prey\": {\"frequency\": 64, \"value\": \"Easy Prey\"}, \"Bitterroot Landing\": {\"frequency\": 10, \"value\": \"Bitterroot Landing\"}, \"Castle Roogna #03\": {\"frequency\": 9, \"value\": \"Castle Roogna #03\"}, \"The Crimson Petal and the White\": {\"frequency\": 73, \"value\": \"The Crimson Petal ...\"}, \"Orlando: A Biography\": {\"frequency\": 19, \"value\": \"Orlando: A ...\"}, \"Practical Demonkeeping\": {\"frequency\": 30, \"value\": \"Practical ...\"}, \"Bee Season\": {\"frequency\": 19, \"value\": \"Bee Season\"}, \"The Law of Love\": {\"frequency\": 14, \"value\": \"The Law of Love\"}, \"The Wasp Factory\": {\"frequency\": 35, \"value\": \"The Wasp Factory\"}, \"The Archivist\": {\"frequency\": 13, \"value\": \"The Archivist\"}, \"Queen Bee of Mimosa Branch\": {\"frequency\": 18, \"value\": \"Queen Bee of ...\"}, \"Motherless Daughters: The Legacy of Loss\": {\"frequency\": 10, \"value\": \"Motherless ...\"}, \"The Janson Directive\": {\"frequency\": 16, \"value\": \"The Janson ...\"}, \"Love You Forever\": {\"frequency\": 36, \"value\": \"Love You Forever\"}, \"Quidditch Through the Ages\": {\"frequency\": 12, \"value\": \"Quidditch Through ...\"}, \"Every Living Thing\": {\"frequency\": 32, \"value\": \"Every Living Thing\"}, \"Falling Angels\": {\"frequency\": 88, \"value\": \"Falling Angels\"}, \"Heart of Darkness and the Secret Sharer\": {\"frequency\": 13, \"value\": \"Heart of Darkness ...\"}, \"The Green Mile\": {\"frequency\": 114, \"value\": \"The Green Mile\"}, \"Nimisha's Ship\": {\"frequency\": 17, \"value\": \"Nimisha's Ship\"}, \"Cowboys Are My Weakness\": {\"frequency\": 14, \"value\": \"Cowboys Are My ...\"}, \"Almost Adam\": {\"frequency\": 10, \"value\": \"Almost Adam\"}, \"Miss Julia Throws a Wedding\": {\"frequency\": 13, \"value\": \"Miss Julia Throws ...\"}, \"Uncle Tungsten: Memories of a Chemical Boyhood\": {\"frequency\": 10, \"value\": \"Uncle Tungsten: ...\"}, \"Wild at Heart\": {\"frequency\": 10, \"value\": \"Wild at Heart\"}, \"Reservation Blues\": {\"frequency\": 17, \"value\": \"Reservation Blues\"}, \"The Teenage Liberation Handbook: How to Quit School and Get a Real Life and Education\": {\"frequency\": 13, \"value\": \"The Teenage ...\"}, \"A Trip to the Beach: Living on Island Time in the Caribbean\": {\"frequency\": 10, \"value\": \"A Trip to the ...\"}, \"The Cat Who Talked to Ghosts\": {\"frequency\": 29, \"value\": \"The Cat Who Talked ...\"}, \"About Face\": {\"frequency\": 11, \"value\": \"About Face\"}, \"The Chimney Sweeper's Boy\": {\"frequency\": 15, \"value\": \"The Chimney ...\"}, \"The Cat Who Came for Christmas\": {\"frequency\": 24, \"value\": \"The Cat Who Came ...\"}, \"Kisscut\": {\"frequency\": 9, \"value\": \"Kisscut\"}, \"Girl from the South\": {\"frequency\": 9, \"value\": \"Girl from the ...\"}, \"What to Expect the Toddler Years\": {\"frequency\": 16, \"value\": \"What to Expect the ...\"}, \"Schachnovelle\": {\"frequency\": 18, \"value\": \"Schachnovelle\"}, \"The Celestine Prophecy\": {\"frequency\": 40, \"value\": \"The Celestine ...\"}, \"The Fourth Hand\": {\"frequency\": 40, \"value\": \"The Fourth Hand\"}, \"The Tin Princess\": {\"frequency\": 9, \"value\": \"The Tin Princess\"}, \"Perish Twice\": {\"frequency\": 20, \"value\": \"Perish Twice\"}, \"The Last Juror\": {\"frequency\": 64, \"value\": \"The Last Juror\"}, \"The Autobiography of Foudini M. Cat\": {\"frequency\": 9, \"value\": \"The Autobiography ...\"}, \"Waiting to Exhale\": {\"frequency\": 30, \"value\": \"Waiting to Exhale\"}, \"Io Non Ho Paura\": {\"frequency\": 23, \"value\": \"Io Non Ho Paura\"}, \"Castles in the Mist\": {\"frequency\": 11, \"value\": \"Castles in the ...\"}, \"Where You Belong\": {\"frequency\": 17, \"value\": \"Where You Belong\"}, \"Many Lives, Many Masters\": {\"frequency\": 17, \"value\": \"Many Lives, Many ...\"}, \"Bitten\": {\"frequency\": 9, \"value\": \"Bitten\"}, \"The Archer's Tale\": {\"frequency\": 9, \"value\": \"The Archer's Tale\"}, \"Mr. Popper's Penguins\": {\"frequency\": 17, \"value\": \"Mr. Popper's ...\"}, \"Cavedweller\": {\"frequency\": 26, \"value\": \"Cavedweller\"}, \"Dream a Little Dream\": {\"frequency\": 14, \"value\": \"Dream a Little ...\"}, \"Reefer Madness: Sex, Drugs, and Cheap Labor in the American Black Market\": {\"frequency\": 9, \"value\": \"Reefer Madness: ...\"}, \"Bloom County: Loose Tails\": {\"frequency\": 10, \"value\": \"Bloom County: ...\"}, \"The First Man in Rome\": {\"frequency\": 11, \"value\": \"The First Man in ...\"}, \"Hotel Du Lac\": {\"frequency\": 9, \"value\": \"Hotel Du Lac\"}, \"The Terrible Hours\": {\"frequency\": 13, \"value\": \"The Terrible Hours\"}, \"The Redemption of Althalus\": {\"frequency\": 18, \"value\": \"The Redemption of ...\"}, \"Tomcat in Love\": {\"frequency\": 15, \"value\": \"Tomcat in Love\"}, \"Twilight Eyes\": {\"frequency\": 17, \"value\": \"Twilight Eyes\"}, \"The Life and Loves of a She-Devil\": {\"frequency\": 14, \"value\": \"The Life and Loves ...\"}, \"Das Tagebuch Der Bridget Jones\": {\"frequency\": 15, \"value\": \"Das Tagebuch Der ...\"}, \"Earthly Possessions\": {\"frequency\": 17, \"value\": \"Earthly ...\"}, \"Caught In The Act\": {\"frequency\": 9, \"value\": \"Caught In The Act\"}, \"Skinny Legs and All\": {\"frequency\": 30, \"value\": \"Skinny Legs and ...\"}, \"The HIDDEN LIFE OF DOGS\": {\"frequency\": 11, \"value\": \"The HIDDEN LIFE OF ...\"}, \"A Prayer for the Dying\": {\"frequency\": 12, \"value\": \"A Prayer for the ...\"}, \"The Summons\": {\"frequency\": 309, \"value\": \"The Summons\"}, \"Whatever Love Means\": {\"frequency\": 9, \"value\": \"Whatever Love ...\"}, \"Cold Sassy Tree\": {\"frequency\": 77, \"value\": \"Cold Sassy Tree\"}, \"Pelican Brief\": {\"frequency\": 16, \"value\": \"Pelican Brief\"}, \"Zodiac: The Eco-Thriller\": {\"frequency\": 25, \"value\": \"Zodiac: The Eco- ...\"}, \"Bluebeard's Egg and Other Stories\": {\"frequency\": 9, \"value\": \"Bluebeard's Egg ...\"}, \"High Maintenance\": {\"frequency\": 41, \"value\": \"High Maintenance\"}, \"Leaving Home/a Collection of Lake Wobegon Stories\": {\"frequency\": 15, \"value\": \"Leaving Home/a ...\"}, \"Warning Signs\": {\"frequency\": 18, \"value\": \"Warning Signs\"}, \"Sophie's Choice\": {\"frequency\": 19, \"value\": \"Sophie's Choice\"}, \"Die Firma. Roman.\": {\"frequency\": 14, \"value\": \"Die Firma. Roman.\"}, \"Annie John\": {\"frequency\": 10, \"value\": \"Annie John\"}, \"Nerd in Shining Armor\": {\"frequency\": 35, \"value\": \"Nerd in Shining ...\"}, \"Der Alchimist.\": {\"frequency\": 15, \"value\": \"Der Alchimist.\"}, \"Once in a Lifetime\": {\"frequency\": 19, \"value\": \"Once in a Lifetime\"}, \"Reliquary\": {\"frequency\": 19, \"value\": \"Reliquary\"}, \"Offer From a Gentleman, An\": {\"frequency\": 14, \"value\": \"Offer From a ...\"}, \"The Good German\": {\"frequency\": 10, \"value\": \"The Good German\"}, \"Secret Prey\": {\"frequency\": 35, \"value\": \"Secret Prey\"}, \"Stick Figure: A Diary of My Former Self\": {\"frequency\": 13, \"value\": \"Stick Figure: A ...\"}, \"The Juror\": {\"frequency\": 11, \"value\": \"The Juror\"}, \"Me: Stories of My Life\": {\"frequency\": 18, \"value\": \"Me: Stories of My ...\"}, \"Riding the Rap\": {\"frequency\": 12, \"value\": \"Riding the Rap\"}, \"I Was Amelia Earhart\": {\"frequency\": 14, \"value\": \"I Was Amelia ...\"}, \"Witches' Bane\": {\"frequency\": 11, \"value\": \"Witches' Bane\"}, \"Life Strategies: Doing What Works, Doing What Matters\": {\"frequency\": 34, \"value\": \"Life Strategies: ...\"}, \"Rose Daughter\": {\"frequency\": 14, \"value\": \"Rose Daughter\"}, \"The Sculptress\": {\"frequency\": 12, \"value\": \"The Sculptress\"}, \"Whats Bred In the Bone\": {\"frequency\": 9, \"value\": \"Whats Bred In the ...\"}, \"Wayside School is Falling Down\": {\"frequency\": 16, \"value\": \"Wayside School is ...\"}, \"Gallow's Thief\": {\"frequency\": 9, \"value\": \"Gallow's Thief\"}, \"Vengeance in Death\": {\"frequency\": 14, \"value\": \"Vengeance in Death\"}, \"Dirty Work\": {\"frequency\": 21, \"value\": \"Dirty Work\"}, \"Wish You Well\": {\"frequency\": 89, \"value\": \"Wish You Well\"}, \"Xanth 14: Question Quest\": {\"frequency\": 14, \"value\": \"Xanth 14: Question ...\"}, \"The Hundred Secret Senses\": {\"frequency\": 121, \"value\": \"The Hundred Secret ...\"}, \"Dreamer's Dictionary\": {\"frequency\": 12, \"value\": \"Dreamer's ...\"}, \"Silent Witness\": {\"frequency\": 21, \"value\": \"Silent Witness\"}, \"Four In Hand\": {\"frequency\": 10, \"value\": \"Four In Hand\"}, \"Red Leaves\": {\"frequency\": 15, \"value\": \"Red Leaves\"}, \"Remains of the Day\": {\"frequency\": 15, \"value\": \"Remains of the Day\"}, \"Remember When\": {\"frequency\": 28, \"value\": \"Remember When\"}, \"When the Storm Breaks\": {\"frequency\": 14, \"value\": \"When the Storm ...\"}, \"Strip City: A Stripper's Farewell Journey Across America\": {\"frequency\": 12, \"value\": \"Strip City: A ...\"}, \"The Skull Mantra\": {\"frequency\": 12, \"value\": \"The Skull Mantra\"}, \"The Evening News\": {\"frequency\": 11, \"value\": \"The Evening News\"}, \"Tortilla Flat\": {\"frequency\": 13, \"value\": \"Tortilla Flat\"}, \"The Christmas Shoes\": {\"frequency\": 14, \"value\": \"The Christmas ...\"}, \"Bad Habits: A 100% Fact-Free Book\": {\"frequency\": 9, \"value\": \"Bad Habits: A 100% ...\"}, \"Die Verlorene Ehre Der Katharina Blum\": {\"frequency\": 9, \"value\": \"Die Verlorene Ehre ...\"}, \"Dilbert: A Book of Postcards\": {\"frequency\": 13, \"value\": \"Dilbert: A Book of ...\"}, \"So Worthy My Love\": {\"frequency\": 10, \"value\": \"So Worthy My Love\"}, \"Inspiration Sandwich: Stories to Inspire Our Creative Freedom\": {\"frequency\": 11, \"value\": \"Inspiration ...\"}, \"Pot Shot\": {\"frequency\": 26, \"value\": \"Pot Shot\"}, \"Annie's Song\": {\"frequency\": 10, \"value\": \"Annie's Song\"}, \"Hell's Kitchen\": {\"frequency\": 9, \"value\": \"Hell's Kitchen\"}, \"True History of the Kelly Gang\": {\"frequency\": 16, \"value\": \"True History of ...\"}, \"The Magic Circle\": {\"frequency\": 26, \"value\": \"The Magic Circle\"}, \"Ladies With Options\": {\"frequency\": 13, \"value\": \"Ladies With ...\"}, \"The Cardinal of the Kremlin\": {\"frequency\": 10, \"value\": \"The Cardinal of ...\"}, \"Flight Lessons\": {\"frequency\": 19, \"value\": \"Flight Lessons\"}, \"Hope for the Flowers\": {\"frequency\": 14, \"value\": \"Hope for the ...\"}, \"Wobegon Boy\": {\"frequency\": 21, \"value\": \"Wobegon Boy\"}, \"The Fallen Man\": {\"frequency\": 9, \"value\": \"The Fallen Man\"}, \"The Servants of Twilight\": {\"frequency\": 35, \"value\": \"The Servants of ...\"}, \"Listeners\": {\"frequency\": 10, \"value\": \"Listeners\"}, \"Essential Rumi\": {\"frequency\": 10, \"value\": \"Essential Rumi\"}, \"Asleep\": {\"frequency\": 10, \"value\": \"Asleep\"}, \"The Great Pretender\": {\"frequency\": 9, \"value\": \"The Great ...\"}, \"Murder Runs in the Family: A Southern Sisters Mystery\": {\"frequency\": 13, \"value\": \"Murder Runs in the ...\"}, \"The Midnight Club\": {\"frequency\": 36, \"value\": \"The Midnight Club\"}, \"McNally's Chance\": {\"frequency\": 12, \"value\": \"McNally's Chance\"}, \"Stiff: The Curious Lives of Human Cadavers\": {\"frequency\": 31, \"value\": \"Stiff: The Curious ...\"}, \"Chicks in Chainmail\": {\"frequency\": 11, \"value\": \"Chicks in ...\"}, \"Hotel of the Saints\": {\"frequency\": 16, \"value\": \"Hotel of the ...\"}, \"Till We Meet Again\": {\"frequency\": 18, \"value\": \"Till We Meet Again\"}, \"Sweet Liar\": {\"frequency\": 16, \"value\": \"Sweet Liar\"}, \"Natural Causes\": {\"frequency\": 22, \"value\": \"Natural Causes\"}, \"House of Leaves\": {\"frequency\": 40, \"value\": \"House of Leaves\"}, \"Maggie Needs an Alibi\": {\"frequency\": 11, \"value\": \"Maggie Needs an ...\"}, \"The Da Vinci Code\": {\"frequency\": 488, \"value\": \"The Da Vinci Code\"}, \"The Sisterhood of the Traveling Pants\": {\"frequency\": 42, \"value\": \"The Sisterhood of ...\"}, \"One Night of Scandal\": {\"frequency\": 19, \"value\": \"One Night of ...\"}, \"The Mermaids Singing\": {\"frequency\": 16, \"value\": \"The Mermaids ...\"}, \"West With the Night\": {\"frequency\": 21, \"value\": \"West With the ...\"}, \"Feel This Book: An Essential Guide to Self-Empowerment, Spiritual Supremacy, and Sexual Satisfaction\": {\"frequency\": 11, \"value\": \"Feel This Book: An ...\"}, \"Chosen Prey\": {\"frequency\": 80, \"value\": \"Chosen Prey\"}, \"From the Mixed-Up Files of Mrs. Basil E. Frankweiler\": {\"frequency\": 15, \"value\": \"From the Mixed-Up ...\"}, \"Transformation: The Breakthrough\": {\"frequency\": 11, \"value\": \"Transformation: ...\"}, \"One True Thing\": {\"frequency\": 81, \"value\": \"One True Thing\"}, \"Mortal Fear\": {\"frequency\": 49, \"value\": \"Mortal Fear\"}, \"Blood Orchid\": {\"frequency\": 20, \"value\": \"Blood Orchid\"}, \"Two for the Dough\": {\"frequency\": 112, \"value\": \"Two for the Dough\"}, \"The Christmas Train\": {\"frequency\": 35, \"value\": \"The Christmas ...\"}, \"White Horses\": {\"frequency\": 9, \"value\": \"White Horses\"}, \"Thale's Folly\": {\"frequency\": 9, \"value\": \"Thale's Folly\"}, \"The Eye of the Tiger\": {\"frequency\": 10, \"value\": \"The Eye of the ...\"}, \"The Prayer of Jabez: Breaking Through to the Blessed Life\": {\"frequency\": 45, \"value\": \"The Prayer of ...\"}, \"Alice's Tulips\": {\"frequency\": 15, \"value\": \"Alice's Tulips\"}, \"Harm's Way\": {\"frequency\": 11, \"value\": \"Harm's Way\"}, \"Still Me\": {\"frequency\": 11, \"value\": \"Still Me\"}, \"Lucky You\": {\"frequency\": 51, \"value\": \"Lucky You\"}, \"Hygiene De Lassassin\": {\"frequency\": 11, \"value\": \"Hygiene De ...\"}, \"Hot Money\": {\"frequency\": 9, \"value\": \"Hot Money\"}, \"Lucky Man: A Memoir\": {\"frequency\": 65, \"value\": \"Lucky Man: A ...\"}, \"Mind Prey\": {\"frequency\": 35, \"value\": \"Mind Prey\"}, \"Street Dreams\": {\"frequency\": 19, \"value\": \"Street Dreams\"}, \"Immortal in Death\": {\"frequency\": 17, \"value\": \"Immortal in Death\"}, \"What to Expect When You're Expecting, Third Edition\": {\"frequency\": 11, \"value\": \"What to Expect ...\"}, \"The Cat Who Went into the Closet\": {\"frequency\": 15, \"value\": \"The Cat Who Went ...\"}, \"Whitney, My Love\": {\"frequency\": 21, \"value\": \"Whitney, My Love\"}, \"Lamb: The Gospel According to Biff, Christ's Childhood Pal\": {\"frequency\": 19, \"value\": \"Lamb: The Gospel ...\"}, \"Rose Madder\": {\"frequency\": 79, \"value\": \"Rose Madder\"}, \"The Whole Truth\": {\"frequency\": 10, \"value\": \"The Whole Truth\"}, \"Kingdom Of Moonlight\": {\"frequency\": 9, \"value\": \"Kingdom Of ...\"}, \"The Unloved\": {\"frequency\": 12, \"value\": \"The Unloved\"}, \"Our Dumb Century: The Onion Presents 100 Years of Headlines from America's Finest News Source\": {\"frequency\": 13, \"value\": \"Our Dumb Century: ...\"}, \"Paris to the Moon\": {\"frequency\": 27, \"value\": \"Paris to the Moon\"}, \"Boy in the Water\": {\"frequency\": 11, \"value\": \"Boy in the Water\"}, \"My Point - And I Do Have One\": {\"frequency\": 25, \"value\": \"My Point - And I ...\"}, \"The Tightwad Gazette: Promoting Thrift As a Viable Alternative Lifestyle\": {\"frequency\": 15, \"value\": \"The Tightwad ...\"}, \"The Doomsday Conspiracy\": {\"frequency\": 25, \"value\": \"The Doomsday ...\"}, \"The Folk of the Fringe\": {\"frequency\": 12, \"value\": \"The Folk of the ...\"}, \"The LETTER\": {\"frequency\": 12, \"value\": \"The LETTER\"}, \"Perfume: The Story of a Murderer\": {\"frequency\": 10, \"value\": \"Perfume: The Story ...\"}, \"Esperanza Rising\": {\"frequency\": 16, \"value\": \"Esperanza Rising\"}, \"Echoes in the Darkness\": {\"frequency\": 9, \"value\": \"Echoes in the ...\"}, \"Double Deuce\": {\"frequency\": 10, \"value\": \"Double Deuce\"}, \"Six Wives of Henry VIII\": {\"frequency\": 9, \"value\": \"Six Wives of Henry ...\"}, \"A Little Princess\": {\"frequency\": 31, \"value\": \"A Little Princess\"}, \"Animal Husbandry\": {\"frequency\": 32, \"value\": \"Animal Husbandry\"}, \"Eloquent Silence\": {\"frequency\": 9, \"value\": \"Eloquent Silence\"}, \"The Hanged Man's Song\": {\"frequency\": 9, \"value\": \"The Hanged Man's ...\"}, \"Real Boys: Rescuing Our Sons from the Myths of Boyhood\": {\"frequency\": 11, \"value\": \"Real Boys: ...\"}, \"The Visitation\": {\"frequency\": 20, \"value\": \"The Visitation\"}, \"Beach House\": {\"frequency\": 41, \"value\": \"Beach House\"}, \"Killing Floor\": {\"frequency\": 15, \"value\": \"Killing Floor\"}, \"Confessions of a Failed Southern Lady\": {\"frequency\": 19, \"value\": \"Confessions of a ...\"}, \"Double Standards\": {\"frequency\": 13, \"value\": \"Double Standards\"}, \"Seduction in Death\": {\"frequency\": 23, \"value\": \"Seduction in Death\"}, \"The Lady Chosen\": {\"frequency\": 10, \"value\": \"The Lady Chosen\"}, \"The Cat Who Lived High\": {\"frequency\": 31, \"value\": \"The Cat Who Lived ...\"}, \"Swan Song\": {\"frequency\": 17, \"value\": \"Swan Song\"}, \"Foundation and Earth\": {\"frequency\": 16, \"value\": \"Foundation and ...\"}, \"Comes the Blind Fury\": {\"frequency\": 11, \"value\": \"Comes the Blind ...\"}, \"Strange Bedpersons\": {\"frequency\": 14, \"value\": \"Strange Bedpersons\"}, \"The Cabinet of Curiosities\": {\"frequency\": 37, \"value\": \"The Cabinet of ...\"}, \"Postmarked Yesteryear: 30 Rare Holiday Postcards\": {\"frequency\": 11, \"value\": \"Postmarked ...\"}, \"The Five People You Meet in Heaven\": {\"frequency\": 244, \"value\": \"The Five People ...\"}, \"Break in\": {\"frequency\": 11, \"value\": \"Break in\"}, \"Anger: Wisdom for Cooling the Flames\": {\"frequency\": 10, \"value\": \"Anger: Wisdom for ...\"}, \"Firestarter\": {\"frequency\": 44, \"value\": \"Firestarter\"}, \"The Chronicles of Chrestomanci, Volume 1: Charmed Life / The Lives of Christopher Chant\": {\"frequency\": 10, \"value\": \"The Chronicles of ...\"}, \"Beauty Fades, Dumb Is Forever: The Making of a Happy Woman\": {\"frequency\": 19, \"value\": \"Beauty Fades, Dumb ...\"}, \"The Fist of God\": {\"frequency\": 9, \"value\": \"The Fist of God\"}, \"Silent Spring\": {\"frequency\": 15, \"value\": \"Silent Spring\"}, \"The Richest Man in Babylon\": {\"frequency\": 16, \"value\": \"The Richest Man in ...\"}, \"The Deception\": {\"frequency\": 12, \"value\": \"The Deception\"}, \"Charms for Easy Life\": {\"frequency\": 21, \"value\": \"Charms for Easy ...\"}, \"Punish the Sinners\": {\"frequency\": 12, \"value\": \"Punish the Sinners\"}, \"The Accidental Virgin\": {\"frequency\": 9, \"value\": \"The Accidental ...\"}, \"Revenge of the Middle-Aged Woman\": {\"frequency\": 36, \"value\": \"Revenge of the ...\"}, \"Street Boys\": {\"frequency\": 9, \"value\": \"Street Boys\"}, \"Executive Orders\": {\"frequency\": 16, \"value\": \"Executive Orders\"}, \"The Tomb and Other Tales\": {\"frequency\": 9, \"value\": \"The Tomb and Other ...\"}, \"The Lost Continent: Travels in Small-Town America\": {\"frequency\": 37, \"value\": \"The Lost ...\"}, \"The South Beach Diet: The Delicious, Doctor-Designed, Foolproof Plan for Fast and Healthy Weight Loss\": {\"frequency\": 20, \"value\": \"The South Beach ...\"}, \"The Song Reader\": {\"frequency\": 16, \"value\": \"The Song Reader\"}, \"Murder Boogies with Elvis\": {\"frequency\": 15, \"value\": \"Murder Boogies ...\"}, \"Praying for Sleep\": {\"frequency\": 19, \"value\": \"Praying for Sleep\"}, \"Robert Ludlum's The Hades Factor\": {\"frequency\": 18, \"value\": \"Robert Ludlum's ...\"}, \"Fugitive Pieces\": {\"frequency\": 18, \"value\": \"Fugitive Pieces\"}, \"The Vanishing Hitchhiker: American Urban Legends and Their Meanings\": {\"frequency\": 9, \"value\": \"The Vanishing ...\"}, \"My Name Is Asher Lev\": {\"frequency\": 15, \"value\": \"My Name Is Asher ...\"}, \"See Jane Date\": {\"frequency\": 10, \"value\": \"See Jane Date\"}, \"Rules of Prey\": {\"frequency\": 34, \"value\": \"Rules of Prey\"}, \"River, Cross My Heart\": {\"frequency\": 80, \"value\": \"River, Cross My ...\"}, \"High Society\": {\"frequency\": 22, \"value\": \"High Society\"}, \"The Better Part of Valor\": {\"frequency\": 9, \"value\": \"The Better Part of ...\"}, \"Leap of Faith\": {\"frequency\": 40, \"value\": \"Leap of Faith\"}, \"The List of 7\": {\"frequency\": 13, \"value\": \"The List of 7\"}, \"I Wish I Had a Red Dress\": {\"frequency\": 11, \"value\": \"I Wish I Had a Red ...\"}, \"Montana Sky\": {\"frequency\": 41, \"value\": \"Montana Sky\"}, \"The Cube\": {\"frequency\": 10, \"value\": \"The Cube\"}, \"Absolute Power\": {\"frequency\": 52, \"value\": \"Absolute Power\"}, \"At Risk\": {\"frequency\": 22, \"value\": \"At Risk\"}, \"Turbulence\": {\"frequency\": 15, \"value\": \"Turbulence\"}, \"Close to You\": {\"frequency\": 10, \"value\": \"Close to You\"}, \"The Santaroga Barrier\": {\"frequency\": 9, \"value\": \"The Santaroga ...\"}, \"El Palacio de La Luna\": {\"frequency\": 10, \"value\": \"El Palacio de La ...\"}, \"Nobody's Baby But Mine\": {\"frequency\": 11, \"value\": \"Nobody's Baby But ...\"}, \"The Book: On the Taboo Against Knowing Who You Are\": {\"frequency\": 11, \"value\": \"The Book: On the ...\"}, \"Among Schoolchildren\": {\"frequency\": 10, \"value\": \"Among ...\"}, \"Ladder of Years\": {\"frequency\": 58, \"value\": \"Ladder of Years\"}, \"Mystic River\": {\"frequency\": 133, \"value\": \"Mystic River\"}, \"Robert Frost's Poems\": {\"frequency\": 13, \"value\": \"Robert Frost's ...\"}, \"Heartbeat\": {\"frequency\": 27, \"value\": \"Heartbeat\"}, \"My Antonia\": {\"frequency\": 16, \"value\": \"My Antonia\"}, \"A Tale of Two Cities\": {\"frequency\": 21, \"value\": \"A Tale of Two ...\"}, \"Neverwhere\": {\"frequency\": 146, \"value\": \"Neverwhere\"}, \"Foetal Attraction\": {\"frequency\": 9, \"value\": \"Foetal Attraction\"}, \"The Ship Who Searched\": {\"frequency\": 17, \"value\": \"The Ship Who ...\"}, \"Slow Waltz in Cedar Bend\": {\"frequency\": 71, \"value\": \"Slow Waltz in ...\"}, \"A Sudden Change of Heart\": {\"frequency\": 17, \"value\": \"A Sudden Change of ...\"}, \"Chaos: Making a New Science\": {\"frequency\": 12, \"value\": \"Chaos: Making a ...\"}, \"White Teeth\": {\"frequency\": 12, \"value\": \"White Teeth\"}, \"Martian Chronicles\": {\"frequency\": 12, \"value\": \"Martian Chronicles\"}, \"A Little Help from Above\": {\"frequency\": 17, \"value\": \"A Little Help from ...\"}, \"Les Thanatonautes\": {\"frequency\": 10, \"value\": \"Les Thanatonautes\"}, \"From the Heart: Tonight and Always/A Matter of Choice/Endings and Beginnings\": {\"frequency\": 18, \"value\": \"From the Heart: ...\"}, \"Snow Mountain Passage\": {\"frequency\": 10, \"value\": \"Snow Mountain ...\"}, \"Cold Comfort Farm\": {\"frequency\": 22, \"value\": \"Cold Comfort Farm\"}, \"Switcheroo\": {\"frequency\": 11, \"value\": \"Switcheroo\"}, \"The Accidental Tourist\": {\"frequency\": 39, \"value\": \"The Accidental ...\"}, \"The Long Road Home\": {\"frequency\": 23, \"value\": \"The Long Road Home\"}, \"Das Haus der Schwestern.\": {\"frequency\": 10, \"value\": \"Das Haus der ...\"}, \"The Cat Who Knew Shakespeare\": {\"frequency\": 30, \"value\": \"The Cat Who Knew ...\"}, \"The Rapture of Canaan\": {\"frequency\": 79, \"value\": \"The Rapture of ...\"}, \"Elusive Mrs. Pollifax\": {\"frequency\": 10, \"value\": \"Elusive Mrs. ...\"}, \"Rendezvous with Rama\": {\"frequency\": 29, \"value\": \"Rendezvous with ...\"}, \"Every Second Counts\": {\"frequency\": 9, \"value\": \"Every Second ...\"}, \"Shibumi\": {\"frequency\": 19, \"value\": \"Shibumi\"}, \"The Family Tree\": {\"frequency\": 19, \"value\": \"The Family Tree\"}, \"The Color Purple\": {\"frequency\": 145, \"value\": \"The Color Purple\"}, \"Catering to Nobody\": {\"frequency\": 56, \"value\": \"Catering to Nobody\"}, \"Stupid White Men. Eine Abrechnung mit dem Amerika unter George W. Bush\": {\"frequency\": 38, \"value\": \"Stupid White Men. ...\"}, \"Dragonsinger\": {\"frequency\": 15, \"value\": \"Dragonsinger\"}, \"Made in America\": {\"frequency\": 11, \"value\": \"Made in America\"}, \"Southern Cross\": {\"frequency\": 80, \"value\": \"Southern Cross\"}, \"Thurston House\": {\"frequency\": 17, \"value\": \"Thurston House\"}, \"Mirage\": {\"frequency\": 9, \"value\": \"Mirage\"}, \"Cats Eye\": {\"frequency\": 12, \"value\": \"Cats Eye\"}, \"A Natural History of the Senses\": {\"frequency\": 25, \"value\": \"A Natural History ...\"}, \"The Celestine Vision: Living the New Spiritual Awareness\": {\"frequency\": 13, \"value\": \"The Celestine ...\"}, \"Kitchen Table Wisdom: Stories That Heal\": {\"frequency\": 14, \"value\": \"Kitchen Table ...\"}, \"American Pastoral\": {\"frequency\": 15, \"value\": \"American Pastoral\"}, \"Welcome to the World, Baby Girl!\": {\"frequency\": 60, \"value\": \"Welcome to the ...\"}, \"Charlotte Gray\": {\"frequency\": 13, \"value\": \"Charlotte Gray\"}, \"The Matarese Countdown\": {\"frequency\": 10, \"value\": \"The Matarese ...\"}, \"The Birth of Venus\": {\"frequency\": 17, \"value\": \"The Birth of Venus\"}, \"Horsemasters Daughter\": {\"frequency\": 9, \"value\": \"Horsemasters ...\"}, \"Slightly Shady\": {\"frequency\": 16, \"value\": \"Slightly Shady\"}, \"Adventures of Tom Sawyer\": {\"frequency\": 16, \"value\": \"Adventures of Tom ...\"}, \"Silver Angel\": {\"frequency\": 9, \"value\": \"Silver Angel\"}, \"The Psychologist's Book of Self-Tests: 25 Love, Sex, Intelligence, Career, and Personality Tests Developed by Professionals to Reveal the Real You\": {\"frequency\": 9, \"value\": \"The Psychologist's ...\"}, \"Brothers in Arms\": {\"frequency\": 9, \"value\": \"Brothers in Arms\"}, \"Fatal Cure\": {\"frequency\": 25, \"value\": \"Fatal Cure\"}, \"Dark Hollow\": {\"frequency\": 10, \"value\": \"Dark Hollow\"}, \"The Good Sister\": {\"frequency\": 9, \"value\": \"The Good Sister\"}, \"Obstruction of Justice\": {\"frequency\": 18, \"value\": \"Obstruction of ...\"}, \"The Damnation Game\": {\"frequency\": 16, \"value\": \"The Damnation Game\"}, \"The Letter of the Law\": {\"frequency\": 14, \"value\": \"The Letter of the ...\"}, \"Lord John and the Private Matter\": {\"frequency\": 9, \"value\": \"Lord John and the ...\"}, \"LA Clan De L'Ours Des Cavernes\": {\"frequency\": 9, \"value\": \"LA Clan De L'Ours ...\"}, \"Four Past Midnight\": {\"frequency\": 76, \"value\": \"Four Past Midnight\"}, \"To Sail Beyond the Sunset\": {\"frequency\": 10, \"value\": \"To Sail Beyond the ...\"}, \"The Wishsong of Shannara\": {\"frequency\": 12, \"value\": \"The Wishsong of ...\"}, \"A Heartbreaking Work of Staggering Genius\": {\"frequency\": 144, \"value\": \"A Heartbreaking ...\"}, \"The Calvin and Hobbes Tenth Anniversary Book\": {\"frequency\": 23, \"value\": \"The Calvin and ...\"}, \"The Bone People\": {\"frequency\": 23, \"value\": \"The Bone People\"}, \"The 158-Pound Marriage\": {\"frequency\": 10, \"value\": \"The 158-Pound ...\"}, \"Kill and Tell\": {\"frequency\": 20, \"value\": \"Kill and Tell\"}, \"Marrying the Mistress\": {\"frequency\": 11, \"value\": \"Marrying the ...\"}, \"Little Girl Lost\": {\"frequency\": 12, \"value\": \"Little Girl Lost\"}, \"Negotiator\": {\"frequency\": 10, \"value\": \"Negotiator\"}, \"Rabbit Is Rich\": {\"frequency\": 9, \"value\": \"Rabbit Is Rich\"}, \"The Mulberry Tree\": {\"frequency\": 62, \"value\": \"The Mulberry Tree\"}, \"Love By Design\": {\"frequency\": 10, \"value\": \"Love By Design\"}, \"Island of the Sequined Love Nun\": {\"frequency\": 25, \"value\": \"Island of the ...\"}, \"The Prometheus Deception\": {\"frequency\": 40, \"value\": \"The Prometheus ...\"}, \"She's Come Undone\": {\"frequency\": 10, \"value\": \"She's Come Undone\"}, \"Round Ireland With a Fridge\": {\"frequency\": 45, \"value\": \"Round Ireland With ...\"}, \"Blind Man's Bluff: The Untold Story of American Submarine Espionage\": {\"frequency\": 11, \"value\": \"Blind Man's Bluff: ...\"}, \"Clear Your Clutter and Feng Shui Your Life\": {\"frequency\": 13, \"value\": \"Clear Your Clutter ...\"}, \"Too Much Temptation\": {\"frequency\": 12, \"value\": \"Too Much ...\"}, \"Deadeye Dick\": {\"frequency\": 11, \"value\": \"Deadeye Dick\"}, \"Deadly Embrace\": {\"frequency\": 11, \"value\": \"Deadly Embrace\"}, \"Julie and Romeo\": {\"frequency\": 14, \"value\": \"Julie and Romeo\"}, \"Year Zero\": {\"frequency\": 11, \"value\": \"Year Zero\"}, \"Growing Pains of Adrian Mole\": {\"frequency\": 16, \"value\": \"Growing Pains of ...\"}, \"Veronika Decides to Die\": {\"frequency\": 34, \"value\": \"Veronika Decides ...\"}, \"Brave the Wild Wind\": {\"frequency\": 13, \"value\": \"Brave the Wild ...\"}, \"The Book of Guys: Stories\": {\"frequency\": 13, \"value\": \"The Book of Guys: ...\"}, \"Wild Animus\": {\"frequency\": 581, \"value\": \"Wild Animus\"}, \"Tishomingo Blues\": {\"frequency\": 21, \"value\": \"Tishomingo Blues\"}, \"El Libro de Las Ilusiones\": {\"frequency\": 11, \"value\": \"El Libro de Las ...\"}, \"First Offense\": {\"frequency\": 19, \"value\": \"First Offense\"}, \"Silent Snow\": {\"frequency\": 16, \"value\": \"Silent Snow\"}, \"The Killer Angels\": {\"frequency\": 40, \"value\": \"The Killer Angels\"}, \"Ain't I A Woman!: A Book of Women's Poetry from Around the World\": {\"frequency\": 12, \"value\": \"Ain't I A Woman!: ...\"}, \"The Heart of a Woman\": {\"frequency\": 49, \"value\": \"The Heart of a ...\"}, \"The Bride's Rescuer\": {\"frequency\": 9, \"value\": \"The Bride's ...\"}, \"The Coelura\": {\"frequency\": 9, \"value\": \"The Coelura\"}, \"Dominion\": {\"frequency\": 10, \"value\": \"Dominion\"}, \"Le Crime de l'Orient-Express\": {\"frequency\": 12, \"value\": \"Le Crime de l ...\"}, \"Born in Shame\": {\"frequency\": 29, \"value\": \"Born in Shame\"}, \"The Baron in the Trees\": {\"frequency\": 13, \"value\": \"The Baron in the ...\"}, \"The Cat Who Could Read Backwards\": {\"frequency\": 29, \"value\": \"The Cat Who Could ...\"}, \"Second Wind\": {\"frequency\": 18, \"value\": \"Second Wind\"}, \"Defy Not The Heart\": {\"frequency\": 12, \"value\": \"Defy Not The Heart\"}, \"The Liar's Club: A Memoir\": {\"frequency\": 43, \"value\": \"The Liar's Club: A ...\"}, \"The Honey Thief\": {\"frequency\": 9, \"value\": \"The Honey Thief\"}, \"The Fiery Cross\": {\"frequency\": 23, \"value\": \"The Fiery Cross\"}, \"Death Is Now My Neighbour\": {\"frequency\": 11, \"value\": \"Death Is Now My ...\"}, \"My Legendary Girlfriend\": {\"frequency\": 11, \"value\": \"My Legendary ...\"}, \"Hornet Flight\": {\"frequency\": 35, \"value\": \"Hornet Flight\"}, \"The Dewey Decimal System of Love\": {\"frequency\": 12, \"value\": \"The Dewey Decimal ...\"}, \"I Am Spock\": {\"frequency\": 13, \"value\": \"I Am Spock\"}, \"The Power of Myth\": {\"frequency\": 11, \"value\": \"The Power of Myth\"}, \"Once Upon a Town: The Miracle of the North Platte Canteen\": {\"frequency\": 11, \"value\": \"Once Upon a Town: ...\"}, \"Going After Cacciato\": {\"frequency\": 11, \"value\": \"Going After ...\"}, \"Blacklist: A V.I. Warshawski Novel\": {\"frequency\": 14, \"value\": \"Blacklist: A V.I. ...\"}, \"Teen Love:  On Relationships, A Book for Teenagers\": {\"frequency\": 10, \"value\": \"Teen Love:  On ...\"}, \"D Amore E Ombra\": {\"frequency\": 11, \"value\": \"D Amore E Ombra\"}, \"Kits Law\": {\"frequency\": 9, \"value\": \"Kits Law\"}, \"Deep South\": {\"frequency\": 28, \"value\": \"Deep South\"}, \"A Girl Named Disaster\": {\"frequency\": 11, \"value\": \"A Girl Named ...\"}, \"Indian Killer\": {\"frequency\": 12, \"value\": \"Indian Killer\"}, \"Tales Too Ticklish to Tell: Bloom County\": {\"frequency\": 14, \"value\": \"Tales Too Ticklish ...\"}, \"Aquamarine\": {\"frequency\": 10, \"value\": \"Aquamarine\"}, \"Let's Roll: Ordinary People, Extraordinary Courage\": {\"frequency\": 24, \"value\": \"Let's Roll: ...\"}, \"The Thin Woman\": {\"frequency\": 13, \"value\": \"The Thin Woman\"}, \"Rosehaven\": {\"frequency\": 13, \"value\": \"Rosehaven\"}, \"Lady Sophia's Lover\": {\"frequency\": 14, \"value\": \"Lady Sophia's ...\"}, \"Prospect Street\": {\"frequency\": 9, \"value\": \"Prospect Street\"}, \"The Treasure Box\": {\"frequency\": 18, \"value\": \"The Treasure Box\"}, \"Naked Came the Manatee\": {\"frequency\": 11, \"value\": \"Naked Came the ...\"}, \"Accordion Crimes\": {\"frequency\": 23, \"value\": \"Accordion Crimes\"}, \"A Short History of Nearly Everything\": {\"frequency\": 13, \"value\": \"A Short History of ...\"}, \"Shadows of Yesterday\": {\"frequency\": 9, \"value\": \"Shadows of ...\"}, \"Writ of Execution\": {\"frequency\": 38, \"value\": \"Writ of Execution\"}, \"Wouldn't Take Nothing for My Journey Now\": {\"frequency\": 19, \"value\": \"Wouldn't Take ...\"}, \"The Dim Sum of All Things\": {\"frequency\": 12, \"value\": \"The Dim Sum of All ...\"}, \"Some Girls Do\": {\"frequency\": 9, \"value\": \"Some Girls Do\"}, \"McNally's Folly\": {\"frequency\": 10, \"value\": \"McNally's Folly\"}, \"A Catskill Eagle\": {\"frequency\": 9, \"value\": \"A Catskill Eagle\"}, \"Last Breath\": {\"frequency\": 11, \"value\": \"Last Breath\"}, \"La Sombra Del Viento/The Shadow Of The Wind\": {\"frequency\": 20, \"value\": \"La Sombra Del ...\"}, \"Eden Close\": {\"frequency\": 35, \"value\": \"Eden Close\"}, \"To Dance With the White Dog\": {\"frequency\": 9, \"value\": \"To Dance With the ...\"}, \"The House on Hope Street\": {\"frequency\": 26, \"value\": \"The House on Hope ...\"}, \"Wild Mind: Living the Writer's Life\": {\"frequency\": 11, \"value\": \"Wild Mind: Living ...\"}, \"The House of the Spirits\": {\"frequency\": 72, \"value\": \"The House of the ...\"}, \"Lost Light\": {\"frequency\": 45, \"value\": \"Lost Light\"}, \"No Sanctuary\": {\"frequency\": 10, \"value\": \"No Sanctuary\"}, \"Absolute Rage\": {\"frequency\": 10, \"value\": \"Absolute Rage\"}, \"Basket Case\": {\"frequency\": 39, \"value\": \"Basket Case\"}, \"The End of the Pier\": {\"frequency\": 12, \"value\": \"The End of the ...\"}, \"Come Love a Stranger\": {\"frequency\": 12, \"value\": \"Come Love a ...\"}, \"Guilty Feet\": {\"frequency\": 10, \"value\": \"Guilty Feet\"}, \"The Heartbreaker\": {\"frequency\": 10, \"value\": \"The Heartbreaker\"}, \"The Hot Zone\": {\"frequency\": 95, \"value\": \"The Hot Zone\"}, \"An Indecent Obsession\": {\"frequency\": 15, \"value\": \"An Indecent ...\"}, \"Not Without My Daughter\": {\"frequency\": 24, \"value\": \"Not Without My ...\"}, \"The Butcher Boy\": {\"frequency\": 9, \"value\": \"The Butcher Boy\"}, \"Into the Forest\": {\"frequency\": 11, \"value\": \"Into the Forest\"}, \"How to Be a Canadian: Even If You Already are One\": {\"frequency\": 23, \"value\": \"How to Be a ...\"}, \"Legends of the Fall\": {\"frequency\": 15, \"value\": \"Legends of the ...\"}, \"Grunts!: A Fantasy With Attitude\": {\"frequency\": 11, \"value\": \"Grunts!: A Fantasy ...\"}, \"One Door Away from Heaven\": {\"frequency\": 131, \"value\": \"One Door Away from ...\"}, \"Bloody River Blues\": {\"frequency\": 9, \"value\": \"Bloody River Blues\"}, \"Windmills of the Gods\": {\"frequency\": 24, \"value\": \"Windmills of the ...\"}, \"Seventh Heaven\": {\"frequency\": 19, \"value\": \"Seventh Heaven\"}, \"Anything Considered\": {\"frequency\": 14, \"value\": \"Anything ...\"}, \"Hideaway\": {\"frequency\": 53, \"value\": \"Hideaway\"}, \"The Bride\": {\"frequency\": 18, \"value\": \"The Bride\"}, \"Sister of My Heart\": {\"frequency\": 39, \"value\": \"Sister of My Heart\"}, \"The Laws of Our Fathers\": {\"frequency\": 26, \"value\": \"The Laws of Our ...\"}, \"Confessions of an Ex-Girlfriend\": {\"frequency\": 13, \"value\": \"Confessions of an ...\"}, \"Der Club der toten Dichter. Roman.\": {\"frequency\": 12, \"value\": \"Der Club der toten ...\"}, \"American Heroes: Riley\": {\"frequency\": 10, \"value\": \"American Heroes: ...\"}, \"Beezus and Ramona\": {\"frequency\": 15, \"value\": \"Beezus and Ramona\"}, \"The Killing Kind\": {\"frequency\": 16, \"value\": \"The Killing Kind\"}, \"The Mark of the Assassin\": {\"frequency\": 12, \"value\": \"The Mark of the ...\"}, \"Brunelleschi's Dome: How a Renaissance Genius Reinvented Architecture\": {\"frequency\": 15, \"value\": \"Brunelleschi's ...\"}, \"Call Me Anna: The Autobiography of Patty Duke\": {\"frequency\": 10, \"value\": \"Call Me Anna: The ...\"}, \"Jackdaws\": {\"frequency\": 62, \"value\": \"Jackdaws\"}, \"Sisters Found\": {\"frequency\": 16, \"value\": \"Sisters Found\"}, \"Romancing Mister Bridgerton\": {\"frequency\": 14, \"value\": \"Romancing Mister ...\"}, \"Smoke and Mirrors\": {\"frequency\": 15, \"value\": \"Smoke and Mirrors\"}, \"Lies My Teacher Told Me: Everything Your History Textbook Got Wrong\": {\"frequency\": 11, \"value\": \"Lies My Teacher ...\"}, \"Operating Instructions: A Journal of My Son's First Year\": {\"frequency\": 20, \"value\": \"Operating ...\"}, \"The Revenge Of The Baby-Sat\": {\"frequency\": 11, \"value\": \"The Revenge Of The ...\"}, \"Better Than Life\": {\"frequency\": 14, \"value\": \"Better Than Life\"}, \"Morality Play\": {\"frequency\": 14, \"value\": \"Morality Play\"}, \"Mad Jack\": {\"frequency\": 15, \"value\": \"Mad Jack\"}, \"Heart of a Warrior\": {\"frequency\": 17, \"value\": \"Heart of a Warrior\"}, \"Genuine Lies\": {\"frequency\": 18, \"value\": \"Genuine Lies\"}, \"Red Phoenix\": {\"frequency\": 10, \"value\": \"Red Phoenix\"}, \"The Fig Eater\": {\"frequency\": 13, \"value\": \"The Fig Eater\"}, \"Snow White, Blood Red\": {\"frequency\": 15, \"value\": \"Snow White, Blood ...\"}, \"See How They Run\": {\"frequency\": 34, \"value\": \"See How They Run\"}, \"The Bridges of Madison County\": {\"frequency\": 182, \"value\": \"The Bridges of ...\"}, \"El ocho\": {\"frequency\": 16, \"value\": \"El ocho\"}, \"Step-Ball-Change\": {\"frequency\": 19, \"value\": \"Step-Ball-Change\"}, \"Starship Titanic\": {\"frequency\": 12, \"value\": \"Starship Titanic\"}, \"Pattern Recognition\": {\"frequency\": 31, \"value\": \"Pattern ...\"}, \"Something Under the Bed Is Drooling\": {\"frequency\": 18, \"value\": \"Something Under ...\"}, \"Puerto Vallarta Squeeze\": {\"frequency\": 25, \"value\": \"Puerto Vallarta ...\"}, \"Three Men in a Boat: To Say Nothing of the Dog!\": {\"frequency\": 13, \"value\": \"Three Men in a ...\"}, \"Funeral in Blue\": {\"frequency\": 14, \"value\": \"Funeral in Blue\"}, \"An Isolated Incident\": {\"frequency\": 12, \"value\": \"An Isolated ...\"}, \"Stanislaski Sisters\": {\"frequency\": 26, \"value\": \"Stanislaski ...\"}, \"A Confederacy of Dunces\": {\"frequency\": 34, \"value\": \"A Confederacy of ...\"}, \"Hello, Darkness\": {\"frequency\": 31, \"value\": \"Hello, Darkness\"}, \"The King of Torts\": {\"frequency\": 91, \"value\": \"The King of Torts\"}, \"Savage Thunder\": {\"frequency\": 22, \"value\": \"Savage Thunder\"}, \"A Body to Die For\": {\"frequency\": 17, \"value\": \"A Body to Die For\"}, \"The Return of Merlin\": {\"frequency\": 12, \"value\": \"The Return of ...\"}, \"Einstein's Dreams\": {\"frequency\": 58, \"value\": \"Einstein's Dreams\"}, \"Donde El Corazon Te Lleve\": {\"frequency\": 12, \"value\": \"Donde El Corazon ...\"}, \"The Elusive Flame\": {\"frequency\": 9, \"value\": \"The Elusive Flame\"}, \"The Book of Questions\": {\"frequency\": 38, \"value\": \"The Book of ...\"}, \"Love and Marriage\": {\"frequency\": 12, \"value\": \"Love and Marriage\"}, \"The Harlot by the Side of the Road: Forbidden Tales of the Bible\": {\"frequency\": 9, \"value\": \"The Harlot by the ...\"}, \"A Kitchen Witch's Cookbook\": {\"frequency\": 9, \"value\": \"A Kitchen Witch's ...\"}, \"Bravo Two Zero\": {\"frequency\": 13, \"value\": \"Bravo Two Zero\"}, \"N Is for Noose\": {\"frequency\": 53, \"value\": \"N Is for Noose\"}, \"The Stars My Destination\": {\"frequency\": 13, \"value\": \"The Stars My ...\"}, \"Be Cool\": {\"frequency\": 21, \"value\": \"Be Cool\"}, \"The Cat Who Saw Red\": {\"frequency\": 18, \"value\": \"The Cat Who Saw ...\"}, \"The Cater Street Hangman\": {\"frequency\": 23, \"value\": \"The Cater Street ...\"}, \"My Year of Meats\": {\"frequency\": 33, \"value\": \"My Year of Meats\"}, \"Pagan Babies\": {\"frequency\": 40, \"value\": \"Pagan Babies\"}, \"Love in Another Town\": {\"frequency\": 21, \"value\": \"Love in Another ...\"}, \"Summer Pleasures\": {\"frequency\": 46, \"value\": \"Summer Pleasures\"}, \"Prisoner of My Desire\": {\"frequency\": 16, \"value\": \"Prisoner of My ...\"}, \"Mrs. Pollifax and the Second Thief\": {\"frequency\": 11, \"value\": \"Mrs. Pollifax and ...\"}, \"Written on the Body\": {\"frequency\": 19, \"value\": \"Written on the ...\"}, \"The Best Cat Ever\": {\"frequency\": 11, \"value\": \"The Best Cat Ever\"}, \"Cordina's Crown Jewel\": {\"frequency\": 26, \"value\": \"Cordina's Crown ...\"}, \"How Wal-Mart is Destroying America and The World and What You Can Do About It\": {\"frequency\": 22, \"value\": \"How Wal-Mart is ...\"}, \"A Walk Across America\": {\"frequency\": 16, \"value\": \"A Walk Across ...\"}, \"The Diary of Ellen Rimbauer: My Life at Rose Red\": {\"frequency\": 74, \"value\": \"The Diary of Ellen ...\"}, \"City of Bones\": {\"frequency\": 68, \"value\": \"City of Bones\"}, \"It's A Magical World: A Calvin and Hobbes Collection\": {\"frequency\": 20, \"value\": \"It's A Magical ...\"}, \"Skyward\": {\"frequency\": 13, \"value\": \"Skyward\"}, \"Sick Puppy\": {\"frequency\": 98, \"value\": \"Sick Puppy\"}, \"A Good House\": {\"frequency\": 10, \"value\": \"A Good House\"}, \"Tan Veloz Como El Deseo\": {\"frequency\": 11, \"value\": \"Tan Veloz Como El ...\"}, \"Naked Lunch\": {\"frequency\": 24, \"value\": \"Naked Lunch\"}, \"A Man in Full\": {\"frequency\": 57, \"value\": \"A Man in Full\"}, \"With This Ring\": {\"frequency\": 12, \"value\": \"With This Ring\"}, \"Hornet's Nest\": {\"frequency\": 93, \"value\": \"Hornet's Nest\"}, \"Fox River\": {\"frequency\": 10, \"value\": \"Fox River\"}, \"Regenroman.\": {\"frequency\": 11, \"value\": \"Regenroman.\"}, \"The Purpose-Driven Life: What on Earth Am I Here For?\": {\"frequency\": 34, \"value\": \"The Purpose-Driven ...\"}, \"Lair of the Lion\": {\"frequency\": 16, \"value\": \"Lair of the Lion\"}, \"The Tightwad Gazette II: Promoting Thrift As a Viable Alternative Lifestyle\": {\"frequency\": 10, \"value\": \"The Tightwad ...\"}, \"Delta Of Venus\": {\"frequency\": 11, \"value\": \"Delta Of Venus\"}, \"Demolition Angel\": {\"frequency\": 21, \"value\": \"Demolition Angel\"}, \"Lemony Snicket: The Unauthorized Autobiography\": {\"frequency\": 11, \"value\": \"Lemony Snicket: ...\"}, \"Galileo's Daughter: A Historical Memoir of Science, Faith, and Love\": {\"frequency\": 50, \"value\": \"Galileo's ...\"}, \"Feel the Fear and Do It Anyway\": {\"frequency\": 9, \"value\": \"Feel the Fear and ...\"}, \"Icy Sparks\": {\"frequency\": 142, \"value\": \"Icy Sparks\"}, \"To Say Nothing of the Dog\": {\"frequency\": 31, \"value\": \"To Say Nothing of ...\"}, \"The Thorn Birds\": {\"frequency\": 74, \"value\": \"The Thorn Birds\"}, \"The Road to Wellville\": {\"frequency\": 15, \"value\": \"The Road to ...\"}, \"Tending Roses\": {\"frequency\": 20, \"value\": \"Tending Roses\"}, \"Valley Of The Far Side\": {\"frequency\": 13, \"value\": \"Valley Of The Far ...\"}, \"Geeks: How Two Lost Boys Rode the Internet Out of Idaho\": {\"frequency\": 9, \"value\": \"Geeks: How Two ...\"}, \"Embraced by the Light\": {\"frequency\": 41, \"value\": \"Embraced by the ...\"}, \"A Pirate's Love\": {\"frequency\": 10, \"value\": \"A Pirate's Love\"}, \"False Memory\": {\"frequency\": 80, \"value\": \"False Memory\"}, \"Coldheart Canyon\": {\"frequency\": 9, \"value\": \"Coldheart Canyon\"}, \"Sons of Fortune\": {\"frequency\": 16, \"value\": \"Sons of Fortune\"}, \"Animal Liberation\": {\"frequency\": 13, \"value\": \"Animal Liberation\"}, \"A Son of the Circus\": {\"frequency\": 33, \"value\": \"A Son of the ...\"}, \"Dead Sleep\": {\"frequency\": 47, \"value\": \"Dead Sleep\"}, \"You'll Never Eat Lunch in This Town Again\": {\"frequency\": 12, \"value\": \"You'll Never Eat ...\"}, \"Route 66 Postcards: Greetings from the Mother Road\": {\"frequency\": 11, \"value\": \"Route 66 ...\"}, \"The Smoke Jumper\": {\"frequency\": 108, \"value\": \"The Smoke Jumper\"}, \"Rebellious Desire\": {\"frequency\": 9, \"value\": \"Rebellious Desire\"}, \"Nachtschicht.\": {\"frequency\": 9, \"value\": \"Nachtschicht.\"}, \"Once upon a Rose\": {\"frequency\": 10, \"value\": \"Once upon a Rose\"}, \"See Jane Run\": {\"frequency\": 17, \"value\": \"See Jane Run\"}, \"The Florabama Ladies Auxiliary and Sewing Circle\": {\"frequency\": 10, \"value\": \"The Florabama ...\"}, \"Der Club der Teufelinnen.\": {\"frequency\": 9, \"value\": \"Der Club der ...\"}, \"The Prize Winner of Defiance, Ohio: How My Mother Raised 10 Kids on 25 Words or Less\": {\"frequency\": 14, \"value\": \"The Prize Winner ...\"}, \"Gerald's Game\": {\"frequency\": 82, \"value\": \"Gerald's Game\"}, \"Gentle Warrior\": {\"frequency\": 10, \"value\": \"Gentle Warrior\"}, \"Rapture in Death\": {\"frequency\": 11, \"value\": \"Rapture in Death\"}, \"Forever in Your Embrace\": {\"frequency\": 12, \"value\": \"Forever in Your ...\"}, \"Midnight Runner\": {\"frequency\": 19, \"value\": \"Midnight Runner\"}, \"Bel Canto\": {\"frequency\": 45, \"value\": \"Bel Canto\"}, \"The Best Revenge\": {\"frequency\": 10, \"value\": \"The Best Revenge\"}, \"Bellwether\": {\"frequency\": 22, \"value\": \"Bellwether\"}, \"Ironweed\": {\"frequency\": 18, \"value\": \"Ironweed\"}, \"It Was on Fire When I Lay Down on It\": {\"frequency\": 59, \"value\": \"It Was on Fire ...\"}, \"Roadwork\": {\"frequency\": 10, \"value\": \"Roadwork\"}, \"Ravished\": {\"frequency\": 10, \"value\": \"Ravished\"}, \"Neige\": {\"frequency\": 9, \"value\": \"Neige\"}, \"The Third Option\": {\"frequency\": 17, \"value\": \"The Third Option\"}, \"Vertical Run\": {\"frequency\": 20, \"value\": \"Vertical Run\"}, \"Mittsommermord. Roman.\": {\"frequency\": 14, \"value\": \"Mittsommermord. ...\"}, \"Miss America\": {\"frequency\": 15, \"value\": \"Miss America\"}, \"Earth Abides\": {\"frequency\": 9, \"value\": \"Earth Abides\"}, \"The Five Love Languages: Five Love Languages\": {\"frequency\": 16, \"value\": \"The Five Love ...\"}, \"Before and After\": {\"frequency\": 21, \"value\": \"Before and After\"}, \"Wanderlust\": {\"frequency\": 35, \"value\": \"Wanderlust\"}, \"Dead in the Water\": {\"frequency\": 17, \"value\": \"Dead in the Water\"}, \"The Deep End of the Ocean\": {\"frequency\": 56, \"value\": \"The Deep End of ...\"}, \"Mike Nelson's Movie Megacheese\": {\"frequency\": 9, \"value\": \"Mike Nelson's ...\"}, \"Family Album\": {\"frequency\": 21, \"value\": \"Family Album\"}, \"The Poisonwood Bible\": {\"frequency\": 112, \"value\": \"The Poisonwood ...\"}, \"Dave Barry Is Not Making This Up\": {\"frequency\": 17, \"value\": \"Dave Barry Is Not ...\"}, \"Tell Me Your Dreams\": {\"frequency\": 40, \"value\": \"Tell Me Your ...\"}, \"Dress Your Family in Corduroy and Denim\": {\"frequency\": 26, \"value\": \"Dress Your Family ...\"}, \"Lucifer's Hammer\": {\"frequency\": 21, \"value\": \"Lucifer's Hammer\"}, \"Justice: Crimes, Trials, and Punishments\": {\"frequency\": 19, \"value\": \"Justice: Crimes, ...\"}, \"Cordina'S Royal Family\": {\"frequency\": 19, \"value\": \"Cordina'S Royal ...\"}, \"Shopaholic Ties the Knot\": {\"frequency\": 68, \"value\": \"Shopaholic Ties ...\"}, \"Coal: A Human History\": {\"frequency\": 19, \"value\": \"Coal: A Human ...\"}, \"A Gesture Life\": {\"frequency\": 16, \"value\": \"A Gesture Life\"}, \"Sacred Sins\": {\"frequency\": 39, \"value\": \"Sacred Sins\"}, \"The Mosquito Coast\": {\"frequency\": 23, \"value\": \"The Mosquito Coast\"}, \"Dear Mr. Henshaw\": {\"frequency\": 9, \"value\": \"Dear Mr. Henshaw\"}, \"Savage Inequalities: Children in America's Schools\": {\"frequency\": 11, \"value\": \"Savage ...\"}, \"Here on Earth\": {\"frequency\": 71, \"value\": \"Here on Earth\"}, \"I Thee Wed\": {\"frequency\": 14, \"value\": \"I Thee Wed\"}, \"The Eyes of Darkness\": {\"frequency\": 41, \"value\": \"The Eyes of ...\"}, \"Scientific Progress Goes 'Boink':  A Calvin and Hobbes Collection\": {\"frequency\": 24, \"value\": \"Scientific ...\"}, \"Night Chills\": {\"frequency\": 18, \"value\": \"Night Chills\"}, \"The Cat Who Went Underground\": {\"frequency\": 9, \"value\": \"The Cat Who Went ...\"}, \"Edge of Danger\": {\"frequency\": 12, \"value\": \"Edge of Danger\"}, \"Rules of the Wild\": {\"frequency\": 13, \"value\": \"Rules of the Wild\"}, \"Amy and Isabelle\": {\"frequency\": 19, \"value\": \"Amy and Isabelle\"}, \"Larry's Party\": {\"frequency\": 23, \"value\": \"Larry's Party\"}, \"Looking for Alaska\": {\"frequency\": 10, \"value\": \"Looking for Alaska\"}, \"City of Light\": {\"frequency\": 19, \"value\": \"City of Light\"}, \"Irish Hearts\": {\"frequency\": 33, \"value\": \"Irish Hearts\"}, \"James Herriot's Cat Stories\": {\"frequency\": 20, \"value\": \"James Herriot's ...\"}, \"Acceptable Risk\": {\"frequency\": 50, \"value\": \"Acceptable Risk\"}, \"Socrates Cafe: A Fresh Taste of Philosophy\": {\"frequency\": 9, \"value\": \"Socrates Cafe: A ...\"}, \"Harmful Intent\": {\"frequency\": 27, \"value\": \"Harmful Intent\"}, \"Man Who Mistook His Wife for a Hat\": {\"frequency\": 17, \"value\": \"Man Who Mistook ...\"}, \"Last Man Standing\": {\"frequency\": 66, \"value\": \"Last Man Standing\"}, \"The Enchanted Land\": {\"frequency\": 12, \"value\": \"The Enchanted Land\"}, \"Reversible Errors\": {\"frequency\": 16, \"value\": \"Reversible Errors\"}, \"Faking It\": {\"frequency\": 71, \"value\": \"Faking It\"}, \"The Women's Room\": {\"frequency\": 12, \"value\": \"The Women's Room\"}, \"Ashes to Ashes\": {\"frequency\": 16, \"value\": \"Ashes to Ashes\"}, \"The Door to December\": {\"frequency\": 85, \"value\": \"The Door to ...\"}, \"Blue Shoe\": {\"frequency\": 38, \"value\": \"Blue Shoe\"}, \"Private Scandals\": {\"frequency\": 17, \"value\": \"Private Scandals\"}, \"The Secret Life of Bees\": {\"frequency\": 406, \"value\": \"The Secret Life of ...\"}, \"The Temple of My Familiar\": {\"frequency\": 36, \"value\": \"The Temple of My ...\"}, \"The Night Before\": {\"frequency\": 20, \"value\": \"The Night Before\"}, \"Die geheime Geschichte.\": {\"frequency\": 10, \"value\": \"Die geheime ...\"}, \"Canal Dreams\": {\"frequency\": 9, \"value\": \"Canal Dreams\"}, \"Good Omens\": {\"frequency\": 87, \"value\": \"Good Omens\"}, \"The Empty Chair\": {\"frequency\": 47, \"value\": \"The Empty Chair\"}, \"Breathing Lessons\": {\"frequency\": 69, \"value\": \"Breathing Lessons\"}, \"Callahan's Crosstime Saloon\": {\"frequency\": 9, \"value\": \"Callahan's ...\"}, \"Transfer of Power\": {\"frequency\": 14, \"value\": \"Transfer of Power\"}, \"Tough Cookie\": {\"frequency\": 36, \"value\": \"Tough Cookie\"}, \"The Known World\": {\"frequency\": 11, \"value\": \"The Known World\"}, \"In the Lake of the Woods\": {\"frequency\": 17, \"value\": \"In the Lake of the ...\"}, \"Reap the Wind\": {\"frequency\": 36, \"value\": \"Reap the Wind\"}, \"Get Off the Unicorn\": {\"frequency\": 11, \"value\": \"Get Off the ...\"}, \"The Last Kabbalist of Lisbon\": {\"frequency\": 10, \"value\": \"The Last Kabbalist ...\"}, \"The Girls' Guide to Hunting and Fishing\": {\"frequency\": 259, \"value\": \"The Girls' Guide ...\"}, \"Fantastic Beasts and Where to Find Them\": {\"frequency\": 13, \"value\": \"Fantastic Beasts ...\"}, \"Two Old Women\": {\"frequency\": 14, \"value\": \"Two Old Women\"}, \"Tender at the Bone: Growing Up at the Table\": {\"frequency\": 32, \"value\": \"Tender at the ...\"}, \"Stonebrook Cottage\": {\"frequency\": 9, \"value\": \"Stonebrook Cottage\"}, \"Into the Wilderness\": {\"frequency\": 14, \"value\": \"Into the ...\"}, \"Ten Stupid Things Women Do to Mess Up Their Lives\": {\"frequency\": 22, \"value\": \"Ten Stupid Things ...\"}, \"Other Side of Midnight\": {\"frequency\": 9, \"value\": \"Other Side of ...\"}, \"Seizure\": {\"frequency\": 13, \"value\": \"Seizure\"}, \"American Fuji\": {\"frequency\": 18, \"value\": \"American Fuji\"}, \"Separate Beds\": {\"frequency\": 13, \"value\": \"Separate Beds\"}, \"203 Ways to Drive a Man Wild in Bed\": {\"frequency\": 10, \"value\": \"203 Ways to Drive ...\"}, \"Grendel\": {\"frequency\": 31, \"value\": \"Grendel\"}, \"The Road from Coorain\": {\"frequency\": 22, \"value\": \"The Road from ...\"}, \"Blue Diary\": {\"frequency\": 61, \"value\": \"Blue Diary\"}, \"Monkeewrench\": {\"frequency\": 21, \"value\": \"Monkeewrench\"}, \"Complete Chronicles of Narnia\": {\"frequency\": 18, \"value\": \"Complete ...\"}, \"Der dritte Zwilling.\": {\"frequency\": 9, \"value\": \"Der dritte ...\"}, \"Isaac's Storm: A Man, a Time, and the Deadliest Hurricane in History\": {\"frequency\": 15, \"value\": \"Isaac's Storm: A ...\"}, \"Confessions of an Ugly Stepsister\": {\"frequency\": 13, \"value\": \"Confessions of an ...\"}, \"Songmaster\": {\"frequency\": 10, \"value\": \"Songmaster\"}, \"Das Superwieb\": {\"frequency\": 16, \"value\": \"Das Superwieb\"}, \"Lake Wobegon Days\": {\"frequency\": 36, \"value\": \"Lake Wobegon Days\"}, \"P Is for Peril\": {\"frequency\": 81, \"value\": \"P Is for Peril\"}, \"Hard Evidence\": {\"frequency\": 14, \"value\": \"Hard Evidence\"}, \"The Book of Laughter and Forgetting\": {\"frequency\": 14, \"value\": \"The Book of ...\"}, \"The Mastery of Love: A Practical Guide to the Art of Relationship: A Toltec Wisdom Book\": {\"frequency\": 11, \"value\": \"The Mastery of ...\"}, \"The Dance of Intimacy: A Woman's Guide to Courageous Acts of Change in Key Relationships\": {\"frequency\": 9, \"value\": \"The Dance of ...\"}, \"The Triggerman's Dance\": {\"frequency\": 6, \"value\": \"The Triggerman's ...\"}, \"Shadowfires\": {\"frequency\": 33, \"value\": \"Shadowfires\"}, \"Awakenings\": {\"frequency\": 16, \"value\": \"Awakenings\"}, \"Life's Little Instruction Book; Volume II\": {\"frequency\": 15, \"value\": \"Life's Little ...\"}, \"Widow's Walk\": {\"frequency\": 17, \"value\": \"Widow's Walk\"}, \"Thirty Nothing\": {\"frequency\": 20, \"value\": \"Thirty Nothing\"}, \"For Whom the Bell Tolls\": {\"frequency\": 18, \"value\": \"For Whom the Bell ...\"}, \"Couplehood\": {\"frequency\": 16, \"value\": \"Couplehood\"}, \"The Idiot Girls' Action Adventure Club\": {\"frequency\": 51, \"value\": \"The Idiot Girls' ...\"}, \"A Plague of Angels\": {\"frequency\": 9, \"value\": \"A Plague of Angels\"}, \"Lost Girls\": {\"frequency\": 21, \"value\": \"Lost Girls\"}, \"I Married a Communist\": {\"frequency\": 10, \"value\": \"I Married a ...\"}, \"The Lady in Question\": {\"frequency\": 11, \"value\": \"The Lady in ...\"}, \"Where the Red Fern Grows\": {\"frequency\": 65, \"value\": \"Where the Red Fern ...\"}, \"Dona Flor and Her Two Husbands\": {\"frequency\": 9, \"value\": \"Dona Flor and Her ...\"}, \"Green Mars\": {\"frequency\": 15, \"value\": \"Green Mars\"}, \"Silence in Hanover Close\": {\"frequency\": 14, \"value\": \"Silence in Hanover ...\"}, \"Iacocca: An Autobiography\": {\"frequency\": 13, \"value\": \"Iacocca: An ...\"}, \"Killjoy\": {\"frequency\": 31, \"value\": \"Killjoy\"}, \"Border Music\": {\"frequency\": 30, \"value\": \"Border Music\"}, \"Portrait of a Killer: Jack the Ripper -- Case Closed\": {\"frequency\": 47, \"value\": \"Portrait of a ...\"}, \"My Dog Skip\": {\"frequency\": 10, \"value\": \"My Dog Skip\"}, \"Passion's Promise\": {\"frequency\": 9, \"value\": \"Passion's Promise\"}, \"Last Orders\": {\"frequency\": 24, \"value\": \"Last Orders\"}, \"The Alienist\": {\"frequency\": 134, \"value\": \"The Alienist\"}, \"Stupeur Et Tremblements\": {\"frequency\": 22, \"value\": \"Stupeur Et ...\"}, \"Random Family: Love, Drugs, Trouble, and Coming of Age in the Bronx\": {\"frequency\": 9, \"value\": \"Random Family: ...\"}, \"Firefly Beach\": {\"frequency\": 22, \"value\": \"Firefly Beach\"}, \"2061: Odyssey Three\": {\"frequency\": 21, \"value\": \"2061: Odyssey ...\"}, \"The Macgregors: Daniel-Ian\": {\"frequency\": 13, \"value\": \"The Macgregors: ...\"}, \"The Nightingale Legacy\": {\"frequency\": 12, \"value\": \"The Nightingale ...\"}, \"It Came From The Far Side\": {\"frequency\": 16, \"value\": \"It Came From The ...\"}, \"La Sombra del Viento\": {\"frequency\": 9, \"value\": \"La Sombra del ...\"}, \"Fat Girls and Lawn Chairs\": {\"frequency\": 17, \"value\": \"Fat Girls and Lawn ...\"}, \"The Sherbrooke Twins\": {\"frequency\": 9, \"value\": \"The Sherbrooke ...\"}, \"Kentucky Heat\": {\"frequency\": 15, \"value\": \"Kentucky Heat\"}, \"A Little Magic\": {\"frequency\": 11, \"value\": \"A Little Magic\"}, \"Feuer und Stein.\": {\"frequency\": 9, \"value\": \"Feuer und Stein.\"}, \"Chicken Soup for the Single's Soul - 101 Stories of Love and Inspiration for the Single, Divorced and Widowed\": {\"frequency\": 13, \"value\": \"Chicken Soup for ...\"}, \"Lie Down With Lions\": {\"frequency\": 25, \"value\": \"Lie Down With ...\"}, \"South of the Border, West of the Sun\": {\"frequency\": 12, \"value\": \"South of the ...\"}, \"Ishmael\": {\"frequency\": 17, \"value\": \"Ishmael\"}, \"Lord God Made Them All\": {\"frequency\": 12, \"value\": \"Lord God Made Them ...\"}, \"Holiday in Death\": {\"frequency\": 13, \"value\": \"Holiday in Death\"}, \"Worst Fears Realized\": {\"frequency\": 16, \"value\": \"Worst Fears ...\"}, \"Dark Gold\": {\"frequency\": 14, \"value\": \"Dark Gold\"}, \"Out of Sight\": {\"frequency\": 21, \"value\": \"Out of Sight\"}, \"The Arraignment\": {\"frequency\": 18, \"value\": \"The Arraignment\"}, \"An Accidental Woman\": {\"frequency\": 26, \"value\": \"An Accidental ...\"}, \"Chromosome 6\": {\"frequency\": 40, \"value\": \"Chromosome 6\"}, \"Scruples Two\": {\"frequency\": 16, \"value\": \"Scruples Two\"}, \"William Shakespeare: The Complete Works\": {\"frequency\": 9, \"value\": \"William ...\"}, \"Trading Spaces Behind the Scenes: Including Decorating Tips and Tricks\": {\"frequency\": 17, \"value\": \"Trading Spaces ...\"}, \"Dark Rivers of the Heart\": {\"frequency\": 26, \"value\": \"Dark Rivers of the ...\"}, \"Stormy Weather\": {\"frequency\": 41, \"value\": \"Stormy Weather\"}, \"The Giving Tree\": {\"frequency\": 26, \"value\": \"The Giving Tree\"}, \"The Wicked Day\": {\"frequency\": 11, \"value\": \"The Wicked Day\"}, \"Pay It Forward\": {\"frequency\": 60, \"value\": \"Pay It Forward\"}, \"Fever 1793\": {\"frequency\": 10, \"value\": \"Fever 1793\"}, \"Girl in Hyacinth Blue\": {\"frequency\": 97, \"value\": \"Girl in Hyacinth ...\"}, \"A College of Magics\": {\"frequency\": 10, \"value\": \"A College of ...\"}, \"And I Don't Want to Live This Life\": {\"frequency\": 12, \"value\": \"And I Don't Want ...\"}, \"The SECRET BOOK OF GRAZIA DEI ROSSI\": {\"frequency\": 13, \"value\": \"The SECRET BOOK OF ...\"}, \"Die Weiss Lowin / Contemporary German Lit\": {\"frequency\": 16, \"value\": \"Die Weiss Lowin / ...\"}, \"A Day Late and a Dollar Short\": {\"frequency\": 30, \"value\": \"A Day Late and a ...\"}, \"The Forgotten: A Peter Decker/Rina Lazarus Novel\": {\"frequency\": 17, \"value\": \"The Forgotten: A ...\"}, \"Boy's Life\": {\"frequency\": 30, \"value\": \"Boy's Life\"}, \"Little House on the Prairie\": {\"frequency\": 32, \"value\": \"Little House on ...\"}, \"Home Before Dark\": {\"frequency\": 9, \"value\": \"Home Before Dark\"}, \"Night of the Wolf\": {\"frequency\": 9, \"value\": \"Night of the Wolf\"}, \"Harry Potter y la piedra filosofal\": {\"frequency\": 13, \"value\": \"Harry Potter y la ...\"}, \"Myst, The: Book of Atrus\": {\"frequency\": 12, \"value\": \"Myst, The: Book of ...\"}, \"Now You See Her\": {\"frequency\": 26, \"value\": \"Now You See Her\"}, \"Phantom Tollbooth\": {\"frequency\": 10, \"value\": \"Phantom Tollbooth\"}, \"Chasing Redbird\": {\"frequency\": 9, \"value\": \"Chasing Redbird\"}, \"There's Treasure Everywhere--A Calvin and Hobbes Collection\": {\"frequency\": 15, \"value\": \"There's Treasure ...\"}, \"Flowers for Algernon\": {\"frequency\": 12, \"value\": \"Flowers for ...\"}, \"The Piano Shop on the Left Bank: Discovering a Forgotten Passion in a Paris Atelier\": {\"frequency\": 10, \"value\": \"The Piano Shop on ...\"}, \"Homeport\": {\"frequency\": 30, \"value\": \"Homeport\"}, \"I Know This Much Is True\": {\"frequency\": 106, \"value\": \"I Know This Much ...\"}, \"Das grobmaschige Netz.\": {\"frequency\": 10, \"value\": \"Das grobmaschige ...\"}, \"What The Lady Wants\": {\"frequency\": 13, \"value\": \"What The Lady ...\"}, \"Hemlock Bay\": {\"frequency\": 55, \"value\": \"Hemlock Bay\"}, \"Night Storm\": {\"frequency\": 11, \"value\": \"Night Storm\"}, \"When Bad Things Happen to Good People\": {\"frequency\": 19, \"value\": \"When Bad Things ...\"}, \"Sights Unseen\": {\"frequency\": 26, \"value\": \"Sights Unseen\"}, \"The Ice Limit\": {\"frequency\": 18, \"value\": \"The Ice Limit\"}, \"Crooked Little Heart\": {\"frequency\": 20, \"value\": \"Crooked Little ...\"}, \"The Dead Zone\": {\"frequency\": 58, \"value\": \"The Dead Zone\"}, \"The Modigliani Scandal\": {\"frequency\": 10, \"value\": \"The Modigliani ...\"}, \"The Count of Monte Cristo\": {\"frequency\": 21, \"value\": \"The Count of Monte ...\"}, \"The Secret Life of Laszlo, Count Dracula\": {\"frequency\": 11, \"value\": \"The Secret Life of ...\"}, \"On Bear Mountain\": {\"frequency\": 10, \"value\": \"On Bear Mountain\"}, \"Carnal Innocence\": {\"frequency\": 32, \"value\": \"Carnal Innocence\"}, \"Time and Chance\": {\"frequency\": 9, \"value\": \"Time and Chance\"}, \"Skellig\": {\"frequency\": 10, \"value\": \"Skellig\"}, \"Kaaterskill Falls\": {\"frequency\": 9, \"value\": \"Kaaterskill Falls\"}, \"Gracie: A Love Story\": {\"frequency\": 14, \"value\": \"Gracie: A Love ...\"}, \"Mitigating Circumstances\": {\"frequency\": 20, \"value\": \"Mitigating ...\"}, \"Death in Paradise\": {\"frequency\": 9, \"value\": \"Death in Paradise\"}, \"Murder on a Bad Hair Day: A Southern Sisters Mystery\": {\"frequency\": 13, \"value\": \"Murder on a Bad ...\"}, \"The Trumpet of the Swan\": {\"frequency\": 9, \"value\": \"The Trumpet of the ...\"}, \"Ginger Tree\": {\"frequency\": 10, \"value\": \"Ginger Tree\"}, \"The House of Thunder\": {\"frequency\": 27, \"value\": \"The House of ...\"}, \"Killashandra\": {\"frequency\": 15, \"value\": \"Killashandra\"}, \"Glorious Angel\": {\"frequency\": 11, \"value\": \"Glorious Angel\"}, \"A Year in Provence\": {\"frequency\": 74, \"value\": \"A Year in Provence\"}, \"In This Mountain\": {\"frequency\": 18, \"value\": \"In This Mountain\"}, \"Hit List\": {\"frequency\": 15, \"value\": \"Hit List\"}, \"Fearless #1\": {\"frequency\": 10, \"value\": \"Fearless #1\"}, \"The Fall of Hyperion\": {\"frequency\": 13, \"value\": \"The Fall of ...\"}, \"Along Came a Spider\": {\"frequency\": 12, \"value\": \"Along Came a ...\"}, \"Girl Named Zippy: Growing Up Small in Mooreland Indiana\": {\"frequency\": 10, \"value\": \"Girl Named Zippy: ...\"}, \"The Hound of the Baskervilles\": {\"frequency\": 19, \"value\": \"The Hound of the ...\"}, \"Robots and Empire\": {\"frequency\": 10, \"value\": \"Robots and Empire\"}, \"Local Girls\": {\"frequency\": 30, \"value\": \"Local Girls\"}, \"Losing Julia\": {\"frequency\": 15, \"value\": \"Losing Julia\"}, \"The Prince of Tides\": {\"frequency\": 86, \"value\": \"The Prince of ...\"}, \"2010: Odyssey Two\": {\"frequency\": 32, \"value\": \"2010: Odyssey Two\"}, \"The Romance Reader\": {\"frequency\": 12, \"value\": \"The Romance Reader\"}, \"The Evolution of Jane\": {\"frequency\": 18, \"value\": \"The Evolution of ...\"}, \"Here Be Dragons\": {\"frequency\": 9, \"value\": \"Here Be Dragons\"}, \"The Witches of Eastwick\": {\"frequency\": 22, \"value\": \"The Witches of ...\"}, \"The X-Files: Ground Zero\": {\"frequency\": 12, \"value\": \"The X-Files: ...\"}, \"Taltos: Lives of the Mayfair Witches\": {\"frequency\": 55, \"value\": \"Taltos: Lives of ...\"}, \"The Long Hard Road Out of Hell\": {\"frequency\": 9, \"value\": \"The Long Hard Road ...\"}, \"Midnight in the Garden of Good and Evil: A Savannah Story\": {\"frequency\": 107, \"value\": \"Midnight in the ...\"}, \"Bias: A CBS Insider Exposes How the Media Distort the News\": {\"frequency\": 9, \"value\": \"Bias: A CBS ...\"}, \"Hanging Up\": {\"frequency\": 11, \"value\": \"Hanging Up\"}, \"The Chronoliths\": {\"frequency\": 10, \"value\": \"The Chronoliths\"}, \"The Passion of Artemisia\": {\"frequency\": 42, \"value\": \"The Passion of ...\"}, \"Liebesleben\": {\"frequency\": 13, \"value\": \"Liebesleben\"}, \"Just Cause\": {\"frequency\": 11, \"value\": \"Just Cause\"}, \"October Sky: A Memoir\": {\"frequency\": 31, \"value\": \"October Sky: A ...\"}, \"Bridge of Birds\": {\"frequency\": 11, \"value\": \"Bridge of Birds\"}, \"Silent Prey\": {\"frequency\": 25, \"value\": \"Silent Prey\"}, \"Contagion\": {\"frequency\": 48, \"value\": \"Contagion\"}, \"Fine Things\": {\"frequency\": 24, \"value\": \"Fine Things\"}, \"Sent by Earth: A Message from the Grandmother Spirit After the Bombing of the World Trade Center and the Pentagon\": {\"frequency\": 10, \"value\": \"Sent by Earth: A ...\"}, \"Milkrun\": {\"frequency\": 38, \"value\": \"Milkrun\"}, \"Brazen Virtue\": {\"frequency\": 34, \"value\": \"Brazen Virtue\"}, \"The Mother Tongue\": {\"frequency\": 18, \"value\": \"The Mother Tongue\"}, \"The Devil's Arithmetic\": {\"frequency\": 21, \"value\": \"The Devil's ...\"}, \"Solange du da bist.\": {\"frequency\": 9, \"value\": \"Solange du da ...\"}, \"When Love Awaits\": {\"frequency\": 10, \"value\": \"When Love Awaits\"}, \"Songlines\": {\"frequency\": 18, \"value\": \"Songlines\"}, \"Blind Spot\": {\"frequency\": 12, \"value\": \"Blind Spot\"}, \"Q Is for Quarry\": {\"frequency\": 116, \"value\": \"Q Is for Quarry\"}, \"Tracks RI\": {\"frequency\": 13, \"value\": \"Tracks RI\"}, \"Tourist Season\": {\"frequency\": 30, \"value\": \"Tourist Season\"}, \"Wassermelone.\": {\"frequency\": 10, \"value\": \"Wassermelone.\"}, \"Fanta C\": {\"frequency\": 9, \"value\": \"Fanta C\"}, \"The 25th Hour\": {\"frequency\": 9, \"value\": \"The 25th Hour\"}, \"The Canterbury Tales, in Modern English\": {\"frequency\": 14, \"value\": \"The Canterbury ...\"}, \"A Morbid Taste for Bones: The First Chronicle of Brother Cadfael\": {\"frequency\": 14, \"value\": \"A Morbid Taste for ...\"}, \"The Little Friend\": {\"frequency\": 44, \"value\": \"The Little Friend\"}, \"My Dark Places: An L.A. Crime Memoir\": {\"frequency\": 9, \"value\": \"My Dark Places: An ...\"}, \"All the Names\": {\"frequency\": 20, \"value\": \"All the Names\"}, \"The President's Daughter\": {\"frequency\": 17, \"value\": \"The President's ...\"}, \"Sophies Choice\": {\"frequency\": 18, \"value\": \"Sophies Choice\"}, \"Answered Prayers\": {\"frequency\": 16, \"value\": \"Answered Prayers\"}, \"The Last Family\": {\"frequency\": 9, \"value\": \"The Last Family\"}, \"Distant Shores\": {\"frequency\": 22, \"value\": \"Distant Shores\"}, \"Blindness\": {\"frequency\": 12, \"value\": \"Blindness\"}, \"Sam's Letters to Jennifer\": {\"frequency\": 19, \"value\": \"Sam's Letters to ...\"}, \"The Beans of Egypt, Maine\": {\"frequency\": 19, \"value\": \"The Beans of ...\"}, \"Dave Barry Does Japan\": {\"frequency\": 10, \"value\": \"Dave Barry Does ...\"}, \"The Fermata\": {\"frequency\": 13, \"value\": \"The Fermata\"}, \"An Inconvenient Woman\": {\"frequency\": 11, \"value\": \"An Inconvenient ...\"}, \"The Daughters of Cain\": {\"frequency\": 17, \"value\": \"The Daughters of ...\"}, \"Riley in the Morning\": {\"frequency\": 12, \"value\": \"Riley in the ...\"}, \"Making Faces\": {\"frequency\": 12, \"value\": \"Making Faces\"}, \"The Black Echo\": {\"frequency\": 16, \"value\": \"The Black Echo\"}, \"No Greater Love\": {\"frequency\": 33, \"value\": \"No Greater Love\"}, \"The No-Spin Zone: Confrontations with the Powerful and Famous in America\": {\"frequency\": 12, \"value\": \"The No-Spin Zone: ...\"}, \"Bitch: In Praise of Difficult Women\": {\"frequency\": 18, \"value\": \"Bitch: In Praise ...\"}, \"Mr. X\": {\"frequency\": 21, \"value\": \"Mr. X\"}, \"Silent Treatment\": {\"frequency\": 25, \"value\": \"Silent Treatment\"}, \"Childhood's End\": {\"frequency\": 26, \"value\": \"Childhood's End\"}, \"Lake Wobegon: Summer 1956\": {\"frequency\": 13, \"value\": \"Lake Wobegon: ...\"}, \"Lost Boys\": {\"frequency\": 24, \"value\": \"Lost Boys\"}, \"All Creatures Great and Small\": {\"frequency\": 30, \"value\": \"All Creatures ...\"}, \"Summer of My German Soldier\": {\"frequency\": 9, \"value\": \"Summer of My ...\"}, \"Black Lightning\": {\"frequency\": 22, \"value\": \"Black Lightning\"}, \"Middle of Nowhere\": {\"frequency\": 24, \"value\": \"Middle of Nowhere\"}, \"In the Presence of Enemies\": {\"frequency\": 9, \"value\": \"In the Presence of ...\"}, \"Born in Fire\": {\"frequency\": 28, \"value\": \"Born in Fire\"}, \"Piercing the Darkness\": {\"frequency\": 22, \"value\": \"Piercing the ...\"}, \"A Woman's Worth\": {\"frequency\": 10, \"value\": \"A Woman's Worth\"}, \"Skeleton Crew\": {\"frequency\": 81, \"value\": \"Skeleton Crew\"}, \"Girl With a Pearl Earring\": {\"frequency\": 55, \"value\": \"Girl With a Pearl ...\"}, \"Fortunes of War\": {\"frequency\": 12, \"value\": \"Fortunes of War\"}, \"Salvation on Sand Mountain: Snake Handling and Redemption in Southern Appalachia\": {\"frequency\": 10, \"value\": \"Salvation on Sand ...\"}, \"Presumed Innocent\": {\"frequency\": 82, \"value\": \"Presumed Innocent\"}, \"El Guardian Entre El Centeno\": {\"frequency\": 10, \"value\": \"El Guardian Entre ...\"}, \"The Brethren\": {\"frequency\": 152, \"value\": \"The Brethren\"}, \"Must Love Dogs\": {\"frequency\": 25, \"value\": \"Must Love Dogs\"}, \"Kiss and Make-Up\": {\"frequency\": 12, \"value\": \"Kiss and Make-Up\"}, \"The Virgin Blue\": {\"frequency\": 56, \"value\": \"The Virgin Blue\"}, \"Harry Potter und der Gefangene von Azkaban\": {\"frequency\": 10, \"value\": \"Harry Potter und ...\"}, \"Godplayer\": {\"frequency\": 18, \"value\": \"Godplayer\"}, \"Die Prophezeiungen von Celestine. Ein Abenteuer.\": {\"frequency\": 9, \"value\": \"Die Prophezeiungen ...\"}, \"The Cat Who Sang for the Birds\": {\"frequency\": 9, \"value\": \"The Cat Who Sang ...\"}, \"Veronika Deschliesst Zu Sterben / Vernika Decides to Die\": {\"frequency\": 12, \"value\": \"Veronika ...\"}, \"Chain of Evidence\": {\"frequency\": 11, \"value\": \"Chain of Evidence\"}, \"The Hook\": {\"frequency\": 9, \"value\": \"The Hook\"}, \"Waiting: The True Confessions of a Waitress\": {\"frequency\": 24, \"value\": \"Waiting: The True ...\"}, \"The Rule of Four\": {\"frequency\": 37, \"value\": \"The Rule of Four\"}, \"Their Eyes Were Watching God\": {\"frequency\": 36, \"value\": \"Their Eyes Were ...\"}, \"Tell Me No Secrets\": {\"frequency\": 11, \"value\": \"Tell Me No Secrets\"}, \"All She Wanted\": {\"frequency\": 10, \"value\": \"All She Wanted\"}, \"The Burden of Proof\": {\"frequency\": 37, \"value\": \"The Burden of ...\"}, \"The Virgin Suicides\": {\"frequency\": 97, \"value\": \"The Virgin ...\"}, \"Still Life with Woodpecker\": {\"frequency\": 11, \"value\": \"Still Life with ...\"}, \"Plane Insanity: A Flight Attendant's Tales of Sex, Rage, and Queasiness at 30,000 Feet\": {\"frequency\": 14, \"value\": \"Plane Insanity: A ...\"}, \"The Other Boleyn Girl\": {\"frequency\": 90, \"value\": \"The Other Boleyn ...\"}, \"Speaking in Tongues\": {\"frequency\": 28, \"value\": \"Speaking in ...\"}, \"Plan of Attack\": {\"frequency\": 10, \"value\": \"Plan of Attack\"}, \"Deja Dead\": {\"frequency\": 74, \"value\": \"Deja Dead\"}, \"Doing Good\": {\"frequency\": 19, \"value\": \"Doing Good\"}, \"The Diary of Mattie Spenser\": {\"frequency\": 9, \"value\": \"The Diary of ...\"}, \"Nightseer\": {\"frequency\": 13, \"value\": \"Nightseer\"}, \"The English Assassin\": {\"frequency\": 14, \"value\": \"The English ...\"}, \"Swimming to Catalina\": {\"frequency\": 13, \"value\": \"Swimming to ...\"}, \"Larrys Party\": {\"frequency\": 11, \"value\": \"Larrys Party\"}, \"Babyhood\": {\"frequency\": 26, \"value\": \"Babyhood\"}, \"Eats, Shoots and Leaves: The Zero Tolerance Approach to Punctuation\": {\"frequency\": 18, \"value\": \"Eats, Shoots and ...\"}, \"Private Pleasures\": {\"frequency\": 9, \"value\": \"Private Pleasures\"}, \"Perfect Murder, Perfect Town\": {\"frequency\": 10, \"value\": \"Perfect Murder, ...\"}, \"We the Living\": {\"frequency\": 23, \"value\": \"We the Living\"}, \"Tar Baby\": {\"frequency\": 15, \"value\": \"Tar Baby\"}, \"Douglas Adams's Starship Titanic\": {\"frequency\": 11, \"value\": \"Douglas Adams's ...\"}, \"Out Of The Dark\": {\"frequency\": 9, \"value\": \"Out Of The Dark\"}, \"Searching for Caleb\": {\"frequency\": 9, \"value\": \"Searching for ...\"}, \"Clara Callan\": {\"frequency\": 9, \"value\": \"Clara Callan\"}, \"Foxfire: Confessions of a Girl Gang\": {\"frequency\": 16, \"value\": \"Foxfire: ...\"}, \"My Little Blue Dress\": {\"frequency\": 12, \"value\": \"My Little Blue ...\"}, \"Carter Beats the Devil\": {\"frequency\": 23, \"value\": \"Carter Beats the ...\"}, \"The Unknown Errors of Our Lives: Stories\": {\"frequency\": 9, \"value\": \"The Unknown Errors ...\"}, \"The Analyst\": {\"frequency\": 9, \"value\": \"The Analyst\"}, \"Blood Test\": {\"frequency\": 9, \"value\": \"Blood Test\"}, \"Rush Limbaugh Is a Big Fat Idiot: And Other Observations\": {\"frequency\": 37, \"value\": \"Rush Limbaugh Is a ...\"}, \"Amusing Ourselves to Death: Public Discourse in the Age of Show Business\": {\"frequency\": 10, \"value\": \"Amusing Ourselves ...\"}, \"The Lovely Bones\": {\"frequency\": 47, \"value\": \"The Lovely Bones\"}, \"Life Is So Good\": {\"frequency\": 10, \"value\": \"Life Is So Good\"}, \"More Than a Carpenter\": {\"frequency\": 18, \"value\": \"More Than a ...\"}, \"The Shining\": {\"frequency\": 72, \"value\": \"The Shining\"}, \"Daring to Dream\": {\"frequency\": 19, \"value\": \"Daring to Dream\"}, \"Quincunx\": {\"frequency\": 9, \"value\": \"Quincunx\"}, \"The Venetian's Wife: A Strangely Sensual Tale of a Renaissance Explorer, a Computer, and a Metamorphosis\": {\"frequency\": 20, \"value\": \"The Venetian's ...\"}, \"Winter Moon\": {\"frequency\": 39, \"value\": \"Winter Moon\"}, \"North Of Clever\": {\"frequency\": 9, \"value\": \"North Of Clever\"}, \"Bourne Identity\": {\"frequency\": 23, \"value\": \"Bourne Identity\"}, \"Simply Divine\": {\"frequency\": 20, \"value\": \"Simply Divine\"}, \"Duplicate Keys\": {\"frequency\": 19, \"value\": \"Duplicate Keys\"}, \"Belgarath the Sorcerer\": {\"frequency\": 16, \"value\": \"Belgarath the ...\"}, \"I, Claudius: From the autobiography of Tiberius Claudius, Emperor of the Romans, born 10 B.C., murdered and deified A.D. 54\": {\"frequency\": 14, \"value\": \"I, Claudius: From ...\"}, \"Cold Tea On A Hot Day\": {\"frequency\": 16, \"value\": \"Cold Tea On A Hot ...\"}, \"The Enemy Within\": {\"frequency\": 11, \"value\": \"The Enemy Within\"}, \"Visions of Sugar Plums\": {\"frequency\": 57, \"value\": \"Visions of Sugar ...\"}, \"The Teeth of the Tiger\": {\"frequency\": 25, \"value\": \"The Teeth of the ...\"}, \"Engaging The Enemy\": {\"frequency\": 45, \"value\": \"Engaging The Enemy\"}, \"The Coming Plague: Newly Emerging Diseases in a World Out of Balance\": {\"frequency\": 10, \"value\": \"The Coming Plague: ...\"}, \"Eye of the Needle\": {\"frequency\": 11, \"value\": \"Eye of the Needle\"}, \"Roll of Thunder, Hear My Cry\": {\"frequency\": 27, \"value\": \"Roll of Thunder, ...\"}, \"Once a Thief\": {\"frequency\": 18, \"value\": \"Once a Thief\"}, \"So Wild A Heart\": {\"frequency\": 9, \"value\": \"So Wild A Heart\"}, \"Hitchhikers's Guide to the Galaxy\": {\"frequency\": 26, \"value\": \"Hitchhikers's ...\"}, \"In the Dark\": {\"frequency\": 10, \"value\": \"In the Dark\"}, \"Monkey Wrench Gang\": {\"frequency\": 11, \"value\": \"Monkey Wrench Gang\"}, \"No Shirt, No Shoes, No Problem!\": {\"frequency\": 9, \"value\": \"No Shirt, No ...\"}, \"King Rat\": {\"frequency\": 15, \"value\": \"King Rat\"}, \"Color Purple\": {\"frequency\": 27, \"value\": \"Color Purple\"}, \"How to Talk So Kids Will Listen and Listen So Kids Will Talk\": {\"frequency\": 11, \"value\": \"How to Talk So ...\"}, \"The Piano Man's Daughter\": {\"frequency\": 9, \"value\": \"The Piano Man's ...\"}, \"Gunpowder Green\": {\"frequency\": 14, \"value\": \"Gunpowder Green\"}, \"The Beet Queen\": {\"frequency\": 10, \"value\": \"The Beet Queen\"}, \"Reflections And Dreams\": {\"frequency\": 24, \"value\": \"Reflections And ...\"}, \"Ocho, El\": {\"frequency\": 15, \"value\": \"Ocho, El\"}, \"Total Control\": {\"frequency\": 53, \"value\": \"Total Control\"}, \"The Tipping Point: How Little Things Can Make a Big Difference\": {\"frequency\": 37, \"value\": \"The Tipping Point: ...\"}, \"Breach of Promise\": {\"frequency\": 22, \"value\": \"Breach of Promise\"}, \"Whispers and Lies\": {\"frequency\": 16, \"value\": \"Whispers and Lies\"}, \"The Last Unicorn\": {\"frequency\": 16, \"value\": \"The Last Unicorn\"}, \"It's Always Something\": {\"frequency\": 27, \"value\": \"It's Always ...\"}, \"If the Buddha Dated: A Handbook for Finding Love on a Spiritual Path\": {\"frequency\": 9, \"value\": \"If the Buddha ...\"}, \"The Te of Piglet\": {\"frequency\": 37, \"value\": \"The Te of Piglet\"}, \"Das Druidentor.\": {\"frequency\": 13, \"value\": \"Das Druidentor.\"}, \"Public Secrets\": {\"frequency\": 16, \"value\": \"Public Secrets\"}, \"The Inn at Lake Devine\": {\"frequency\": 22, \"value\": \"The Inn at Lake ...\"}, \"Animal Dreams\": {\"frequency\": 67, \"value\": \"Animal Dreams\"}, \"Hearts Aflame\": {\"frequency\": 13, \"value\": \"Hearts Aflame\"}, \"The Rebel Bride\": {\"frequency\": 9, \"value\": \"The Rebel Bride\"}, \"La Tombe des lucioles\": {\"frequency\": 9, \"value\": \"La Tombe des ...\"}, \"Heavy Weather\": {\"frequency\": 9, \"value\": \"Heavy Weather\"}, \"Ubik\": {\"frequency\": 10, \"value\": \"Ubik\"}, \"Superstitious\": {\"frequency\": 23, \"value\": \"Superstitious\"}, \"The Return of the King\": {\"frequency\": 12, \"value\": \"The Return of the ...\"}, \"Bone Deep\": {\"frequency\": 9, \"value\": \"Bone Deep\"}, \"Thirty-nothing\": {\"frequency\": 11, \"value\": \"Thirty-nothing\"}, \"Le Jour des fourmis\": {\"frequency\": 9, \"value\": \"Le Jour des ...\"}, \"Horse and His Boy\": {\"frequency\": 12, \"value\": \"Horse and His Boy\"}, \"The Mote in God's Eye\": {\"frequency\": 16, \"value\": \"The Mote in God's ...\"}, \"My Ishmael\": {\"frequency\": 12, \"value\": \"My Ishmael\"}, \"Auntie Mame: An Irreverent Escapade\": {\"frequency\": 13, \"value\": \"Auntie Mame: An ...\"}, \"A Darker Place\": {\"frequency\": 10, \"value\": \"A Darker Place\"}, \"Crazy in Alabama\": {\"frequency\": 20, \"value\": \"Crazy in Alabama\"}, \"Creed for the Third Millennium\": {\"frequency\": 10, \"value\": \"Creed for the ...\"}, \"Wicked: The Life and Times of the Wicked Witch of the West\": {\"frequency\": 156, \"value\": \"Wicked: The Life ...\"}, \"Children of the Night\": {\"frequency\": 14, \"value\": \"Children of the ...\"}, \"Beauty: A Retelling of the Story of Beauty and the Beast\": {\"frequency\": 17, \"value\": \"Beauty: A ...\"}, \"Mutation\": {\"frequency\": 32, \"value\": \"Mutation\"}, \"The 776 Stupidest Things Ever Said\": {\"frequency\": 10, \"value\": \"The 776 Stupidest ...\"}, \"About a Boy Uk\": {\"frequency\": 22, \"value\": \"About a Boy Uk\"}, \"Eyes of Prey\": {\"frequency\": 35, \"value\": \"Eyes of Prey\"}, \"More Letters from a Nut\": {\"frequency\": 16, \"value\": \"More Letters from ...\"}, \"Brothers Karamazov\": {\"frequency\": 12, \"value\": \"Brothers Karamazov\"}, \"The Ragamuffin Gospel\": {\"frequency\": 10, \"value\": \"The Ragamuffin ...\"}, \"Get Shorty\": {\"frequency\": 24, \"value\": \"Get Shorty\"}, \"Zen Attitude\": {\"frequency\": 11, \"value\": \"Zen Attitude\"}, \"Complications: A Surgeon's Notes on an Imperfect Science\": {\"frequency\": 16, \"value\": \"Complications: A ...\"}, \"Calculating God\": {\"frequency\": 16, \"value\": \"Calculating God\"}, \"Bless the Child\": {\"frequency\": 10, \"value\": \"Bless the Child\"}, \"The Snow Queen\": {\"frequency\": 9, \"value\": \"The Snow Queen\"}, \"Harry Potter Und Der Feuerkelch\": {\"frequency\": 10, \"value\": \"Harry Potter Und ...\"}, \"The Lake House\": {\"frequency\": 57, \"value\": \"The Lake House\"}, \"Ageless Body, Timeless Mind: The Quantum Alternative to Growing Old\": {\"frequency\": 9, \"value\": \"Ageless Body, ...\"}, \"Can You Keep a Secret?\": {\"frequency\": 25, \"value\": \"Can You Keep a ...\"}, \"Timothy's Game\": {\"frequency\": 9, \"value\": \"Timothy's Game\"}, \"The Street Lawyer\": {\"frequency\": 73, \"value\": \"The Street Lawyer\"}, \"Code to Zero\": {\"frequency\": 68, \"value\": \"Code to Zero\"}, \"The Cat Who Wasn't There\": {\"frequency\": 27, \"value\": \"The Cat Who Wasn't ...\"}, \"From the Dust Returned\": {\"frequency\": 11, \"value\": \"From the Dust ...\"}, \"Deadly Grace\": {\"frequency\": 13, \"value\": \"Deadly Grace\"}, \"Quite a Year for Plums\": {\"frequency\": 15, \"value\": \"Quite a Year for ...\"}, \"Judas Child\": {\"frequency\": 20, \"value\": \"Judas Child\"}, \"L.A. Confidential\": {\"frequency\": 12, \"value\": \"L.A. Confidential\"}, \"Dragonseye\": {\"frequency\": 11, \"value\": \"Dragonseye\"}, \"Love's Encore\": {\"frequency\": 14, \"value\": \"Love's Encore\"}, \"River's End\": {\"frequency\": 46, \"value\": \"River's End\"}, \"Down and Out in Paris and London\": {\"frequency\": 10, \"value\": \"Down and Out in ...\"}, \"Mary, Called Magdalene\": {\"frequency\": 21, \"value\": \"Mary, Called ...\"}, \"The Short Forever\": {\"frequency\": 30, \"value\": \"The Short Forever\"}, \"Wicca: A Guide for the Solitary Practitioner\": {\"frequency\": 32, \"value\": \"Wicca: A Guide for ...\"}, \"My Soul to Keep\": {\"frequency\": 11, \"value\": \"My Soul to Keep\"}, \"The Piano Tuner\": {\"frequency\": 19, \"value\": \"The Piano Tuner\"}, \"Shocking Pink\": {\"frequency\": 11, \"value\": \"Shocking Pink\"}, \"Medusa's Child\": {\"frequency\": 12, \"value\": \"Medusa's Child\"}, \"Sun Also Rises\": {\"frequency\": 30, \"value\": \"Sun Also Rises\"}, \"Worst Case Scenario Survival Handbook: Travel\": {\"frequency\": 14, \"value\": \"Worst Case ...\"}, \"Shadows of Steel\": {\"frequency\": 11, \"value\": \"Shadows of Steel\"}, \"Twelve Red Herrings\": {\"frequency\": 14, \"value\": \"Twelve Red ...\"}, \"The Plague\": {\"frequency\": 9, \"value\": \"The Plague\"}, \"All Tomorrow's Parties\": {\"frequency\": 19, \"value\": \"All Tomorrow's ...\"}, \"Ringworld Engineers\": {\"frequency\": 13, \"value\": \"Ringworld ...\"}, \"Road to Gandolfo\": {\"frequency\": 9, \"value\": \"Road to Gandolfo\"}, \"Dust to Dust\": {\"frequency\": 17, \"value\": \"Dust to Dust\"}, \"Letters from the Earth\": {\"frequency\": 13, \"value\": \"Letters from the ...\"}, \"The Apocalypse Watch\": {\"frequency\": 13, \"value\": \"The Apocalypse ...\"}, \"Ghost World\": {\"frequency\": 11, \"value\": \"Ghost World\"}, \"Enemy Within\": {\"frequency\": 12, \"value\": \"Enemy Within\"}, \"Heartbreaker\": {\"frequency\": 57, \"value\": \"Heartbreaker\"}, \"Finding Fish\": {\"frequency\": 11, \"value\": \"Finding Fish\"}, \"Metaphysique Des Tubes\": {\"frequency\": 14, \"value\": \"Metaphysique Des ...\"}, \"Unbearable Lightness of Being\": {\"frequency\": 28, \"value\": \"Unbearable ...\"}, \"Die Schandmaske.\": {\"frequency\": 10, \"value\": \"Die Schandmaske.\"}, \"A Rose in Winter\": {\"frequency\": 10, \"value\": \"A Rose in Winter\"}, \"Nichts als die Wahrheit.\": {\"frequency\": 10, \"value\": \"Nichts als die ...\"}, \"Shades of Grace\": {\"frequency\": 10, \"value\": \"Shades of Grace\"}, \"The Big Picture\": {\"frequency\": 12, \"value\": \"The Big Picture\"}, \"The Indian in the Cupboard\": {\"frequency\": 29, \"value\": \"The Indian in the ...\"}, \"Child of My Heart\": {\"frequency\": 21, \"value\": \"Child of My Heart\"}, \"Bloodstream\": {\"frequency\": 23, \"value\": \"Bloodstream\"}, \"Ausweitung der Kampfzone.\": {\"frequency\": 10, \"value\": \"Ausweitung der ...\"}, \"A Dangerous Fortune\": {\"frequency\": 26, \"value\": \"A Dangerous ...\"}, \"The Bonesetter's Daughter\": {\"frequency\": 163, \"value\": \"The Bonesetter's ...\"}, \"Freedom's Landing\": {\"frequency\": 15, \"value\": \"Freedom's Landing\"}, \"Lasher\": {\"frequency\": 26, \"value\": \"Lasher\"}, \"Venus Envy\": {\"frequency\": 11, \"value\": \"Venus Envy\"}, \"An Equal Music\": {\"frequency\": 20, \"value\": \"An Equal Music\"}, \"Narcissus and Goldmund\": {\"frequency\": 10, \"value\": \"Narcissus and ...\"}, \"Term Limits\": {\"frequency\": 12, \"value\": \"Term Limits\"}, \"Finding the Dream\": {\"frequency\": 18, \"value\": \"Finding the Dream\"}, \"Season of Passion\": {\"frequency\": 11, \"value\": \"Season of Passion\"}, \"No Way Out\": {\"frequency\": 12, \"value\": \"No Way Out\"}, \"Move to Strike\": {\"frequency\": 38, \"value\": \"Move to Strike\"}, \"Black House\": {\"frequency\": 101, \"value\": \"Black House\"}, \"White Shark\": {\"frequency\": 9, \"value\": \"White Shark\"}, \"If Looks Could Kill\": {\"frequency\": 36, \"value\": \"If Looks Could ...\"}, \"The Cat Who Brought Down the House\": {\"frequency\": 36, \"value\": \"The Cat Who ...\"}, \"The Kitchen God's Wife\": {\"frequency\": 116, \"value\": \"The Kitchen God's ...\"}, \"The Naked Face\": {\"frequency\": 12, \"value\": \"The Naked Face\"}, \"South: The Endurance Expedition\": {\"frequency\": 10, \"value\": \"South: The ...\"}, \"Deerskin\": {\"frequency\": 18, \"value\": \"Deerskin\"}, \"Bridget Jones: The Edge of Reason\": {\"frequency\": 118, \"value\": \"Bridget Jones: The ...\"}, \"Seven Years in Tibet\": {\"frequency\": 12, \"value\": \"Seven Years in ...\"}, \"No Ordinary Child\": {\"frequency\": 9, \"value\": \"No Ordinary Child\"}, \"Under the Tuscan Sun\": {\"frequency\": 74, \"value\": \"Under the Tuscan ...\"}, \"The Black Swan\": {\"frequency\": 10, \"value\": \"The Black Swan\"}, \"A Walk Through the Fire\": {\"frequency\": 11, \"value\": \"A Walk Through the ...\"}, \"Charms for the Easy Life\": {\"frequency\": 12, \"value\": \"Charms for the ...\"}, \"When the Wind Blows\": {\"frequency\": 144, \"value\": \"When the Wind ...\"}, \"A Painted House\": {\"frequency\": 284, \"value\": \"A Painted House\"}, \"The Stand: Complete and Uncut\": {\"frequency\": 70, \"value\": \"The Stand: ...\"}, \"Final Flight\": {\"frequency\": 9, \"value\": \"Final Flight\"}, \"Flight of Eagles\": {\"frequency\": 12, \"value\": \"Flight of Eagles\"}, \"A Beautiful Mind: The Life of Mathematical Genius and Nobel Laureate John Nash\": {\"frequency\": 50, \"value\": \"A Beautiful Mind: ...\"}, \"Fat Tuesday\": {\"frequency\": 30, \"value\": \"Fat Tuesday\"}, \"Secrets of the Vine: Breaking Through to Abundance\": {\"frequency\": 10, \"value\": \"Secrets of the ...\"}, \"Wiener Dog Art\": {\"frequency\": 23, \"value\": \"Wiener Dog Art\"}, \"A Soldier of the Great War\": {\"frequency\": 9, \"value\": \"A Soldier of the ...\"}, \"Freedom's Choice\": {\"frequency\": 9, \"value\": \"Freedom's Choice\"}, \"Plain Truth\": {\"frequency\": 58, \"value\": \"Plain Truth\"}, \"The Mummy or Ramses the Damned\": {\"frequency\": 72, \"value\": \"The Mummy or ...\"}, \"Clear and Present Danger\": {\"frequency\": 27, \"value\": \"Clear and Present ...\"}, \"Pet Sematary\": {\"frequency\": 102, \"value\": \"Pet Sematary\"}, \"My Big Old Texas Heartache\": {\"frequency\": 9, \"value\": \"My Big Old Texas ...\"}, \"The Chocolate Cat Caper\": {\"frequency\": 12, \"value\": \"The Chocolate Cat ...\"}, \"Possessing the Secret of Joy\": {\"frequency\": 42, \"value\": \"Possessing the ...\"}, \"Human Croquet\": {\"frequency\": 10, \"value\": \"Human Croquet\"}, \"Cat's Eye\": {\"frequency\": 26, \"value\": \"Cat's Eye\"}, \"Altar Ego\": {\"frequency\": 11, \"value\": \"Altar Ego\"}, \"Westing Game\": {\"frequency\": 21, \"value\": \"Westing Game\"}, \"The Collection\": {\"frequency\": 9, \"value\": \"The Collection\"}, \"The Sexual Life of Catherine M.\": {\"frequency\": 23, \"value\": \"The Sexual Life of ...\"}, \"Your Erroneous Zones\": {\"frequency\": 10, \"value\": \"Your Erroneous ...\"}, \"Garden of Rama\": {\"frequency\": 11, \"value\": \"Garden of Rama\"}, \"Santa Steps Out\": {\"frequency\": 10, \"value\": \"Santa Steps Out\"}, \"The Donovan Legacy\": {\"frequency\": 12, \"value\": \"The Donovan Legacy\"}, \"To Ride Pegasus\": {\"frequency\": 10, \"value\": \"To Ride Pegasus\"}, \"The Invitation\": {\"frequency\": 17, \"value\": \"The Invitation\"}, \"Secret Fire\": {\"frequency\": 14, \"value\": \"Secret Fire\"}, \"Michelangelo and the Pope's Ceiling\": {\"frequency\": 10, \"value\": \"Michelangelo and ...\"}, \"Tully\": {\"frequency\": 10, \"value\": \"Tully\"}, \"Behind the Scenes at the Museum\": {\"frequency\": 36, \"value\": \"Behind the Scenes ...\"}, \"Their eyes were watching God: A novel\": {\"frequency\": 15, \"value\": \"Their eyes were ...\"}, \"The Dolphins of Pern\": {\"frequency\": 10, \"value\": \"The Dolphins of ...\"}, \"N or M?\": {\"frequency\": 9, \"value\": \"N or M?\"}, \"Privileged Information\": {\"frequency\": 15, \"value\": \"Privileged ...\"}, \"Final Appeal\": {\"frequency\": 19, \"value\": \"Final Appeal\"}, \"Salem's Lot\": {\"frequency\": 31, \"value\": \"Salem's Lot\"}, \"A Perfect Day\": {\"frequency\": 10, \"value\": \"A Perfect Day\"}, \"The Right Hand of Evil\": {\"frequency\": 30, \"value\": \"The Right Hand of ...\"}, \"That Camden Summer\": {\"frequency\": 45, \"value\": \"That Camden Summer\"}, \"Cold Fire\": {\"frequency\": 39, \"value\": \"Cold Fire\"}, \"Lone Eagle\": {\"frequency\": 19, \"value\": \"Lone Eagle\"}, \"Siddharta Romanzo Versione Di M Mila\": {\"frequency\": 17, \"value\": \"Siddharta Romanzo ...\"}, \"The Jane Austen Book Club\": {\"frequency\": 13, \"value\": \"The Jane Austen ...\"}, \"Blind Faith\": {\"frequency\": 16, \"value\": \"Blind Faith\"}, \"Come to Grief\": {\"frequency\": 28, \"value\": \"Come to Grief\"}, \"Loyalty in Death\": {\"frequency\": 17, \"value\": \"Loyalty in Death\"}, \"Judgment in Death\": {\"frequency\": 18, \"value\": \"Judgment in Death\"}, \"The Tin Man\": {\"frequency\": 10, \"value\": \"The Tin Man\"}, \"Running with Scissors\": {\"frequency\": 31, \"value\": \"Running with ...\"}, \"The Giver\": {\"frequency\": 16, \"value\": \"The Giver\"}, \"The Lorax\": {\"frequency\": 10, \"value\": \"The Lorax\"}, \"The Time Traveler's Wife\": {\"frequency\": 26, \"value\": \"The Time ...\"}, \"Replay\": {\"frequency\": 25, \"value\": \"Replay\"}, \"The Deep Blue Good-By\": {\"frequency\": 14, \"value\": \"The Deep Blue ...\"}, \"The Nudist on the Late Shift\": {\"frequency\": 9, \"value\": \"The Nudist on the ...\"}, \"Best Kept Secrets\": {\"frequency\": 10, \"value\": \"Best Kept Secrets\"}, \"Follow Your Heart\": {\"frequency\": 9, \"value\": \"Follow Your Heart\"}, \"More Than Complete Hitchhiker's Guide\": {\"frequency\": 16, \"value\": \"More Than Complete ...\"}, \"Some Things That Stay\": {\"frequency\": 9, \"value\": \"Some Things That ...\"}, \"The Reef\": {\"frequency\": 43, \"value\": \"The Reef\"}, \"New Attitude\": {\"frequency\": 9, \"value\": \"New Attitude\"}, \"The Big Rumpus: A Mother's Tale from the Trenches\": {\"frequency\": 9, \"value\": \"The Big Rumpus: A ...\"}, \"Trading Places\": {\"frequency\": 20, \"value\": \"Trading Places\"}, \"Saint Nick\": {\"frequency\": 20, \"value\": \"Saint Nick\"}, \"James Herriots Dog Stories\": {\"frequency\": 11, \"value\": \"James Herriots Dog ...\"}, \"A Natural History of Love\": {\"frequency\": 10, \"value\": \"A Natural History ...\"}, \"Los Renglones Torcidos De Dios\": {\"frequency\": 12, \"value\": \"Los Renglones ...\"}, \"The Cold One\": {\"frequency\": 10, \"value\": \"The Cold One\"}, \"Prime Cut\": {\"frequency\": 37, \"value\": \"Prime Cut\"}, \"In the Cut\": {\"frequency\": 11, \"value\": \"In the Cut\"}, \"True Justice\": {\"frequency\": 10, \"value\": \"True Justice\"}, \"Naked in Death\": {\"frequency\": 25, \"value\": \"Naked in Death\"}, \"Purple Cow: Transform Your Business by Being Remarkable\": {\"frequency\": 13, \"value\": \"Purple Cow: ...\"}, \"Jesus Freaks: DC Talk and The Voice of the Martyrs - Stories of Those Who Stood For Jesus, the Ultimate Jesus Freaks\": {\"frequency\": 12, \"value\": \"Jesus Freaks: DC ...\"}, \"Dark Prince\": {\"frequency\": 17, \"value\": \"Dark Prince\"}, \"Void Moon\": {\"frequency\": 34, \"value\": \"Void Moon\"}, \"Illumination Night\": {\"frequency\": 10, \"value\": \"Illumination Night\"}, \"Die Jury. Roman.\": {\"frequency\": 13, \"value\": \"Die Jury. Roman.\"}, \"Rosemary's Baby\": {\"frequency\": 15, \"value\": \"Rosemary's Baby\"}, \"Violets Are Blue\": {\"frequency\": 147, \"value\": \"Violets Are Blue\"}, \"The Great and Secret Show\": {\"frequency\": 13, \"value\": \"The Great and ...\"}, \"The Black Ice\": {\"frequency\": 13, \"value\": \"The Black Ice\"}, \"Fair and Tender Ladies\": {\"frequency\": 9, \"value\": \"Fair and Tender ...\"}, \"Gabriela, Clove and Cinnamon\": {\"frequency\": 9, \"value\": \"Gabriela, Clove ...\"}, \"The Ice House\": {\"frequency\": 20, \"value\": \"The Ice House\"}, \"Elfstones of Shannara\": {\"frequency\": 17, \"value\": \"Elfstones of ...\"}, \"Two or Three Things I Know for Sure\": {\"frequency\": 10, \"value\": \"Two or Three ...\"}, \"Ember from the Sun\": {\"frequency\": 9, \"value\": \"Ember from the Sun\"}, \"Where Angels Walk: True Stories of Heavenly Visitors\": {\"frequency\": 10, \"value\": \"Where Angels Walk: ...\"}, \"War Is a Force That Gives Us Meaning\": {\"frequency\": 10, \"value\": \"War Is a Force ...\"}, \"A House for Mr. Biswas\": {\"frequency\": 12, \"value\": \"A House for Mr. ...\"}, \"Blackberry Wine\": {\"frequency\": 34, \"value\": \"Blackberry Wine\"}, \"A Perfect Stranger\": {\"frequency\": 16, \"value\": \"A Perfect Stranger\"}, \"The Key to Rebecca\": {\"frequency\": 15, \"value\": \"The Key to Rebecca\"}, \"A Sudden Wild Magic\": {\"frequency\": 9, \"value\": \"A Sudden Wild ...\"}, \"Sometimes I Dream in Italian\": {\"frequency\": 11, \"value\": \"Sometimes I Dream ...\"}, \"Woman of Independence\": {\"frequency\": 10, \"value\": \"Woman of ...\"}, \"The Far Side Gallery 5\": {\"frequency\": 10, \"value\": \"The Far Side ...\"}, \"Son of Rosemary: The Sequel to Rosemary's Baby\": {\"frequency\": 13, \"value\": \"Son of Rosemary: ...\"}, \"Slow Heat in Heaven\": {\"frequency\": 10, \"value\": \"Slow Heat in ...\"}, \"Odd Thomas\": {\"frequency\": 36, \"value\": \"Odd Thomas\"}, \"Der Gott der kleinen Dinge.\": {\"frequency\": 10, \"value\": \"Der Gott der ...\"}, \"The Red Notebook: True Stories\": {\"frequency\": 11, \"value\": \"The Red Notebook: ...\"}, \"Mother Road\": {\"frequency\": 9, \"value\": \"Mother Road\"}, \"Family: The Ties That Bind and Gag!\": {\"frequency\": 10, \"value\": \"Family: The Ties ...\"}, \"The Physician\": {\"frequency\": 14, \"value\": \"The Physician\"}, \"Friedhof der Kuscheltiere. Roman.\": {\"frequency\": 19, \"value\": \"Friedhof der ...\"}, \"Niagara Falls All Over Again\": {\"frequency\": 14, \"value\": \"Niagara Falls All ...\"}, \"Until Forever\": {\"frequency\": 14, \"value\": \"Until Forever\"}, \"Complicity\": {\"frequency\": 16, \"value\": \"Complicity\"}, \"Turning Thirty\": {\"frequency\": 10, \"value\": \"Turning Thirty\"}, \"Oryx and Crake\": {\"frequency\": 32, \"value\": \"Oryx and Crake\"}, \"The Best Laid Plans\": {\"frequency\": 34, \"value\": \"The Best Laid ...\"}, \"The Fountainhead\": {\"frequency\": 53, \"value\": \"The Fountainhead\"}, \"Johnny Got His Gun\": {\"frequency\": 24, \"value\": \"Johnny Got His Gun\"}, \"Bittersweet Rain\": {\"frequency\": 9, \"value\": \"Bittersweet Rain\"}, \"Deep Thoughts\": {\"frequency\": 9, \"value\": \"Deep Thoughts\"}, \"Soul Mountain\": {\"frequency\": 25, \"value\": \"Soul Mountain\"}, \"Fortune's Hand\": {\"frequency\": 19, \"value\": \"Fortune's Hand\"}, \"Cane River\": {\"frequency\": 38, \"value\": \"Cane River\"}, \"E-Wally and the Quest\": {\"frequency\": 18, \"value\": \"E-Wally and the ...\"}, \"God Save the Child\": {\"frequency\": 10, \"value\": \"God Save the Child\"}, \"Unfit to Practice\": {\"frequency\": 26, \"value\": \"Unfit to Practice\"}, \"God's Debris: A Thought Experiment\": {\"frequency\": 9, \"value\": \"God's Debris: A ...\"}, \"An Incomplete Education\": {\"frequency\": 9, \"value\": \"An Incomplete ...\"}, \"Prince Caspian\": {\"frequency\": 10, \"value\": \"Prince Caspian\"}, \"e\": {\"frequency\": 23, \"value\": \"e\"}, \"An Anthropologist on Mars: Seven Paradoxical Tales\": {\"frequency\": 14, \"value\": \"An Anthropologist ...\"}, \"Miss Julia Takes over\": {\"frequency\": 17, \"value\": \"Miss Julia Takes ...\"}, \"In the Beginning...was the Command Line\": {\"frequency\": 15, \"value\": \"In the ...\"}, \"Depth Takes a Holiday: Essays from Lesser Los Angeles\": {\"frequency\": 9, \"value\": \"Depth Takes a ...\"}, \"A Density of Souls\": {\"frequency\": 29, \"value\": \"A Density of Souls\"}, \"If on a Winter's Night a Traveler\": {\"frequency\": 15, \"value\": \"If on a Winter's ...\"}, \"Again The Magic\": {\"frequency\": 13, \"value\": \"Again The Magic\"}, \"Jitterbug Perfume\": {\"frequency\": 22, \"value\": \"Jitterbug Perfume\"}, \"Diplomatic Immunity\": {\"frequency\": 14, \"value\": \"Diplomatic ...\"}, \"Bitter Medicine\": {\"frequency\": 13, \"value\": \"Bitter Medicine\"}, \"The Holiday Present\": {\"frequency\": 9, \"value\": \"The Holiday ...\"}, \"Big Stone Gap\": {\"frequency\": 35, \"value\": \"Big Stone Gap\"}, \"The Cat Who Came to Breakfast\": {\"frequency\": 19, \"value\": \"The Cat Who Came ...\"}, \"The Light of Other Days\": {\"frequency\": 15, \"value\": \"The Light of Other ...\"}, \"The Wish List\": {\"frequency\": 11, \"value\": \"The Wish List\"}, \"Fight Club\": {\"frequency\": 55, \"value\": \"Fight Club\"}, \"Losing Gemma\": {\"frequency\": 9, \"value\": \"Losing Gemma\"}, \"There Are No Children Here: The Story of Two Boys Growing Up in the Other America\": {\"frequency\": 12, \"value\": \"There Are No ...\"}, \"Autobiography of a Yogi\": {\"frequency\": 13, \"value\": \"Autobiography of a ...\"}, \"Pigs Don't Fly\": {\"frequency\": 10, \"value\": \"Pigs Don't Fly\"}, \"The Experiment\": {\"frequency\": 30, \"value\": \"The Experiment\"}, \"The Silken Web\": {\"frequency\": 14, \"value\": \"The Silken Web\"}, \"Carriers\": {\"frequency\": 11, \"value\": \"Carriers\"}, \"Anatomy of the Spirit: The Seven Stages of Power and Healing\": {\"frequency\": 11, \"value\": \"Anatomy of the ...\"}, \"Suicide Blonde\": {\"frequency\": 16, \"value\": \"Suicide Blonde\"}, \"And the Band Played on: Politics, People, and the AIDS Epidemic\": {\"frequency\": 10, \"value\": \"And the Band ...\"}, \"Reading Lolita in Tehran: A Memoir in Books\": {\"frequency\": 27, \"value\": \"Reading Lolita in ...\"}, \"Chasing Cezanne\": {\"frequency\": 26, \"value\": \"Chasing Cezanne\"}, \"An Instance of the Fingerpost\": {\"frequency\": 39, \"value\": \"An Instance of the ...\"}, \"Conspiracy in Death\": {\"frequency\": 11, \"value\": \"Conspiracy in ...\"}, \"The Girl Who Heard Dragons\": {\"frequency\": 19, \"value\": \"The Girl Who Heard ...\"}, \"The Tortilla Curtain\": {\"frequency\": 36, \"value\": \"The Tortilla ...\"}, \"The Years of Rice and Salt\": {\"frequency\": 13, \"value\": \"The Years of Rice ...\"}, \"The River King\": {\"frequency\": 50, \"value\": \"The River King\"}, \"Hollywood Wives - The New Generation\": {\"frequency\": 19, \"value\": \"Hollywood Wives - ...\"}, \"The Gashlycrumb Tinies\": {\"frequency\": 11, \"value\": \"The Gashlycrumb ...\"}, \"The Devil in the White City: Murder, Magic, and Madness at the Fair that Changed America\": {\"frequency\": 16, \"value\": \"The Devil in the ...\"}, \"Giovanni's Room\": {\"frequency\": 9, \"value\": \"Giovanni's Room\"}, \"On Wings of Eagles\": {\"frequency\": 12, \"value\": \"On Wings of Eagles\"}, \"Touching Evil\": {\"frequency\": 29, \"value\": \"Touching Evil\"}, \"Tuesdays with Morrie: An Old Man, a Young Man, and Life's Greatest Lesson\": {\"frequency\": 50, \"value\": \"Tuesdays with ...\"}, \"Captain Underpants and the Invasion of the Incredibly Naughty Cafeteria Ladies from Outer Space\": {\"frequency\": 16, \"value\": \"Captain Underpants ...\"}, \"Expendable\": {\"frequency\": 12, \"value\": \"Expendable\"}, \"Dave Barry's Greatest Hits\": {\"frequency\": 10, \"value\": \"Dave Barry's ...\"}, \"A Place Called Freedom\": {\"frequency\": 20, \"value\": \"A Place Called ...\"}, \"Princess Charming\": {\"frequency\": 12, \"value\": \"Princess Charming\"}, \"Dark Guardian\": {\"frequency\": 17, \"value\": \"Dark Guardian\"}, \"This Boy's Life: A Memoir\": {\"frequency\": 12, \"value\": \"This Boy's Life: A ...\"}, \"The Fire Rose\": {\"frequency\": 10, \"value\": \"The Fire Rose\"}, \"Peace Like a River\": {\"frequency\": 73, \"value\": \"Peace Like a River\"}, \"Briar Rose\": {\"frequency\": 24, \"value\": \"Briar Rose\"}, \"Thoughts While Having Sex\": {\"frequency\": 12, \"value\": \"Thoughts While ...\"}, \"Cod: A Biography of the Fish That Changed the World\": {\"frequency\": 9, \"value\": \"Cod: A Biography ...\"}, \"Adventures of a Scottish Heiress\": {\"frequency\": 9, \"value\": \"Adventures of a ...\"}, \"Ravage\": {\"frequency\": 12, \"value\": \"Ravage\"}, \"The Amazing Maurice and His Educated Rodents\": {\"frequency\": 12, \"value\": \"The Amazing ...\"}, \"The Diamond Age\": {\"frequency\": 16, \"value\": \"The Diamond Age\"}, \"Wild Seed\": {\"frequency\": 9, \"value\": \"Wild Seed\"}, \"Timescape\": {\"frequency\": 10, \"value\": \"Timescape\"}, \"How to Cook a Tart\": {\"frequency\": 11, \"value\": \"How to Cook a Tart\"}, \"Mr. Perfect\": {\"frequency\": 43, \"value\": \"Mr. Perfect\"}, \"Savannah Blues\": {\"frequency\": 28, \"value\": \"Savannah Blues\"}, \"Et Si C'Etait Vrai / If This Were Only True\": {\"frequency\": 19, \"value\": \"Et Si C'Etait Vrai ...\"}, \"All Things Bright and Beautiful\": {\"frequency\": 20, \"value\": \"All Things Bright ...\"}, \"Blood Music\": {\"frequency\": 11, \"value\": \"Blood Music\"}, \"American Star\": {\"frequency\": 15, \"value\": \"American Star\"}, \"The Blind Assassin\": {\"frequency\": 102, \"value\": \"The Blind Assassin\"}, \"Something Wicked This Way Comes\": {\"frequency\": 29, \"value\": \"Something Wicked ...\"}, \"Tailchaser's Song\": {\"frequency\": 29, \"value\": \"Tailchaser's Song\"}, \"Carolina Moon\": {\"frequency\": 85, \"value\": \"Carolina Moon\"}, \"Xanth 13: Isle of View\": {\"frequency\": 14, \"value\": \"Xanth 13: Isle of ...\"}, \"She Who Remembers\": {\"frequency\": 13, \"value\": \"She Who Remembers\"}, \"Without Remorse\": {\"frequency\": 74, \"value\": \"Without Remorse\"}, \"Freak the Mighty\": {\"frequency\": 10, \"value\": \"Freak the Mighty\"}, \"Black Notice\": {\"frequency\": 131, \"value\": \"Black Notice\"}, \"The Knitting Sutra: Craft as a Spiritual Practice\": {\"frequency\": 10, \"value\": \"The Knitting ...\"}, \"Dead Eyes\": {\"frequency\": 18, \"value\": \"Dead Eyes\"}, \"Prince Joe\": {\"frequency\": 10, \"value\": \"Prince Joe\"}, \"The Note - A Novel -\": {\"frequency\": 12, \"value\": \"The Note - A Novel ...\"}, \"Osterman Weekend\": {\"frequency\": 9, \"value\": \"Osterman Weekend\"}, \"Crime School\": {\"frequency\": 12, \"value\": \"Crime School\"}, \"Affluenza: The All-Consuming Epidemic\": {\"frequency\": 9, \"value\": \"Affluenza: The ...\"}, \"Crystal Line\": {\"frequency\": 24, \"value\": \"Crystal Line\"}, \"Triggerfish Twist\": {\"frequency\": 20, \"value\": \"Triggerfish Twist\"}, \"In the Electric Mist with Confederate Dead\": {\"frequency\": 9, \"value\": \"In the Electric ...\"}, \"The Program\": {\"frequency\": 23, \"value\": \"The Program\"}, \"Attack Of The Deranged Mutant Killer Snow Goons\": {\"frequency\": 19, \"value\": \"Attack Of The ...\"}, \"Flamingo Diner\": {\"frequency\": 9, \"value\": \"Flamingo Diner\"}, \"The Tailor of Panama\": {\"frequency\": 22, \"value\": \"The Tailor of ...\"}, \"Three Wishes\": {\"frequency\": 25, \"value\": \"Three Wishes\"}, \"Snow Country\": {\"frequency\": 9, \"value\": \"Snow Country\"}, \"The Puzzle Bark Tree\": {\"frequency\": 10, \"value\": \"The Puzzle Bark ...\"}, \"Last Chance Saloon\": {\"frequency\": 54, \"value\": \"Last Chance Saloon\"}, \"The Two Mrs. Grenvilles\": {\"frequency\": 13, \"value\": \"The Two Mrs. ...\"}, \"In the Heart of the Sea: The Tragedy of the Whaleship Essex\": {\"frequency\": 41, \"value\": \"In the Heart of ...\"}, \"Blue Mars\": {\"frequency\": 10, \"value\": \"Blue Mars\"}, \"The Moviegoer\": {\"frequency\": 16, \"value\": \"The Moviegoer\"}, \"What to Eat When You're Expecting\": {\"frequency\": 10, \"value\": \"What to Eat When ...\"}, \"Bridget Jones. Am Rande des Wahnsinns.\": {\"frequency\": 13, \"value\": \"Bridget Jones. Am ...\"}, \"Saint Maybe\": {\"frequency\": 14, \"value\": \"Saint Maybe\"}, \"The Trials of Tiffany Trott\": {\"frequency\": 19, \"value\": \"The Trials of ...\"}, \"The Cat Who Went to Heaven\": {\"frequency\": 20, \"value\": \"The Cat Who Went ...\"}, \"Wake Up, I'm Fat!\": {\"frequency\": 11, \"value\": \"Wake Up, I'm Fat!\"}, \"Surrender My Love\": {\"frequency\": 11, \"value\": \"Surrender My Love\"}, \"Grand Avenue\": {\"frequency\": 34, \"value\": \"Grand Avenue\"}, \"Drinking, Smoking, and Screwing: Great Writers on Good Times\": {\"frequency\": 9, \"value\": \"Drinking, Smoking, ...\"}, \"01-01-00: The Novel of the Millennium\": {\"frequency\": 9, \"value\": \"01-01-00: The ...\"}, \"52 Deck Series: 52 Ways to Celebrate Friendship\": {\"frequency\": 16, \"value\": \"52 Deck Series: 52 ...\"}, \"The Falcon at the Portal: An Amelia Peabody Mystery\": {\"frequency\": 10, \"value\": \"The Falcon at the ...\"}, \"French Lessons: Adventures with Knife, Fork, and Corkscrew\": {\"frequency\": 10, \"value\": \"French Lessons: ...\"}, \"Just One Look\": {\"frequency\": 14, \"value\": \"Just One Look\"}, \"Getting Over Jack Wagner\": {\"frequency\": 16, \"value\": \"Getting Over Jack ...\"}, \"The Prodigal Daughter\": {\"frequency\": 9, \"value\": \"The Prodigal ...\"}, \"The Gripping Hand\": {\"frequency\": 9, \"value\": \"The Gripping Hand\"}, \"J. K. Rowling: The Wizard Behind Harry Potter\": {\"frequency\": 9, \"value\": \"J. K. Rowling: The ...\"}, \"Mariette in Ecstasy\": {\"frequency\": 14, \"value\": \"Mariette in ...\"}, \"Sullivan's Island: A Lowcountry Tale\": {\"frequency\": 26, \"value\": \"Sullivan's Island: ...\"}, \"Fast Food Nation\": {\"frequency\": 27, \"value\": \"Fast Food Nation\"}, \"The Lone Ranger and Tonto Fistfight in Heaven\": {\"frequency\": 28, \"value\": \"The Lone Ranger ...\"}, \"The Far Side Observer\": {\"frequency\": 19, \"value\": \"The Far Side ...\"}, \"Show of Evil\": {\"frequency\": 16, \"value\": \"Show of Evil\"}, \"Cry to Heaven\": {\"frequency\": 46, \"value\": \"Cry to Heaven\"}, \"Just for Fun: The Story of an Accidental Revolutionary\": {\"frequency\": 15, \"value\": \"Just for Fun: The ...\"}, \"Last Chapter and Worse\": {\"frequency\": 15, \"value\": \"Last Chapter and ...\"}, \"Primal Fear\": {\"frequency\": 16, \"value\": \"Primal Fear\"}, \"The Face of Fear\": {\"frequency\": 22, \"value\": \"The Face of Fear\"}, \"Mortal Prey\": {\"frequency\": 62, \"value\": \"Mortal Prey\"}, \"The Forge of God\": {\"frequency\": 9, \"value\": \"The Forge of God\"}, \"False Pretenses\": {\"frequency\": 18, \"value\": \"False Pretenses\"}, \"Potshot\": {\"frequency\": 12, \"value\": \"Potshot\"}, \"Me Talk Pretty One Day\": {\"frequency\": 218, \"value\": \"Me Talk Pretty One ...\"}, \"Politically Correct Holiday Stories: For an Enlightened Yuletide Season\": {\"frequency\": 17, \"value\": \"Politically ...\"}, \"The Policy\": {\"frequency\": 12, \"value\": \"The Policy\"}, \"Comme un roman\": {\"frequency\": 16, \"value\": \"Comme un roman\"}, \"The First Deadly Sin\": {\"frequency\": 12, \"value\": \"The First Deadly ...\"}, \"Charming Billy\": {\"frequency\": 54, \"value\": \"Charming Billy\"}, \"Hugger Mugger\": {\"frequency\": 13, \"value\": \"Hugger Mugger\"}, \"Old Yeller\": {\"frequency\": 15, \"value\": \"Old Yeller\"}, \"Annie's Baby: The Diary of Anonymous, a Pregnant Teenager\": {\"frequency\": 9, \"value\": \"Annie's Baby: The ...\"}, \"Der Regenmacher.\": {\"frequency\": 17, \"value\": \"Der Regenmacher.\"}, \"The Sum of All Fears\": {\"frequency\": 54, \"value\": \"The Sum of All ...\"}, \"Dave Barry's Book of Bad Songs\": {\"frequency\": 11, \"value\": \"Dave Barry's Book ...\"}, \"High Tide in Tucson: Essays from Now or Never\": {\"frequency\": 12, \"value\": \"High Tide in ...\"}, \"Cry for the Strangers\": {\"frequency\": 14, \"value\": \"Cry for the ...\"}, \"All He Ever Wanted\": {\"frequency\": 22, \"value\": \"All He Ever Wanted\"}, \"All Fall Down\": {\"frequency\": 12, \"value\": \"All Fall Down\"}, \"In Her Defense\": {\"frequency\": 10, \"value\": \"In Her Defense\"}, \"Beowulf: A New Verse Translation\": {\"frequency\": 10, \"value\": \"Beowulf: A New ...\"}, \"Flight of the Old Dog\": {\"frequency\": 10, \"value\": \"Flight of the Old ...\"}, \"Bodily Harm\": {\"frequency\": 10, \"value\": \"Bodily Harm\"}, \"The Four Loves\": {\"frequency\": 11, \"value\": \"The Four Loves\"}, \"How the Grinch Stole Christmas!\": {\"frequency\": 13, \"value\": \"How the Grinch ...\"}, \"Enders Game\": {\"frequency\": 13, \"value\": \"Enders Game\"}, \"Time for Bed\": {\"frequency\": 9, \"value\": \"Time for Bed\"}, \"Flashforward\": {\"frequency\": 15, \"value\": \"Flashforward\"}, \"Random Acts of Kindness\": {\"frequency\": 20, \"value\": \"Random Acts of ...\"}, \"Compelling Evidence\": {\"frequency\": 15, \"value\": \"Compelling ...\"}, \"A Treasure Worth Seeking\": {\"frequency\": 12, \"value\": \"A Treasure Worth ...\"}, \"Dragonsdawn\": {\"frequency\": 29, \"value\": \"Dragonsdawn\"}, \"Doomsday Book\": {\"frequency\": 36, \"value\": \"Doomsday Book\"}, \"Cause of Death\": {\"frequency\": 100, \"value\": \"Cause of Death\"}, \"Join Me\": {\"frequency\": 11, \"value\": \"Join Me\"}, \"The Man Who Planted Trees\": {\"frequency\": 9, \"value\": \"The Man Who ...\"}, \"The SEA HUNTERS\": {\"frequency\": 13, \"value\": \"The SEA HUNTERS\"}, \"Native Speaker\": {\"frequency\": 12, \"value\": \"Native Speaker\"}, \"Jacob Have I Loved\": {\"frequency\": 28, \"value\": \"Jacob Have I Loved\"}, \"Lives of the Monster Dogs\": {\"frequency\": 13, \"value\": \"Lives of the ...\"}, \"Paint It Black\": {\"frequency\": 9, \"value\": \"Paint It Black\"}, \"Das Parfum: Die Geschichte Eines Morders\": {\"frequency\": 30, \"value\": \"Das Parfum: Die ...\"}, \"The Phantom Tollbooth\": {\"frequency\": 59, \"value\": \"The Phantom ...\"}, \"The Three Musketeers\": {\"frequency\": 10, \"value\": \"The Three ...\"}, \"The Devil's Code\": {\"frequency\": 49, \"value\": \"The Devil's Code\"}, \"Enduring Love\": {\"frequency\": 13, \"value\": \"Enduring Love\"}, \"A Break with Charity: A Story about the Salem Witch Trials\": {\"frequency\": 10, \"value\": \"A Break with ...\"}, \"Rough Justice\": {\"frequency\": 16, \"value\": \"Rough Justice\"}, \"Grave Secrets\": {\"frequency\": 31, \"value\": \"Grave Secrets\"}, \"From Potter's Field\": {\"frequency\": 99, \"value\": \"From Potter's ...\"}, \"Reign in Hell\": {\"frequency\": 11, \"value\": \"Reign in Hell\"}, \"Bad Business\": {\"frequency\": 17, \"value\": \"Bad Business\"}, \"In Our Time\": {\"frequency\": 9, \"value\": \"In Our Time\"}, \"A Question of Blood\": {\"frequency\": 10, \"value\": \"A Question of ...\"}, \"Hinds' Feet on High Places\": {\"frequency\": 16, \"value\": \"Hinds' Feet on ...\"}, \"Cyanide Wells\": {\"frequency\": 12, \"value\": \"Cyanide Wells\"}, \"Almost Heaven\": {\"frequency\": 16, \"value\": \"Almost Heaven\"}, \"Ssn\": {\"frequency\": 10, \"value\": \"Ssn\"}, \"A Darkness More Than Night\": {\"frequency\": 55, \"value\": \"A Darkness More ...\"}, \"Steppenwolf\": {\"frequency\": 13, \"value\": \"Steppenwolf\"}, \"Homo Faber\": {\"frequency\": 17, \"value\": \"Homo Faber\"}, \"Where River Turns to Sky\": {\"frequency\": 11, \"value\": \"Where River Turns ...\"}, \"The Face of Deception\": {\"frequency\": 47, \"value\": \"The Face of ...\"}, \"The Client\": {\"frequency\": 189, \"value\": \"The Client\"}, \"Imajica\": {\"frequency\": 16, \"value\": \"Imajica\"}, \"Headwind\": {\"frequency\": 9, \"value\": \"Headwind\"}, \"Angels and Demons\": {\"frequency\": 11, \"value\": \"Angels and Demons\"}, \"Outfoxed\": {\"frequency\": 11, \"value\": \"Outfoxed\"}, \"A Prayer for Owen Meany\": {\"frequency\": 182, \"value\": \"A Prayer for Owen ...\"}, \"Vital Signs\": {\"frequency\": 16, \"value\": \"Vital Signs\"}, \"Lakota Woman\": {\"frequency\": 15, \"value\": \"Lakota Woman\"}, \"The Rebel Angels\": {\"frequency\": 11, \"value\": \"The Rebel Angels\"}, \"Welcome to Temptation\": {\"frequency\": 35, \"value\": \"Welcome to ...\"}, \"Decider\": {\"frequency\": 24, \"value\": \"Decider\"}, \"The Grey King\": {\"frequency\": 11, \"value\": \"The Grey King\"}, \"Fast Women\": {\"frequency\": 62, \"value\": \"Fast Women\"}, \"Stitches in Time\": {\"frequency\": 15, \"value\": \"Stitches in Time\"}, \"Half Asleep in Frog Pajamas\": {\"frequency\": 43, \"value\": \"Half Asleep in ...\"}, \"Daggerspell\": {\"frequency\": 9, \"value\": \"Daggerspell\"}, \"Captive Star\": {\"frequency\": 20, \"value\": \"Captive Star\"}, \"Home Song\": {\"frequency\": 25, \"value\": \"Home Song\"}, \"The Woman Who Walked into Doors\": {\"frequency\": 13, \"value\": \"The Woman Who ...\"}, \"Davita's Harp\": {\"frequency\": 12, \"value\": \"Davita's Harp\"}, \"Scuse Me While I Kiss This Guy\": {\"frequency\": 11, \"value\": \"Scuse Me While I ...\"}, \"Day of Confession\": {\"frequency\": 22, \"value\": \"Day of Confession\"}, \"Gods and Generals\": {\"frequency\": 20, \"value\": \"Gods and Generals\"}, \"The Ruby in the Smoke\": {\"frequency\": 16, \"value\": \"The Ruby in the ...\"}, \"The Kingdom by the Sea: A Journey Around the Coast of Great Britain\": {\"frequency\": 22, \"value\": \"The Kingdom by the ...\"}, \"Postmortem\": {\"frequency\": 72, \"value\": \"Postmortem\"}, \"The Seville Communion\": {\"frequency\": 17, \"value\": \"The Seville ...\"}, \"Falling Leaves Brit Edition\": {\"frequency\": 23, \"value\": \"Falling Leaves ...\"}, \"Halfway To Heaven\": {\"frequency\": 14, \"value\": \"Halfway To Heaven\"}, \"Kentucky Sunrise\": {\"frequency\": 17, \"value\": \"Kentucky Sunrise\"}, \"The Judge\": {\"frequency\": 28, \"value\": \"The Judge\"}, \"Far Side Gallery 2\": {\"frequency\": 15, \"value\": \"Far Side Gallery 2\"}, \"Blindsighted\": {\"frequency\": 27, \"value\": \"Blindsighted\"}, \"A God in Ruins\": {\"frequency\": 12, \"value\": \"A God in Ruins\"}, \"God-Shaped Hole\": {\"frequency\": 10, \"value\": \"God-Shaped Hole\"}, \"As the Crow Flies\": {\"frequency\": 17, \"value\": \"As the Crow Flies\"}, \"Picnic at Hanging Rock\": {\"frequency\": 10, \"value\": \"Picnic at Hanging ...\"}, \"Sis Boom Bah\": {\"frequency\": 11, \"value\": \"Sis Boom Bah\"}, \"Living History\": {\"frequency\": 19, \"value\": \"Living History\"}, \"Demon Seed\": {\"frequency\": 26, \"value\": \"Demon Seed\"}, \"Living Juicy: Daily Morsels for Your Creative Soul\": {\"frequency\": 10, \"value\": \"Living Juicy: ...\"}, \"The Curse of the Pharaohs\": {\"frequency\": 10, \"value\": \"The Curse of the ...\"}, \"Dave Barry's Guide to Guys: A Fairly Short Book\": {\"frequency\": 10, \"value\": \"Dave Barry's Guide ...\"}, \"Bunnicula: A Rabbit-Tale of Mystery\": {\"frequency\": 16, \"value\": \"Bunnicula: A ...\"}, \"Cause For Alarm\": {\"frequency\": 9, \"value\": \"Cause For Alarm\"}, \"It'S Obvious You Won'T Survive By Your Wits Alone\": {\"frequency\": 13, \"value\": \"It'S Obvious You ...\"}, \"The Edible Woman\": {\"frequency\": 16, \"value\": \"The Edible Woman\"}, \"Birdman\": {\"frequency\": 24, \"value\": \"Birdman\"}, \"The Color of Magic\": {\"frequency\": 45, \"value\": \"The Color of Magic\"}, \"The Hearing\": {\"frequency\": 31, \"value\": \"The Hearing\"}, \"Mrs. Dalloway\": {\"frequency\": 16, \"value\": \"Mrs. Dalloway\"}, \"English Passengers\": {\"frequency\": 10, \"value\": \"English Passengers\"}, \"A Moveable Feast\": {\"frequency\": 15, \"value\": \"A Moveable Feast\"}, \"Fermat's Enigma: The Epic Quest to Solve the World's Greatest Mathematical Problem\": {\"frequency\": 9, \"value\": \"Fermat's Enigma: ...\"}, \"In the Kitchen With Rosie: Oprah's Favorite Recipes\": {\"frequency\": 18, \"value\": \"In the Kitchen ...\"}, \"All over but the Shoutin'\": {\"frequency\": 24, \"value\": \"All over but the ...\"}, \"She Said Yes: The Unlikely Martyrdom of Cassie Bernall\": {\"frequency\": 17, \"value\": \"She Said Yes: The ...\"}, \"Midnight In the Garden of Good and Evil\": {\"frequency\": 18, \"value\": \"Midnight In the ...\"}, \"After Twilight\": {\"frequency\": 11, \"value\": \"After Twilight\"}, \"The Key to Midnight\": {\"frequency\": 29, \"value\": \"The Key to ...\"}, \"Hidden Riches\": {\"frequency\": 21, \"value\": \"Hidden Riches\"}, \"The Adventures of Huckleberry Finn\": {\"frequency\": 11, \"value\": \"The Adventures of ...\"}, \"Disappearing Acts\": {\"frequency\": 17, \"value\": \"Disappearing Acts\"}, \"I Thought My Father Was God: And Other True Tales from NPR's National Story Project\": {\"frequency\": 11, \"value\": \"I Thought My ...\"}, \"Stone Kiss\": {\"frequency\": 19, \"value\": \"Stone Kiss\"}, \"The Beach House\": {\"frequency\": 189, \"value\": \"The Beach House\"}, \"The Bad Place\": {\"frequency\": 48, \"value\": \"The Bad Place\"}, \"Felidae. Roman.\": {\"frequency\": 21, \"value\": \"Felidae. Roman.\"}, \"To Love Again\": {\"frequency\": 19, \"value\": \"To Love Again\"}, \"Honourable Schoolboy\": {\"frequency\": 10, \"value\": \"Honourable ...\"}, \"The Scorpio Illusion\": {\"frequency\": 17, \"value\": \"The Scorpio ...\"}, \"Fatal Voyage\": {\"frequency\": 52, \"value\": \"Fatal Voyage\"}, \"All-American Girl\": {\"frequency\": 23, \"value\": \"All-American Girl\"}, \"Longitude: The True Story of a Lone Genius Who Solved the Greatest Scientific Problem of His Time\": {\"frequency\": 27, \"value\": \"Longitude: The ...\"}, \"Memories of Midnight\": {\"frequency\": 26, \"value\": \"Memories of ...\"}, \"Gossip Hound\": {\"frequency\": 11, \"value\": \"Gossip Hound\"}, \"Nuts! Southwest Airlines' Crazy Recipe for Business and Personal Success\": {\"frequency\": 9, \"value\": \"Nuts! Southwest ...\"}, \"Honor Among Thieves\": {\"frequency\": 13, \"value\": \"Honor Among ...\"}, \"Darwin's Radio\": {\"frequency\": 37, \"value\": \"Darwin's Radio\"}, \"Cold Blooded\": {\"frequency\": 15, \"value\": \"Cold Blooded\"}, \"Horse Heaven\": {\"frequency\": 10, \"value\": \"Horse Heaven\"}, \"Travels With Charley: In Search of America\": {\"frequency\": 30, \"value\": \"Travels With ...\"}, \"Certain Prey\": {\"frequency\": 48, \"value\": \"Certain Prey\"}, \"Once upon a More Enlightened Time: More Politically Correct Bedtime Stories\": {\"frequency\": 33, \"value\": \"Once upon a More ...\"}, \"Dirk Gently's Holistic Detective Agency\": {\"frequency\": 54, \"value\": \"Dirk Gently's ...\"}, \"Clan of the Cave Bear\": {\"frequency\": 14, \"value\": \"Clan of the Cave ...\"}, \"Word Freak: Heartbreak, Triumph, Genius, and Obsession in the World of Competitive Scrabble Players\": {\"frequency\": 45, \"value\": \"Word Freak: ...\"}, \"Interpreter of Maladies\": {\"frequency\": 79, \"value\": \"Interpreter of ...\"}, \"Race Against Time\": {\"frequency\": 13, \"value\": \"Race Against Time\"}, \"Weirdos From Another Planet!\": {\"frequency\": 25, \"value\": \"Weirdos From ...\"}, \"Acid Row\": {\"frequency\": 14, \"value\": \"Acid Row\"}, \"\\\"Surely You're Joking, Mr. Feynman!\\\": Adventures of a Curious Character\": {\"frequency\": 28, \"value\": \"\\\"Surely You're ...\"}, \"The Season of Passage\": {\"frequency\": 9, \"value\": \"The Season of ...\"}, \"Nine Princes In Amber\": {\"frequency\": 17, \"value\": \"Nine Princes In ...\"}, \"The Red Queen: Sex and the Evolution of Human Nature\": {\"frequency\": 9, \"value\": \"The Red Queen: Sex ...\"}, \"Lucy Sullivan Is Getting Married\": {\"frequency\": 31, \"value\": \"Lucy Sullivan Is ...\"}, \"The Sigma Protocol\": {\"frequency\": 44, \"value\": \"The Sigma Protocol\"}, \"Callahan's Lady\": {\"frequency\": 9, \"value\": \"Callahan's Lady\"}, \"For the Roses\": {\"frequency\": 23, \"value\": \"For the Roses\"}, \"Afternoon of the Elves\": {\"frequency\": 10, \"value\": \"Afternoon of the ...\"}, \"The Further Observations of Lady Whistledown\": {\"frequency\": 13, \"value\": \"The Further ...\"}, \"Take Care of Yourself: The Complete Illustrated Guide to Medical Self-Care\": {\"frequency\": 9, \"value\": \"Take Care of ...\"}, \"Bridge to Terabithia\": {\"frequency\": 48, \"value\": \"Bridge to ...\"}, \"Running from the Law\": {\"frequency\": 16, \"value\": \"Running from the ...\"}, \"Red Storm Rising\": {\"frequency\": 55, \"value\": \"Red Storm Rising\"}, \"Nordermoor\": {\"frequency\": 10, \"value\": \"Nordermoor\"}, \"Eat Right for Your Type\": {\"frequency\": 10, \"value\": \"Eat Right for Your ...\"}, \"A Thin Dark Line\": {\"frequency\": 10, \"value\": \"A Thin Dark Line\"}, \"Obasan\": {\"frequency\": 31, \"value\": \"Obasan\"}, \"Fifty Acres and a Poodle: A Story of Love, Livestock, and Finding Myself on a Farm\": {\"frequency\": 10, \"value\": \"Fifty Acres and a ...\"}, \"To the Hilt\": {\"frequency\": 27, \"value\": \"To the Hilt\"}, \"The Map of Love\": {\"frequency\": 26, \"value\": \"The Map of Love\"}, \"2001: A Space Odyssey\": {\"frequency\": 13, \"value\": \"2001: A Space ...\"}, \"On Mystic Lake\": {\"frequency\": 27, \"value\": \"On Mystic Lake\"}, \"Obsidian Butterfly\": {\"frequency\": 25, \"value\": \"Obsidian Butterfly\"}, \"Ender's Game\": {\"frequency\": 14, \"value\": \"Ender's Game\"}, \"Spring Collection\": {\"frequency\": 12, \"value\": \"Spring Collection\"}, \"Mr. Maybe\": {\"frequency\": 51, \"value\": \"Mr. Maybe\"}, \"The Drowning People\": {\"frequency\": 16, \"value\": \"The Drowning ...\"}, \"The Power of Now: A Guide to Spiritual Enlightenment\": {\"frequency\": 11, \"value\": \"The Power of Now: ...\"}, \"The Horse and His Boy\": {\"frequency\": 27, \"value\": \"The Horse and His ...\"}, \"The Dress Lodger\": {\"frequency\": 15, \"value\": \"The Dress Lodger\"}, \"The Partly Cloudy Patriot\": {\"frequency\": 12, \"value\": \"The Partly Cloudy ...\"}, \"Night Gardening\": {\"frequency\": 10, \"value\": \"Night Gardening\"}, \"Black Like Me\": {\"frequency\": 26, \"value\": \"Black Like Me\"}, \"Everywhere That Mary Went\": {\"frequency\": 12, \"value\": \"Everywhere That ...\"}, \"Twice Shy\": {\"frequency\": 17, \"value\": \"Twice Shy\"}, \"The Solitaire Mystery\": {\"frequency\": 13, \"value\": \"The Solitaire ...\"}, \"Eager to Please\": {\"frequency\": 10, \"value\": \"Eager to Please\"}, \"A Fine Balance\": {\"frequency\": 63, \"value\": \"A Fine Balance\"}, \"The Traveling Vampire Show\": {\"frequency\": 10, \"value\": \"The Traveling ...\"}, \"I Dreamed of Africa\": {\"frequency\": 15, \"value\": \"I Dreamed of ...\"}, \"Last Chance to See\": {\"frequency\": 12, \"value\": \"Last Chance to See\"}, \"Lady Chatterley's Lover: Complete and Unexpurgated 1928 Orioli Edition\": {\"frequency\": 17, \"value\": \"Lady Chatterley's ...\"}, \"Fantasy Lover\": {\"frequency\": 17, \"value\": \"Fantasy Lover\"}, \"A Song for Arbonne\": {\"frequency\": 14, \"value\": \"A Song for Arbonne\"}, \"Dearly Beloved\": {\"frequency\": 10, \"value\": \"Dearly Beloved\"}, \"The Crush\": {\"frequency\": 34, \"value\": \"The Crush\"}, \"The Regulators\": {\"frequency\": 62, \"value\": \"The Regulators\"}, \"Betrayal in Death\": {\"frequency\": 28, \"value\": \"Betrayal in Death\"}, \"I'm Not Really Here\": {\"frequency\": 25, \"value\": \"I'm Not Really ...\"}, \"The Firm\": {\"frequency\": 224, \"value\": \"The Firm\"}, \"Under Fire\": {\"frequency\": 9, \"value\": \"Under Fire\"}, \"Turtle Moon\": {\"frequency\": 39, \"value\": \"Turtle Moon\"}, \"Journey of Souls: Case Studies of Life Between Lives\": {\"frequency\": 9, \"value\": \"Journey of Souls: ...\"}, \"Dark Symphony\": {\"frequency\": 15, \"value\": \"Dark Symphony\"}, \"Slammerkin\": {\"frequency\": 41, \"value\": \"Slammerkin\"}, \"Beauty's Release\": {\"frequency\": 12, \"value\": \"Beauty's Release\"}, \"Meditations for Women Who Do Too Much - 10th Anniversary\": {\"frequency\": 12, \"value\": \"Meditations for ...\"}, \"Anthem\": {\"frequency\": 37, \"value\": \"Anthem\"}, \"Letters for Emily\": {\"frequency\": 18, \"value\": \"Letters for Emily\"}, \"The Mammy\": {\"frequency\": 23, \"value\": \"The Mammy\"}, \"Chopping Spree\": {\"frequency\": 22, \"value\": \"Chopping Spree\"}, \"Ella Minnow Pea: A Progressively Lipogrammatic Epistolary Fable\": {\"frequency\": 13, \"value\": \"Ella Minnow Pea: A ...\"}, \"Witch Child\": {\"frequency\": 23, \"value\": \"Witch Child\"}, \"Deep Fathom\": {\"frequency\": 10, \"value\": \"Deep Fathom\"}, \"I'M Not Anti-Business, I'M Anti-Idiot-Dilbert\": {\"frequency\": 9, \"value\": \"I'M Not Anti- ...\"}, \"The 13th Juror\": {\"frequency\": 12, \"value\": \"The 13th Juror\"}, \"Como Agua Para Chocolate/Like Water for Chocolate\": {\"frequency\": 11, \"value\": \"Como Agua Para ...\"}, \"The Phantom of Manhattan\": {\"frequency\": 13, \"value\": \"The Phantom of ...\"}, \"Island of the Aunts\": {\"frequency\": 10, \"value\": \"Island of the ...\"}, \"Brat Farrar\": {\"frequency\": 11, \"value\": \"Brat Farrar\"}, \"The Dream of Scipio\": {\"frequency\": 16, \"value\": \"The Dream of ...\"}, \"I Heard the Owl Call My Name\": {\"frequency\": 20, \"value\": \"I Heard the Owl ...\"}, \"Tis: A Memoir\": {\"frequency\": 56, \"value\": \"Tis: A Memoir\"}, \"Under the Lake\": {\"frequency\": 11, \"value\": \"Under the Lake\"}, \"Rising Tides\": {\"frequency\": 36, \"value\": \"Rising Tides\"}, \"Ham on Rye\": {\"frequency\": 11, \"value\": \"Ham on Rye\"}, \"The Rules of Attraction\": {\"frequency\": 17, \"value\": \"The Rules of ...\"}, \"Chang and Eng\": {\"frequency\": 15, \"value\": \"Chang and Eng\"}, \"The Cat Who Saw Stars\": {\"frequency\": 15, \"value\": \"The Cat Who Saw ...\"}, \"R is for Ricochet\": {\"frequency\": 15, \"value\": \"R is for Ricochet\"}, \"Thicker Than Water\": {\"frequency\": 14, \"value\": \"Thicker Than Water\"}, \"Beach Music\": {\"frequency\": 64, \"value\": \"Beach Music\"}, \"The 7 Habits Of Highly Effective Teens\": {\"frequency\": 19, \"value\": \"The 7 Habits Of ...\"}, \"Brothel: Mustang Ranch and Its Women\": {\"frequency\": 18, \"value\": \"Brothel: Mustang ...\"}, \"The Night the Bear Ate Goombaw\": {\"frequency\": 11, \"value\": \"The Night the Bear ...\"}, \"Fugitive Nights\": {\"frequency\": 10, \"value\": \"Fugitive Nights\"}, \"A Woman of Substance\": {\"frequency\": 10, \"value\": \"A Woman of ...\"}, \"Dude, Where's My Country?\": {\"frequency\": 91, \"value\": \"Dude, Where's My ...\"}, \"Chicken Soup for the Cat and Dog Lover's Soul - Celebrating Pets as Family with Stories About Cats, Dogs and Other Critters\": {\"frequency\": 21, \"value\": \"Chicken Soup for ...\"}, \"L'Ecume Des Jours\": {\"frequency\": 12, \"value\": \"L'Ecume Des Jours\"}, \"Don't Stand Too Close to a Naked Man\": {\"frequency\": 52, \"value\": \"Don't Stand Too ...\"}, \"I Capture the Castle\": {\"frequency\": 64, \"value\": \"I Capture the ...\"}, \"Les Fourmis\": {\"frequency\": 21, \"value\": \"Les Fourmis\"}, \"Animal Farm\": {\"frequency\": 120, \"value\": \"Animal Farm\"}, \"Fingersmith\": {\"frequency\": 38, \"value\": \"Fingersmith\"}, \"The Lady and the Unicorn\": {\"frequency\": 13, \"value\": \"The Lady and the ...\"}, \"Petals on the River\": {\"frequency\": 9, \"value\": \"Petals on the ...\"}, \"Dragons of Winter Night\": {\"frequency\": 11, \"value\": \"Dragons of Winter ...\"}, \"All I Need Is You\": {\"frequency\": 15, \"value\": \"All I Need Is You\"}, \"Cause Celeb\": {\"frequency\": 26, \"value\": \"Cause Celeb\"}, \"El caballero de la armadura oxidada\": {\"frequency\": 15, \"value\": \"El caballero de la ...\"}, \"Little Men\": {\"frequency\": 11, \"value\": \"Little Men\"}, \"Catkin\": {\"frequency\": 10, \"value\": \"Catkin\"}, \"The Bourne Identity\": {\"frequency\": 74, \"value\": \"The Bourne ...\"}, \"In Contempt\": {\"frequency\": 9, \"value\": \"In Contempt\"}, \"The Future Scrolls\": {\"frequency\": 12, \"value\": \"The Future Scrolls\"}, \"The Cat Who Said Cheese\": {\"frequency\": 29, \"value\": \"The Cat Who Said ...\"}, \"So Many Books, So Little Time: A Year of Passionate Reading\": {\"frequency\": 19, \"value\": \"So Many Books, So ...\"}, \"To the Lighthouse\": {\"frequency\": 35, \"value\": \"To the Lighthouse\"}, \"The Locket\": {\"frequency\": 12, \"value\": \"The Locket\"}, \"An Underachiever's Diary\": {\"frequency\": 14, \"value\": \"An Underachiever's ...\"}, \"Dangerous to Know\": {\"frequency\": 17, \"value\": \"Dangerous to Know\"}, \"Vet in harness\": {\"frequency\": 9, \"value\": \"Vet in harness\"}, \"More Scary Stories To Tell In The Dark\": {\"frequency\": 9, \"value\": \"More Scary Stories ...\"}, \"The Hotel New Hampshire\": {\"frequency\": 17, \"value\": \"The Hotel New ...\"}, \"The Tommyknockers\": {\"frequency\": 97, \"value\": \"The Tommyknockers\"}, \"Neue Leiden Des Jungen\": {\"frequency\": 11, \"value\": \"Neue Leiden Des ...\"}, \"Howards End\": {\"frequency\": 10, \"value\": \"Howards End\"}, \"Shade's Children\": {\"frequency\": 13, \"value\": \"Shade's Children\"}, \"M Is for Malice\": {\"frequency\": 45, \"value\": \"M Is for Malice\"}, \"Clear Your Clutter With Feng Shui\": {\"frequency\": 9, \"value\": \"Clear Your Clutter ...\"}, \"Ender's Shadow\": {\"frequency\": 29, \"value\": \"Ender's Shadow\"}, \"The Professor and the Madman\": {\"frequency\": 34, \"value\": \"The Professor and ...\"}, \"Eyes of the Dragon\": {\"frequency\": 39, \"value\": \"Eyes of the Dragon\"}, \"Vixen 03\": {\"frequency\": 14, \"value\": \"Vixen 03\"}, \"Dogbert's Top Secret Management Handbook\": {\"frequency\": 15, \"value\": \"Dogbert's Top ...\"}, \"Thin Air\": {\"frequency\": 19, \"value\": \"Thin Air\"}, \"Courage Tree\": {\"frequency\": 9, \"value\": \"Courage Tree\"}, \"Naked Prey\": {\"frequency\": 23, \"value\": \"Naked Prey\"}, \"She Loves Me Not\": {\"frequency\": 11, \"value\": \"She Loves Me Not\"}, \"The Hunt for Red October\": {\"frequency\": 79, \"value\": \"The Hunt for Red ...\"}, \"Eine Frau, Eine Wohnung, Ein Roman\": {\"frequency\": 10, \"value\": \"Eine Frau, Eine ...\"}, \"3001: The Final Odyssey\": {\"frequency\": 13, \"value\": \"3001: The Final ...\"}, \"Beyond Civilization: Humanity's Next Great Adventure\": {\"frequency\": 13, \"value\": \"Beyond ...\"}, \"Burning The Map\": {\"frequency\": 14, \"value\": \"Burning The Map\"}, \"Like Silk\": {\"frequency\": 10, \"value\": \"Like Silk\"}, \"The Tenth Justice\": {\"frequency\": 23, \"value\": \"The Tenth Justice\"}, \"Patty Jane's House of Curl\": {\"frequency\": 24, \"value\": \"Patty Jane's House ...\"}, \"The Sands of Time\": {\"frequency\": 17, \"value\": \"The Sands of Time\"}, \"The Gate to Women's Country\": {\"frequency\": 18, \"value\": \"The Gate to ...\"}, \"Biblioholism: The Literary Addiction\": {\"frequency\": 14, \"value\": \"Biblioholism: The ...\"}, \"The Deadhouse\": {\"frequency\": 14, \"value\": \"The Deadhouse\"}, \"Body of Evidence\": {\"frequency\": 24, \"value\": \"Body of Evidence\"}, \"A Child Called \\\"It\\\": One Child's Courage to Survive\": {\"frequency\": 136, \"value\": \"A Child Called ...\"}, \"Strip Tease\": {\"frequency\": 29, \"value\": \"Strip Tease\"}, \"The Cat Who Went up the Creek\": {\"frequency\": 21, \"value\": \"The Cat Who Went ...\"}, \"Wilderness Tips\": {\"frequency\": 13, \"value\": \"Wilderness Tips\"}, \"The Namesake\": {\"frequency\": 18, \"value\": \"The Namesake\"}, \"Polaroids from the Dead\": {\"frequency\": 11, \"value\": \"Polaroids from the ...\"}, \"Nectar in a Sieve\": {\"frequency\": 9, \"value\": \"Nectar in a Sieve\"}, \"Wlt: A Radio Romance\": {\"frequency\": 13, \"value\": \"Wlt: A Radio ...\"}, \"Encore Provence\": {\"frequency\": 9, \"value\": \"Encore Provence\"}, \"Salt: A World History\": {\"frequency\": 12, \"value\": \"Salt: A World ...\"}, \"\\\"O\\\" Is for Outlaw\": {\"frequency\": 42, \"value\": \"\\\"O\\\" Is for Outlaw\"}, \"Go Ask Alice\": {\"frequency\": 55, \"value\": \"Go Ask Alice\"}, \"Singer from the Sea\": {\"frequency\": 9, \"value\": \"Singer from the ...\"}, \"The Joy Luck Club\": {\"frequency\": 208, \"value\": \"The Joy Luck Club\"}, \"Harry Potter and the Chamber of Secrets Postcard Book\": {\"frequency\": 23, \"value\": \"Harry Potter and ...\"}, \"Arranged Marriage: Stories\": {\"frequency\": 13, \"value\": \"Arranged Marriage: ...\"}, \"The Farmer's Wife\": {\"frequency\": 12, \"value\": \"The Farmer's Wife\"}, \"Realm of Shadows\": {\"frequency\": 14, \"value\": \"Realm of Shadows\"}, \"Track of the Cat\": {\"frequency\": 9, \"value\": \"Track of the Cat\"}, \"Cutwork\": {\"frequency\": 10, \"value\": \"Cutwork\"}, \"Freedom's Challenge\": {\"frequency\": 13, \"value\": \"Freedom's ...\"}, \"Are You My Mother?\": {\"frequency\": 12, \"value\": \"Are You My Mother?\"}, \"The White Bone\": {\"frequency\": 10, \"value\": \"The White Bone\"}, \"Palindrome\": {\"frequency\": 13, \"value\": \"Palindrome\"}, \"The Loop\": {\"frequency\": 58, \"value\": \"The Loop\"}, \"A Simple Plan\": {\"frequency\": 31, \"value\": \"A Simple Plan\"}, \"Charm School\": {\"frequency\": 9, \"value\": \"Charm School\"}, \"Interest of Justice\": {\"frequency\": 12, \"value\": \"Interest of ...\"}, \"The Vineyard\": {\"frequency\": 36, \"value\": \"The Vineyard\"}, \"The Einstein Papers\": {\"frequency\": 9, \"value\": \"The Einstein ...\"}, \"The Guest List\": {\"frequency\": 12, \"value\": \"The Guest List\"}, \"One Child\": {\"frequency\": 12, \"value\": \"One Child\"}, \"Isle of Dogs\": {\"frequency\": 106, \"value\": \"Isle of Dogs\"}, \"Close to Shore: A True Story of Terror in an Age of Innocence\": {\"frequency\": 9, \"value\": \"Close to Shore: A ...\"}, \"Battle Born\": {\"frequency\": 11, \"value\": \"Battle Born\"}, \"One Hit Wonderland\": {\"frequency\": 15, \"value\": \"One Hit Wonderland\"}, \"Glory in Death\": {\"frequency\": 21, \"value\": \"Glory in Death\"}, \"How to Murder a Millionaire\": {\"frequency\": 18, \"value\": \"How to Murder a ...\"}, \"No Second  Chance\": {\"frequency\": 33, \"value\": \"No Second  Chance\"}, \"Debout les morts\": {\"frequency\": 12, \"value\": \"Debout les morts\"}, \"Rachel's Holiday\": {\"frequency\": 39, \"value\": \"Rachel's Holiday\"}, \"Dry: A Memoir\": {\"frequency\": 23, \"value\": \"Dry: A Memoir\"}, \"Chicken Soup for the Unsinkable Soul - Stories of Triumphing Over Life's Obstacles\": {\"frequency\": 11, \"value\": \"Chicken Soup for ...\"}, \"Suspicion of Malice\": {\"frequency\": 9, \"value\": \"Suspicion of ...\"}, \"Walking to Mercury\": {\"frequency\": 10, \"value\": \"Walking to Mercury\"}, \"A Share in Death\": {\"frequency\": 11, \"value\": \"A Share in Death\"}, \"After Life\": {\"frequency\": 9, \"value\": \"After Life\"}, \"The Girl Who Loved Tom Gordon\": {\"frequency\": 99, \"value\": \"The Girl Who Loved ...\"}, \"Harry Potter und die Kammer des Schreckens\": {\"frequency\": 11, \"value\": \"Harry Potter und ...\"}, \"The Case for Christ:  A Journalist's Personal Investigation of the Evidence for Jesus\": {\"frequency\": 17, \"value\": \"The Case for ...\"}, \"Happy Trails\": {\"frequency\": 11, \"value\": \"Happy Trails\"}, \"Ralph's Party\": {\"frequency\": 30, \"value\": \"Ralph's Party\"}, \"Choke\": {\"frequency\": 27, \"value\": \"Choke\"}, \"Bookends\": {\"frequency\": 19, \"value\": \"Bookends\"}, \"We're Right, They're Wrong: A Handbook for Spirited Progressives\": {\"frequency\": 9, \"value\": \"We're Right, ...\"}, \"When Rabbit Howls\": {\"frequency\": 23, \"value\": \"When Rabbit Howls\"}, \"Three Fates\": {\"frequency\": 85, \"value\": \"Three Fates\"}, \"Dhampir\": {\"frequency\": 9, \"value\": \"Dhampir\"}, \"The Whipping Boy\": {\"frequency\": 12, \"value\": \"The Whipping Boy\"}, \"When Did Ignorance Become A Point Of View\": {\"frequency\": 10, \"value\": \"When Did Ignorance ...\"}, \"Strange Highways\": {\"frequency\": 26, \"value\": \"Strange Highways\"}, \"Tell No One\": {\"frequency\": 92, \"value\": \"Tell No One\"}, \"Shadow Prey\": {\"frequency\": 22, \"value\": \"Shadow Prey\"}, \"The Undertaker's Widow\": {\"frequency\": 16, \"value\": \"The Undertaker's ...\"}, \"Succulent Wild Woman\": {\"frequency\": 31, \"value\": \"Succulent Wild ...\"}, \"The Outlaws of Sherwood\": {\"frequency\": 15, \"value\": \"The Outlaws of ...\"}, \"Keeper of the Heart\": {\"frequency\": 12, \"value\": \"Keeper of the ...\"}, \"The Secret Garden\": {\"frequency\": 70, \"value\": \"The Secret Garden\"}, \"Legacy of Silence\": {\"frequency\": 22, \"value\": \"Legacy of Silence\"}, \"Canticle for Leibowitz\": {\"frequency\": 10, \"value\": \"Canticle for ...\"}, \"Quelqu'un d'autre\": {\"frequency\": 9, \"value\": \"Quelqu'un d'autre\"}, \"Pop Goes the Weasel\": {\"frequency\": 110, \"value\": \"Pop Goes the ...\"}, \"The Once and Future King\": {\"frequency\": 29, \"value\": \"The Once and ...\"}, \"The Summerhouse\": {\"frequency\": 78, \"value\": \"The Summerhouse\"}, \"Princess: A True Story of Life Behind the Veil in Saudi Arabia\": {\"frequency\": 36, \"value\": \"Princess: A True ...\"}, \"Night Whispers\": {\"frequency\": 40, \"value\": \"Night Whispers\"}, \"Novocento, Un Monologo\": {\"frequency\": 21, \"value\": \"Novocento, Un ...\"}, \"Sin Killer\": {\"frequency\": 9, \"value\": \"Sin Killer\"}, \"The Pelican Brief\": {\"frequency\": 175, \"value\": \"The Pelican Brief\"}, \"The Highlander's Touch\": {\"frequency\": 10, \"value\": \"The Highlander's ...\"}, \"The Cat and the Curmudgeon\": {\"frequency\": 10, \"value\": \"The Cat and the ...\"}, \"iI Paradiso Degli Orchi\": {\"frequency\": 17, \"value\": \"iI Paradiso Degli ...\"}, \"Four Blind Mice\": {\"frequency\": 104, \"value\": \"Four Blind Mice\"}, \"Murder on a Girls' Night Out: A Southern Sisters Mystery\": {\"frequency\": 18, \"value\": \"Murder on a Girls' ...\"}, \"Extension Du Domain De La Lutte\": {\"frequency\": 12, \"value\": \"Extension Du ...\"}, \"Cold Paradise\": {\"frequency\": 9, \"value\": \"Cold Paradise\"}, \"Killer Pancake\": {\"frequency\": 24, \"value\": \"Killer Pancake\"}, \"An Unwilling Bride\": {\"frequency\": 9, \"value\": \"An Unwilling Bride\"}, \"Other People's Children\": {\"frequency\": 10, \"value\": \"Other People's ...\"}, \"Under the Skin\": {\"frequency\": 11, \"value\": \"Under the Skin\"}, \"Creative Companion: How to Free Your Creative Spirit\": {\"frequency\": 14, \"value\": \"Creative ...\"}, \"Book Lust: Recommended Reading for Every Mood, Moment, and Reason\": {\"frequency\": 18, \"value\": \"Book Lust: ...\"}, \"A Tree Grows in Brooklyn\": {\"frequency\": 41, \"value\": \"A Tree Grows in ...\"}, \"Nothing Lasts Forever\": {\"frequency\": 31, \"value\": \"Nothing Lasts ...\"}, \"The Heiress\": {\"frequency\": 13, \"value\": \"The Heiress\"}, \"Dharma Bums\": {\"frequency\": 26, \"value\": \"Dharma Bums\"}, \"Falling Leaves: The True Story of an Unwanted Chinese Daughter\": {\"frequency\": 28, \"value\": \"Falling Leaves: ...\"}, \"Escape the Night\": {\"frequency\": 10, \"value\": \"Escape the Night\"}, \"Thank You for Smoking\": {\"frequency\": 11, \"value\": \"Thank You for ...\"}, \"The Stars Shine Down\": {\"frequency\": 29, \"value\": \"The Stars Shine ...\"}, \"House of Smoke\": {\"frequency\": 9, \"value\": \"House of Smoke\"}, \"Road to Wellville\": {\"frequency\": 9, \"value\": \"Road to Wellville\"}, \"It Had to Be You\": {\"frequency\": 10, \"value\": \"It Had to Be You\"}, \"A Cook's Tour\": {\"frequency\": 10, \"value\": \"A Cook's Tour\"}, \"A History of God: The 4,000-Year Quest of Judaism, Christianity and Islam\": {\"frequency\": 9, \"value\": \"A History of God: ...\"}, \"The Dominant Blonde\": {\"frequency\": 13, \"value\": \"The Dominant ...\"}, \"Tidings of Great Joy\": {\"frequency\": 11, \"value\": \"Tidings of Great ...\"}, \"City of the Beasts\": {\"frequency\": 15, \"value\": \"City of the Beasts\"}, \"The Eyes of the Dragon\": {\"frequency\": 56, \"value\": \"The Eyes of the ...\"}, \"The Man Who Ate the 747\": {\"frequency\": 34, \"value\": \"The Man Who Ate ...\"}, \"The Dirty Duck\": {\"frequency\": 10, \"value\": \"The Dirty Duck\"}, \"Moreta: Dragonlady of Pern\": {\"frequency\": 26, \"value\": \"Moreta: Dragonlady ...\"}, \"Jemima J.\": {\"frequency\": 11, \"value\": \"Jemima J.\"}, \"The A.B.C. Murders\": {\"frequency\": 9, \"value\": \"The A.B.C. Murders\"}, \"Human Stain\": {\"frequency\": 10, \"value\": \"Human Stain\"}, \"Bleachers\": {\"frequency\": 74, \"value\": \"Bleachers\"}, \"Sons and Lovers\": {\"frequency\": 10, \"value\": \"Sons and Lovers\"}, \"Feuerkind. Thriller.\": {\"frequency\": 11, \"value\": \"Feuerkind. ...\"}, \"Night Prey\": {\"frequency\": 29, \"value\": \"Night Prey\"}, \"When the Bough Breaks\": {\"frequency\": 12, \"value\": \"When the Bough ...\"}, \"Maus a Survivors Tale: My Father Bleeds History\": {\"frequency\": 17, \"value\": \"Maus a Survivors ...\"}, \"Deep Midnight\": {\"frequency\": 9, \"value\": \"Deep Midnight\"}, \"Black Hawk Down: A Story of Modern War\": {\"frequency\": 30, \"value\": \"Black Hawk Down: A ...\"}, \"Brother to Dragons, Companion to Owls\": {\"frequency\": 9, \"value\": \"Brother to ...\"}, \"The Cat Who Moved a Mountain\": {\"frequency\": 18, \"value\": \"The Cat Who Moved ...\"}, \"The Serpent's Shadow\": {\"frequency\": 11, \"value\": \"The Serpent's ...\"}, \"Dark Legend\": {\"frequency\": 12, \"value\": \"Dark Legend\"}, \"The Angel of Darkness\": {\"frequency\": 66, \"value\": \"The Angel of ...\"}, \"Little Town on the Prairie\": {\"frequency\": 11, \"value\": \"Little Town on the ...\"}, \"A Day No Pigs Would Die\": {\"frequency\": 10, \"value\": \"A Day No Pigs ...\"}, \"The Brimstone Wedding\": {\"frequency\": 13, \"value\": \"The Brimstone ...\"}, \"Dream Country\": {\"frequency\": 31, \"value\": \"Dream Country\"}, \"Inconceivable\": {\"frequency\": 20, \"value\": \"Inconceivable\"}, \"The Ultimate Weight Solution: The 7 Keys to Weight Loss Freedom\": {\"frequency\": 23, \"value\": \"The Ultimate ...\"}, \"The Quiet Game\": {\"frequency\": 33, \"value\": \"The Quiet Game\"}, \"The Stepford Wives\": {\"frequency\": 20, \"value\": \"The Stepford Wives\"}, \"The Last of the Renshai\": {\"frequency\": 9, \"value\": \"The Last of the ...\"}, \"The House Next Door\": {\"frequency\": 18, \"value\": \"The House Next ...\"}, \"Das Geisterhaus. Roman.\": {\"frequency\": 11, \"value\": \"Das Geisterhaus. ...\"}, \"Cranberry Queen\": {\"frequency\": 20, \"value\": \"Cranberry Queen\"}, \"Then She Found Me\": {\"frequency\": 9, \"value\": \"Then She Found Me\"}, \"The Mouse and the Motorcycle\": {\"frequency\": 15, \"value\": \"The Mouse and the ...\"}, \"The Tesseract\": {\"frequency\": 10, \"value\": \"The Tesseract\"}, \"The Last Report on the Miracles at Little No Horse\": {\"frequency\": 9, \"value\": \"The Last Report on ...\"}, \"Educating Esme: Diary of a Teacher's First Year\": {\"frequency\": 11, \"value\": \"Educating Esme: ...\"}, \"The Wind-Up Bird Chronicle\": {\"frequency\": 29, \"value\": \"The Wind-Up Bird ...\"}, \"The Crown of Columbus\": {\"frequency\": 11, \"value\": \"The Crown of ...\"}, \"The Honk and Holler Opening Soon\": {\"frequency\": 68, \"value\": \"The Honk and ...\"}, \"The Cat Who Blew the Whistle\": {\"frequency\": 9, \"value\": \"The Cat Who Blew ...\"}, \"Playing the Moldovans at Tennis\": {\"frequency\": 9, \"value\": \"Playing the ...\"}, \"Oceano Mare\": {\"frequency\": 18, \"value\": \"Oceano Mare\"}, \"The Courage to Dream\": {\"frequency\": 9, \"value\": \"The Courage to ...\"}, \"Blithe Images\": {\"frequency\": 14, \"value\": \"Blithe Images\"}, \"The Runaway Bunny\": {\"frequency\": 12, \"value\": \"The Runaway Bunny\"}, \"Sleep No More\": {\"frequency\": 50, \"value\": \"Sleep No More\"}, \"Three Junes\": {\"frequency\": 26, \"value\": \"Three Junes\"}, \"Perfect Victim\": {\"frequency\": 12, \"value\": \"Perfect Victim\"}, \"Summerland\": {\"frequency\": 11, \"value\": \"Summerland\"}, \"The Bestseller\": {\"frequency\": 19, \"value\": \"The Bestseller\"}, \"El Hobbit\": {\"frequency\": 23, \"value\": \"El Hobbit\"}, \"Prehistory of the Far Side\": {\"frequency\": 23, \"value\": \"Prehistory of the ...\"}, \"Smack\": {\"frequency\": 13, \"value\": \"Smack\"}, \"He Died with a Felafel in His Hand\": {\"frequency\": 18, \"value\": \"He Died with a ...\"}, \"The Bird Artist\": {\"frequency\": 15, \"value\": \"The Bird Artist\"}, \"Voice of the Blood\": {\"frequency\": 9, \"value\": \"Voice of the Blood\"}, \"Homeland and Other Stories\": {\"frequency\": 19, \"value\": \"Homeland and Other ...\"}, \"Middle Age: A Romance\": {\"frequency\": 10, \"value\": \"Middle Age: A ...\"}, \"Maniac Magee\": {\"frequency\": 26, \"value\": \"Maniac Magee\"}, \"Red Dwarf: Infinity Welcomes Careful Drivers\": {\"frequency\": 11, \"value\": \"Red Dwarf: ...\"}, \"Driving Mr. Albert: A Trip Across America With Einstein's Brain\": {\"frequency\": 17, \"value\": \"Driving Mr. ...\"}, \"The Angel Maker\": {\"frequency\": 10, \"value\": \"The Angel Maker\"}, \"Voice of the Eagle\": {\"frequency\": 11, \"value\": \"Voice of the Eagle\"}, \"All I Know About Animal Behavior I Learned in Loehmann's Dressing Room\": {\"frequency\": 10, \"value\": \"All I Know About ...\"}, \"The Cry of the Halidon\": {\"frequency\": 18, \"value\": \"The Cry of the ...\"}, \"An Angel for Emily\": {\"frequency\": 20, \"value\": \"An Angel for Emily\"}, \"L Is for Lawless\": {\"frequency\": 47, \"value\": \"L Is for Lawless\"}, \"To Cut a Long Story Short\": {\"frequency\": 15, \"value\": \"To Cut a Long ...\"}, \"Dead Run\": {\"frequency\": 28, \"value\": \"Dead Run\"}, \"Dead Famous\": {\"frequency\": 33, \"value\": \"Dead Famous\"}, \"Out of Africa ; and, Shadows on the grass\": {\"frequency\": 13, \"value\": \"Out of Africa ; ...\"}, \"A Monk Swimming\": {\"frequency\": 14, \"value\": \"A Monk Swimming\"}, \"Woman: An Intimate Geography\": {\"frequency\": 12, \"value\": \"Woman: An Intimate ...\"}, \"Strong Poison\": {\"frequency\": 9, \"value\": \"Strong Poison\"}, \"Mere Christianity\": {\"frequency\": 20, \"value\": \"Mere Christianity\"}, \"Sandman: The Dream Hunters\": {\"frequency\": 11, \"value\": \"Sandman: The Dream ...\"}, \"A Kiss Remembered\": {\"frequency\": 10, \"value\": \"A Kiss Remembered\"}, \"Acts of Malice\": {\"frequency\": 28, \"value\": \"Acts of Malice\"}, \"Wish You Were Here\": {\"frequency\": 13, \"value\": \"Wish You Were Here\"}, \"Autobiography of a Face\": {\"frequency\": 19, \"value\": \"Autobiography of a ...\"}, \"The Spirit Catches You and You Fall Down\": {\"frequency\": 28, \"value\": \"The Spirit Catches ...\"}, \"Dark Lady\": {\"frequency\": 30, \"value\": \"Dark Lady\"}, \"The Empress File\": {\"frequency\": 20, \"value\": \"The Empress File\"}, \"Trevayne\": {\"frequency\": 13, \"value\": \"Trevayne\"}, \"Tricky Business\": {\"frequency\": 26, \"value\": \"Tricky Business\"}, \"Affinity\": {\"frequency\": 28, \"value\": \"Affinity\"}, \"The Writing Life\": {\"frequency\": 12, \"value\": \"The Writing Life\"}, \"How to Make an American Quilt\": {\"frequency\": 58, \"value\": \"How to Make an ...\"}, \"Otherwise Engaged\": {\"frequency\": 15, \"value\": \"Otherwise Engaged\"}, \"Fountainhead\": {\"frequency\": 12, \"value\": \"Fountainhead\"}, \"Shepherds Abiding\": {\"frequency\": 15, \"value\": \"Shepherds Abiding\"}, \"Pastwatch: The Redemption of Christopher Columbus\": {\"frequency\": 14, \"value\": \"Pastwatch: The ...\"}, \"The Reluctant Suitor\": {\"frequency\": 9, \"value\": \"The Reluctant ...\"}, \"Black Sunday\": {\"frequency\": 17, \"value\": \"Black Sunday\"}, \"The Ghostway\": {\"frequency\": 12, \"value\": \"The Ghostway\"}, \"Double Whammy\": {\"frequency\": 13, \"value\": \"Double Whammy\"}, \"Beneath the Skin\": {\"frequency\": 23, \"value\": \"Beneath the Skin\"}, \"Southern Discomfort\": {\"frequency\": 11, \"value\": \"Southern ...\"}, \"Princess Daisy\": {\"frequency\": 11, \"value\": \"Princess Daisy\"}, \"The Butcher's Theater\": {\"frequency\": 16, \"value\": \"The Butcher's ...\"}, \"The Triumph of Katie Byrne\": {\"frequency\": 15, \"value\": \"The Triumph of ...\"}, \"Milagro Beanfield War\": {\"frequency\": 10, \"value\": \"Milagro Beanfield ...\"}, \"The Association\": {\"frequency\": 16, \"value\": \"The Association\"}, \"The Bear and the Dragon\": {\"frequency\": 24, \"value\": \"The Bear and the ...\"}, \"The Quilter's Apprentice\": {\"frequency\": 22, \"value\": \"The Quilter's ...\"}, \"The Boy Next Door\": {\"frequency\": 60, \"value\": \"The Boy Next Door\"}, \"Lauf, Jane, lauf. Roman.\": {\"frequency\": 18, \"value\": \"Lauf, Jane, lauf. ...\"}, \"The Elegant Universe: Superstrings, Hidden Dimensions, and the Quest for the Ultimate Theory\": {\"frequency\": 18, \"value\": \"The Elegant ...\"}, \"Every Dead Thing\": {\"frequency\": 10, \"value\": \"Every Dead Thing\"}, \"Seinlanguage\": {\"frequency\": 40, \"value\": \"Seinlanguage\"}, \"When Elephants Weep: The Emotional Lives of Animals\": {\"frequency\": 17, \"value\": \"When Elephants ...\"}, \"We Were the Mulvaneys\": {\"frequency\": 139, \"value\": \"We Were the ...\"}, \"Thrones, Dominations\": {\"frequency\": 9, \"value\": \"Thrones, ...\"}, \"Burn Factor\": {\"frequency\": 16, \"value\": \"Burn Factor\"}, \"Who Moved My Cheese? An Amazing Way to Deal with Change in Your Work and in Your Life\": {\"frequency\": 90, \"value\": \"Who Moved My ...\"}, \"Tiger Prince\": {\"frequency\": 13, \"value\": \"Tiger Prince\"}, \"The WEDDING\": {\"frequency\": 18, \"value\": \"The WEDDING\"}, \"The Master and Margarita\": {\"frequency\": 31, \"value\": \"The Master and ...\"}, \"The Demon-Haunted World: Science As a Candle in the Dark\": {\"frequency\": 28, \"value\": \"The Demon-Haunted ...\"}, \"American Tabloid\": {\"frequency\": 9, \"value\": \"American Tabloid\"}}, \"size\": 98077}, \"name\": {\"complete\": true, \"numeric\": false, \"num_unique\": 31834, \"num_undefined\": 0, \"progress\": 1.0, \"frequent_items\": {\"Paulette\": {\"frequency\": 14, \"value\": \"Paulette\"}, \"Tanisha\": {\"frequency\": 10, \"value\": \"Tanisha\"}, \"Bailee\": {\"frequency\": 8, \"value\": \"Bailee\"}, \"Corbin\": {\"frequency\": 11, \"value\": \"Corbin\"}, \"Annabel\": {\"frequency\": 8, \"value\": \"Annabel\"}, \"Leah\": {\"frequency\": 29, \"value\": \"Leah\"}, \"Bailey\": {\"frequency\": 20, \"value\": \"Bailey\"}, \"Felicia\": {\"frequency\": 19, \"value\": \"Felicia\"}, \"Rylie\": {\"frequency\": 10, \"value\": \"Rylie\"}, \"Imogene\": {\"frequency\": 11, \"value\": \"Imogene\"}, \"Araceli\": {\"frequency\": 9, \"value\": \"Araceli\"}, \"Ronald\": {\"frequency\": 87, \"value\": \"Ronald\"}, \"Shirley\": {\"frequency\": 62, \"value\": \"Shirley\"}, \"Claud\": {\"frequency\": 8, \"value\": \"Claud\"}, \"Kaleigh\": {\"frequency\": 10, \"value\": \"Kaleigh\"}, \"Keaton\": {\"frequency\": 10, \"value\": \"Keaton\"}, \"Henry\": {\"frequency\": 59, \"value\": \"Henry\"}, \"Bret\": {\"frequency\": 12, \"value\": \"Bret\"}, \"Thomas\": {\"frequency\": 153, \"value\": \"Thomas\"}, \"Dustin\": {\"frequency\": 29, \"value\": \"Dustin\"}, \"Yadira\": {\"frequency\": 8, \"value\": \"Yadira\"}, \"Lesa\": {\"frequency\": 8, \"value\": \"Lesa\"}, \"Paul\": {\"frequency\": 98, \"value\": \"Paul\"}, \"Sandy\": {\"frequency\": 18, \"value\": \"Sandy\"}, \"Leanne\": {\"frequency\": 11, \"value\": \"Leanne\"}, \"Joann\": {\"frequency\": 25, \"value\": \"Joann\"}, \"Leanna\": {\"frequency\": 10, \"value\": \"Leanna\"}, \"Claude\": {\"frequency\": 19, \"value\": \"Claude\"}, \"Christie\": {\"frequency\": 14, \"value\": \"Christie\"}, \"Annette\": {\"frequency\": 26, \"value\": \"Annette\"}, \"Eddy\": {\"frequency\": 8, \"value\": \"Eddy\"}, \"Annmarie\": {\"frequency\": 10, \"value\": \"Annmarie\"}, \"Lamar\": {\"frequency\": 12, \"value\": \"Lamar\"}, \"Avery\": {\"frequency\": 22, \"value\": \"Avery\"}, \"Lucille\": {\"frequency\": 30, \"value\": \"Lucille\"}, \"Sherman\": {\"frequency\": 13, \"value\": \"Sherman\"}, \"Hailey\": {\"frequency\": 24, \"value\": \"Hailey\"}, \"Madyson\": {\"frequency\": 8, \"value\": \"Madyson\"}, \"Sally\": {\"frequency\": 29, \"value\": \"Sally\"}, \"Johnie\": {\"frequency\": 11, \"value\": \"Johnie\"}, \"Carmella\": {\"frequency\": 10, \"value\": \"Carmella\"}, \"Irwin\": {\"frequency\": 9, \"value\": \"Irwin\"}, \"Nelda\": {\"frequency\": 10, \"value\": \"Nelda\"}, \"Kristopher\": {\"frequency\": 16, \"value\": \"Kristopher\"}, \"Shantel\": {\"frequency\": 7, \"value\": \"Shantel\"}, \"Ernest\": {\"frequency\": 38, \"value\": \"Ernest\"}, \"Stephanie\": {\"frequency\": 64, \"value\": \"Stephanie\"}, \"Angie\": {\"frequency\": 16, \"value\": \"Angie\"}, \"Dominique\": {\"frequency\": 17, \"value\": \"Dominique\"}, \"Shea\": {\"frequency\": 9, \"value\": \"Shea\"}, \"Bennie\": {\"frequency\": 17, \"value\": \"Bennie\"}, \"Shauna\": {\"frequency\": 11, \"value\": \"Shauna\"}, \"Elisabeth\": {\"frequency\": 14, \"value\": \"Elisabeth\"}, \"Jewell\": {\"frequency\": 12, \"value\": \"Jewell\"}, \"Shannon\": {\"frequency\": 42, \"value\": \"Shannon\"}, \"Natalee\": {\"frequency\": 7, \"value\": \"Natalee\"}, \"Dexter\": {\"frequency\": 12, \"value\": \"Dexter\"}, \"Quincy\": {\"frequency\": 11, \"value\": \"Quincy\"}, \"Elbert\": {\"frequency\": 10, \"value\": \"Elbert\"}, \"Harvey\": {\"frequency\": 21, \"value\": \"Harvey\"}, \"Orville\": {\"frequency\": 13, \"value\": \"Orville\"}, \"Breanna\": {\"frequency\": 18, \"value\": \"Breanna\"}, \"Reece\": {\"frequency\": 10, \"value\": \"Reece\"}, \"Casey\": {\"frequency\": 27, \"value\": \"Casey\"}, \"June\": {\"frequency\": 27, \"value\": \"June\"}, \"Leilani\": {\"frequency\": 11, \"value\": \"Leilani\"}, \"Vernon\": {\"frequency\": 24, \"value\": \"Vernon\"}, \"Alondra\": {\"frequency\": 12, \"value\": \"Alondra\"}, \"Lavonne\": {\"frequency\": 9, \"value\": \"Lavonne\"}, \"Chasity\": {\"frequency\": 11, \"value\": \"Chasity\"}, \"Bernice\": {\"frequency\": 28, \"value\": \"Bernice\"}, \"Glenna\": {\"frequency\": 11, \"value\": \"Glenna\"}, \"Christina\": {\"frequency\": 51, \"value\": \"Christina\"}, \"Christine\": {\"frequency\": 57, \"value\": \"Christine\"}, \"Olga\": {\"frequency\": 15, \"value\": \"Olga\"}, \"Kameron\": {\"frequency\": 12, \"value\": \"Kameron\"}, \"Emerson\": {\"frequency\": 12, \"value\": \"Emerson\"}, \"Cathryn\": {\"frequency\": 9, \"value\": \"Cathryn\"}, \"Della\": {\"frequency\": 17, \"value\": \"Della\"}, \"Lynette\": {\"frequency\": 14, \"value\": \"Lynette\"}, \"Ramiro\": {\"frequency\": 10, \"value\": \"Ramiro\"}, \"Ellie\": {\"frequency\": 15, \"value\": \"Ellie\"}, \"Tessa\": {\"frequency\": 14, \"value\": \"Tessa\"}, \"Clair\": {\"frequency\": 9, \"value\": \"Clair\"}, \"Juliana\": {\"frequency\": 15, \"value\": \"Juliana\"}, \"Lia\": {\"frequency\": 9, \"value\": \"Lia\"}, \"Sara\": {\"frequency\": 48, \"value\": \"Sara\"}, \"Ralph\": {\"frequency\": 48, \"value\": \"Ralph\"}, \"Jerry\": {\"frequency\": 58, \"value\": \"Jerry\"}, \"Brian\": {\"frequency\": 91, \"value\": \"Brian\"}, \"Lori\": {\"frequency\": 42, \"value\": \"Lori\"}, \"Bruno\": {\"frequency\": 9, \"value\": \"Bruno\"}, \"Eleanore\": {\"frequency\": 9, \"value\": \"Eleanore\"}, \"Lora\": {\"frequency\": 15, \"value\": \"Lora\"}, \"Jerri\": {\"frequency\": 9, \"value\": \"Jerri\"}, \"Tabatha\": {\"frequency\": 10, \"value\": \"Tabatha\"}, \"Tillie\": {\"frequency\": 9, \"value\": \"Tillie\"}, \"Phoenix\": {\"frequency\": 12, \"value\": \"Phoenix\"}, \"Kai\": {\"frequency\": 12, \"value\": \"Kai\"}, \"Irving\": {\"frequency\": 14, \"value\": \"Irving\"}, \"Edmond\": {\"frequency\": 11, \"value\": \"Edmond\"}, \"Jordan\": {\"frequency\": 51, \"value\": \"Jordan\"}, \"Jack\": {\"frequency\": 61, \"value\": \"Jack\"}, \"Miranda\": {\"frequency\": 20, \"value\": \"Miranda\"}, \"Gretchen\": {\"frequency\": 15, \"value\": \"Gretchen\"}, \"Tyson\": {\"frequency\": 13, \"value\": \"Tyson\"}, \"Jace\": {\"frequency\": 14, \"value\": \"Jace\"}, \"Darla\": {\"frequency\": 14, \"value\": \"Darla\"}, \"Mariah\": {\"frequency\": 20, \"value\": \"Mariah\"}, \"Dylan\": {\"frequency\": 40, \"value\": \"Dylan\"}, \"Lucas\": {\"frequency\": 28, \"value\": \"Lucas\"}, \"Marian\": {\"frequency\": 24, \"value\": \"Marian\"}, \"Marlin\": {\"frequency\": 10, \"value\": \"Marlin\"}, \"Emanuel\": {\"frequency\": 14, \"value\": \"Emanuel\"}, \"Juanita\": {\"frequency\": 29, \"value\": \"Juanita\"}, \"Essie\": {\"frequency\": 13, \"value\": \"Essie\"}, \"Hattie\": {\"frequency\": 20, \"value\": \"Hattie\"}, \"Kiley\": {\"frequency\": 11, \"value\": \"Kiley\"}, \"Wilhelmina\": {\"frequency\": 8, \"value\": \"Wilhelmina\"}, \"Carlos\": {\"frequency\": 35, \"value\": \"Carlos\"}, \"Jeanette\": {\"frequency\": 26, \"value\": \"Jeanette\"}, \"Myrna\": {\"frequency\": 12, \"value\": \"Myrna\"}, \"Ali\": {\"frequency\": 12, \"value\": \"Ali\"}, \"Maxwell\": {\"frequency\": 17, \"value\": \"Maxwell\"}, \"Erma\": {\"frequency\": 15, \"value\": \"Erma\"}, \"Madilyn\": {\"frequency\": 8, \"value\": \"Madilyn\"}, \"Lloyd\": {\"frequency\": 25, \"value\": \"Lloyd\"}, \"Mabel\": {\"frequency\": 23, \"value\": \"Mabel\"}, \"Tiana\": {\"frequency\": 11, \"value\": \"Tiana\"}, \"Fannie\": {\"frequency\": 19, \"value\": \"Fannie\"}, \"Irene\": {\"frequency\": 43, \"value\": \"Irene\"}, \"Monroe\": {\"frequency\": 14, \"value\": \"Monroe\"}, \"Faye\": {\"frequency\": 16, \"value\": \"Faye\"}, \"Ursula\": {\"frequency\": 9, \"value\": \"Ursula\"}, \"Gabriela\": {\"frequency\": 17, \"value\": \"Gabriela\"}, \"Dewayne\": {\"frequency\": 11, \"value\": \"Dewayne\"}, \"Marissa\": {\"frequency\": 22, \"value\": \"Marissa\"}, \"Edith\": {\"frequency\": 34, \"value\": \"Edith\"}, \"Laurence\": {\"frequency\": 13, \"value\": \"Laurence\"}, \"Willa\": {\"frequency\": 11, \"value\": \"Willa\"}, \"Addison\": {\"frequency\": 20, \"value\": \"Addison\"}, \"Kelsey\": {\"frequency\": 24, \"value\": \"Kelsey\"}, \"Drew\": {\"frequency\": 18, \"value\": \"Drew\"}, \"Harris\": {\"frequency\": 9, \"value\": \"Harris\"}, \"Dora\": {\"frequency\": 20, \"value\": \"Dora\"}, \"Helen\": {\"frequency\": 83, \"value\": \"Helen\"}, \"Bobby\": {\"frequency\": 39, \"value\": \"Bobby\"}, \"Seth\": {\"frequency\": 25, \"value\": \"Seth\"}, \"Goldie\": {\"frequency\": 14, \"value\": \"Goldie\"}, \"Omar\": {\"frequency\": 19, \"value\": \"Omar\"}, \"Bobbi\": {\"frequency\": 11, \"value\": \"Bobbi\"}, \"Tamika\": {\"frequency\": 11, \"value\": \"Tamika\"}, \"Noah\": {\"frequency\": 38, \"value\": \"Noah\"}, \"Joesph\": {\"frequency\": 9, \"value\": \"Joesph\"}, \"India\": {\"frequency\": 10, \"value\": \"India\"}, \"Elton\": {\"frequency\": 10, \"value\": \"Elton\"}, \"Destiny\": {\"frequency\": 23, \"value\": \"Destiny\"}, \"Duncan\": {\"frequency\": 10, \"value\": \"Duncan\"}, \"Eliza\": {\"frequency\": 14, \"value\": \"Eliza\"}, \"Antoine\": {\"frequency\": 11, \"value\": \"Antoine\"}, \"Brittney\": {\"frequency\": 18, \"value\": \"Brittney\"}, \"Derek\": {\"frequency\": 30, \"value\": \"Derek\"}, \"Sharron\": {\"frequency\": 9, \"value\": \"Sharron\"}, \"Trista\": {\"frequency\": 10, \"value\": \"Trista\"}, \"Saundra\": {\"frequency\": 10, \"value\": \"Saundra\"}, \"Susie\": {\"frequency\": 19, \"value\": \"Susie\"}, \"Gino\": {\"frequency\": 8, \"value\": \"Gino\"}, \"Aubrey\": {\"frequency\": 21, \"value\": \"Aubrey\"}, \"Gina\": {\"frequency\": 25, \"value\": \"Gina\"}, \"Romeo\": {\"frequency\": 9, \"value\": \"Romeo\"}, \"William\": {\"frequency\": 177, \"value\": \"William\"}, \"Ward\": {\"frequency\": 9, \"value\": \"Ward\"}, \"Junior\": {\"frequency\": 14, \"value\": \"Junior\"}, \"Jeanne\": {\"frequency\": 26, \"value\": \"Jeanne\"}, \"Josiah\": {\"frequency\": 17, \"value\": \"Josiah\"}, \"Kellie\": {\"frequency\": 15, \"value\": \"Kellie\"}, \"Aisha\": {\"frequency\": 10, \"value\": \"Aisha\"}, \"Corinne\": {\"frequency\": 14, \"value\": \"Corinne\"}, \"Salvatore\": {\"frequency\": 16, \"value\": \"Salvatore\"}, \"Kody\": {\"frequency\": 10, \"value\": \"Kody\"}, \"Melody\": {\"frequency\": 19, \"value\": \"Melody\"}, \"Mickey\": {\"frequency\": 12, \"value\": \"Mickey\"}, \"Curt\": {\"frequency\": 9, \"value\": \"Curt\"}, \"Clinton\": {\"frequency\": 20, \"value\": \"Clinton\"}, \"Chad\": {\"frequency\": 31, \"value\": \"Chad\"}, \"Gianna\": {\"frequency\": 15, \"value\": \"Gianna\"}, \"Delbert\": {\"frequency\": 14, \"value\": \"Delbert\"}, \"Katlyn\": {\"frequency\": 10, \"value\": \"Katlyn\"}, \"Eduardo\": {\"frequency\": 20, \"value\": \"Eduardo\"}, \"Nicolas\": {\"frequency\": 18, \"value\": \"Nicolas\"}, \"Darnell\": {\"frequency\": 12, \"value\": \"Darnell\"}, \"Tammie\": {\"frequency\": 13, \"value\": \"Tammie\"}, \"Cooper\": {\"frequency\": 16, \"value\": \"Cooper\"}, \"Bridget\": {\"frequency\": 19, \"value\": \"Bridget\"}, \"Jaxon\": {\"frequency\": 13, \"value\": \"Jaxon\"}, \"Zachery\": {\"frequency\": 12, \"value\": \"Zachery\"}, \"Merlin\": {\"frequency\": 9, \"value\": \"Merlin\"}, \"Krystal\": {\"frequency\": 17, \"value\": \"Krystal\"}, \"Jasmin\": {\"frequency\": 14, \"value\": \"Jasmin\"}, \"Melisa\": {\"frequency\": 10, \"value\": \"Melisa\"}, \"Sonia\": {\"frequency\": 16, \"value\": \"Sonia\"}, \"Earnest\": {\"frequency\": 16, \"value\": \"Earnest\"}, \"Rebecca\": {\"frequency\": 66, \"value\": \"Rebecca\"}, \"Alexander\": {\"frequency\": 58, \"value\": \"Alexander\"}, \"Micaela\": {\"frequency\": 8, \"value\": \"Micaela\"}, \"Malinda\": {\"frequency\": 10, \"value\": \"Malinda\"}, \"Aniyah\": {\"frequency\": 9, \"value\": \"Aniyah\"}, \"Bernadine\": {\"frequency\": 10, \"value\": \"Bernadine\"}, \"Kaylie\": {\"frequency\": 10, \"value\": \"Kaylie\"}, \"Gene\": {\"frequency\": 23, \"value\": \"Gene\"}, \"Kaylin\": {\"frequency\": 9, \"value\": \"Kaylin\"}, \"Natasha\": {\"frequency\": 20, \"value\": \"Natasha\"}, \"Chloe\": {\"frequency\": 27, \"value\": \"Chloe\"}, \"Matthew\": {\"frequency\": 127, \"value\": \"Matthew\"}, \"Craig\": {\"frequency\": 37, \"value\": \"Craig\"}, \"Carroll\": {\"frequency\": 14, \"value\": \"Carroll\"}, \"Allan\": {\"frequency\": 20, \"value\": \"Allan\"}, \"Zoey\": {\"frequency\": 15, \"value\": \"Zoey\"}, \"Joelle\": {\"frequency\": 8, \"value\": \"Joelle\"}, \"Colin\": {\"frequency\": 21, \"value\": \"Colin\"}, \"Adele\": {\"frequency\": 13, \"value\": \"Adele\"}, \"Bridgett\": {\"frequency\": 9, \"value\": \"Bridgett\"}, \"Jamison\": {\"frequency\": 9, \"value\": \"Jamison\"}, \"Cody\": {\"frequency\": 36, \"value\": \"Cody\"}, \"Angelo\": {\"frequency\": 17, \"value\": \"Angelo\"}, \"Thurman\": {\"frequency\": 9, \"value\": \"Thurman\"}, \"Rhonda\": {\"frequency\": 29, \"value\": \"Rhonda\"}, \"Shelly\": {\"frequency\": 19, \"value\": \"Shelly\"}, \"Angela\": {\"frequency\": 60, \"value\": \"Angela\"}, \"Gavin\": {\"frequency\": 25, \"value\": \"Gavin\"}, \"Holly\": {\"frequency\": 28, \"value\": \"Holly\"}, \"Theo\": {\"frequency\": 9, \"value\": \"Theo\"}, \"Lizbeth\": {\"frequency\": 11, \"value\": \"Lizbeth\"}, \"Christian\": {\"frequency\": 46, \"value\": \"Christian\"}, \"Ericka\": {\"frequency\": 11, \"value\": \"Ericka\"}, \"Jasmine\": {\"frequency\": 31, \"value\": \"Jasmine\"}, \"Myron\": {\"frequency\": 14, \"value\": \"Myron\"}, \"Estrella\": {\"frequency\": 8, \"value\": \"Estrella\"}, \"Devon\": {\"frequency\": 19, \"value\": \"Devon\"}, \"Brendan\": {\"frequency\": 19, \"value\": \"Brendan\"}, \"Loren\": {\"frequency\": 16, \"value\": \"Loren\"}, \"Lynn\": {\"frequency\": 31, \"value\": \"Lynn\"}, \"Dulce\": {\"frequency\": 9, \"value\": \"Dulce\"}, \"Deshawn\": {\"frequency\": 9, \"value\": \"Deshawn\"}, \"Frederick\": {\"frequency\": 34, \"value\": \"Frederick\"}, \"Lucy\": {\"frequency\": 27, \"value\": \"Lucy\"}, \"Rochelle\": {\"frequency\": 14, \"value\": \"Rochelle\"}, \"Terrance\": {\"frequency\": 17, \"value\": \"Terrance\"}, \"Luca\": {\"frequency\": 9, \"value\": \"Luca\"}, \"Ivan\": {\"frequency\": 22, \"value\": \"Ivan\"}, \"Ayden\": {\"frequency\": 15, \"value\": \"Ayden\"}, \"Conrad\": {\"frequency\": 12, \"value\": \"Conrad\"}, \"Rosemary\": {\"frequency\": 25, \"value\": \"Rosemary\"}, \"Angelique\": {\"frequency\": 11, \"value\": \"Angelique\"}, \"Trenton\": {\"frequency\": 15, \"value\": \"Trenton\"}, \"Kari\": {\"frequency\": 16, \"value\": \"Kari\"}, \"Aidan\": {\"frequency\": 20, \"value\": \"Aidan\"}, \"Lewis\": {\"frequency\": 24, \"value\": \"Lewis\"}, \"Sofia\": {\"frequency\": 19, \"value\": \"Sofia\"}, \"Tyrese\": {\"frequency\": 7, \"value\": \"Tyrese\"}, \"Kayden\": {\"frequency\": 13, \"value\": \"Kayden\"}, \"Tristen\": {\"frequency\": 10, \"value\": \"Tristen\"}, \"Mckenna\": {\"frequency\": 12, \"value\": \"Mckenna\"}, \"Sarah\": {\"frequency\": 85, \"value\": \"Sarah\"}, \"Yesenia\": {\"frequency\": 13, \"value\": \"Yesenia\"}, \"Carey\": {\"frequency\": 12, \"value\": \"Carey\"}, \"Skylar\": {\"frequency\": 16, \"value\": \"Skylar\"}, \"Marcella\": {\"frequency\": 16, \"value\": \"Marcella\"}, \"Carmine\": {\"frequency\": 8, \"value\": \"Carmine\"}, \"Anne\": {\"frequency\": 39, \"value\": \"Anne\"}, \"Daryl\": {\"frequency\": 17, \"value\": \"Daryl\"}, \"Kassidy\": {\"frequency\": 9, \"value\": \"Kassidy\"}, \"Anna\": {\"frequency\": 73, \"value\": \"Anna\"}, \"Rosemarie\": {\"frequency\": 15, \"value\": \"Rosemarie\"}, \"Santiago\": {\"frequency\": 14, \"value\": \"Santiago\"}, \"Cortney\": {\"frequency\": 10, \"value\": \"Cortney\"}, \"Fred\": {\"frequency\": 42, \"value\": \"Fred\"}, \"Beulah\": {\"frequency\": 17, \"value\": \"Beulah\"}, \"Doreen\": {\"frequency\": 14, \"value\": \"Doreen\"}, \"Francine\": {\"frequency\": 13, \"value\": \"Francine\"}, \"Ricardo\": {\"frequency\": 23, \"value\": \"Ricardo\"}, \"Matilda\": {\"frequency\": 12, \"value\": \"Matilda\"}, \"Darrin\": {\"frequency\": 12, \"value\": \"Darrin\"}, \"Esmeralda\": {\"frequency\": 14, \"value\": \"Esmeralda\"}, \"Karissa\": {\"frequency\": 10, \"value\": \"Karissa\"}, \"Lauryn\": {\"frequency\": 9, \"value\": \"Lauryn\"}, \"Mackenzie\": {\"frequency\": 22, \"value\": \"Mackenzie\"}, \"Galen\": {\"frequency\": 9, \"value\": \"Galen\"}, \"Rodrigo\": {\"frequency\": 10, \"value\": \"Rodrigo\"}, \"Clifford\": {\"frequency\": 28, \"value\": \"Clifford\"}, \"Glen\": {\"frequency\": 22, \"value\": \"Glen\"}, \"Jackson\": {\"frequency\": 28, \"value\": \"Jackson\"}, \"Belle\": {\"frequency\": 9, \"value\": \"Belle\"}, \"Bella\": {\"frequency\": 14, \"value\": \"Bella\"}, \"Anderson\": {\"frequency\": 10, \"value\": \"Anderson\"}, \"Debbie\": {\"frequency\": 28, \"value\": \"Debbie\"}, \"Sydney\": {\"frequency\": 26, \"value\": \"Sydney\"}, \"John\": {\"frequency\": 917, \"value\": \"John\"}, \"Scarlett\": {\"frequency\": 12, \"value\": \"Scarlett\"}, \"Cristal\": {\"frequency\": 9, \"value\": \"Cristal\"}, \"Moriah\": {\"frequency\": 8, \"value\": \"Moriah\"}, \"Dusty\": {\"frequency\": 9, \"value\": \"Dusty\"}, \"Edgar\": {\"frequency\": 24, \"value\": \"Edgar\"}, \"Trey\": {\"frequency\": 13, \"value\": \"Trey\"}, \"Derrick\": {\"frequency\": 24, \"value\": \"Derrick\"}, \"Jefferson\": {\"frequency\": 10, \"value\": \"Jefferson\"}, \"Loretta\": {\"frequency\": 27, \"value\": \"Loretta\"}, \"Wilma\": {\"frequency\": 24, \"value\": \"Wilma\"}, \"Doris\": {\"frequency\": 51, \"value\": \"Doris\"}, \"Veronica\": {\"frequency\": 30, \"value\": \"Veronica\"}, \"Etta\": {\"frequency\": 13, \"value\": \"Etta\"}, \"Laura\": {\"frequency\": 66, \"value\": \"Laura\"}, \"Lupe\": {\"frequency\": 11, \"value\": \"Lupe\"}, \"Karen\": {\"frequency\": 80, \"value\": \"Karen\"}, \"Doug\": {\"frequency\": 11, \"value\": \"Doug\"}, \"Dawn\": {\"frequency\": 36, \"value\": \"Dawn\"}, \"Graciela\": {\"frequency\": 9, \"value\": \"Graciela\"}, \"Cassie\": {\"frequency\": 14, \"value\": \"Cassie\"}, \"Odell\": {\"frequency\": 10, \"value\": \"Odell\"}, \"Kaye\": {\"frequency\": 8, \"value\": \"Kaye\"}, \"Hadley\": {\"frequency\": 9, \"value\": \"Hadley\"}, \"Trina\": {\"frequency\": 12, \"value\": \"Trina\"}, \"Lorraine\": {\"frequency\": 29, \"value\": \"Lorraine\"}, \"Letha\": {\"frequency\": 10, \"value\": \"Letha\"}, \"Forest\": {\"frequency\": 10, \"value\": \"Forest\"}, \"Yolanda\": {\"frequency\": 21, \"value\": \"Yolanda\"}, \"Dalia\": {\"frequency\": 8, \"value\": \"Dalia\"}, \"Kerry\": {\"frequency\": 20, \"value\": \"Kerry\"}, \"Clarence\": {\"frequency\": 38, \"value\": \"Clarence\"}, \"Earle\": {\"frequency\": 8, \"value\": \"Earle\"}, \"Gladys\": {\"frequency\": 36, \"value\": \"Gladys\"}, \"Hillary\": {\"frequency\": 11, \"value\": \"Hillary\"}, \"Kerri\": {\"frequency\": 14, \"value\": \"Kerri\"}, \"Jadyn\": {\"frequency\": 9, \"value\": \"Jadyn\"}, \"Remington\": {\"frequency\": 7, \"value\": \"Remington\"}, \"Georgia\": {\"frequency\": 24, \"value\": \"Georgia\"}, \"Georgie\": {\"frequency\": 7, \"value\": \"Georgie\"}, \"Kaden\": {\"frequency\": 15, \"value\": \"Kaden\"}, \"Donovan\": {\"frequency\": 15, \"value\": \"Donovan\"}, \"Rachael\": {\"frequency\": 17, \"value\": \"Rachael\"}, \"Stuart\": {\"frequency\": 17, \"value\": \"Stuart\"}, \"Alexandra\": {\"frequency\": 30, \"value\": \"Alexandra\"}, \"Philip\": {\"frequency\": 42, \"value\": \"Philip\"}, \"Rufus\": {\"frequency\": 12, \"value\": \"Rufus\"}, \"Zella\": {\"frequency\": 8, \"value\": \"Zella\"}, \"Julissa\": {\"frequency\": 10, \"value\": \"Julissa\"}, \"Sienna\": {\"frequency\": 10, \"value\": \"Sienna\"}, \"Harrison\": {\"frequency\": 16, \"value\": \"Harrison\"}, \"Cleveland\": {\"frequency\": 10, \"value\": \"Cleveland\"}, \"Trent\": {\"frequency\": 15, \"value\": \"Trent\"}, \"Shaina\": {\"frequency\": 8, \"value\": \"Shaina\"}, \"Ignacio\": {\"frequency\": 9, \"value\": \"Ignacio\"}, \"Beatrice\": {\"frequency\": 28, \"value\": \"Beatrice\"}, \"Ellis\": {\"frequency\": 13, \"value\": \"Ellis\"}, \"Braxton\": {\"frequency\": 12, \"value\": \"Braxton\"}, \"Aria\": {\"frequency\": 10, \"value\": \"Aria\"}, \"Skye\": {\"frequency\": 10, \"value\": \"Skye\"}, \"Tyrone\": {\"frequency\": 18, \"value\": \"Tyrone\"}, \"Alivia\": {\"frequency\": 10, \"value\": \"Alivia\"}, \"Ginger\": {\"frequency\": 14, \"value\": \"Ginger\"}, \"Courtney\": {\"frequency\": 35, \"value\": \"Courtney\"}, \"Nathaniel\": {\"frequency\": 33, \"value\": \"Nathaniel\"}, \"Kareem\": {\"frequency\": 8, \"value\": \"Kareem\"}, \"Ladonna\": {\"frequency\": 10, \"value\": \"Ladonna\"}, \"Jacqueline\": {\"frequency\": 48, \"value\": \"Jacqueline\"}, \"Jeffrey\": {\"frequency\": 80, \"value\": \"Jeffrey\"}, \"Kimberlee\": {\"frequency\": 9, \"value\": \"Kimberlee\"}, \"Andre\": {\"frequency\": 22, \"value\": \"Andre\"}, \"Taryn\": {\"frequency\": 11, \"value\": \"Taryn\"}, \"Nanette\": {\"frequency\": 9, \"value\": \"Nanette\"}, \"Angelita\": {\"frequency\": 8, \"value\": \"Angelita\"}, \"James\": {\"frequency\": 1965, \"value\": \"James\"}, \"Amelia\": {\"frequency\": 23, \"value\": \"Amelia\"}, \"Tatum\": {\"frequency\": 10, \"value\": \"Tatum\"}, \"Kimberley\": {\"frequency\": 13, \"value\": \"Kimberley\"}, \"Lance\": {\"frequency\": 20, \"value\": \"Lance\"}, \"Hollie\": {\"frequency\": 10, \"value\": \"Hollie\"}, \"Ciara\": {\"frequency\": 12, \"value\": \"Ciara\"}, \"Steve\": {\"frequency\": 32, \"value\": \"Steve\"}, \"Morris\": {\"frequency\": 17, \"value\": \"Morris\"}, \"Tracey\": {\"frequency\": 20, \"value\": \"Tracey\"}, \"Colleen\": {\"frequency\": 26, \"value\": \"Colleen\"}, \"Clarice\": {\"frequency\": 11, \"value\": \"Clarice\"}, \"Eula\": {\"frequency\": 14, \"value\": \"Eula\"}, \"Mina\": {\"frequency\": 9, \"value\": \"Mina\"}, \"Sonja\": {\"frequency\": 13, \"value\": \"Sonja\"}, \"Lula\": {\"frequency\": 19, \"value\": \"Lula\"}, \"Lenora\": {\"frequency\": 12, \"value\": \"Lenora\"}, \"Randolph\": {\"frequency\": 15, \"value\": \"Randolph\"}, \"Lenore\": {\"frequency\": 10, \"value\": \"Lenore\"}, \"Pete\": {\"frequency\": 14, \"value\": \"Pete\"}, \"Griffin\": {\"frequency\": 11, \"value\": \"Griffin\"}, \"Russell\": {\"frequency\": 43, \"value\": \"Russell\"}, \"Sheldon\": {\"frequency\": 13, \"value\": \"Sheldon\"}, \"Emilio\": {\"frequency\": 12, \"value\": \"Emilio\"}, \"Alonzo\": {\"frequency\": 13, \"value\": \"Alonzo\"}, \"Lorenzo\": {\"frequency\": 16, \"value\": \"Lorenzo\"}, \"Tiara\": {\"frequency\": 11, \"value\": \"Tiara\"}, \"Raven\": {\"frequency\": 13, \"value\": \"Raven\"}, \"Gay\": {\"frequency\": 10, \"value\": \"Gay\"}, \"Vivian\": {\"frequency\": 28, \"value\": \"Vivian\"}, \"Xander\": {\"frequency\": 9, \"value\": \"Xander\"}, \"Oscar\": {\"frequency\": 28, \"value\": \"Oscar\"}, \"Eunice\": {\"frequency\": 18, \"value\": \"Eunice\"}, \"Leonard\": {\"frequency\": 36, \"value\": \"Leonard\"}, \"Norah\": {\"frequency\": 8, \"value\": \"Norah\"}, \"Adrianne\": {\"frequency\": 8, \"value\": \"Adrianne\"}, \"Adrianna\": {\"frequency\": 13, \"value\": \"Adrianna\"}, \"Roberta\": {\"frequency\": 26, \"value\": \"Roberta\"}, \"Wilbur\": {\"frequency\": 16, \"value\": \"Wilbur\"}, \"Gabriel\": {\"frequency\": 38, \"value\": \"Gabriel\"}, \"Roberto\": {\"frequency\": 20, \"value\": \"Roberto\"}, \"Alice\": {\"frequency\": 55, \"value\": \"Alice\"}, \"Cathleen\": {\"frequency\": 12, \"value\": \"Cathleen\"}, \"Gerard\": {\"frequency\": 16, \"value\": \"Gerard\"}, \"Emilia\": {\"frequency\": 10, \"value\": \"Emilia\"}, \"Emilie\": {\"frequency\": 10, \"value\": \"Emilie\"}, \"Braylon\": {\"frequency\": 8, \"value\": \"Braylon\"}, \"Claudia\": {\"frequency\": 22, \"value\": \"Claudia\"}, \"Brenda\": {\"frequency\": 58, \"value\": \"Brenda\"}, \"Guadalupe\": {\"frequency\": 19, \"value\": \"Guadalupe\"}, \"Michele\": {\"frequency\": 30, \"value\": \"Michele\"}, \"Donnie\": {\"frequency\": 17, \"value\": \"Donnie\"}, \"Scotty\": {\"frequency\": 10, \"value\": \"Scotty\"}, \"Alissa\": {\"frequency\": 13, \"value\": \"Alissa\"}, \"Ezekiel\": {\"frequency\": 11, \"value\": \"Ezekiel\"}, \"Raquel\": {\"frequency\": 13, \"value\": \"Raquel\"}, \"Liza\": {\"frequency\": 10, \"value\": \"Liza\"}, \"Steven\": {\"frequency\": 95, \"value\": \"Steven\"}, \"Ari\": {\"frequency\": 8, \"value\": \"Ari\"}, \"Dwayne\": {\"frequency\": 18, \"value\": \"Dwayne\"}, \"Prince\": {\"frequency\": 9, \"value\": \"Prince\"}, \"Warren\": {\"frequency\": 27, \"value\": \"Warren\"}, \"Sybil\": {\"frequency\": 10, \"value\": \"Sybil\"}, \"Garrett\": {\"frequency\": 22, \"value\": \"Garrett\"}, \"Hilary\": {\"frequency\": 11, \"value\": \"Hilary\"}, \"Inez\": {\"frequency\": 17, \"value\": \"Inez\"}, \"Shanna\": {\"frequency\": 11, \"value\": \"Shanna\"}, \"Tina\": {\"frequency\": 36, \"value\": \"Tina\"}, \"Mindy\": {\"frequency\": 14, \"value\": \"Mindy\"}, \"Lea\": {\"frequency\": 12, \"value\": \"Lea\"}, \"Lee\": {\"frequency\": 36, \"value\": \"Lee\"}, \"Kristal\": {\"frequency\": 8, \"value\": \"Kristal\"}, \"Lamont\": {\"frequency\": 11, \"value\": \"Lamont\"}, \"Hiram\": {\"frequency\": 8, \"value\": \"Hiram\"}, \"Leo\": {\"frequency\": 27, \"value\": \"Leo\"}, \"Dave\": {\"frequency\": 16, \"value\": \"Dave\"}, \"Chris\": {\"frequency\": 26, \"value\": \"Chris\"}, \"Keith\": {\"frequency\": 50, \"value\": \"Keith\"}, \"Kirsten\": {\"frequency\": 15, \"value\": \"Kirsten\"}, \"Abby\": {\"frequency\": 15, \"value\": \"Abby\"}, \"Royce\": {\"frequency\": 11, \"value\": \"Royce\"}, \"Marla\": {\"frequency\": 13, \"value\": \"Marla\"}, \"Makenzie\": {\"frequency\": 12, \"value\": \"Makenzie\"}, \"Corey\": {\"frequency\": 28, \"value\": \"Corey\"}, \"Cayden\": {\"frequency\": 11, \"value\": \"Cayden\"}, \"Eileen\": {\"frequency\": 28, \"value\": \"Eileen\"}, \"Madison\": {\"frequency\": 42, \"value\": \"Madison\"}, \"Kassandra\": {\"frequency\": 12, \"value\": \"Kassandra\"}, \"Valentina\": {\"frequency\": 10, \"value\": \"Valentina\"}, \"Lynne\": {\"frequency\": 16, \"value\": \"Lynne\"}, \"Cameron\": {\"frequency\": 35, \"value\": \"Cameron\"}, \"Marley\": {\"frequency\": 10, \"value\": \"Marley\"}, \"Quentin\": {\"frequency\": 13, \"value\": \"Quentin\"}, \"Uriel\": {\"frequency\": 9, \"value\": \"Uriel\"}, \"Dallas\": {\"frequency\": 16, \"value\": \"Dallas\"}, \"Kristy\": {\"frequency\": 17, \"value\": \"Kristy\"}, \"Vickie\": {\"frequency\": 21, \"value\": \"Vickie\"}, \"Katelyn\": {\"frequency\": 22, \"value\": \"Katelyn\"}, \"Krista\": {\"frequency\": 17, \"value\": \"Krista\"}, \"Aaron\": {\"frequency\": 54, \"value\": \"Aaron\"}, \"Sonya\": {\"frequency\": 16, \"value\": \"Sonya\"}, \"Jeannette\": {\"frequency\": 17, \"value\": \"Jeannette\"}, \"Kristi\": {\"frequency\": 18, \"value\": \"Kristi\"}, \"Maryann\": {\"frequency\": 16, \"value\": \"Maryann\"}, \"Martha\": {\"frequency\": 55, \"value\": \"Martha\"}, \"Moshe\": {\"frequency\": 8, \"value\": \"Moshe\"}, \"Shawn\": {\"frequency\": 41, \"value\": \"Shawn\"}, \"Elvis\": {\"frequency\": 9, \"value\": \"Elvis\"}, \"Presley\": {\"frequency\": 10, \"value\": \"Presley\"}, \"Hans\": {\"frequency\": 9, \"value\": \"Hans\"}, \"Elena\": {\"frequency\": 16, \"value\": \"Elena\"}, \"Piper\": {\"frequency\": 11, \"value\": \"Piper\"}, \"Herman\": {\"frequency\": 23, \"value\": \"Herman\"}, \"Ruthie\": {\"frequency\": 10, \"value\": \"Ruthie\"}, \"Rocky\": {\"frequency\": 11, \"value\": \"Rocky\"}, \"Kelsie\": {\"frequency\": 10, \"value\": \"Kelsie\"}, \"Jean\": {\"frequency\": 52, \"value\": \"Jean\"}, \"Johanna\": {\"frequency\": 15, \"value\": \"Johanna\"}, \"Rashad\": {\"frequency\": 9, \"value\": \"Rashad\"}, \"Marianna\": {\"frequency\": 9, \"value\": \"Marianna\"}, \"Marianne\": {\"frequency\": 16, \"value\": \"Marianne\"}, \"Toni\": {\"frequency\": 20, \"value\": \"Toni\"}, \"Bettye\": {\"frequency\": 11, \"value\": \"Bettye\"}, \"Muriel\": {\"frequency\": 15, \"value\": \"Muriel\"}, \"Tony\": {\"frequency\": 33, \"value\": \"Tony\"}, \"Enrique\": {\"frequency\": 15, \"value\": \"Enrique\"}, \"Charity\": {\"frequency\": 11, \"value\": \"Charity\"}, \"Jose\": {\"frequency\": 54, \"value\": \"Jose\"}, \"Noel\": {\"frequency\": 16, \"value\": \"Noel\"}, \"Deanne\": {\"frequency\": 9, \"value\": \"Deanne\"}, \"Hudson\": {\"frequency\": 12, \"value\": \"Hudson\"}, \"Josh\": {\"frequency\": 9, \"value\": \"Josh\"}, \"Deanna\": {\"frequency\": 23, \"value\": \"Deanna\"}, \"Abigail\": {\"frequency\": 39, \"value\": \"Abigail\"}, \"Carson\": {\"frequency\": 19, \"value\": \"Carson\"}, \"Hector\": {\"frequency\": 20, \"value\": \"Hector\"}, \"Virgil\": {\"frequency\": 17, \"value\": \"Virgil\"}, \"Melissa\": {\"frequency\": 66, \"value\": \"Melissa\"}, \"Virgie\": {\"frequency\": 11, \"value\": \"Virgie\"}, \"Weston\": {\"frequency\": 12, \"value\": \"Weston\"}, \"Francisco\": {\"frequency\": 22, \"value\": \"Francisco\"}, \"Maya\": {\"frequency\": 18, \"value\": \"Maya\"}, \"Tasha\": {\"frequency\": 13, \"value\": \"Tasha\"}, \"Andres\": {\"frequency\": 18, \"value\": \"Andres\"}, \"Traci\": {\"frequency\": 15, \"value\": \"Traci\"}, \"Andrew\": {\"frequency\": 93, \"value\": \"Andrew\"}, \"Ramon\": {\"frequency\": 18, \"value\": \"Ramon\"}, \"Nolan\": {\"frequency\": 17, \"value\": \"Nolan\"}, \"Tierra\": {\"frequency\": 9, \"value\": \"Tierra\"}, \"Tracy\": {\"frequency\": 40, \"value\": \"Tracy\"}, \"Andrea\": {\"frequency\": 49, \"value\": \"Andrea\"}, \"Conor\": {\"frequency\": 10, \"value\": \"Conor\"}, \"Susana\": {\"frequency\": 10, \"value\": \"Susana\"}, \"Arnold\": {\"frequency\": 20, \"value\": \"Arnold\"}, \"Josue\": {\"frequency\": 14, \"value\": \"Josue\"}, \"Cathy\": {\"frequency\": 26, \"value\": \"Cathy\"}, \"Ida\": {\"frequency\": 28, \"value\": \"Ida\"}, \"Charley\": {\"frequency\": 11, \"value\": \"Charley\"}, \"Charles\": {\"frequency\": 161, \"value\": \"Charles\"}, \"Clifton\": {\"frequency\": 17, \"value\": \"Clifton\"}, \"Jess\": {\"frequency\": 11, \"value\": \"Jess\"}, \"Bertha\": {\"frequency\": 30, \"value\": \"Bertha\"}, \"Kelley\": {\"frequency\": 15, \"value\": \"Kelley\"}, \"Cristina\": {\"frequency\": 15, \"value\": \"Cristina\"}, \"Emily\": {\"frequency\": 66, \"value\": \"Emily\"}, \"Bryanna\": {\"frequency\": 9, \"value\": \"Bryanna\"}, \"Kayleigh\": {\"frequency\": 11, \"value\": \"Kayleigh\"}, \"Shelby\": {\"frequency\": 25, \"value\": \"Shelby\"}, \"Sherri\": {\"frequency\": 19, \"value\": \"Sherri\"}, \"Cecile\": {\"frequency\": 10, \"value\": \"Cecile\"}, \"Mitzi\": {\"frequency\": 8, \"value\": \"Mitzi\"}, \"Sonny\": {\"frequency\": 10, \"value\": \"Sonny\"}, \"Ian\": {\"frequency\": 29, \"value\": \"Ian\"}, \"Marsha\": {\"frequency\": 20, \"value\": \"Marsha\"}, \"Nadia\": {\"frequency\": 13, \"value\": \"Nadia\"}, \"Desmond\": {\"frequency\": 12, \"value\": \"Desmond\"}, \"Alana\": {\"frequency\": 15, \"value\": \"Alana\"}, \"Annabelle\": {\"frequency\": 14, \"value\": \"Annabelle\"}, \"Ronnie\": {\"frequency\": 28, \"value\": \"Ronnie\"}, \"Dan\": {\"frequency\": 20, \"value\": \"Dan\"}, \"Dominick\": {\"frequency\": 16, \"value\": \"Dominick\"}, \"Lakeisha\": {\"frequency\": 8, \"value\": \"Lakeisha\"}, \"Easton\": {\"frequency\": 11, \"value\": \"Easton\"}, \"Wanda\": {\"frequency\": 36, \"value\": \"Wanda\"}, \"Elaina\": {\"frequency\": 11, \"value\": \"Elaina\"}, \"Eleanor\": {\"frequency\": 34, \"value\": \"Eleanor\"}, \"Elaine\": {\"frequency\": 33, \"value\": \"Elaine\"}, \"Cyrus\": {\"frequency\": 10, \"value\": \"Cyrus\"}, \"Georgette\": {\"frequency\": 8, \"value\": \"Georgette\"}, \"Delia\": {\"frequency\": 13, \"value\": \"Delia\"}, \"Parker\": {\"frequency\": 19, \"value\": \"Parker\"}, \"Melina\": {\"frequency\": 9, \"value\": \"Melina\"}, \"Kali\": {\"frequency\": 10, \"value\": \"Kali\"}, \"Jazmin\": {\"frequency\": 12, \"value\": \"Jazmin\"}, \"Gayla\": {\"frequency\": 8, \"value\": \"Gayla\"}, \"Mateo\": {\"frequency\": 11, \"value\": \"Mateo\"}, \"Katrina\": {\"frequency\": 20, \"value\": \"Katrina\"}, \"Suzanne\": {\"frequency\": 30, \"value\": \"Suzanne\"}, \"George\": {\"frequency\": 118, \"value\": \"George\"}, \"Kevin\": {\"frequency\": 91, \"value\": \"Kevin\"}, \"Tatiana\": {\"frequency\": 12, \"value\": \"Tatiana\"}, \"Rex\": {\"frequency\": 16, \"value\": \"Rex\"}, \"Silvia\": {\"frequency\": 10, \"value\": \"Silvia\"}, \"Darrel\": {\"frequency\": 12, \"value\": \"Darrel\"}, \"Darren\": {\"frequency\": 20, \"value\": \"Darren\"}, \"Nellie\": {\"frequency\": 24, \"value\": \"Nellie\"}, \"Rick\": {\"frequency\": 18, \"value\": \"Rick\"}, \"Jane\": {\"frequency\": 41, \"value\": \"Jane\"}, \"Bryson\": {\"frequency\": 14, \"value\": \"Bryson\"}, \"Jana\": {\"frequency\": 14, \"value\": \"Jana\"}, \"Bert\": {\"frequency\": 12, \"value\": \"Bert\"}, \"Alina\": {\"frequency\": 11, \"value\": \"Alina\"}, \"Aline\": {\"frequency\": 9, \"value\": \"Aline\"}, \"Bruce\": {\"frequency\": 45, \"value\": \"Bruce\"}, \"Timmy\": {\"frequency\": 11, \"value\": \"Timmy\"}, \"Federico\": {\"frequency\": 7, \"value\": \"Federico\"}, \"Cruz\": {\"frequency\": 10, \"value\": \"Cruz\"}, \"Francis\": {\"frequency\": 39, \"value\": \"Francis\"}, \"Emma\": {\"frequency\": 56, \"value\": \"Emma\"}, \"Darin\": {\"frequency\": 12, \"value\": \"Darin\"}, \"Benny\": {\"frequency\": 14, \"value\": \"Benny\"}, \"Lorie\": {\"frequency\": 10, \"value\": \"Lorie\"}, \"Damaris\": {\"frequency\": 8, \"value\": \"Damaris\"}, \"Elissa\": {\"frequency\": 9, \"value\": \"Elissa\"}, \"David\": {\"frequency\": 178, \"value\": \"David\"}, \"Amanda\": {\"frequency\": 67, \"value\": \"Amanda\"}, \"Alyssa\": {\"frequency\": 36, \"value\": \"Alyssa\"}, \"Saul\": {\"frequency\": 13, \"value\": \"Saul\"}, \"Dean\": {\"frequency\": 26, \"value\": \"Dean\"}, \"Cynthia\": {\"frequency\": 63, \"value\": \"Cynthia\"}, \"Percy\": {\"frequency\": 12, \"value\": \"Percy\"}, \"Travis\": {\"frequency\": 37, \"value\": \"Travis\"}, \"Aimee\": {\"frequency\": 15, \"value\": \"Aimee\"}, \"Francesca\": {\"frequency\": 11, \"value\": \"Francesca\"}, \"Ariel\": {\"frequency\": 18, \"value\": \"Ariel\"}, \"Chrystal\": {\"frequency\": 10, \"value\": \"Chrystal\"}, \"Alyson\": {\"frequency\": 11, \"value\": \"Alyson\"}, \"Alberto\": {\"frequency\": 16, \"value\": \"Alberto\"}, \"Alberta\": {\"frequency\": 17, \"value\": \"Alberta\"}, \"Joni\": {\"frequency\": 11, \"value\": \"Joni\"}, \"Tonia\": {\"frequency\": 10, \"value\": \"Tonia\"}, \"August\": {\"frequency\": 13, \"value\": \"August\"}, \"Giselle\": {\"frequency\": 13, \"value\": \"Giselle\"}, \"Suzette\": {\"frequency\": 9, \"value\": \"Suzette\"}, \"Tammy\": {\"frequency\": 41, \"value\": \"Tammy\"}, \"Cedric\": {\"frequency\": 13, \"value\": \"Cedric\"}, \"Jaclyn\": {\"frequency\": 15, \"value\": \"Jaclyn\"}, \"Iris\": {\"frequency\": 17, \"value\": \"Iris\"}, \"Ben\": {\"frequency\": 18, \"value\": \"Ben\"}, \"Eva\": {\"frequency\": 33, \"value\": \"Eva\"}, \"Orlando\": {\"frequency\": 14, \"value\": \"Orlando\"}, \"Eve\": {\"frequency\": 11, \"value\": \"Eve\"}, \"Latoya\": {\"frequency\": 14, \"value\": \"Latoya\"}, \"Asher\": {\"frequency\": 11, \"value\": \"Asher\"}, \"Jimmy\": {\"frequency\": 36, \"value\": \"Jimmy\"}, \"Brad\": {\"frequency\": 18, \"value\": \"Brad\"}, \"Gerardo\": {\"frequency\": 15, \"value\": \"Gerardo\"}, \"German\": {\"frequency\": 7, \"value\": \"German\"}, \"Adolfo\": {\"frequency\": 9, \"value\": \"Adolfo\"}, \"Sage\": {\"frequency\": 10, \"value\": \"Sage\"}, \"Fern\": {\"frequency\": 13, \"value\": \"Fern\"}, \"Tayler\": {\"frequency\": 8, \"value\": \"Tayler\"}, \"Chauncey\": {\"frequency\": 7, \"value\": \"Chauncey\"}, \"Bentley\": {\"frequency\": 11, \"value\": \"Bentley\"}, \"Gertrude\": {\"frequency\": 27, \"value\": \"Gertrude\"}, \"Sharon\": {\"frequency\": 64, \"value\": \"Sharon\"}, \"Heather\": {\"frequency\": 53, \"value\": \"Heather\"}, \"Carina\": {\"frequency\": 9, \"value\": \"Carina\"}, \"Stephany\": {\"frequency\": 9, \"value\": \"Stephany\"}, \"Layla\": {\"frequency\": 16, \"value\": \"Layla\"}, \"Edmund\": {\"frequency\": 15, \"value\": \"Edmund\"}, \"Damon\": {\"frequency\": 16, \"value\": \"Damon\"}, \"Effie\": {\"frequency\": 14, \"value\": \"Effie\"}, \"Reuben\": {\"frequency\": 11, \"value\": \"Reuben\"}, \"Walter\": {\"frequency\": 58, \"value\": \"Walter\"}, \"Jermaine\": {\"frequency\": 13, \"value\": \"Jermaine\"}, \"Tristan\": {\"frequency\": 20, \"value\": \"Tristan\"}, \"Jarvis\": {\"frequency\": 9, \"value\": \"Jarvis\"}, \"Gail\": {\"frequency\": 29, \"value\": \"Gail\"}, \"Mayra\": {\"frequency\": 12, \"value\": \"Mayra\"}, \"Natalie\": {\"frequency\": 39, \"value\": \"Natalie\"}, \"Natalia\": {\"frequency\": 15, \"value\": \"Natalia\"}, \"Tania\": {\"frequency\": 11, \"value\": \"Tania\"}, \"Jackie\": {\"frequency\": 26, \"value\": \"Jackie\"}, \"Kendrick\": {\"frequency\": 11, \"value\": \"Kendrick\"}, \"Alaina\": {\"frequency\": 12, \"value\": \"Alaina\"}, \"Annamarie\": {\"frequency\": 8, \"value\": \"Annamarie\"}, \"Kiara\": {\"frequency\": 14, \"value\": \"Kiara\"}, \"Isabel\": {\"frequency\": 21, \"value\": \"Isabel\"}, \"Leslie\": {\"frequency\": 45, \"value\": \"Leslie\"}, \"Terrie\": {\"frequency\": 10, \"value\": \"Terrie\"}, \"Jay\": {\"frequency\": 28, \"value\": \"Jay\"}, \"Edwina\": {\"frequency\": 9, \"value\": \"Edwina\"}, \"Jan\": {\"frequency\": 18, \"value\": \"Jan\"}, \"Simon\": {\"frequency\": 15, \"value\": \"Simon\"}, \"Elias\": {\"frequency\": 16, \"value\": \"Elias\"}, \"Teagan\": {\"frequency\": 8, \"value\": \"Teagan\"}, \"Stacy\": {\"frequency\": 29, \"value\": \"Stacy\"}, \"Aron\": {\"frequency\": 10, \"value\": \"Aron\"}, \"Rogelio\": {\"frequency\": 11, \"value\": \"Rogelio\"}, \"Wesley\": {\"frequency\": 29, \"value\": \"Wesley\"}, \"Cullen\": {\"frequency\": 8, \"value\": \"Cullen\"}, \"Whitney\": {\"frequency\": 20, \"value\": \"Whitney\"}, \"Alisa\": {\"frequency\": 12, \"value\": \"Alisa\"}, \"Amir\": {\"frequency\": 10, \"value\": \"Amir\"}, \"Grace\": {\"frequency\": 50, \"value\": \"Grace\"}, \"Terrence\": {\"frequency\": 17, \"value\": \"Terrence\"}, \"Kyla\": {\"frequency\": 13, \"value\": \"Kyla\"}, \"Kyle\": {\"frequency\": 53, \"value\": \"Kyle\"}, \"Augusta\": {\"frequency\": 9, \"value\": \"Augusta\"}, \"Maximus\": {\"frequency\": 9, \"value\": \"Maximus\"}, \"Gordon\": {\"frequency\": 25, \"value\": \"Gordon\"}, \"Kaitlin\": {\"frequency\": 16, \"value\": \"Kaitlin\"}, \"Elinor\": {\"frequency\": 10, \"value\": \"Elinor\"}, \"Kay\": {\"frequency\": 20, \"value\": \"Kay\"}, \"Theron\": {\"frequency\": 8, \"value\": \"Theron\"}, \"Marlene\": {\"frequency\": 22, \"value\": \"Marlene\"}, \"Kaitlynn\": {\"frequency\": 10, \"value\": \"Kaitlynn\"}, \"Khalil\": {\"frequency\": 9, \"value\": \"Khalil\"}, \"Wilbert\": {\"frequency\": 13, \"value\": \"Wilbert\"}, \"Joaquin\": {\"frequency\": 11, \"value\": \"Joaquin\"}, \"Bernadette\": {\"frequency\": 15, \"value\": \"Bernadette\"}, \"Mila\": {\"frequency\": 8, \"value\": \"Mila\"}, \"Milo\": {\"frequency\": 9, \"value\": \"Milo\"}, \"Renee\": {\"frequency\": 28, \"value\": \"Renee\"}, \"Luz\": {\"frequency\": 12, \"value\": \"Luz\"}, \"Lyndsey\": {\"frequency\": 9, \"value\": \"Lyndsey\"}, \"Eugenia\": {\"frequency\": 12, \"value\": \"Eugenia\"}, \"Caroline\": {\"frequency\": 29, \"value\": \"Caroline\"}, \"Deborah\": {\"frequency\": 66, \"value\": \"Deborah\"}, \"Carolina\": {\"frequency\": 13, \"value\": \"Carolina\"}, \"Ken\": {\"frequency\": 12, \"value\": \"Ken\"}, \"Brendon\": {\"frequency\": 10, \"value\": \"Brendon\"}, \"Elizabeth\": {\"frequency\": 130, \"value\": \"Elizabeth\"}, \"Therese\": {\"frequency\": 12, \"value\": \"Therese\"}, \"Theresa\": {\"frequency\": 47, \"value\": \"Theresa\"}, \"Rosalind\": {\"frequency\": 11, \"value\": \"Rosalind\"}, \"Joe\": {\"frequency\": 50, \"value\": \"Joe\"}, \"Maureen\": {\"frequency\": 24, \"value\": \"Maureen\"}, \"Josie\": {\"frequency\": 15, \"value\": \"Josie\"}, \"Jon\": {\"frequency\": 26, \"value\": \"Jon\"}, \"Valeria\": {\"frequency\": 16, \"value\": \"Valeria\"}, \"Valerie\": {\"frequency\": 34, \"value\": \"Valerie\"}, \"Jude\": {\"frequency\": 11, \"value\": \"Jude\"}, \"Felipe\": {\"frequency\": 12, \"value\": \"Felipe\"}, \"Judy\": {\"frequency\": 46, \"value\": \"Judy\"}, \"Ervin\": {\"frequency\": 13, \"value\": \"Ervin\"}, \"Mamie\": {\"frequency\": 18, \"value\": \"Mamie\"}, \"Will\": {\"frequency\": 14, \"value\": \"Will\"}, \"Angelia\": {\"frequency\": 10, \"value\": \"Angelia\"}, \"Julian\": {\"frequency\": 27, \"value\": \"Julian\"}, \"Jeffry\": {\"frequency\": 9, \"value\": \"Jeffry\"}, \"Erin\": {\"frequency\": 39, \"value\": \"Erin\"}, \"Erik\": {\"frequency\": 24, \"value\": \"Erik\"}, \"Eric\": {\"frequency\": 71, \"value\": \"Eric\"}, \"Adelaide\": {\"frequency\": 10, \"value\": \"Adelaide\"}, \"Brock\": {\"frequency\": 13, \"value\": \"Brock\"}, \"Sanford\": {\"frequency\": 9, \"value\": \"Sanford\"}, \"Blanca\": {\"frequency\": 11, \"value\": \"Blanca\"}, \"Asia\": {\"frequency\": 12, \"value\": \"Asia\"}, \"Minerva\": {\"frequency\": 9, \"value\": \"Minerva\"}, \"Diamond\": {\"frequency\": 12, \"value\": \"Diamond\"}, \"Chantel\": {\"frequency\": 9, \"value\": \"Chantel\"}, \"Levi\": {\"frequency\": 21, \"value\": \"Levi\"}, \"Keira\": {\"frequency\": 11, \"value\": \"Keira\"}, \"Janette\": {\"frequency\": 11, \"value\": \"Janette\"}, \"Destinee\": {\"frequency\": 8, \"value\": \"Destinee\"}, \"Leonel\": {\"frequency\": 9, \"value\": \"Leonel\"}, \"Deirdre\": {\"frequency\": 9, \"value\": \"Deirdre\"}, \"Margarita\": {\"frequency\": 13, \"value\": \"Margarita\"}, \"Kaiden\": {\"frequency\": 11, \"value\": \"Kaiden\"}, \"Demetrius\": {\"frequency\": 12, \"value\": \"Demetrius\"}, \"Britney\": {\"frequency\": 11, \"value\": \"Britney\"}, \"Patrice\": {\"frequency\": 12, \"value\": \"Patrice\"}, \"Patrick\": {\"frequency\": 61, \"value\": \"Patrick\"}, \"Elvin\": {\"frequency\": 10, \"value\": \"Elvin\"}, \"Miles\": {\"frequency\": 16, \"value\": \"Miles\"}, \"Ismael\": {\"frequency\": 12, \"value\": \"Ismael\"}, \"Beverly\": {\"frequency\": 46, \"value\": \"Beverly\"}, \"Kurt\": {\"frequency\": 19, \"value\": \"Kurt\"}, \"Teresa\": {\"frequency\": 48, \"value\": \"Teresa\"}, \"Lester\": {\"frequency\": 23, \"value\": \"Lester\"}, \"Alejandro\": {\"frequency\": 22, \"value\": \"Alejandro\"}, \"Hubert\": {\"frequency\": 16, \"value\": \"Hubert\"}, \"Liliana\": {\"frequency\": 14, \"value\": \"Liliana\"}, \"Elva\": {\"frequency\": 12, \"value\": \"Elva\"}, \"Alejandra\": {\"frequency\": 13, \"value\": \"Alejandra\"}, \"Tami\": {\"frequency\": 13, \"value\": \"Tami\"}, \"Clint\": {\"frequency\": 12, \"value\": \"Clint\"}, \"Gussie\": {\"frequency\": 9, \"value\": \"Gussie\"}, \"Marcos\": {\"frequency\": 14, \"value\": \"Marcos\"}, \"Tori\": {\"frequency\": 12, \"value\": \"Tori\"}, \"Cali\": {\"frequency\": 8, \"value\": \"Cali\"}, \"Shaun\": {\"frequency\": 17, \"value\": \"Shaun\"}, \"Sadie\": {\"frequency\": 20, \"value\": \"Sadie\"}, \"Rhett\": {\"frequency\": 8, \"value\": \"Rhett\"}, \"Alicia\": {\"frequency\": 30, \"value\": \"Alicia\"}, \"Jeannine\": {\"frequency\": 11, \"value\": \"Jeannine\"}, \"Quinn\": {\"frequency\": 14, \"value\": \"Quinn\"}, \"Jared\": {\"frequency\": 28, \"value\": \"Jared\"}, \"Chantelle\": {\"frequency\": 6, \"value\": \"Chantelle\"}, \"Allison\": {\"frequency\": 35, \"value\": \"Allison\"}, \"Keri\": {\"frequency\": 12, \"value\": \"Keri\"}, \"Myrtle\": {\"frequency\": 23, \"value\": \"Myrtle\"}, \"Frankie\": {\"frequency\": 17, \"value\": \"Frankie\"}, \"Celeste\": {\"frequency\": 15, \"value\": \"Celeste\"}, \"Letitia\": {\"frequency\": 8, \"value\": \"Letitia\"}, \"Audrey\": {\"frequency\": 34, \"value\": \"Audrey\"}, \"Ebony\": {\"frequency\": 13, \"value\": \"Ebony\"}, \"Barry\": {\"frequency\": 27, \"value\": \"Barry\"}, \"Roland\": {\"frequency\": 20, \"value\": \"Roland\"}, \"Kent\": {\"frequency\": 18, \"value\": \"Kent\"}, \"Terrell\": {\"frequency\": 13, \"value\": \"Terrell\"}, \"Stephen\": {\"frequency\": 70, \"value\": \"Stephen\"}, \"Tess\": {\"frequency\": 8, \"value\": \"Tess\"}, \"Nayeli\": {\"frequency\": 9, \"value\": \"Nayeli\"}, \"Bianca\": {\"frequency\": 17, \"value\": \"Bianca\"}, \"Campbell\": {\"frequency\": 8, \"value\": \"Campbell\"}, \"Luther\": {\"frequency\": 16, \"value\": \"Luther\"}, \"Amie\": {\"frequency\": 10, \"value\": \"Amie\"}, \"Louis\": {\"frequency\": 46, \"value\": \"Louis\"}, \"Ahmad\": {\"frequency\": 9, \"value\": \"Ahmad\"}, \"Laverne\": {\"frequency\": 16, \"value\": \"Laverne\"}, \"Gwendolyn\": {\"frequency\": 20, \"value\": \"Gwendolyn\"}, \"Rodney\": {\"frequency\": 32, \"value\": \"Rodney\"}, \"Louie\": {\"frequency\": 12, \"value\": \"Louie\"}, \"Stacey\": {\"frequency\": 26, \"value\": \"Stacey\"}, \"Gillian\": {\"frequency\": 9, \"value\": \"Gillian\"}, \"Angel\": {\"frequency\": 36, \"value\": \"Angel\"}, \"Winnie\": {\"frequency\": 11, \"value\": \"Winnie\"}, \"Felix\": {\"frequency\": 16, \"value\": \"Felix\"}, \"Denise\": {\"frequency\": 45, \"value\": \"Denise\"}, \"Allen\": {\"frequency\": 35, \"value\": \"Allen\"}, \"Grant\": {\"frequency\": 21, \"value\": \"Grant\"}, \"Patricia\": {\"frequency\": 129, \"value\": \"Patricia\"}, \"Dayton\": {\"frequency\": 8, \"value\": \"Dayton\"}, \"Madeline\": {\"frequency\": 25, \"value\": \"Madeline\"}, \"Jonah\": {\"frequency\": 15, \"value\": \"Jonah\"}, \"Mathew\": {\"frequency\": 17, \"value\": \"Mathew\"}, \"Jonas\": {\"frequency\": 10, \"value\": \"Jonas\"}, \"Trinity\": {\"frequency\": 17, \"value\": \"Trinity\"}, \"Debora\": {\"frequency\": 12, \"value\": \"Debora\"}, \"Lilian\": {\"frequency\": 9, \"value\": \"Lilian\"}, \"Jayne\": {\"frequency\": 11, \"value\": \"Jayne\"}, \"Marco\": {\"frequency\": 16, \"value\": \"Marco\"}, \"Constance\": {\"frequency\": 24, \"value\": \"Constance\"}, \"Rolando\": {\"frequency\": 11, \"value\": \"Rolando\"}, \"Lavern\": {\"frequency\": 9, \"value\": \"Lavern\"}, \"Monte\": {\"frequency\": 12, \"value\": \"Monte\"}, \"Carolyn\": {\"frequency\": 56, \"value\": \"Carolyn\"}, \"Ophelia\": {\"frequency\": 9, \"value\": \"Ophelia\"}, \"Cornelius\": {\"frequency\": 13, \"value\": \"Cornelius\"}, \"Monty\": {\"frequency\": 9, \"value\": \"Monty\"}, \"Jeremy\": {\"frequency\": 49, \"value\": \"Jeremy\"}, \"Skyler\": {\"frequency\": 16, \"value\": \"Skyler\"}, \"Jessie\": {\"frequency\": 35, \"value\": \"Jessie\"}, \"Mollie\": {\"frequency\": 14, \"value\": \"Mollie\"}, \"Tonya\": {\"frequency\": 22, \"value\": \"Tonya\"}, \"Pearl\": {\"frequency\": 25, \"value\": \"Pearl\"}, \"Forrest\": {\"frequency\": 14, \"value\": \"Forrest\"}, \"Riley\": {\"frequency\": 26, \"value\": \"Riley\"}, \"Myles\": {\"frequency\": 12, \"value\": \"Myles\"}, \"Freda\": {\"frequency\": 14, \"value\": \"Freda\"}, \"Loyd\": {\"frequency\": 11, \"value\": \"Loyd\"}, \"Melanie\": {\"frequency\": 31, \"value\": \"Melanie\"}, \"Marietta\": {\"frequency\": 9, \"value\": \"Marietta\"}, \"Amari\": {\"frequency\": 11, \"value\": \"Amari\"}, \"Evan\": {\"frequency\": 32, \"value\": \"Evan\"}, \"Beth\": {\"frequency\": 25, \"value\": \"Beth\"}, \"Princess\": {\"frequency\": 8, \"value\": \"Princess\"}, \"Ashlynn\": {\"frequency\": 9, \"value\": \"Ashlynn\"}, \"Phil\": {\"frequency\": 10, \"value\": \"Phil\"}, \"Vincent\": {\"frequency\": 40, \"value\": \"Vincent\"}, \"Barbara\": {\"frequency\": 111, \"value\": \"Barbara\"}, \"Zackary\": {\"frequency\": 11, \"value\": \"Zackary\"}, \"Kenneth\": {\"frequency\": 93, \"value\": \"Kenneth\"}, \"Dorthy\": {\"frequency\": 10, \"value\": \"Dorthy\"}, \"Reagan\": {\"frequency\": 13, \"value\": \"Reagan\"}, \"Emely\": {\"frequency\": 9, \"value\": \"Emely\"}, \"Janine\": {\"frequency\": 12, \"value\": \"Janine\"}, \"Lauren\": {\"frequency\": 50, \"value\": \"Lauren\"}, \"Conner\": {\"frequency\": 14, \"value\": \"Conner\"}, \"Edwin\": {\"frequency\": 31, \"value\": \"Edwin\"}, \"Dick\": {\"frequency\": 12, \"value\": \"Dick\"}, \"Brianna\": {\"frequency\": 31, \"value\": \"Brianna\"}, \"Otis\": {\"frequency\": 16, \"value\": \"Otis\"}, \"Brianne\": {\"frequency\": 10, \"value\": \"Brianne\"}, \"Mckinley\": {\"frequency\": 9, \"value\": \"Mckinley\"}, \"Susanne\": {\"frequency\": 11, \"value\": \"Susanne\"}, \"Isiah\": {\"frequency\": 11, \"value\": \"Isiah\"}, \"Chandler\": {\"frequency\": 13, \"value\": \"Chandler\"}, \"Susanna\": {\"frequency\": 10, \"value\": \"Susanna\"}, \"Israel\": {\"frequency\": 15, \"value\": \"Israel\"}, \"Nell\": {\"frequency\": 11, \"value\": \"Nell\"}, \"Freddie\": {\"frequency\": 18, \"value\": \"Freddie\"}, \"Carol\": {\"frequency\": 69, \"value\": \"Carol\"}, \"Jodie\": {\"frequency\": 12, \"value\": \"Jodie\"}, \"Salvador\": {\"frequency\": 14, \"value\": \"Salvador\"}, \"Leroy\": {\"frequency\": 28, \"value\": \"Leroy\"}, \"Lorena\": {\"frequency\": 14, \"value\": \"Lorena\"}, \"Geraldine\": {\"frequency\": 28, \"value\": \"Geraldine\"}, \"Lorene\": {\"frequency\": 13, \"value\": \"Lorene\"}, \"Arianna\": {\"frequency\": 17, \"value\": \"Arianna\"}, \"Macie\": {\"frequency\": 10, \"value\": \"Macie\"}, \"Rena\": {\"frequency\": 13, \"value\": \"Rena\"}, \"Janna\": {\"frequency\": 9, \"value\": \"Janna\"}, \"Rene\": {\"frequency\": 17, \"value\": \"Rene\"}, \"Hallie\": {\"frequency\": 12, \"value\": \"Hallie\"}, \"Terence\": {\"frequency\": 13, \"value\": \"Terence\"}, \"Carlton\": {\"frequency\": 15, \"value\": \"Carlton\"}, \"Frieda\": {\"frequency\": 11, \"value\": \"Frieda\"}, \"Jimmie\": {\"frequency\": 23, \"value\": \"Jimmie\"}, \"Kaitlyn\": {\"frequency\": 25, \"value\": \"Kaitlyn\"}, \"Lesley\": {\"frequency\": 13, \"value\": \"Lesley\"}, \"Rylan\": {\"frequency\": 11, \"value\": \"Rylan\"}, \"Daniel\": {\"frequency\": 146, \"value\": \"Daniel\"}, \"Colby\": {\"frequency\": 16, \"value\": \"Colby\"}, \"Judith\": {\"frequency\": 50, \"value\": \"Judith\"}, \"Sterling\": {\"frequency\": 11, \"value\": \"Sterling\"}, \"Dwight\": {\"frequency\": 18, \"value\": \"Dwight\"}, \"Margaret\": {\"frequency\": 93, \"value\": \"Margaret\"}, \"Derick\": {\"frequency\": 10, \"value\": \"Derick\"}, \"Olive\": {\"frequency\": 15, \"value\": \"Olive\"}, \"Winston\": {\"frequency\": 11, \"value\": \"Winston\"}, \"Kyleigh\": {\"frequency\": 9, \"value\": \"Kyleigh\"}, \"Jayla\": {\"frequency\": 12, \"value\": \"Jayla\"}, \"Mona\": {\"frequency\": 14, \"value\": \"Mona\"}, \"Kasey\": {\"frequency\": 14, \"value\": \"Kasey\"}, \"Phillip\": {\"frequency\": 38, \"value\": \"Phillip\"}, \"Drake\": {\"frequency\": 12, \"value\": \"Drake\"}, \"Denny\": {\"frequency\": 9, \"value\": \"Denny\"}, \"Solomon\": {\"frequency\": 11, \"value\": \"Solomon\"}, \"Shari\": {\"frequency\": 13, \"value\": \"Shari\"}, \"Elma\": {\"frequency\": 10, \"value\": \"Elma\"}, \"Sergio\": {\"frequency\": 17, \"value\": \"Sergio\"}, \"Izabella\": {\"frequency\": 10, \"value\": \"Izabella\"}, \"London\": {\"frequency\": 12, \"value\": \"London\"}, \"Mya\": {\"frequency\": 14, \"value\": \"Mya\"}, \"Antoinette\": {\"frequency\": 18, \"value\": \"Antoinette\"}, \"Perry\": {\"frequency\": 18, \"value\": \"Perry\"}, \"Marc\": {\"frequency\": 23, \"value\": \"Marc\"}, \"Gerald\": {\"frequency\": 49, \"value\": \"Gerald\"}, \"Ned\": {\"frequency\": 9, \"value\": \"Ned\"}, \"Mari\": {\"frequency\": 9, \"value\": \"Mari\"}, \"Mark\": {\"frequency\": 96, \"value\": \"Mark\"}, \"Geoffrey\": {\"frequency\": 15, \"value\": \"Geoffrey\"}, \"Lynnette\": {\"frequency\": 10, \"value\": \"Lynnette\"}, \"Ellen\": {\"frequency\": 35, \"value\": \"Ellen\"}, \"Alfred\": {\"frequency\": 32, \"value\": \"Alfred\"}, \"Delaney\": {\"frequency\": 12, \"value\": \"Delaney\"}, \"Mary\": {\"frequency\": 209, \"value\": \"Mary\"}, \"Rodger\": {\"frequency\": 10, \"value\": \"Rodger\"}, \"Woodrow\": {\"frequency\": 13, \"value\": \"Woodrow\"}, \"Vaughn\": {\"frequency\": 10, \"value\": \"Vaughn\"}, \"Ruby\": {\"frequency\": 42, \"value\": \"Ruby\"}, \"Marilyn\": {\"frequency\": 44, \"value\": \"Marilyn\"}, \"Earl\": {\"frequency\": 36, \"value\": \"Earl\"}, \"Keon\": {\"frequency\": 6, \"value\": \"Keon\"}, \"Teri\": {\"frequency\": 14, \"value\": \"Teri\"}, \"Jeanine\": {\"frequency\": 11, \"value\": \"Jeanine\"}, \"Marilynn\": {\"frequency\": 8, \"value\": \"Marilynn\"}, \"Cash\": {\"frequency\": 7, \"value\": \"Cash\"}, \"Corina\": {\"frequency\": 9, \"value\": \"Corina\"}, \"Corine\": {\"frequency\": 9, \"value\": \"Corine\"}, \"Tamara\": {\"frequency\": 22, \"value\": \"Tamara\"}, \"Glenda\": {\"frequency\": 21, \"value\": \"Glenda\"}, \"Jazmine\": {\"frequency\": 12, \"value\": \"Jazmine\"}, \"Leigh\": {\"frequency\": 14, \"value\": \"Leigh\"}, \"Thelma\": {\"frequency\": 30, \"value\": \"Thelma\"}, \"Celina\": {\"frequency\": 8, \"value\": \"Celina\"}, \"Yvette\": {\"frequency\": 17, \"value\": \"Yvette\"}, \"Julianna\": {\"frequency\": 14, \"value\": \"Julianna\"}, \"Julianne\": {\"frequency\": 9, \"value\": \"Julianne\"}, \"Ronda\": {\"frequency\": 12, \"value\": \"Ronda\"}, \"Jordon\": {\"frequency\": 9, \"value\": \"Jordon\"}, \"Leticia\": {\"frequency\": 14, \"value\": \"Leticia\"}, \"Otto\": {\"frequency\": 12, \"value\": \"Otto\"}, \"Ada\": {\"frequency\": 19, \"value\": \"Ada\"}, \"Joselyn\": {\"frequency\": 9, \"value\": \"Joselyn\"}, \"Harold\": {\"frequency\": 55, \"value\": \"Harold\"}, \"Norma\": {\"frequency\": 35, \"value\": \"Norma\"}, \"Jamie\": {\"frequency\": 43, \"value\": \"Jamie\"}, \"Greyson\": {\"frequency\": 9, \"value\": \"Greyson\"}, \"Floyd\": {\"frequency\": 25, \"value\": \"Floyd\"}, \"Jarrod\": {\"frequency\": 11, \"value\": \"Jarrod\"}, \"Latonya\": {\"frequency\": 10, \"value\": \"Latonya\"}, \"Sabrina\": {\"frequency\": 23, \"value\": \"Sabrina\"}, \"Stevie\": {\"frequency\": 10, \"value\": \"Stevie\"}, \"Mikaela\": {\"frequency\": 9, \"value\": \"Mikaela\"}, \"Horace\": {\"frequency\": 15, \"value\": \"Horace\"}, \"Zelda\": {\"frequency\": 8, \"value\": \"Zelda\"}, \"Harry\": {\"frequency\": 48, \"value\": \"Harry\"}, \"Walker\": {\"frequency\": 10, \"value\": \"Walker\"}, \"Carlie\": {\"frequency\": 9, \"value\": \"Carlie\"}, \"Chadwick\": {\"frequency\": 8, \"value\": \"Chadwick\"}, \"Haley\": {\"frequency\": 25, \"value\": \"Haley\"}, \"Joanne\": {\"frequency\": 29, \"value\": \"Joanne\"}, \"Eddie\": {\"frequency\": 30, \"value\": \"Eddie\"}, \"Jaylin\": {\"frequency\": 9, \"value\": \"Jaylin\"}, \"Aliyah\": {\"frequency\": 12, \"value\": \"Aliyah\"}, \"Joanna\": {\"frequency\": 20, \"value\": \"Joanna\"}, \"Ava\": {\"frequency\": 28, \"value\": \"Ava\"}, \"Alison\": {\"frequency\": 21, \"value\": \"Alison\"}, \"Louisa\": {\"frequency\": 10, \"value\": \"Louisa\"}, \"Leora\": {\"frequency\": 8, \"value\": \"Leora\"}, \"Louise\": {\"frequency\": 41, \"value\": \"Louise\"}, \"Camille\": {\"frequency\": 16, \"value\": \"Camille\"}, \"Camilla\": {\"frequency\": 10, \"value\": \"Camilla\"}, \"Ester\": {\"frequency\": 9, \"value\": \"Ester\"}, \"Joslyn\": {\"frequency\": 7, \"value\": \"Joslyn\"}, \"Blanche\": {\"frequency\": 19, \"value\": \"Blanche\"}, \"Monica\": {\"frequency\": 32, \"value\": \"Monica\"}, \"Jake\": {\"frequency\": 21, \"value\": \"Jake\"}, \"Garland\": {\"frequency\": 11, \"value\": \"Garland\"}, \"Janae\": {\"frequency\": 9, \"value\": \"Janae\"}, \"Jordyn\": {\"frequency\": 14, \"value\": \"Jordyn\"}, \"Annika\": {\"frequency\": 7, \"value\": \"Annika\"}, \"Marlon\": {\"frequency\": 11, \"value\": \"Marlon\"}, \"Laila\": {\"frequency\": 11, \"value\": \"Laila\"}, \"Fernanda\": {\"frequency\": 8, \"value\": \"Fernanda\"}, \"Alex\": {\"frequency\": 34, \"value\": \"Alex\"}, \"Roscoe\": {\"frequency\": 11, \"value\": \"Roscoe\"}, \"Fernando\": {\"frequency\": 19, \"value\": \"Fernando\"}, \"Reynaldo\": {\"frequency\": 10, \"value\": \"Reynaldo\"}, \"Bettie\": {\"frequency\": 13, \"value\": \"Bettie\"}, \"Shelia\": {\"frequency\": 15, \"value\": \"Shelia\"}, \"Alfreda\": {\"frequency\": 8, \"value\": \"Alfreda\"}, \"Alfredo\": {\"frequency\": 15, \"value\": \"Alfredo\"}, \"Aspen\": {\"frequency\": 8, \"value\": \"Aspen\"}, \"Alec\": {\"frequency\": 15, \"value\": \"Alec\"}, \"Selina\": {\"frequency\": 9, \"value\": \"Selina\"}, \"Darlene\": {\"frequency\": 29, \"value\": \"Darlene\"}, \"Lyric\": {\"frequency\": 8, \"value\": \"Lyric\"}, \"Cleo\": {\"frequency\": 14, \"value\": \"Cleo\"}, \"Pablo\": {\"frequency\": 14, \"value\": \"Pablo\"}, \"Jaqueline\": {\"frequency\": 9, \"value\": \"Jaqueline\"}, \"Melvin\": {\"frequency\": 32, \"value\": \"Melvin\"}, \"Dion\": {\"frequency\": 11, \"value\": \"Dion\"}, \"Van\": {\"frequency\": 11, \"value\": \"Van\"}, \"Unknown\": {\"frequency\": 10, \"value\": \"Unknown\"}, \"Wayne\": {\"frequency\": 43, \"value\": \"Wayne\"}, \"Moses\": {\"frequency\": 14, \"value\": \"Moses\"}, \"Dena\": {\"frequency\": 12, \"value\": \"Dena\"}, \"Valarie\": {\"frequency\": 10, \"value\": \"Valarie\"}, \"Ella\": {\"frequency\": 34, \"value\": \"Ella\"}, \"Harper\": {\"frequency\": 11, \"value\": \"Harper\"}, \"Maddox\": {\"frequency\": 10, \"value\": \"Maddox\"}, \"Precious\": {\"frequency\": 10, \"value\": \"Precious\"}, \"Rickey\": {\"frequency\": 16, \"value\": \"Rickey\"}, \"Arturo\": {\"frequency\": 16, \"value\": \"Arturo\"}, \"Ollie\": {\"frequency\": 15, \"value\": \"Ollie\"}, \"Dante\": {\"frequency\": 13, \"value\": \"Dante\"}, \"Erwin\": {\"frequency\": 9, \"value\": \"Erwin\"}, \"Sebastian\": {\"frequency\": 20, \"value\": \"Sebastian\"}, \"Leola\": {\"frequency\": 11, \"value\": \"Leola\"}, \"Aubree\": {\"frequency\": 11, \"value\": \"Aubree\"}, \"Joshua\": {\"frequency\": 92, \"value\": \"Joshua\"}, \"Gwen\": {\"frequency\": 11, \"value\": \"Gwen\"}, \"Marquita\": {\"frequency\": 8, \"value\": \"Marquita\"}, \"Carly\": {\"frequency\": 16, \"value\": \"Carly\"}, \"Toby\": {\"frequency\": 13, \"value\": \"Toby\"}, \"Bonnie\": {\"frequency\": 40, \"value\": \"Bonnie\"}, \"Kathryn\": {\"frequency\": 49, \"value\": \"Kathryn\"}, \"Roderick\": {\"frequency\": 14, \"value\": \"Roderick\"}, \"Carla\": {\"frequency\": 24, \"value\": \"Carla\"}, \"Darrell\": {\"frequency\": 25, \"value\": \"Darrell\"}, \"Fiona\": {\"frequency\": 10, \"value\": \"Fiona\"}, \"Esteban\": {\"frequency\": 11, \"value\": \"Esteban\"}, \"Melva\": {\"frequency\": 9, \"value\": \"Melva\"}, \"Marshall\": {\"frequency\": 19, \"value\": \"Marshall\"}, \"Chase\": {\"frequency\": 24, \"value\": \"Chase\"}, \"Willow\": {\"frequency\": 9, \"value\": \"Willow\"}, \"Denver\": {\"frequency\": 9, \"value\": \"Denver\"}, \"Sherry\": {\"frequency\": 31, \"value\": \"Sherry\"}, \"Deana\": {\"frequency\": 11, \"value\": \"Deana\"}, \"Sylvia\": {\"frequency\": 31, \"value\": \"Sylvia\"}, \"Colten\": {\"frequency\": 8, \"value\": \"Colten\"}, \"Giovanni\": {\"frequency\": 15, \"value\": \"Giovanni\"}, \"Lauretta\": {\"frequency\": 7, \"value\": \"Lauretta\"}, \"Consuelo\": {\"frequency\": 9, \"value\": \"Consuelo\"}, \"Susan\": {\"frequency\": 90, \"value\": \"Susan\"}, \"Charlie\": {\"frequency\": 27, \"value\": \"Charlie\"}, \"Sylvester\": {\"frequency\": 14, \"value\": \"Sylvester\"}, \"Patti\": {\"frequency\": 14, \"value\": \"Patti\"}, \"Arthur\": {\"frequency\": 54, \"value\": \"Arthur\"}, \"Laurel\": {\"frequency\": 14, \"value\": \"Laurel\"}, \"Amos\": {\"frequency\": 12, \"value\": \"Amos\"}, \"Spencer\": {\"frequency\": 21, \"value\": \"Spencer\"}, \"Jerald\": {\"frequency\": 11, \"value\": \"Jerald\"}, \"Patty\": {\"frequency\": 16, \"value\": \"Patty\"}, \"Clark\": {\"frequency\": 14, \"value\": \"Clark\"}, \"Kellan\": {\"frequency\": 6, \"value\": \"Kellan\"}, \"Clare\": {\"frequency\": 11, \"value\": \"Clare\"}, \"Justine\": {\"frequency\": 13, \"value\": \"Justine\"}, \"Clara\": {\"frequency\": 34, \"value\": \"Clara\"}, \"Tommie\": {\"frequency\": 15, \"value\": \"Tommie\"}, \"Alvaro\": {\"frequency\": 8, \"value\": \"Alvaro\"}, \"Keenan\": {\"frequency\": 9, \"value\": \"Keenan\"}, \"Marvin\": {\"frequency\": 33, \"value\": \"Marvin\"}, \"Grayson\": {\"frequency\": 14, \"value\": \"Grayson\"}, \"Naomi\": {\"frequency\": 24, \"value\": \"Naomi\"}, \"Joan\": {\"frequency\": 52, \"value\": \"Joan\"}, \"Victor\": {\"frequency\": 39, \"value\": \"Victor\"}, \"Devin\": {\"frequency\": 26, \"value\": \"Devin\"}, \"Jameson\": {\"frequency\": 10, \"value\": \"Jameson\"}, \"Jolene\": {\"frequency\": 12, \"value\": \"Jolene\"}, \"Mable\": {\"frequency\": 15, \"value\": \"Mable\"}, \"Dolly\": {\"frequency\": 10, \"value\": \"Dolly\"}, \"Tom\": {\"frequency\": 24, \"value\": \"Tom\"}, \"Lacey\": {\"frequency\": 15, \"value\": \"Lacey\"}, \"Cora\": {\"frequency\": 22, \"value\": \"Cora\"}, \"Harriett\": {\"frequency\": 10, \"value\": \"Harriett\"}, \"Cori\": {\"frequency\": 8, \"value\": \"Cori\"}, \"Tobias\": {\"frequency\": 9, \"value\": \"Tobias\"}, \"Earlene\": {\"frequency\": 9, \"value\": \"Earlene\"}, \"Connor\": {\"frequency\": 27, \"value\": \"Connor\"}, \"Cory\": {\"frequency\": 23, \"value\": \"Cory\"}, \"Alysia\": {\"frequency\": 7, \"value\": \"Alysia\"}, \"Erick\": {\"frequency\": 16, \"value\": \"Erick\"}, \"Kennedy\": {\"frequency\": 18, \"value\": \"Kennedy\"}, \"Zachary\": {\"frequency\": 53, \"value\": \"Zachary\"}, \"Erica\": {\"frequency\": 31, \"value\": \"Erica\"}, \"Wyatt\": {\"frequency\": 21, \"value\": \"Wyatt\"}, \"Roger\": {\"frequency\": 49, \"value\": \"Roger\"}, \"Velma\": {\"frequency\": 19, \"value\": \"Velma\"}, \"Aden\": {\"frequency\": 9, \"value\": \"Aden\"}, \"Sheila\": {\"frequency\": 31, \"value\": \"Sheila\"}, \"Darian\": {\"frequency\": 10, \"value\": \"Darian\"}, \"Alena\": {\"frequency\": 9, \"value\": \"Alena\"}, \"Tiffany\": {\"frequency\": 41, \"value\": \"Tiffany\"}, \"Talia\": {\"frequency\": 10, \"value\": \"Talia\"}, \"Byron\": {\"frequency\": 18, \"value\": \"Byron\"}, \"Elyse\": {\"frequency\": 9, \"value\": \"Elyse\"}, \"Wade\": {\"frequency\": 18, \"value\": \"Wade\"}, \"Tiffani\": {\"frequency\": 9, \"value\": \"Tiffani\"}, \"Ina\": {\"frequency\": 12, \"value\": \"Ina\"}, \"Makenna\": {\"frequency\": 11, \"value\": \"Makenna\"}, \"Bonita\": {\"frequency\": 13, \"value\": \"Bonita\"}, \"Janell\": {\"frequency\": 9, \"value\": \"Janell\"}, \"Aldo\": {\"frequency\": 9, \"value\": \"Aldo\"}, \"Nora\": {\"frequency\": 22, \"value\": \"Nora\"}, \"Katelynn\": {\"frequency\": 11, \"value\": \"Katelynn\"}, \"Coleman\": {\"frequency\": 9, \"value\": \"Coleman\"}, \"Paisley\": {\"frequency\": 8, \"value\": \"Paisley\"}, \"Raymond\": {\"frequency\": 66, \"value\": \"Raymond\"}, \"Janelle\": {\"frequency\": 15, \"value\": \"Janelle\"}, \"Frances\": {\"frequency\": 57, \"value\": \"Frances\"}, \"Aaliyah\": {\"frequency\": 16, \"value\": \"Aaliyah\"}, \"Brenton\": {\"frequency\": 8, \"value\": \"Brenton\"}, \"Mavis\": {\"frequency\": 10, \"value\": \"Mavis\"}, \"Aileen\": {\"frequency\": 12, \"value\": \"Aileen\"}, \"Staci\": {\"frequency\": 12, \"value\": \"Staci\"}, \"Don\": {\"frequency\": 26, \"value\": \"Don\"}, \"Emil\": {\"frequency\": 12, \"value\": \"Emil\"}, \"Kelli\": {\"frequency\": 18, \"value\": \"Kelli\"}, \"Daisy\": {\"frequency\": 23, \"value\": \"Daisy\"}, \"Kelly\": {\"frequency\": 55, \"value\": \"Kelly\"}, \"Lisa\": {\"frequency\": 77, \"value\": \"Lisa\"}, \"Sophie\": {\"frequency\": 21, \"value\": \"Sophie\"}, \"Briana\": {\"frequency\": 19, \"value\": \"Briana\"}, \"Sophia\": {\"frequency\": 35, \"value\": \"Sophia\"}, \"Lyle\": {\"frequency\": 16, \"value\": \"Lyle\"}, \"Dillon\": {\"frequency\": 16, \"value\": \"Dillon\"}, \"Alayna\": {\"frequency\": 11, \"value\": \"Alayna\"}, \"Brennan\": {\"frequency\": 12, \"value\": \"Brennan\"}, \"Logan\": {\"frequency\": 36, \"value\": \"Logan\"}, \"Elnora\": {\"frequency\": 10, \"value\": \"Elnora\"}, \"Candice\": {\"frequency\": 17, \"value\": \"Candice\"}, \"Sean\": {\"frequency\": 49, \"value\": \"Sean\"}, \"Alphonso\": {\"frequency\": 9, \"value\": \"Alphonso\"}, \"Beau\": {\"frequency\": 11, \"value\": \"Beau\"}, \"Lyla\": {\"frequency\": 10, \"value\": \"Lyla\"}, \"Lottie\": {\"frequency\": 13, \"value\": \"Lottie\"}, \"Zachariah\": {\"frequency\": 11, \"value\": \"Zachariah\"}, \"Dorothea\": {\"frequency\": 13, \"value\": \"Dorothea\"}, \"Arden\": {\"frequency\": 8, \"value\": \"Arden\"}, \"Hunter\": {\"frequency\": 29, \"value\": \"Hunter\"}, \"Nikki\": {\"frequency\": 13, \"value\": \"Nikki\"}, \"Roxanne\": {\"frequency\": 16, \"value\": \"Roxanne\"}, \"Abbie\": {\"frequency\": 11, \"value\": \"Abbie\"}, \"Benjamin\": {\"frequency\": 62, \"value\": \"Benjamin\"}, \"Tomas\": {\"frequency\": 11, \"value\": \"Tomas\"}, \"Nichole\": {\"frequency\": 16, \"value\": \"Nichole\"}, \"Delilah\": {\"frequency\": 11, \"value\": \"Delilah\"}, \"Irma\": {\"frequency\": 17, \"value\": \"Irma\"}, \"Greta\": {\"frequency\": 11, \"value\": \"Greta\"}, \"Lizzie\": {\"frequency\": 13, \"value\": \"Lizzie\"}, \"Stefan\": {\"frequency\": 10, \"value\": \"Stefan\"}, \"Tamia\": {\"frequency\": 8, \"value\": \"Tamia\"}, \"Elijah\": {\"frequency\": 29, \"value\": \"Elijah\"}, \"Marcy\": {\"frequency\": 10, \"value\": \"Marcy\"}, \"Jayden\": {\"frequency\": 27, \"value\": \"Jayden\"}, \"Earnestine\": {\"frequency\": 9, \"value\": \"Earnestine\"}, \"Brody\": {\"frequency\": 15, \"value\": \"Brody\"}, \"Michael\": {\"frequency\": 225, \"value\": \"Michael\"}, \"Dominic\": {\"frequency\": 25, \"value\": \"Dominic\"}, \"Rafael\": {\"frequency\": 17, \"value\": \"Rafael\"}, \"Rae\": {\"frequency\": 10, \"value\": \"Rae\"}, \"Elliot\": {\"frequency\": 12, \"value\": \"Elliot\"}, \"Savannah\": {\"frequency\": 24, \"value\": \"Savannah\"}, \"Leann\": {\"frequency\": 11, \"value\": \"Leann\"}, \"Gayle\": {\"frequency\": 17, \"value\": \"Gayle\"}, \"Lacy\": {\"frequency\": 11, \"value\": \"Lacy\"}, \"Abel\": {\"frequency\": 13, \"value\": \"Abel\"}, \"Liam\": {\"frequency\": 22, \"value\": \"Liam\"}, \"Ray\": {\"frequency\": 29, \"value\": \"Ray\"}, \"Gael\": {\"frequency\": 9, \"value\": \"Gael\"}, \"Rose\": {\"frequency\": 52, \"value\": \"Rose\"}, \"Rosa\": {\"frequency\": 27, \"value\": \"Rosa\"}, \"Debra\": {\"frequency\": 55, \"value\": \"Debra\"}, \"Joseph\": {\"frequency\": 173, \"value\": \"Joseph\"}, \"Cadence\": {\"frequency\": 9, \"value\": \"Cadence\"}, \"Ross\": {\"frequency\": 18, \"value\": \"Ross\"}, \"Armando\": {\"frequency\": 17, \"value\": \"Armando\"}, \"Everett\": {\"frequency\": 19, \"value\": \"Everett\"}, \"Samuel\": {\"frequency\": 63, \"value\": \"Samuel\"}, \"Desiree\": {\"frequency\": 18, \"value\": \"Desiree\"}, \"Kaylee\": {\"frequency\": 21, \"value\": \"Kaylee\"}, \"Bryce\": {\"frequency\": 20, \"value\": \"Bryce\"}, \"Nona\": {\"frequency\": 8, \"value\": \"Nona\"}, \"Estella\": {\"frequency\": 13, \"value\": \"Estella\"}, \"Deann\": {\"frequency\": 7, \"value\": \"Deann\"}, \"Estelle\": {\"frequency\": 16, \"value\": \"Estelle\"}, \"Nina\": {\"frequency\": 22, \"value\": \"Nina\"}, \"Noreen\": {\"frequency\": 11, \"value\": \"Noreen\"}, \"Maude\": {\"frequency\": 14, \"value\": \"Maude\"}, \"Lucile\": {\"frequency\": 12, \"value\": \"Lucile\"}, \"Janie\": {\"frequency\": 18, \"value\": \"Janie\"}, \"Rebekah\": {\"frequency\": 17, \"value\": \"Rebekah\"}, \"Josephine\": {\"frequency\": 37, \"value\": \"Josephine\"}, \"Ed\": {\"frequency\": 11, \"value\": \"Ed\"}, \"Rachelle\": {\"frequency\": 12, \"value\": \"Rachelle\"}, \"Simone\": {\"frequency\": 11, \"value\": \"Simone\"}, \"Dorian\": {\"frequency\": 10, \"value\": \"Dorian\"}, \"Kaleb\": {\"frequency\": 16, \"value\": \"Kaleb\"}, \"Alyce\": {\"frequency\": 9, \"value\": \"Alyce\"}, \"Reese\": {\"frequency\": 13, \"value\": \"Reese\"}, \"Hugo\": {\"frequency\": 11, \"value\": \"Hugo\"}, \"Hugh\": {\"frequency\": 18, \"value\": \"Hugh\"}, \"Brandie\": {\"frequency\": 9, \"value\": \"Brandie\"}, \"Keisha\": {\"frequency\": 10, \"value\": \"Keisha\"}, \"Axel\": {\"frequency\": 11, \"value\": \"Axel\"}, \"Ethan\": {\"frequency\": 43, \"value\": \"Ethan\"}, \"Gilbert\": {\"frequency\": 22, \"value\": \"Gilbert\"}, \"Genesis\": {\"frequency\": 15, \"value\": \"Genesis\"}, \"Kaley\": {\"frequency\": 8, \"value\": \"Kaley\"}, \"Jeremiah\": {\"frequency\": 26, \"value\": \"Jeremiah\"}, \"Meghan\": {\"frequency\": 20, \"value\": \"Meghan\"}, \"Carmen\": {\"frequency\": 24, \"value\": \"Carmen\"}, \"Selma\": {\"frequency\": 10, \"value\": \"Selma\"}, \"Sunny\": {\"frequency\": 8, \"value\": \"Sunny\"}, \"Ronny\": {\"frequency\": 9, \"value\": \"Ronny\"}, \"Larry\": {\"frequency\": 68, \"value\": \"Larry\"}, \"Raul\": {\"frequency\": 18, \"value\": \"Raul\"}, \"Rudy\": {\"frequency\": 15, \"value\": \"Rudy\"}, \"Justin\": {\"frequency\": 66, \"value\": \"Justin\"}, \"Jaylen\": {\"frequency\": 12, \"value\": \"Jaylen\"}, \"Paola\": {\"frequency\": 11, \"value\": \"Paola\"}, \"Serenity\": {\"frequency\": 13, \"value\": \"Serenity\"}, \"Malik\": {\"frequency\": 13, \"value\": \"Malik\"}, \"Malia\": {\"frequency\": 10, \"value\": \"Malia\"}, \"Cristian\": {\"frequency\": 16, \"value\": \"Cristian\"}, \"Dollie\": {\"frequency\": 10, \"value\": \"Dollie\"}, \"Tyrell\": {\"frequency\": 9, \"value\": \"Tyrell\"}, \"Selena\": {\"frequency\": 14, \"value\": \"Selena\"}, \"Elise\": {\"frequency\": 16, \"value\": \"Elise\"}, \"Cecil\": {\"frequency\": 21, \"value\": \"Cecil\"}, \"Oliver\": {\"frequency\": 20, \"value\": \"Oliver\"}, \"Javon\": {\"frequency\": 9, \"value\": \"Javon\"}, \"Douglas\": {\"frequency\": 56, \"value\": \"Douglas\"}, \"Kimberly\": {\"frequency\": 69, \"value\": \"Kimberly\"}, \"Marisol\": {\"frequency\": 12, \"value\": \"Marisol\"}, \"Anya\": {\"frequency\": 8, \"value\": \"Anya\"}, \"Allyson\": {\"frequency\": 14, \"value\": \"Allyson\"}, \"Bernardo\": {\"frequency\": 7, \"value\": \"Bernardo\"}, \"Hannah\": {\"frequency\": 46, \"value\": \"Hannah\"}, \"Adeline\": {\"frequency\": 14, \"value\": \"Adeline\"}, \"Nia\": {\"frequency\": 10, \"value\": \"Nia\"}, \"Virginia\": {\"frequency\": 60, \"value\": \"Virginia\"}, \"Addie\": {\"frequency\": 14, \"value\": \"Addie\"}, \"Lucia\": {\"frequency\": 13, \"value\": \"Lucia\"}, \"Kim\": {\"frequency\": 30, \"value\": \"Kim\"}, \"Kathie\": {\"frequency\": 9, \"value\": \"Kathie\"}, \"Randal\": {\"frequency\": 12, \"value\": \"Randal\"}, \"Lucinda\": {\"frequency\": 13, \"value\": \"Lucinda\"}, \"Tricia\": {\"frequency\": 13, \"value\": \"Tricia\"}, \"Heath\": {\"frequency\": 11, \"value\": \"Heath\"}, \"Octavia\": {\"frequency\": 9, \"value\": \"Octavia\"}, \"Martina\": {\"frequency\": 9, \"value\": \"Martina\"}, \"Nathalie\": {\"frequency\": 9, \"value\": \"Nathalie\"}, \"Janet\": {\"frequency\": 56, \"value\": \"Janet\"}, \"Augustine\": {\"frequency\": 9, \"value\": \"Augustine\"}, \"Marybeth\": {\"frequency\": 7, \"value\": \"Marybeth\"}, \"Cornelia\": {\"frequency\": 10, \"value\": \"Cornelia\"}, \"Gabriella\": {\"frequency\": 20, \"value\": \"Gabriella\"}, \"Braden\": {\"frequency\": 14, \"value\": \"Braden\"}, \"Gabrielle\": {\"frequency\": 22, \"value\": \"Gabrielle\"}, \"Juliet\": {\"frequency\": 11, \"value\": \"Juliet\"}, \"Lola\": {\"frequency\": 17, \"value\": \"Lola\"}, \"Hal\": {\"frequency\": 9, \"value\": \"Hal\"}, \"Latasha\": {\"frequency\": 12, \"value\": \"Latasha\"}, \"Norris\": {\"frequency\": 9, \"value\": \"Norris\"}, \"Karla\": {\"frequency\": 19, \"value\": \"Karla\"}, \"Dolores\": {\"frequency\": 30, \"value\": \"Dolores\"}, \"Lilly\": {\"frequency\": 14, \"value\": \"Lilly\"}, \"Beatriz\": {\"frequency\": 9, \"value\": \"Beatriz\"}, \"Jakob\": {\"frequency\": 11, \"value\": \"Jakob\"}, \"Melodie\": {\"frequency\": 7, \"value\": \"Melodie\"}, \"Theodore\": {\"frequency\": 30, \"value\": \"Theodore\"}, \"Jo\": {\"frequency\": 27, \"value\": \"Jo\"}, \"Wilfred\": {\"frequency\": 12, \"value\": \"Wilfred\"}, \"Reed\": {\"frequency\": 11, \"value\": \"Reed\"}, \"Khloe\": {\"frequency\": 11, \"value\": \"Khloe\"}, \"Michelle\": {\"frequency\": 68, \"value\": \"Michelle\"}, \"Brayden\": {\"frequency\": 19, \"value\": \"Brayden\"}, \"Brenden\": {\"frequency\": 11, \"value\": \"Brenden\"}, \"Crystal\": {\"frequency\": 40, \"value\": \"Crystal\"}, \"Deja\": {\"frequency\": 10, \"value\": \"Deja\"}, \"Keely\": {\"frequency\": 8, \"value\": \"Keely\"}, \"Janice\": {\"frequency\": 47, \"value\": \"Janice\"}, \"Clarissa\": {\"frequency\": 13, \"value\": \"Clarissa\"}, \"Paulina\": {\"frequency\": 9, \"value\": \"Paulina\"}, \"Carley\": {\"frequency\": 9, \"value\": \"Carley\"}, \"Pauline\": {\"frequency\": 30, \"value\": \"Pauline\"}, \"Rowan\": {\"frequency\": 10, \"value\": \"Rowan\"}, \"Marion\": {\"frequency\": 34, \"value\": \"Marion\"}, \"Dalton\": {\"frequency\": 18, \"value\": \"Dalton\"}, \"Ora\": {\"frequency\": 14, \"value\": \"Ora\"}, \"Delmar\": {\"frequency\": 9, \"value\": \"Delmar\"}, \"Adrienne\": {\"frequency\": 16, \"value\": \"Adrienne\"}, \"Kyler\": {\"frequency\": 11, \"value\": \"Kyler\"}, \"Maudie\": {\"frequency\": 8, \"value\": \"Maudie\"}, \"Cheyenne\": {\"frequency\": 17, \"value\": \"Cheyenne\"}, \"Queen\": {\"frequency\": 8, \"value\": \"Queen\"}, \"Damian\": {\"frequency\": 17, \"value\": \"Damian\"}, \"Terri\": {\"frequency\": 24, \"value\": \"Terri\"}, \"Alexus\": {\"frequency\": 10, \"value\": \"Alexus\"}, \"Blair\": {\"frequency\": 12, \"value\": \"Blair\"}, \"Terra\": {\"frequency\": 9, \"value\": \"Terra\"}, \"Ashly\": {\"frequency\": 8, \"value\": \"Ashly\"}, \"Peggy\": {\"frequency\": 36, \"value\": \"Peggy\"}, \"Belinda\": {\"frequency\": 17, \"value\": \"Belinda\"}, \"Terry\": {\"frequency\": 53, \"value\": \"Terry\"}, \"Isaiah\": {\"frequency\": 27, \"value\": \"Isaiah\"}, \"Rodolfo\": {\"frequency\": 12, \"value\": \"Rodolfo\"}, \"Micah\": {\"frequency\": 19, \"value\": \"Micah\"}, \"Isabelle\": {\"frequency\": 18, \"value\": \"Isabelle\"}, \"Arlene\": {\"frequency\": 24, \"value\": \"Arlene\"}, \"Phoebe\": {\"frequency\": 11, \"value\": \"Phoebe\"}, \"Annie\": {\"frequency\": 42, \"value\": \"Annie\"}, \"Guillermo\": {\"frequency\": 11, \"value\": \"Guillermo\"}, \"Leona\": {\"frequency\": 22, \"value\": \"Leona\"}, \"Dana\": {\"frequency\": 33, \"value\": \"Dana\"}, \"Kylee\": {\"frequency\": 14, \"value\": \"Kylee\"}, \"Neil\": {\"frequency\": 20, \"value\": \"Neil\"}, \"Elisa\": {\"frequency\": 13, \"value\": \"Elisa\"}, \"Wilda\": {\"frequency\": 8, \"value\": \"Wilda\"}, \"Keegan\": {\"frequency\": 12, \"value\": \"Keegan\"}, \"Dawson\": {\"frequency\": 12, \"value\": \"Dawson\"}, \"Cassandra\": {\"frequency\": 26, \"value\": \"Cassandra\"}, \"Graham\": {\"frequency\": 12, \"value\": \"Graham\"}, \"Priscilla\": {\"frequency\": 22, \"value\": \"Priscilla\"}, \"Rosetta\": {\"frequency\": 11, \"value\": \"Rosetta\"}, \"Sidney\": {\"frequency\": 20, \"value\": \"Sidney\"}, \"Teddy\": {\"frequency\": 12, \"value\": \"Teddy\"}, \"Zane\": {\"frequency\": 13, \"value\": \"Zane\"}, \"Collin\": {\"frequency\": 17, \"value\": \"Collin\"}, \"Willis\": {\"frequency\": 15, \"value\": \"Willis\"}, \"Clay\": {\"frequency\": 13, \"value\": \"Clay\"}, \"Clyde\": {\"frequency\": 22, \"value\": \"Clyde\"}, \"Stephan\": {\"frequency\": 11, \"value\": \"Stephan\"}, \"Willie\": {\"frequency\": 57, \"value\": \"Willie\"}, \"Jayson\": {\"frequency\": 12, \"value\": \"Jayson\"}, \"Jacquelyn\": {\"frequency\": 19, \"value\": \"Jacquelyn\"}, \"Mariana\": {\"frequency\": 12, \"value\": \"Mariana\"}, \"Wendell\": {\"frequency\": 15, \"value\": \"Wendell\"}, \"Macy\": {\"frequency\": 11, \"value\": \"Macy\"}, \"Caitlin\": {\"frequency\": 21, \"value\": \"Caitlin\"}, \"Carl\": {\"frequency\": 52, \"value\": \"Carl\"}, \"Ashlyn\": {\"frequency\": 14, \"value\": \"Ashlyn\"}, \"Jaxson\": {\"frequency\": 10, \"value\": \"Jaxson\"}, \"Cara\": {\"frequency\": 15, \"value\": \"Cara\"}, \"Mack\": {\"frequency\": 13, \"value\": \"Mack\"}, \"Polly\": {\"frequency\": 12, \"value\": \"Polly\"}, \"Donny\": {\"frequency\": 8, \"value\": \"Donny\"}, \"Donna\": {\"frequency\": 70, \"value\": \"Donna\"}, \"Rory\": {\"frequency\": 11, \"value\": \"Rory\"}, \"Harriet\": {\"frequency\": 19, \"value\": \"Harriet\"}, \"Myra\": {\"frequency\": 16, \"value\": \"Myra\"}, \"Ola\": {\"frequency\": 12, \"value\": \"Ola\"}, \"Dina\": {\"frequency\": 12, \"value\": \"Dina\"}, \"Colt\": {\"frequency\": 8, \"value\": \"Colt\"}, \"Rachel\": {\"frequency\": 56, \"value\": \"Rachel\"}, \"Dona\": {\"frequency\": 10, \"value\": \"Dona\"}, \"Alfonso\": {\"frequency\": 14, \"value\": \"Alfonso\"}, \"Kobe\": {\"frequency\": 9, \"value\": \"Kobe\"}, \"Cole\": {\"frequency\": 22, \"value\": \"Cole\"}, \"Allie\": {\"frequency\": 14, \"value\": \"Allie\"}, \"Maritza\": {\"frequency\": 10, \"value\": \"Maritza\"}, \"Daniella\": {\"frequency\": 11, \"value\": \"Daniella\"}, \"Tim\": {\"frequency\": 19, \"value\": \"Tim\"}, \"Tanya\": {\"frequency\": 21, \"value\": \"Tanya\"}, \"Danielle\": {\"frequency\": 44, \"value\": \"Danielle\"}, \"Viola\": {\"frequency\": 23, \"value\": \"Viola\"}, \"Ira\": {\"frequency\": 16, \"value\": \"Ira\"}, \"Elliott\": {\"frequency\": 13, \"value\": \"Elliott\"}, \"Tia\": {\"frequency\": 9, \"value\": \"Tia\"}, \"Esther\": {\"frequency\": 33, \"value\": \"Esther\"}, \"Shayla\": {\"frequency\": 11, \"value\": \"Shayla\"}, \"Darryl\": {\"frequency\": 19, \"value\": \"Darryl\"}, \"Luke\": {\"frequency\": 30, \"value\": \"Luke\"}, \"Greg\": {\"frequency\": 18, \"value\": \"Greg\"}, \"Frederic\": {\"frequency\": 8, \"value\": \"Frederic\"}, \"Alisha\": {\"frequency\": 14, \"value\": \"Alisha\"}, \"Neva\": {\"frequency\": 10, \"value\": \"Neva\"}, \"Phyllis\": {\"frequency\": 40, \"value\": \"Phyllis\"}, \"Odessa\": {\"frequency\": 9, \"value\": \"Odessa\"}, \"Faith\": {\"frequency\": 22, \"value\": \"Faith\"}, \"Ila\": {\"frequency\": 10, \"value\": \"Ila\"}, \"Coy\": {\"frequency\": 9, \"value\": \"Coy\"}, \"Jocelyn\": {\"frequency\": 20, \"value\": \"Jocelyn\"}, \"Fabian\": {\"frequency\": 13, \"value\": \"Fabian\"}, \"Nancy\": {\"frequency\": 81, \"value\": \"Nancy\"}, \"Archie\": {\"frequency\": 15, \"value\": \"Archie\"}, \"Carter\": {\"frequency\": 22, \"value\": \"Carter\"}, \"Devyn\": {\"frequency\": 8, \"value\": \"Devyn\"}, \"Kara\": {\"frequency\": 20, \"value\": \"Kara\"}, \"Dennis\": {\"frequency\": 58, \"value\": \"Dennis\"}, \"Karl\": {\"frequency\": 20, \"value\": \"Karl\"}, \"Landon\": {\"frequency\": 22, \"value\": \"Landon\"}, \"Albert\": {\"frequency\": 52, \"value\": \"Albert\"}, \"Bernard\": {\"frequency\": 29, \"value\": \"Bernard\"}, \"Tyler\": {\"frequency\": 57, \"value\": \"Tyler\"}, \"Pamela\": {\"frequency\": 57, \"value\": \"Pamela\"}, \"Kamryn\": {\"frequency\": 10, \"value\": \"Kamryn\"}, \"Rosario\": {\"frequency\": 9, \"value\": \"Rosario\"}, \"Laurie\": {\"frequency\": 26, \"value\": \"Laurie\"}, \"Vicente\": {\"frequency\": 10, \"value\": \"Vicente\"}, \"Brandi\": {\"frequency\": 21, \"value\": \"Brandi\"}, \"Samantha\": {\"frequency\": 55, \"value\": \"Samantha\"}, \"Justice\": {\"frequency\": 11, \"value\": \"Justice\"}, \"Brandy\": {\"frequency\": 21, \"value\": \"Brandy\"}, \"Christopher\": {\"frequency\": 152, \"value\": \"Christopher\"}, \"Carissa\": {\"frequency\": 11, \"value\": \"Carissa\"}, \"Mckenzie\": {\"frequency\": 15, \"value\": \"Mckenzie\"}, \"Marina\": {\"frequency\": 12, \"value\": \"Marina\"}, \"Darcy\": {\"frequency\": 11, \"value\": \"Darcy\"}, \"Bette\": {\"frequency\": 12, \"value\": \"Bette\"}, \"Opal\": {\"frequency\": 17, \"value\": \"Opal\"}, \"Alta\": {\"frequency\": 11, \"value\": \"Alta\"}, \"Harley\": {\"frequency\": 16, \"value\": \"Harley\"}, \"Billy\": {\"frequency\": 46, \"value\": \"Billy\"}, \"Betty\": {\"frequency\": 81, \"value\": \"Betty\"}, \"Damion\": {\"frequency\": 9, \"value\": \"Damion\"}, \"Madeleine\": {\"frequency\": 13, \"value\": \"Madeleine\"}, \"Mallory\": {\"frequency\": 15, \"value\": \"Mallory\"}, \"Alexandria\": {\"frequency\": 19, \"value\": \"Alexandria\"}, \"Kenny\": {\"frequency\": 15, \"value\": \"Kenny\"}, \"Lavon\": {\"frequency\": 8, \"value\": \"Lavon\"}, \"Candace\": {\"frequency\": 19, \"value\": \"Candace\"}, \"Robyn\": {\"frequency\": 16, \"value\": \"Robyn\"}, \"Bradley\": {\"frequency\": 37, \"value\": \"Bradley\"}, \"Dakota\": {\"frequency\": 21, \"value\": \"Dakota\"}, \"Amber\": {\"frequency\": 44, \"value\": \"Amber\"}, \"Charlene\": {\"frequency\": 23, \"value\": \"Charlene\"}, \"Isaac\": {\"frequency\": 31, \"value\": \"Isaac\"}, \"Scot\": {\"frequency\": 5, \"value\": \"Scot\"}, \"Andy\": {\"frequency\": 19, \"value\": \"Andy\"}, \"Carole\": {\"frequency\": 21, \"value\": \"Carole\"}, \"Holden\": {\"frequency\": 9, \"value\": \"Holden\"}, \"Frank\": {\"frequency\": 76, \"value\": \"Frank\"}, \"Wiley\": {\"frequency\": 9, \"value\": \"Wiley\"}, \"Brett\": {\"frequency\": 25, \"value\": \"Brett\"}, \"Troy\": {\"frequency\": 29, \"value\": \"Troy\"}, \"Jasper\": {\"frequency\": 11, \"value\": \"Jasper\"}, \"Antonia\": {\"frequency\": 12, \"value\": \"Antonia\"}, \"Brady\": {\"frequency\": 18, \"value\": \"Brady\"}, \"Rosalie\": {\"frequency\": 17, \"value\": \"Rosalie\"}, \"Norbert\": {\"frequency\": 10, \"value\": \"Norbert\"}, \"Bill\": {\"frequency\": 26, \"value\": \"Bill\"}, \"Johnathon\": {\"frequency\": 11, \"value\": \"Johnathon\"}, \"Antonio\": {\"frequency\": 31, \"value\": \"Antonio\"}, \"Nikolas\": {\"frequency\": 10, \"value\": \"Nikolas\"}, \"Elsie\": {\"frequency\": 28, \"value\": \"Elsie\"}, \"Davis\": {\"frequency\": 11, \"value\": \"Davis\"}, \"Imani\": {\"frequency\": 11, \"value\": \"Imani\"}, \"Bob\": {\"frequency\": 20, \"value\": \"Bob\"}, \"Payton\": {\"frequency\": 16, \"value\": \"Payton\"}, \"Ezra\": {\"frequency\": 12, \"value\": \"Ezra\"}, \"Taylor\": {\"frequency\": 47, \"value\": \"Taylor\"}, \"Ron\": {\"frequency\": 13, \"value\": \"Ron\"}, \"Glenn\": {\"frequency\": 33, \"value\": \"Glenn\"}, \"Jade\": {\"frequency\": 18, \"value\": \"Jade\"}, \"Catherine\": {\"frequency\": 61, \"value\": \"Catherine\"}, \"Jada\": {\"frequency\": 16, \"value\": \"Jada\"}, \"Roy\": {\"frequency\": 47, \"value\": \"Roy\"}, \"Reba\": {\"frequency\": 13, \"value\": \"Reba\"}, \"Dorothy\": {\"frequency\": 90, \"value\": \"Dorothy\"}, \"Katie\": {\"frequency\": 31, \"value\": \"Katie\"}, \"Eli\": {\"frequency\": 19, \"value\": \"Eli\"}, \"Elmer\": {\"frequency\": 23, \"value\": \"Elmer\"}, \"Gage\": {\"frequency\": 15, \"value\": \"Gage\"}, \"Rylee\": {\"frequency\": 14, \"value\": \"Rylee\"}, \"Ruth\": {\"frequency\": 68, \"value\": \"Ruth\"}, \"Paige\": {\"frequency\": 23, \"value\": \"Paige\"}, \"Norman\": {\"frequency\": 33, \"value\": \"Norman\"}, \"Leland\": {\"frequency\": 14, \"value\": \"Leland\"}, \"Kiera\": {\"frequency\": 10, \"value\": \"Kiera\"}, \"Megan\": {\"frequency\": 49, \"value\": \"Megan\"}, \"Anthony\": {\"frequency\": 104, \"value\": \"Anthony\"}, \"Nadine\": {\"frequency\": 15, \"value\": \"Nadine\"}, \"Katharine\": {\"frequency\": 13, \"value\": \"Katharine\"}, \"Bryan\": {\"frequency\": 45, \"value\": \"Bryan\"}, \"Esperanza\": {\"frequency\": 10, \"value\": \"Esperanza\"}, \"Nola\": {\"frequency\": 10, \"value\": \"Nola\"}, \"Tommy\": {\"frequency\": 27, \"value\": \"Tommy\"}, \"Franklin\": {\"frequency\": 23, \"value\": \"Franklin\"}, \"Adrian\": {\"frequency\": 30, \"value\": \"Adrian\"}, \"Ashton\": {\"frequency\": 18, \"value\": \"Ashton\"}, \"Brandon\": {\"frequency\": 65, \"value\": \"Brandon\"}, \"Austin\": {\"frequency\": 46, \"value\": \"Austin\"}, \"Dixie\": {\"frequency\": 14, \"value\": \"Dixie\"}, \"Jeff\": {\"frequency\": 22, \"value\": \"Jeff\"}, \"Alvin\": {\"frequency\": 25, \"value\": \"Alvin\"}, \"Preston\": {\"frequency\": 20, \"value\": \"Preston\"}, \"Bennett\": {\"frequency\": 11, \"value\": \"Bennett\"}, \"Murray\": {\"frequency\": 10, \"value\": \"Murray\"}, \"Helena\": {\"frequency\": 12, \"value\": \"Helena\"}, \"Damien\": {\"frequency\": 15, \"value\": \"Damien\"}, \"Helene\": {\"frequency\": 12, \"value\": \"Helene\"}, \"Florence\": {\"frequency\": 42, \"value\": \"Florence\"}, \"Efrain\": {\"frequency\": 9, \"value\": \"Efrain\"}, \"Ty\": {\"frequency\": 14, \"value\": \"Ty\"}, \"Tate\": {\"frequency\": 9, \"value\": \"Tate\"}, \"Kristian\": {\"frequency\": 11, \"value\": \"Kristian\"}, \"Edward\": {\"frequency\": 96, \"value\": \"Edward\"}, \"Avis\": {\"frequency\": 10, \"value\": \"Avis\"}, \"Sierra\": {\"frequency\": 19, \"value\": \"Sierra\"}, \"Linda\": {\"frequency\": 117, \"value\": \"Linda\"}, \"Curtis\": {\"frequency\": 33, \"value\": \"Curtis\"}, \"Ramona\": {\"frequency\": 17, \"value\": \"Ramona\"}, \"Merle\": {\"frequency\": 14, \"value\": \"Merle\"}, \"May\": {\"frequency\": 15, \"value\": \"May\"}, \"Max\": {\"frequency\": 23, \"value\": \"Max\"}, \"Hazel\": {\"frequency\": 32, \"value\": \"Hazel\"}, \"Jorge\": {\"frequency\": 23, \"value\": \"Jorge\"}, \"Brent\": {\"frequency\": 23, \"value\": \"Brent\"}, \"Mae\": {\"frequency\": 21, \"value\": \"Mae\"}, \"Yvonne\": {\"frequency\": 25, \"value\": \"Yvonne\"}, \"Nettie\": {\"frequency\": 15, \"value\": \"Nettie\"}, \"Gerry\": {\"frequency\": 10, \"value\": \"Gerry\"}, \"Iliana\": {\"frequency\": 7, \"value\": \"Iliana\"}, \"Julius\": {\"frequency\": 17, \"value\": \"Julius\"}, \"Stacie\": {\"frequency\": 13, \"value\": \"Stacie\"}, \"Concetta\": {\"frequency\": 9, \"value\": \"Concetta\"}, \"Luella\": {\"frequency\": 12, \"value\": \"Luella\"}, \"Cindy\": {\"frequency\": 33, \"value\": \"Cindy\"}, \"Emmett\": {\"frequency\": 13, \"value\": \"Emmett\"}, \"Fredrick\": {\"frequency\": 16, \"value\": \"Fredrick\"}, \"Edna\": {\"frequency\": 37, \"value\": \"Edna\"}, \"Malcolm\": {\"frequency\": 16, \"value\": \"Malcolm\"}, \"Bryon\": {\"frequency\": 9, \"value\": \"Bryon\"}, \"Al\": {\"frequency\": 9, \"value\": \"Al\"}, \"Scott\": {\"frequency\": 67, \"value\": \"Scott\"}, \"Emmitt\": {\"frequency\": 7, \"value\": \"Emmitt\"}, \"Cherie\": {\"frequency\": 12, \"value\": \"Cherie\"}, \"Gracie\": {\"frequency\": 16, \"value\": \"Gracie\"}, \"Lonnie\": {\"frequency\": 20, \"value\": \"Lonnie\"}, \"Perla\": {\"frequency\": 10, \"value\": \"Perla\"}, \"Lesly\": {\"frequency\": 8, \"value\": \"Lesly\"}, \"Jim\": {\"frequency\": 25, \"value\": \"Jim\"}, \"Betsy\": {\"frequency\": 16, \"value\": \"Betsy\"}, \"Lara\": {\"frequency\": 11, \"value\": \"Lara\"}, \"Angelina\": {\"frequency\": 21, \"value\": \"Angelina\"}, \"Angeline\": {\"frequency\": 12, \"value\": \"Angeline\"}, \"Noe\": {\"frequency\": 10, \"value\": \"Noe\"}, \"Monique\": {\"frequency\": 18, \"value\": \"Monique\"}, \"Alden\": {\"frequency\": 9, \"value\": \"Alden\"}, \"Ernesto\": {\"frequency\": 14, \"value\": \"Ernesto\"}, \"Irvin\": {\"frequency\": 13, \"value\": \"Irvin\"}, \"Titus\": {\"frequency\": 9, \"value\": \"Titus\"}, \"Calvin\": {\"frequency\": 28, \"value\": \"Calvin\"}, \"Candy\": {\"frequency\": 11, \"value\": \"Candy\"}, \"Declan\": {\"frequency\": 10, \"value\": \"Declan\"}, \"Sheryl\": {\"frequency\": 18, \"value\": \"Sheryl\"}, \"Jaime\": {\"frequency\": 21, \"value\": \"Jaime\"}, \"Xavier\": {\"frequency\": 21, \"value\": \"Xavier\"}, \"Charlotte\": {\"frequency\": 38, \"value\": \"Charlotte\"}, \"Maurice\": {\"frequency\": 23, \"value\": \"Maurice\"}, \"Nita\": {\"frequency\": 9, \"value\": \"Nita\"}, \"Colette\": {\"frequency\": 10, \"value\": \"Colette\"}, \"Eldon\": {\"frequency\": 11, \"value\": \"Eldon\"}, \"Cesar\": {\"frequency\": 17, \"value\": \"Cesar\"}, \"Gustavo\": {\"frequency\": 9, \"value\": \"Gustavo\"}, \"Howard\": {\"frequency\": 42, \"value\": \"Howard\"}, \"Lois\": {\"frequency\": 41, \"value\": \"Lois\"}, \"Lexi\": {\"frequency\": 10, \"value\": \"Lexi\"}, \"Marisa\": {\"frequency\": 15, \"value\": \"Marisa\"}, \"Zion\": {\"frequency\": 11, \"value\": \"Zion\"}, \"Jessica\": {\"frequency\": 83, \"value\": \"Jessica\"}, \"Boyd\": {\"frequency\": 11, \"value\": \"Boyd\"}, \"Alan\": {\"frequency\": 42, \"value\": \"Alan\"}, \"Tucker\": {\"frequency\": 12, \"value\": \"Tucker\"}, \"Johnnie\": {\"frequency\": 24, \"value\": \"Johnnie\"}, \"Kristin\": {\"frequency\": 27, \"value\": \"Kristin\"}, \"Olivia\": {\"frequency\": 43, \"value\": \"Olivia\"}, \"Kristie\": {\"frequency\": 14, \"value\": \"Kristie\"}, \"Randall\": {\"frequency\": 28, \"value\": \"Randall\"}, \"Lina\": {\"frequency\": 9, \"value\": \"Lina\"}, \"Peyton\": {\"frequency\": 20, \"value\": \"Peyton\"}, \"Marty\": {\"frequency\": 13, \"value\": \"Marty\"}, \"Kathy\": {\"frequency\": 41, \"value\": \"Kathy\"}, \"Georgina\": {\"frequency\": 9, \"value\": \"Georgina\"}, \"Amaya\": {\"frequency\": 10, \"value\": \"Amaya\"}, \"Margie\": {\"frequency\": 21, \"value\": \"Margie\"}, \"Mildred\": {\"frequency\": 49, \"value\": \"Mildred\"}, \"Armand\": {\"frequency\": 9, \"value\": \"Armand\"}, \"Lorna\": {\"frequency\": 12, \"value\": \"Lorna\"}, \"Jennifer\": {\"frequency\": 125, \"value\": \"Jennifer\"}, \"Zander\": {\"frequency\": 9, \"value\": \"Zander\"}, \"Elisha\": {\"frequency\": 11, \"value\": \"Elisha\"}, \"Charmaine\": {\"frequency\": 9, \"value\": \"Charmaine\"}, \"Blake\": {\"frequency\": 26, \"value\": \"Blake\"}, \"Emory\": {\"frequency\": 10, \"value\": \"Emory\"}, \"Robert\": {\"frequency\": 344, \"value\": \"Robert\"}, \"Kirk\": {\"frequency\": 17, \"value\": \"Kirk\"}, \"Rhoda\": {\"frequency\": 11, \"value\": \"Rhoda\"}, \"Daniela\": {\"frequency\": 15, \"value\": \"Daniela\"}, \"Kira\": {\"frequency\": 12, \"value\": \"Kira\"}, \"Rita\": {\"frequency\": 36, \"value\": \"Rita\"}, \"Caitlyn\": {\"frequency\": 16, \"value\": \"Caitlyn\"}, \"Dale\": {\"frequency\": 37, \"value\": \"Dale\"}, \"Lena\": {\"frequency\": 22, \"value\": \"Lena\"}, \"Ernie\": {\"frequency\": 9, \"value\": \"Ernie\"}, \"Kelvin\": {\"frequency\": 15, \"value\": \"Kelvin\"}, \"Rickie\": {\"frequency\": 10, \"value\": \"Rickie\"}, \"Deidre\": {\"frequency\": 9, \"value\": \"Deidre\"}, \"Mia\": {\"frequency\": 26, \"value\": \"Mia\"}, \"Katherine\": {\"frequency\": 58, \"value\": \"Katherine\"}, \"Rocco\": {\"frequency\": 11, \"value\": \"Rocco\"}, \"Lane\": {\"frequency\": 13, \"value\": \"Lane\"}, \"Lana\": {\"frequency\": 13, \"value\": \"Lana\"}, \"Markus\": {\"frequency\": 8, \"value\": \"Markus\"}, \"Tanner\": {\"frequency\": 19, \"value\": \"Tanner\"}, \"Chuck\": {\"frequency\": 10, \"value\": \"Chuck\"}, \"Maranda\": {\"frequency\": 8, \"value\": \"Maranda\"}, \"Gus\": {\"frequency\": 10, \"value\": \"Gus\"}, \"Sondra\": {\"frequency\": 10, \"value\": \"Sondra\"}, \"Claire\": {\"frequency\": 26, \"value\": \"Claire\"}, \"Guy\": {\"frequency\": 19, \"value\": \"Guy\"}, \"Savanna\": {\"frequency\": 11, \"value\": \"Savanna\"}, \"Marjorie\": {\"frequency\": 35, \"value\": \"Marjorie\"}, \"Wilmer\": {\"frequency\": 9, \"value\": \"Wilmer\"}, \"Nicole\": {\"frequency\": 56, \"value\": \"Nicole\"}, \"Maynard\": {\"frequency\": 9, \"value\": \"Maynard\"}, \"Kenya\": {\"frequency\": 11, \"value\": \"Kenya\"}, \"Kathleen\": {\"frequency\": 63, \"value\": \"Kathleen\"}, \"Sherrie\": {\"frequency\": 13, \"value\": \"Sherrie\"}, \"Jaiden\": {\"frequency\": 12, \"value\": \"Jaiden\"}, \"Violet\": {\"frequency\": 22, \"value\": \"Violet\"}, \"Autumn\": {\"frequency\": 20, \"value\": \"Autumn\"}, \"Rosie\": {\"frequency\": 18, \"value\": \"Rosie\"}, \"Brynn\": {\"frequency\": 10, \"value\": \"Brynn\"}, \"Molly\": {\"frequency\": 25, \"value\": \"Molly\"}, \"Clayton\": {\"frequency\": 22, \"value\": \"Clayton\"}, \"Moises\": {\"frequency\": 11, \"value\": \"Moises\"}, \"Blaine\": {\"frequency\": 12, \"value\": \"Blaine\"}, \"Nathan\": {\"frequency\": 53, \"value\": \"Nathan\"}, \"Joel\": {\"frequency\": 33, \"value\": \"Joel\"}, \"Emery\": {\"frequency\": 11, \"value\": \"Emery\"}, \"Ryan\": {\"frequency\": 76, \"value\": \"Ryan\"}, \"Roman\": {\"frequency\": 15, \"value\": \"Roman\"}, \"Athena\": {\"frequency\": 11, \"value\": \"Athena\"}, \"Ingrid\": {\"frequency\": 11, \"value\": \"Ingrid\"}, \"Jeri\": {\"frequency\": 11, \"value\": \"Jeri\"}, \"Donnell\": {\"frequency\": 9, \"value\": \"Donnell\"}, \"Alexia\": {\"frequency\": 13, \"value\": \"Alexia\"}, \"Joey\": {\"frequency\": 15, \"value\": \"Joey\"}, \"Makayla\": {\"frequency\": 19, \"value\": \"Makayla\"}, \"Marcel\": {\"frequency\": 9, \"value\": \"Marcel\"}, \"Denis\": {\"frequency\": 10, \"value\": \"Denis\"}, \"Mikayla\": {\"frequency\": 15, \"value\": \"Mikayla\"}, \"Caden\": {\"frequency\": 15, \"value\": \"Caden\"}, \"Regina\": {\"frequency\": 27, \"value\": \"Regina\"}, \"Donte\": {\"frequency\": 9, \"value\": \"Donte\"}, \"Kris\": {\"frequency\": 11, \"value\": \"Kris\"}, \"Cecelia\": {\"frequency\": 15, \"value\": \"Cecelia\"}, \"Evangeline\": {\"frequency\": 10, \"value\": \"Evangeline\"}, \"Trudy\": {\"frequency\": 11, \"value\": \"Trudy\"}, \"Brenna\": {\"frequency\": 11, \"value\": \"Brenna\"}, \"Millie\": {\"frequency\": 11, \"value\": \"Millie\"}, \"Maddison\": {\"frequency\": 9, \"value\": \"Maddison\"}, \"Cecilia\": {\"frequency\": 16, \"value\": \"Cecilia\"}, \"Serena\": {\"frequency\": 13, \"value\": \"Serena\"}, \"Brooks\": {\"frequency\": 10, \"value\": \"Brooks\"}, \"Jennie\": {\"frequency\": 22, \"value\": \"Jennie\"}, \"Doyle\": {\"frequency\": 12, \"value\": \"Doyle\"}, \"Brooke\": {\"frequency\": 27, \"value\": \"Brooke\"}, \"Luis\": {\"frequency\": 33, \"value\": \"Luis\"}, \"Ernestine\": {\"frequency\": 14, \"value\": \"Ernestine\"}, \"Magdalena\": {\"frequency\": 9, \"value\": \"Magdalena\"}, \"Ashley\": {\"frequency\": 70, \"value\": \"Ashley\"}, \"Colton\": {\"frequency\": 19, \"value\": \"Colton\"}, \"Brooklynn\": {\"frequency\": 11, \"value\": \"Brooklynn\"}, \"Herbert\": {\"frequency\": 30, \"value\": \"Herbert\"}, \"Deloris\": {\"frequency\": 12, \"value\": \"Deloris\"}, \"Adam\": {\"frequency\": 54, \"value\": \"Adam\"}, \"Adan\": {\"frequency\": 11, \"value\": \"Adan\"}, \"Ashlee\": {\"frequency\": 14, \"value\": \"Ashlee\"}, \"Robin\": {\"frequency\": 41, \"value\": \"Robin\"}, \"Karina\": {\"frequency\": 16, \"value\": \"Karina\"}, \"Katy\": {\"frequency\": 11, \"value\": \"Katy\"}, \"Marguerite\": {\"frequency\": 20, \"value\": \"Marguerite\"}, \"Sam\": {\"frequency\": 22, \"value\": \"Sam\"}, \"Emmanuel\": {\"frequency\": 16, \"value\": \"Emmanuel\"}, \"Kylie\": {\"frequency\": 20, \"value\": \"Kylie\"}, \"Gary\": {\"frequency\": 76, \"value\": \"Gary\"}, \"Lionel\": {\"frequency\": 11, \"value\": \"Lionel\"}, \"Darien\": {\"frequency\": 8, \"value\": \"Darien\"}, \"Wendi\": {\"frequency\": 9, \"value\": \"Wendi\"}, \"Celia\": {\"frequency\": 15, \"value\": \"Celia\"}, \"Willard\": {\"frequency\": 18, \"value\": \"Willard\"}, \"Harmony\": {\"frequency\": 10, \"value\": \"Harmony\"}, \"Wendy\": {\"frequency\": 34, \"value\": \"Wendy\"}, \"Zackery\": {\"frequency\": 9, \"value\": \"Zackery\"}, \"Shawna\": {\"frequency\": 14, \"value\": \"Shawna\"}, \"Adolph\": {\"frequency\": 10, \"value\": \"Adolph\"}, \"Juliette\": {\"frequency\": 10, \"value\": \"Juliette\"}, \"Rosalyn\": {\"frequency\": 10, \"value\": \"Rosalyn\"}, \"Henrietta\": {\"frequency\": 15, \"value\": \"Henrietta\"}, \"Dianna\": {\"frequency\": 15, \"value\": \"Dianna\"}, \"Audra\": {\"frequency\": 11, \"value\": \"Audra\"}, \"Dianne\": {\"frequency\": 20, \"value\": \"Dianne\"}, \"Freddy\": {\"frequency\": 11, \"value\": \"Freddy\"}, \"Mattie\": {\"frequency\": 23, \"value\": \"Mattie\"}, \"Miguel\": {\"frequency\": 26, \"value\": \"Miguel\"}, \"Alva\": {\"frequency\": 10, \"value\": \"Alva\"}, \"Alexis\": {\"frequency\": 47, \"value\": \"Alexis\"}, \"Anita\": {\"frequency\": 29, \"value\": \"Anita\"}, \"Agnes\": {\"frequency\": 24, \"value\": \"Agnes\"}, \"Earline\": {\"frequency\": 9, \"value\": \"Earline\"}, \"Nickolas\": {\"frequency\": 14, \"value\": \"Nickolas\"}, \"Stefanie\": {\"frequency\": 13, \"value\": \"Stefanie\"}, \"Aiden\": {\"frequency\": 24, \"value\": \"Aiden\"}, \"Owen\": {\"frequency\": 24, \"value\": \"Owen\"}, \"Jesus\": {\"frequency\": 30, \"value\": \"Jesus\"}, \"Gilberto\": {\"frequency\": 12, \"value\": \"Gilberto\"}, \"Grady\": {\"frequency\": 14, \"value\": \"Grady\"}, \"Sammy\": {\"frequency\": 14, \"value\": \"Sammy\"}, \"Eliana\": {\"frequency\": 11, \"value\": \"Eliana\"}, \"Martin\": {\"frequency\": 38, \"value\": \"Martin\"}, \"Ashleigh\": {\"frequency\": 12, \"value\": \"Ashleigh\"}, \"Shane\": {\"frequency\": 28, \"value\": \"Shane\"}, \"Brielle\": {\"frequency\": 10, \"value\": \"Brielle\"}, \"Ryder\": {\"frequency\": 11, \"value\": \"Ryder\"}, \"Shana\": {\"frequency\": 12, \"value\": \"Shana\"}, \"Miriam\": {\"frequency\": 20, \"value\": \"Miriam\"}, \"Nevaeh\": {\"frequency\": 16, \"value\": \"Nevaeh\"}, \"Margo\": {\"frequency\": 17, \"value\": \"Margo\"}, \"Sammie\": {\"frequency\": 11, \"value\": \"Sammie\"}, \"Lincoln\": {\"frequency\": 12, \"value\": \"Lincoln\"}, \"Javier\": {\"frequency\": 19, \"value\": \"Javier\"}, \"Meredith\": {\"frequency\": 18, \"value\": \"Meredith\"}, \"Winifred\": {\"frequency\": 14, \"value\": \"Winifred\"}, \"Roosevelt\": {\"frequency\": 14, \"value\": \"Roosevelt\"}, \"Maxine\": {\"frequency\": 21, \"value\": \"Maxine\"}, \"Catalina\": {\"frequency\": 10, \"value\": \"Catalina\"}, \"Ilene\": {\"frequency\": 10, \"value\": \"Ilene\"}, \"Caleb\": {\"frequency\": 32, \"value\": \"Caleb\"}, \"Sheena\": {\"frequency\": 11, \"value\": \"Sheena\"}, \"Burton\": {\"frequency\": 12, \"value\": \"Burton\"}, \"Peter\": {\"frequency\": 56, \"value\": \"Peter\"}, \"Verna\": {\"frequency\": 18, \"value\": \"Verna\"}, \"Diego\": {\"frequency\": 19, \"value\": \"Diego\"}, \"Pat\": {\"frequency\": 17, \"value\": \"Pat\"}, \"Richard\": {\"frequency\": 163, \"value\": \"Richard\"}, \"Jodi\": {\"frequency\": 18, \"value\": \"Jodi\"}, \"Anton\": {\"frequency\": 10, \"value\": \"Anton\"}, \"Kyra\": {\"frequency\": 12, \"value\": \"Kyra\"}, \"Patsy\": {\"frequency\": 22, \"value\": \"Patsy\"}, \"Jody\": {\"frequency\": 19, \"value\": \"Jody\"}, \"Chelsey\": {\"frequency\": 12, \"value\": \"Chelsey\"}, \"Pam\": {\"frequency\": 12, \"value\": \"Pam\"}, \"Ainsley\": {\"frequency\": 8, \"value\": \"Ainsley\"}, \"Cheryl\": {\"frequency\": 49, \"value\": \"Cheryl\"}, \"Alton\": {\"frequency\": 14, \"value\": \"Alton\"}, \"Billie\": {\"frequency\": 23, \"value\": \"Billie\"}, \"Duane\": {\"frequency\": 21, \"value\": \"Duane\"}, \"Kaelyn\": {\"frequency\": 8, \"value\": \"Kaelyn\"}, \"Dewey\": {\"frequency\": 12, \"value\": \"Dewey\"}, \"Pierce\": {\"frequency\": 8, \"value\": \"Pierce\"}, \"Shania\": {\"frequency\": 9, \"value\": \"Shania\"}, \"Robbie\": {\"frequency\": 14, \"value\": \"Robbie\"}, \"Lillie\": {\"frequency\": 25, \"value\": \"Lillie\"}, \"Cheri\": {\"frequency\": 13, \"value\": \"Cheri\"}, \"Jenifer\": {\"frequency\": 11, \"value\": \"Jenifer\"}, \"Heidi\": {\"frequency\": 24, \"value\": \"Heidi\"}, \"Mercedes\": {\"frequency\": 14, \"value\": \"Mercedes\"}, \"Gregory\": {\"frequency\": 62, \"value\": \"Gregory\"}, \"Abraham\": {\"frequency\": 18, \"value\": \"Abraham\"}, \"Lindsay\": {\"frequency\": 23, \"value\": \"Lindsay\"}, \"Karyn\": {\"frequency\": 9, \"value\": \"Karyn\"}, \"Jarrett\": {\"frequency\": 10, \"value\": \"Jarrett\"}, \"Donald\": {\"frequency\": 109, \"value\": \"Donald\"}, \"Joyce\": {\"frequency\": 52, \"value\": \"Joyce\"}, \"Harlan\": {\"frequency\": 11, \"value\": \"Harlan\"}, \"Santos\": {\"frequency\": 10, \"value\": \"Santos\"}, \"Randi\": {\"frequency\": 12, \"value\": \"Randi\"}, \"Buddy\": {\"frequency\": 11, \"value\": \"Buddy\"}, \"Paris\": {\"frequency\": 12, \"value\": \"Paris\"}, \"Melinda\": {\"frequency\": 23, \"value\": \"Melinda\"}, \"Tara\": {\"frequency\": 27, \"value\": \"Tara\"}, \"Wilson\": {\"frequency\": 14, \"value\": \"Wilson\"}, \"Genevieve\": {\"frequency\": 20, \"value\": \"Genevieve\"}, \"Branden\": {\"frequency\": 11, \"value\": \"Branden\"}, \"Fatima\": {\"frequency\": 11, \"value\": \"Fatima\"}, \"Randy\": {\"frequency\": 40, \"value\": \"Randy\"}, \"Regan\": {\"frequency\": 10, \"value\": \"Regan\"}, \"Jaden\": {\"frequency\": 18, \"value\": \"Jaden\"}, \"Mauricio\": {\"frequency\": 10, \"value\": \"Mauricio\"}, \"Vanessa\": {\"frequency\": 32, \"value\": \"Vanessa\"}, \"Kiana\": {\"frequency\": 11, \"value\": \"Kiana\"}, \"Jill\": {\"frequency\": 29, \"value\": \"Jill\"}, \"Jacob\": {\"frequency\": 70, \"value\": \"Jacob\"}, \"Homer\": {\"frequency\": 16, \"value\": \"Homer\"}, \"Marquis\": {\"frequency\": 11, \"value\": \"Marquis\"}, \"Lillian\": {\"frequency\": 48, \"value\": \"Lillian\"}, \"Brittany\": {\"frequency\": 44, \"value\": \"Brittany\"}, \"Stella\": {\"frequency\": 24, \"value\": \"Stella\"}, \"Adriana\": {\"frequency\": 18, \"value\": \"Adriana\"}, \"Alanna\": {\"frequency\": 10, \"value\": \"Alanna\"}, \"Pearlie\": {\"frequency\": 10, \"value\": \"Pearlie\"}, \"Iva\": {\"frequency\": 13, \"value\": \"Iva\"}, \"Penny\": {\"frequency\": 20, \"value\": \"Penny\"}, \"Latisha\": {\"frequency\": 10, \"value\": \"Latisha\"}, \"Maura\": {\"frequency\": 10, \"value\": \"Maura\"}, \"Thaddeus\": {\"frequency\": 10, \"value\": \"Thaddeus\"}, \"Hester\": {\"frequency\": 9, \"value\": \"Hester\"}, \"Camden\": {\"frequency\": 11, \"value\": \"Camden\"}, \"Jeffery\": {\"frequency\": 31, \"value\": \"Jeffery\"}, \"Jerome\": {\"frequency\": 26, \"value\": \"Jerome\"}, \"Nathanael\": {\"frequency\": 10, \"value\": \"Nathanael\"}, \"Zoe\": {\"frequency\": 20, \"value\": \"Zoe\"}, \"Ruben\": {\"frequency\": 21, \"value\": \"Ruben\"}, \"Ted\": {\"frequency\": 18, \"value\": \"Ted\"}, \"Isabella\": {\"frequency\": 33, \"value\": \"Isabella\"}, \"Malachi\": {\"frequency\": 14, \"value\": \"Malachi\"}, \"Paula\": {\"frequency\": 35, \"value\": \"Paula\"}, \"Issac\": {\"frequency\": 10, \"value\": \"Issac\"}, \"Callie\": {\"frequency\": 15, \"value\": \"Callie\"}, \"Aurora\": {\"frequency\": 13, \"value\": \"Aurora\"}, \"Ariana\": {\"frequency\": 19, \"value\": \"Ariana\"}, \"Rosanne\": {\"frequency\": 8, \"value\": \"Rosanne\"}, \"Nick\": {\"frequency\": 15, \"value\": \"Nick\"}, \"Maribel\": {\"frequency\": 11, \"value\": \"Maribel\"}, \"Viviana\": {\"frequency\": 10, \"value\": \"Viviana\"}, \"Erika\": {\"frequency\": 22, \"value\": \"Erika\"}, \"Minnie\": {\"frequency\": 25, \"value\": \"Minnie\"}, \"Corrine\": {\"frequency\": 10, \"value\": \"Corrine\"}, \"Maggie\": {\"frequency\": 22, \"value\": \"Maggie\"}, \"Ethel\": {\"frequency\": 36, \"value\": \"Ethel\"}, \"Ivy\": {\"frequency\": 13, \"value\": \"Ivy\"}, \"Camryn\": {\"frequency\": 11, \"value\": \"Camryn\"}, \"Lindsey\": {\"frequency\": 26, \"value\": \"Lindsey\"}, \"Timothy\": {\"frequency\": 85, \"value\": \"Timothy\"}, \"Lila\": {\"frequency\": 17, \"value\": \"Lila\"}, \"Bridgette\": {\"frequency\": 11, \"value\": \"Bridgette\"}, \"Quinton\": {\"frequency\": 11, \"value\": \"Quinton\"}, \"Garry\": {\"frequency\": 14, \"value\": \"Garry\"}, \"Shayna\": {\"frequency\": 9, \"value\": \"Shayna\"}, \"Lou\": {\"frequency\": 14, \"value\": \"Lou\"}, \"Lily\": {\"frequency\": 22, \"value\": \"Lily\"}, \"Dane\": {\"frequency\": 12, \"value\": \"Dane\"}, \"Neal\": {\"frequency\": 15, \"value\": \"Neal\"}, \"Gregg\": {\"frequency\": 13, \"value\": \"Gregg\"}, \"Arielle\": {\"frequency\": 10, \"value\": \"Arielle\"}, \"Melba\": {\"frequency\": 11, \"value\": \"Melba\"}, \"Brooklyn\": {\"frequency\": 18, \"value\": \"Brooklyn\"}, \"Sandra\": {\"frequency\": 75, \"value\": \"Sandra\"}, \"Flora\": {\"frequency\": 17, \"value\": \"Flora\"}, \"Lynda\": {\"frequency\": 18, \"value\": \"Lynda\"}, \"Vicki\": {\"frequency\": 25, \"value\": \"Vicki\"}, \"Lukas\": {\"frequency\": 11, \"value\": \"Lukas\"}, \"Trevor\": {\"frequency\": 24, \"value\": \"Trevor\"}, \"Bethany\": {\"frequency\": 20, \"value\": \"Bethany\"}, \"Emilee\": {\"frequency\": 8, \"value\": \"Emilee\"}, \"Chandra\": {\"frequency\": 9, \"value\": \"Chandra\"}, \"Claudine\": {\"frequency\": 8, \"value\": \"Claudine\"}, \"Jason\": {\"frequency\": 81, \"value\": \"Jason\"}, \"Jamal\": {\"frequency\": 13, \"value\": \"Jamal\"}, \"Vicky\": {\"frequency\": 15, \"value\": \"Vicky\"}, \"Haylee\": {\"frequency\": 11, \"value\": \"Haylee\"}, \"Ana\": {\"frequency\": 20, \"value\": \"Ana\"}, \"Jillian\": {\"frequency\": 18, \"value\": \"Jillian\"}, \"Ann\": {\"frequency\": 51, \"value\": \"Ann\"}, \"Elvira\": {\"frequency\": 11, \"value\": \"Elvira\"}, \"Tracie\": {\"frequency\": 12, \"value\": \"Tracie\"}, \"Rusty\": {\"frequency\": 10, \"value\": \"Rusty\"}, \"Vera\": {\"frequency\": 23, \"value\": \"Vera\"}, \"Hayley\": {\"frequency\": 13, \"value\": \"Hayley\"}, \"Nannie\": {\"frequency\": 11, \"value\": \"Nannie\"}, \"Rudolph\": {\"frequency\": 15, \"value\": \"Rudolph\"}, \"Hilda\": {\"frequency\": 18, \"value\": \"Hilda\"}, \"Hope\": {\"frequency\": 18, \"value\": \"Hope\"}, \"Lowell\": {\"frequency\": 14, \"value\": \"Lowell\"}, \"Becky\": {\"frequency\": 19, \"value\": \"Becky\"}, \"Eloise\": {\"frequency\": 14, \"value\": \"Eloise\"}, \"Christi\": {\"frequency\": 10, \"value\": \"Christi\"}, \"Lela\": {\"frequency\": 14, \"value\": \"Lela\"}, \"Jalen\": {\"frequency\": 13, \"value\": \"Jalen\"}, \"Johnathan\": {\"frequency\": 19, \"value\": \"Johnathan\"}, \"Christa\": {\"frequency\": 12, \"value\": \"Christa\"}, \"Christy\": {\"frequency\": 20, \"value\": \"Christy\"}, \"Marcus\": {\"frequency\": 28, \"value\": \"Marcus\"}, \"Danny\": {\"frequency\": 36, \"value\": \"Danny\"}, \"Alma\": {\"frequency\": 25, \"value\": \"Alma\"}, \"Janis\": {\"frequency\": 15, \"value\": \"Janis\"}, \"Todd\": {\"frequency\": 36, \"value\": \"Todd\"}, \"Reid\": {\"frequency\": 11, \"value\": \"Reid\"}, \"Grover\": {\"frequency\": 11, \"value\": \"Grover\"}, \"Manuel\": {\"frequency\": 27, \"value\": \"Manuel\"}, \"Danna\": {\"frequency\": 9, \"value\": \"Danna\"}, \"Mitchell\": {\"frequency\": 26, \"value\": \"Mitchell\"}, \"Gloria\": {\"frequency\": 47, \"value\": \"Gloria\"}, \"Kristen\": {\"frequency\": 30, \"value\": \"Kristen\"}, \"Julio\": {\"frequency\": 16, \"value\": \"Julio\"}, \"Houston\": {\"frequency\": 9, \"value\": \"Houston\"}, \"Braydon\": {\"frequency\": 8, \"value\": \"Braydon\"}, \"Evelyn\": {\"frequency\": 54, \"value\": \"Evelyn\"}, \"Julie\": {\"frequency\": 52, \"value\": \"Julie\"}, \"Pierre\": {\"frequency\": 9, \"value\": \"Pierre\"}, \"Julia\": {\"frequency\": 49, \"value\": \"Julia\"}, \"Trisha\": {\"frequency\": 13, \"value\": \"Trisha\"}, \"Arline\": {\"frequency\": 10, \"value\": \"Arline\"}, \"Marcie\": {\"frequency\": 9, \"value\": \"Marcie\"}, \"Marcia\": {\"frequency\": 23, \"value\": \"Marcia\"}, \"Hayden\": {\"frequency\": 20, \"value\": \"Hayden\"}, \"Noemi\": {\"frequency\": 10, \"value\": \"Noemi\"}, \"Nicholas\": {\"frequency\": 75, \"value\": \"Nicholas\"}, \"Matt\": {\"frequency\": 10, \"value\": \"Matt\"}, \"Fay\": {\"frequency\": 13, \"value\": \"Fay\"}, \"Camila\": {\"frequency\": 13, \"value\": \"Camila\"}, \"Victoria\": {\"frequency\": 50, \"value\": \"Victoria\"}, \"Darius\": {\"frequency\": 15, \"value\": \"Darius\"}, \"Millard\": {\"frequency\": 9, \"value\": \"Millard\"}, \"Misty\": {\"frequency\": 19, \"value\": \"Misty\"}, \"Summer\": {\"frequency\": 17, \"value\": \"Summer\"}, \"Reginald\": {\"frequency\": 21, \"value\": \"Reginald\"}, \"Sawyer\": {\"frequency\": 11, \"value\": \"Sawyer\"}, \"Nelson\": {\"frequency\": 19, \"value\": \"Nelson\"}, \"Sallie\": {\"frequency\": 15, \"value\": \"Sallie\"}, \"Marie\": {\"frequency\": 54, \"value\": \"Marie\"}, \"Carrie\": {\"frequency\": 35, \"value\": \"Carrie\"}, \"Jacklyn\": {\"frequency\": 9, \"value\": \"Jacklyn\"}, \"Penelope\": {\"frequency\": 13, \"value\": \"Penelope\"}, \"Cade\": {\"frequency\": 11, \"value\": \"Cade\"}, \"Roxann\": {\"frequency\": 7, \"value\": \"Roxann\"}, \"Maria\": {\"frequency\": 54, \"value\": \"Maria\"}, \"Sue\": {\"frequency\": 24, \"value\": \"Sue\"}, \"Mandy\": {\"frequency\": 14, \"value\": \"Mandy\"}, \"Mason\": {\"frequency\": 29, \"value\": \"Mason\"}, \"Silas\": {\"frequency\": 12, \"value\": \"Silas\"}, \"Jonathan\": {\"frequency\": 67, \"value\": \"Jonathan\"}, \"Kailey\": {\"frequency\": 11, \"value\": \"Kailey\"}, \"Mike\": {\"frequency\": 29, \"value\": \"Mike\"}, \"Leon\": {\"frequency\": 26, \"value\": \"Leon\"}, \"Flossie\": {\"frequency\": 10, \"value\": \"Flossie\"}, \"Madalyn\": {\"frequency\": 10, \"value\": \"Madalyn\"}, \"Kayla\": {\"frequency\": 40, \"value\": \"Kayla\"}, \"Connie\": {\"frequency\": 35, \"value\": \"Connie\"}, \"Sheri\": {\"frequency\": 16, \"value\": \"Sheri\"}, \"Bryant\": {\"frequency\": 15, \"value\": \"Bryant\"}, \"Heaven\": {\"frequency\": 10, \"value\": \"Heaven\"}, \"Eden\": {\"frequency\": 11, \"value\": \"Eden\"}, \"Roslyn\": {\"frequency\": 9, \"value\": \"Roslyn\"}, \"Jewel\": {\"frequency\": 14, \"value\": \"Jewel\"}, \"Yasmin\": {\"frequency\": 10, \"value\": \"Yasmin\"}, \"Leila\": {\"frequency\": 13, \"value\": \"Leila\"}, \"Cary\": {\"frequency\": 12, \"value\": \"Cary\"}, \"Chester\": {\"frequency\": 22, \"value\": \"Chester\"}, \"Stanley\": {\"frequency\": 38, \"value\": \"Stanley\"}, \"Kendall\": {\"frequency\": 19, \"value\": \"Kendall\"}, \"Johnny\": {\"frequency\": 39, \"value\": \"Johnny\"}, \"Meagan\": {\"frequency\": 14, \"value\": \"Meagan\"}, \"Kate\": {\"frequency\": 18, \"value\": \"Kate\"}, \"Gale\": {\"frequency\": 12, \"value\": \"Gale\"}, \"Bessie\": {\"frequency\": 26, \"value\": \"Bessie\"}, \"Shelley\": {\"frequency\": 17, \"value\": \"Shelley\"}, \"Angelica\": {\"frequency\": 19, \"value\": \"Angelica\"}, \"Rosella\": {\"frequency\": 9, \"value\": \"Rosella\"}, \"Pedro\": {\"frequency\": 19, \"value\": \"Pedro\"}, \"Karin\": {\"frequency\": 11, \"value\": \"Karin\"}, \"Wallace\": {\"frequency\": 19, \"value\": \"Wallace\"}, \"Juan\": {\"frequency\": 41, \"value\": \"Juan\"}, \"Bobbie\": {\"frequency\": 21, \"value\": \"Bobbie\"}, \"Tabitha\": {\"frequency\": 16, \"value\": \"Tabitha\"}, \"Sasha\": {\"frequency\": 12, \"value\": \"Sasha\"}, \"Ivory\": {\"frequency\": 9, \"value\": \"Ivory\"}, \"Alexa\": {\"frequency\": 20, \"value\": \"Alexa\"}, \"Claudette\": {\"frequency\": 10, \"value\": \"Claudette\"}, \"Lawrence\": {\"frequency\": 49, \"value\": \"Lawrence\"}, \"Chance\": {\"frequency\": 12, \"value\": \"Chance\"}, \"Amy\": {\"frequency\": 63, \"value\": \"Amy\"}, \"Lydia\": {\"frequency\": 24, \"value\": \"Lydia\"}, \"Jonathon\": {\"frequency\": 16, \"value\": \"Jonathon\"}, \"Daphne\": {\"frequency\": 12, \"value\": \"Daphne\"}, \"Devan\": {\"frequency\": 10, \"value\": \"Devan\"}, \"Jeannie\": {\"frequency\": 13, \"value\": \"Jeannie\"}, \"Bradford\": {\"frequency\": 12, \"value\": \"Bradford\"}, \"Leonardo\": {\"frequency\": 14, \"value\": \"Leonardo\"}, \"Anastasia\": {\"frequency\": 13, \"value\": \"Anastasia\"}, \"Cassidy\": {\"frequency\": 15, \"value\": \"Cassidy\"}, \"Deandre\": {\"frequency\": 11, \"value\": \"Deandre\"}, \"Chelsea\": {\"frequency\": 25, \"value\": \"Chelsea\"}, \"Dee\": {\"frequency\": 11, \"value\": \"Dee\"}, \"Luann\": {\"frequency\": 9, \"value\": \"Luann\"}, \"Jenny\": {\"frequency\": 19, \"value\": \"Jenny\"}, \"Diana\": {\"frequency\": 43, \"value\": \"Diana\"}, \"Diane\": {\"frequency\": 53, \"value\": \"Diane\"}, \"Kristine\": {\"frequency\": 19, \"value\": \"Kristine\"}, \"Kristina\": {\"frequency\": 23, \"value\": \"Kristina\"}, \"Delores\": {\"frequency\": 22, \"value\": \"Delores\"}, \"Jenna\": {\"frequency\": 24, \"value\": \"Jenna\"}, \"Jesse\": {\"frequency\": 48, \"value\": \"Jesse\"}, \"Deon\": {\"frequency\": 9, \"value\": \"Deon\"}, \"Ricky\": {\"frequency\": 30, \"value\": \"Ricky\"}, \"Darwin\": {\"frequency\": 11, \"value\": \"Darwin\"}, \"Eugene\": {\"frequency\": 45, \"value\": \"Eugene\"}, \"Madelyn\": {\"frequency\": 17, \"value\": \"Madelyn\"}, \"Geneva\": {\"frequency\": 19, \"value\": \"Geneva\"}, \"Lexie\": {\"frequency\": 8, \"value\": \"Lexie\"}, \"Elsa\": {\"frequency\": 11, \"value\": \"Elsa\"}, \"Mario\": {\"frequency\": 24, \"value\": \"Mario\"}, \"Kendra\": {\"frequency\": 19, \"value\": \"Kendra\"}, \"Larissa\": {\"frequency\": 10, \"value\": \"Larissa\"}, \"Milton\": {\"frequency\": 22, \"value\": \"Milton\"}, \"Hanna\": {\"frequency\": 13, \"value\": \"Hanna\"}, \"Michaela\": {\"frequency\": 14, \"value\": \"Michaela\"}, \"April\": {\"frequency\": 31, \"value\": \"April\"}, \"Morgan\": {\"frequency\": 32, \"value\": \"Morgan\"}, \"Micheal\": {\"frequency\": 25, \"value\": \"Micheal\"}, \"Stewart\": {\"frequency\": 13, \"value\": \"Stewart\"}, \"Cierra\": {\"frequency\": 11, \"value\": \"Cierra\"}, \"Benito\": {\"frequency\": 8, \"value\": \"Benito\"}, \"Noelle\": {\"frequency\": 11, \"value\": \"Noelle\"}, \"Carmela\": {\"frequency\": 11, \"value\": \"Carmela\"}, \"Elwood\": {\"frequency\": 10, \"value\": \"Elwood\"}, \"Joy\": {\"frequency\": 23, \"value\": \"Joy\"}, \"Jami\": {\"frequency\": 11, \"value\": \"Jami\"}}, \"size\": 98077}}, \"selected_variable\": {\"name\": [\"ratings\"], \"descriptives\": {\"rows\": 98077, \"columns\": 3}, \"view_component\": \"Summary\", \"view_file\": \"sframe\", \"view_params\": {\"y\": null, \"x\": null, \"columns\": [\"name\", \"book\", \"rating\"], \"view\": null}, \"view_components\": [\"Summary\", \"Table\", \"Bar Chart\", \"BoxWhisker Plot\", \"Line Chart\", \"Scatter Plot\", \"Heat Map\", \"Plots\"], \"type\": \"SFrame\", \"columns\": [{\"dtype\": \"str\", \"name\": \"name\"}, {\"dtype\": \"str\", \"name\": \"book\"}, {\"dtype\": \"int\", \"name\": \"rating\"}], \"column_identifiers\": [\"rating\", \"book\", \"name\"]}, \"columns\": [{\"dtype\": \"str\", \"name\": \"name\"}, {\"dtype\": \"str\", \"name\": \"book\"}, {\"dtype\": \"int\", \"name\": \"rating\"}]}, e);\n",
       "                });\n",
       "            })();\n",
       "        "
      ]
     },
     "metadata": {},
     "output_type": "display_data"
    }
   ],
   "source": [
    "ratings.show()"
   ]
  },
  {
   "cell_type": "markdown",
   "metadata": {},
   "source": [
    "## Recommendation systems"
   ]
  },
  {
   "cell_type": "markdown",
   "metadata": {},
   "source": [
    "In this section we will make a model that can be used to recommend new tags to users."
   ]
  },
  {
   "cell_type": "markdown",
   "metadata": {},
   "source": [
    "### Creating a Model"
   ]
  },
  {
   "cell_type": "markdown",
   "metadata": {},
   "source": [
    "Use `gl.recommender.create()` to create a model that can be used to recommend tags to each user."
   ]
  },
  {
   "cell_type": "code",
   "execution_count": 4,
   "metadata": {
    "collapsed": false
   },
   "outputs": [
    {
     "data": {
      "text/html": [
       "<pre>Recsys training: model = item_similarity</pre>"
      ],
      "text/plain": [
       "Recsys training: model = item_similarity"
      ]
     },
     "metadata": {},
     "output_type": "display_data"
    },
    {
     "data": {
      "text/html": [
       "<pre>Warning: Column 'rating' ignored.</pre>"
      ],
      "text/plain": [
       "Warning: Column 'rating' ignored."
      ]
     },
     "metadata": {},
     "output_type": "display_data"
    },
    {
     "data": {
      "text/html": [
       "<pre>    To use this column as the target, set target = \"rating\" and use a method that allows the use of a target.</pre>"
      ],
      "text/plain": [
       "    To use this column as the target, set target = \"rating\" and use a method that allows the use of a target."
      ]
     },
     "metadata": {},
     "output_type": "display_data"
    },
    {
     "data": {
      "text/html": [
       "<pre>Preparing data set.</pre>"
      ],
      "text/plain": [
       "Preparing data set."
      ]
     },
     "metadata": {},
     "output_type": "display_data"
    },
    {
     "data": {
      "text/html": [
       "<pre>    Data has 98077 observations with 31856 users and 11121 items.</pre>"
      ],
      "text/plain": [
       "    Data has 98077 observations with 31856 users and 11121 items."
      ]
     },
     "metadata": {},
     "output_type": "display_data"
    },
    {
     "data": {
      "text/html": [
       "<pre>    Data prepared in: 0.245797s</pre>"
      ],
      "text/plain": [
       "    Data prepared in: 0.245797s"
      ]
     },
     "metadata": {},
     "output_type": "display_data"
    },
    {
     "data": {
      "text/html": [
       "<pre>Training model from provided data.</pre>"
      ],
      "text/plain": [
       "Training model from provided data."
      ]
     },
     "metadata": {},
     "output_type": "display_data"
    },
    {
     "data": {
      "text/html": [
       "<pre>Gathering per-item and per-user statistics.</pre>"
      ],
      "text/plain": [
       "Gathering per-item and per-user statistics."
      ]
     },
     "metadata": {},
     "output_type": "display_data"
    },
    {
     "data": {
      "text/html": [
       "<pre>+--------------------------------+------------+</pre>"
      ],
      "text/plain": [
       "+--------------------------------+------------+"
      ]
     },
     "metadata": {},
     "output_type": "display_data"
    },
    {
     "data": {
      "text/html": [
       "<pre>| Elapsed Time (Item Statistics) | % Complete |</pre>"
      ],
      "text/plain": [
       "| Elapsed Time (Item Statistics) | % Complete |"
      ]
     },
     "metadata": {},
     "output_type": "display_data"
    },
    {
     "data": {
      "text/html": [
       "<pre>+--------------------------------+------------+</pre>"
      ],
      "text/plain": [
       "+--------------------------------+------------+"
      ]
     },
     "metadata": {},
     "output_type": "display_data"
    },
    {
     "data": {
      "text/html": [
       "<pre>| 962us                          | 18.75      |</pre>"
      ],
      "text/plain": [
       "| 962us                          | 18.75      |"
      ]
     },
     "metadata": {},
     "output_type": "display_data"
    },
    {
     "data": {
      "text/html": [
       "<pre>| 9.895ms                        | 100        |</pre>"
      ],
      "text/plain": [
       "| 9.895ms                        | 100        |"
      ]
     },
     "metadata": {},
     "output_type": "display_data"
    },
    {
     "data": {
      "text/html": [
       "<pre>+--------------------------------+------------+</pre>"
      ],
      "text/plain": [
       "+--------------------------------+------------+"
      ]
     },
     "metadata": {},
     "output_type": "display_data"
    },
    {
     "data": {
      "text/html": [
       "<pre>Setting up lookup tables.</pre>"
      ],
      "text/plain": [
       "Setting up lookup tables."
      ]
     },
     "metadata": {},
     "output_type": "display_data"
    },
    {
     "data": {
      "text/html": [
       "<pre>Processing data in one pass using dense lookup tables.</pre>"
      ],
      "text/plain": [
       "Processing data in one pass using dense lookup tables."
      ]
     },
     "metadata": {},
     "output_type": "display_data"
    },
    {
     "data": {
      "text/html": [
       "<pre>+-------------------------------------+------------------+-----------------+</pre>"
      ],
      "text/plain": [
       "+-------------------------------------+------------------+-----------------+"
      ]
     },
     "metadata": {},
     "output_type": "display_data"
    },
    {
     "data": {
      "text/html": [
       "<pre>| Elapsed Time (Constructing Lookups) | Total % Complete | Items Processed |</pre>"
      ],
      "text/plain": [
       "| Elapsed Time (Constructing Lookups) | Total % Complete | Items Processed |"
      ]
     },
     "metadata": {},
     "output_type": "display_data"
    },
    {
     "data": {
      "text/html": [
       "<pre>+-------------------------------------+------------------+-----------------+</pre>"
      ],
      "text/plain": [
       "+-------------------------------------+------------------+-----------------+"
      ]
     },
     "metadata": {},
     "output_type": "display_data"
    },
    {
     "data": {
      "text/html": [
       "<pre>| 636.395ms                           | 0                | 0               |</pre>"
      ],
      "text/plain": [
       "| 636.395ms                           | 0                | 0               |"
      ]
     },
     "metadata": {},
     "output_type": "display_data"
    },
    {
     "data": {
      "text/html": [
       "<pre>| 2.56s                               | 100              | 11121           |</pre>"
      ],
      "text/plain": [
       "| 2.56s                               | 100              | 11121           |"
      ]
     },
     "metadata": {},
     "output_type": "display_data"
    },
    {
     "data": {
      "text/html": [
       "<pre>+-------------------------------------+------------------+-----------------+</pre>"
      ],
      "text/plain": [
       "+-------------------------------------+------------------+-----------------+"
      ]
     },
     "metadata": {},
     "output_type": "display_data"
    },
    {
     "data": {
      "text/html": [
       "<pre>Finalizing lookup tables.</pre>"
      ],
      "text/plain": [
       "Finalizing lookup tables."
      ]
     },
     "metadata": {},
     "output_type": "display_data"
    },
    {
     "data": {
      "text/html": [
       "<pre>Generating candidate set for working with new users.</pre>"
      ],
      "text/plain": [
       "Generating candidate set for working with new users."
      ]
     },
     "metadata": {},
     "output_type": "display_data"
    }
   ],
   "source": [
    "m = gl.recommender.create(ratings, user_id='name', item_id='book')"
   ]
  },
  {
   "cell_type": "markdown",
   "metadata": {},
   "source": [
    "Print a summary of the model by simply entering the name of the object."
   ]
  },
  {
   "cell_type": "code",
   "execution_count": 5,
   "metadata": {
    "collapsed": false
   },
   "outputs": [
    {
     "data": {
      "text/plain": [
       "Class                            : ItemSimilarityRecommender\n",
       "\n",
       "Schema\n",
       "------\n",
       "User ID                          : name\n",
       "Item ID                          : book\n",
       "Target                           : None\n",
       "Additional observation features  : 0\n",
       "User side features               : []\n",
       "Item side features               : []\n",
       "\n",
       "Statistics\n",
       "----------\n",
       "Number of observations           : 98077\n",
       "Number of users                  : 31856\n",
       "Number of items                  : 11121\n",
       "\n",
       "Training summary\n",
       "----------------\n",
       "Training time                    : 3.5958\n",
       "\n",
       "Model Parameters\n",
       "----------------\n",
       "Model class                      : ItemSimilarityRecommender\n",
       "threshold                        : 0.001\n",
       "similarity_type                  : jaccard\n",
       "training_method                  : auto\n",
       "\n",
       "Other Settings\n",
       "--------------\n",
       "degree_approximation_threshold   : 4096\n",
       "sparse_density_estimation_sample_size : 4096\n",
       "max_data_passes                  : 4096\n",
       "target_memory_usage              : 8589934592\n",
       "seed_item_set_size               : 50\n",
       "nearest_neighbors_interaction_proportion_threshold : 0.05\n",
       "max_item_neighborhood_size       : 64"
      ]
     },
     "execution_count": 5,
     "metadata": {},
     "output_type": "execute_result"
    }
   ],
   "source": [
    "m"
   ]
  },
  {
   "cell_type": "markdown",
   "metadata": {},
   "source": [
    "Get all unique users from the first 10000 observations and save them as a variable called `users`."
   ]
  },
  {
   "cell_type": "code",
   "execution_count": 6,
   "metadata": {
    "collapsed": false
   },
   "outputs": [],
   "source": [
    "users = ratings.head(10000)['name'].unique()"
   ]
  },
  {
   "cell_type": "markdown",
   "metadata": {},
   "source": [
    "Get 20 recommendations for each user in your list of users. Save these as a new SFrame called `recs`."
   ]
  },
  {
   "cell_type": "code",
   "execution_count": 7,
   "metadata": {
    "collapsed": false
   },
   "outputs": [
    {
     "data": {
      "text/html": [
       "<pre>recommendations finished on 1000/6572 queries. users per second: 14158.9</pre>"
      ],
      "text/plain": [
       "recommendations finished on 1000/6572 queries. users per second: 14158.9"
      ]
     },
     "metadata": {},
     "output_type": "display_data"
    },
    {
     "data": {
      "text/html": [
       "<pre>recommendations finished on 2000/6572 queries. users per second: 13498.2</pre>"
      ],
      "text/plain": [
       "recommendations finished on 2000/6572 queries. users per second: 13498.2"
      ]
     },
     "metadata": {},
     "output_type": "display_data"
    },
    {
     "data": {
      "text/html": [
       "<pre>recommendations finished on 3000/6572 queries. users per second: 12571</pre>"
      ],
      "text/plain": [
       "recommendations finished on 3000/6572 queries. users per second: 12571"
      ]
     },
     "metadata": {},
     "output_type": "display_data"
    },
    {
     "data": {
      "text/html": [
       "<pre>recommendations finished on 4000/6572 queries. users per second: 12556.4</pre>"
      ],
      "text/plain": [
       "recommendations finished on 4000/6572 queries. users per second: 12556.4"
      ]
     },
     "metadata": {},
     "output_type": "display_data"
    },
    {
     "data": {
      "text/html": [
       "<pre>recommendations finished on 5000/6572 queries. users per second: 12361.7</pre>"
      ],
      "text/plain": [
       "recommendations finished on 5000/6572 queries. users per second: 12361.7"
      ]
     },
     "metadata": {},
     "output_type": "display_data"
    },
    {
     "data": {
      "text/html": [
       "<pre>recommendations finished on 6000/6572 queries. users per second: 12613.3</pre>"
      ],
      "text/plain": [
       "recommendations finished on 6000/6572 queries. users per second: 12613.3"
      ]
     },
     "metadata": {},
     "output_type": "display_data"
    }
   ],
   "source": [
    "recs = m.recommend(users, k=20)"
   ]
  },
  {
   "cell_type": "markdown",
   "metadata": {},
   "source": [
    "## Inspecting your model"
   ]
  },
  {
   "cell_type": "markdown",
   "metadata": {},
   "source": [
    "Get an SFrame of the 20 most similar items for each observed item."
   ]
  },
  {
   "cell_type": "code",
   "execution_count": 8,
   "metadata": {
    "collapsed": false
   },
   "outputs": [],
   "source": [
    "sims = m.get_similar_items()"
   ]
  },
  {
   "cell_type": "markdown",
   "metadata": {},
   "source": [
    "This dataset has multiple rows corresponding to the same book, e.g., in situations where reprintings were done by different publishers in different year.\n",
    "\n",
    "For each unique value of 'book' in the `items` SFrame, select one of the of the available values for `author`, `publisher`, and `year`. Hint: Try using [`SFrame.groupby`](http://dato.com/products/create/docs/graphlab.data_structures.html#module-graphlab.aggregate) and [`gl.aggregate.SELECT_ONE`](http://dato.com/products/create/docs/graphlab.data_structures.html#graphlab.aggregate.SELECT_ONE)."
   ]
  },
  {
   "cell_type": "code",
   "execution_count": 9,
   "metadata": {
    "collapsed": false
   },
   "outputs": [],
   "source": [
    "items = items.groupby('book', {k: gl.aggregate.SELECT_ONE(k) for k in ['author', 'publisher', 'year']})"
   ]
  },
  {
   "cell_type": "markdown",
   "metadata": {},
   "source": [
    "Computing the number of times each book was rated, and add a column containing these counts to the `items` SFrame using `SFrame.join`."
   ]
  },
  {
   "cell_type": "code",
   "execution_count": 10,
   "metadata": {
    "collapsed": false
   },
   "outputs": [],
   "source": [
    "num_ratings_per_book = ratings.groupby('book', gl.aggregate.COUNT)\n",
    "items = items.join(num_ratings_per_book, on='book')"
   ]
  },
  {
   "cell_type": "markdown",
   "metadata": {},
   "source": [
    "Print the first few books, sorted by the number of times they have been rated. Do these values make sense?"
   ]
  },
  {
   "cell_type": "code",
   "execution_count": 11,
   "metadata": {
    "collapsed": false
   },
   "outputs": [
    {
     "data": {
      "text/html": [
       "<div style=\"max-height:1000px;max-width:1500px;overflow:auto;\"><table frame=\"box\" rules=\"cols\">\n",
       "    <tr>\n",
       "        <th style=\"padding-left: 1em; padding-right: 1em; text-align: center\">book</th>\n",
       "        <th style=\"padding-left: 1em; padding-right: 1em; text-align: center\">publisher</th>\n",
       "        <th style=\"padding-left: 1em; padding-right: 1em; text-align: center\">year</th>\n",
       "        <th style=\"padding-left: 1em; padding-right: 1em; text-align: center\">author</th>\n",
       "        <th style=\"padding-left: 1em; padding-right: 1em; text-align: center\">Count</th>\n",
       "    </tr>\n",
       "    <tr>\n",
       "        <td style=\"padding-left: 1em; padding-right: 1em; text-align: center; vertical-align: top\">Wild Animus</td>\n",
       "        <td style=\"padding-left: 1em; padding-right: 1em; text-align: center; vertical-align: top\">Too Far</td>\n",
       "        <td style=\"padding-left: 1em; padding-right: 1em; text-align: center; vertical-align: top\">2004</td>\n",
       "        <td style=\"padding-left: 1em; padding-right: 1em; text-align: center; vertical-align: top\">Rich Shapero</td>\n",
       "        <td style=\"padding-left: 1em; padding-right: 1em; text-align: center; vertical-align: top\">581</td>\n",
       "    </tr>\n",
       "    <tr>\n",
       "        <td style=\"padding-left: 1em; padding-right: 1em; text-align: center; vertical-align: top\">The Da Vinci Code</td>\n",
       "        <td style=\"padding-left: 1em; padding-right: 1em; text-align: center; vertical-align: top\">Doubleday</td>\n",
       "        <td style=\"padding-left: 1em; padding-right: 1em; text-align: center; vertical-align: top\">2003</td>\n",
       "        <td style=\"padding-left: 1em; padding-right: 1em; text-align: center; vertical-align: top\">Dan Brown</td>\n",
       "        <td style=\"padding-left: 1em; padding-right: 1em; text-align: center; vertical-align: top\">488</td>\n",
       "    </tr>\n",
       "    <tr>\n",
       "        <td style=\"padding-left: 1em; padding-right: 1em; text-align: center; vertical-align: top\">The Secret Life of Bees</td>\n",
       "        <td style=\"padding-left: 1em; padding-right: 1em; text-align: center; vertical-align: top\">Penguin Highbridge</td>\n",
       "        <td style=\"padding-left: 1em; padding-right: 1em; text-align: center; vertical-align: top\">2002</td>\n",
       "        <td style=\"padding-left: 1em; padding-right: 1em; text-align: center; vertical-align: top\">Sue Monk Kidd</td>\n",
       "        <td style=\"padding-left: 1em; padding-right: 1em; text-align: center; vertical-align: top\">406</td>\n",
       "    </tr>\n",
       "    <tr>\n",
       "        <td style=\"padding-left: 1em; padding-right: 1em; text-align: center; vertical-align: top\">Bridget Jones's Diary</td>\n",
       "        <td style=\"padding-left: 1em; padding-right: 1em; text-align: center; vertical-align: top\">Picador (UK)</td>\n",
       "        <td style=\"padding-left: 1em; padding-right: 1em; text-align: center; vertical-align: top\">1996</td>\n",
       "        <td style=\"padding-left: 1em; padding-right: 1em; text-align: center; vertical-align: top\">Helen Fielding</td>\n",
       "        <td style=\"padding-left: 1em; padding-right: 1em; text-align: center; vertical-align: top\">377</td>\n",
       "    </tr>\n",
       "    <tr>\n",
       "        <td style=\"padding-left: 1em; padding-right: 1em; text-align: center; vertical-align: top\">Life of Pi</td>\n",
       "        <td style=\"padding-left: 1em; padding-right: 1em; text-align: center; vertical-align: top\">Pub Group West</td>\n",
       "        <td style=\"padding-left: 1em; padding-right: 1em; text-align: center; vertical-align: top\">2004</td>\n",
       "        <td style=\"padding-left: 1em; padding-right: 1em; text-align: center; vertical-align: top\">Yann Martel</td>\n",
       "        <td style=\"padding-left: 1em; padding-right: 1em; text-align: center; vertical-align: top\">336</td>\n",
       "    </tr>\n",
       "    <tr>\n",
       "        <td style=\"padding-left: 1em; padding-right: 1em; text-align: center; vertical-align: top\">The Summons</td>\n",
       "        <td style=\"padding-left: 1em; padding-right: 1em; text-align: center; vertical-align: top\">Random House Large Print<br>Publishing ...</td>\n",
       "        <td style=\"padding-left: 1em; padding-right: 1em; text-align: center; vertical-align: top\">2002</td>\n",
       "        <td style=\"padding-left: 1em; padding-right: 1em; text-align: center; vertical-align: top\">John Grisham</td>\n",
       "        <td style=\"padding-left: 1em; padding-right: 1em; text-align: center; vertical-align: top\">309</td>\n",
       "    </tr>\n",
       "    <tr>\n",
       "        <td style=\"padding-left: 1em; padding-right: 1em; text-align: center; vertical-align: top\">A Painted House</td>\n",
       "        <td style=\"padding-left: 1em; padding-right: 1em; text-align: center; vertical-align: top\">Random House Audio<br>Publishing Group ...</td>\n",
       "        <td style=\"padding-left: 1em; padding-right: 1em; text-align: center; vertical-align: top\">2001</td>\n",
       "        <td style=\"padding-left: 1em; padding-right: 1em; text-align: center; vertical-align: top\">John Grisham</td>\n",
       "        <td style=\"padding-left: 1em; padding-right: 1em; text-align: center; vertical-align: top\">284</td>\n",
       "    </tr>\n",
       "    <tr>\n",
       "        <td style=\"padding-left: 1em; padding-right: 1em; text-align: center; vertical-align: top\">The Girls' Guide to<br>Hunting and Fishing ...</td>\n",
       "        <td style=\"padding-left: 1em; padding-right: 1em; text-align: center; vertical-align: top\">Penguin Books Ltd</td>\n",
       "        <td style=\"padding-left: 1em; padding-right: 1em; text-align: center; vertical-align: top\">2000</td>\n",
       "        <td style=\"padding-left: 1em; padding-right: 1em; text-align: center; vertical-align: top\">Melissa Bank</td>\n",
       "        <td style=\"padding-left: 1em; padding-right: 1em; text-align: center; vertical-align: top\">259</td>\n",
       "    </tr>\n",
       "    <tr>\n",
       "        <td style=\"padding-left: 1em; padding-right: 1em; text-align: center; vertical-align: top\">Good in Bed</td>\n",
       "        <td style=\"padding-left: 1em; padding-right: 1em; text-align: center; vertical-align: top\">Atria</td>\n",
       "        <td style=\"padding-left: 1em; padding-right: 1em; text-align: center; vertical-align: top\">2001</td>\n",
       "        <td style=\"padding-left: 1em; padding-right: 1em; text-align: center; vertical-align: top\">Jennifer Weiner</td>\n",
       "        <td style=\"padding-left: 1em; padding-right: 1em; text-align: center; vertical-align: top\">247</td>\n",
       "    </tr>\n",
       "    <tr>\n",
       "        <td style=\"padding-left: 1em; padding-right: 1em; text-align: center; vertical-align: top\">The Five People You Meet<br>in Heaven ...</td>\n",
       "        <td style=\"padding-left: 1em; padding-right: 1em; text-align: center; vertical-align: top\">Hyperion</td>\n",
       "        <td style=\"padding-left: 1em; padding-right: 1em; text-align: center; vertical-align: top\">2003</td>\n",
       "        <td style=\"padding-left: 1em; padding-right: 1em; text-align: center; vertical-align: top\">Mitch Albom</td>\n",
       "        <td style=\"padding-left: 1em; padding-right: 1em; text-align: center; vertical-align: top\">244</td>\n",
       "    </tr>\n",
       "</table>\n",
       "[11121 rows x 5 columns]<br/>Note: Only the head of the SFrame is printed.<br/>You can use print_rows(num_rows=m, num_columns=n) to print more rows and columns.\n",
       "</div>"
      ],
      "text/plain": [
       "Columns:\n",
       "\tbook\tstr\n",
       "\tpublisher\tstr\n",
       "\tyear\tint\n",
       "\tauthor\tstr\n",
       "\tCount\tint\n",
       "\n",
       "Rows: 11121\n",
       "\n",
       "Data:\n",
       "+-------------------------------+-------------------------------+------+\n",
       "|              book             |           publisher           | year |\n",
       "+-------------------------------+-------------------------------+------+\n",
       "|          Wild Animus          |            Too Far            | 2004 |\n",
       "|       The Da Vinci Code       |           Doubleday           | 2003 |\n",
       "|    The Secret Life of Bees    |       Penguin Highbridge      | 2002 |\n",
       "|     Bridget Jones's Diary     |          Picador (UK)         | 1996 |\n",
       "|           Life of Pi          |         Pub Group West        | 2004 |\n",
       "|          The Summons          | Random House Large Print P... | 2002 |\n",
       "|        A Painted House        | Random House Audio Publish... | 2001 |\n",
       "| The Girls' Guide to Huntin... |       Penguin Books Ltd       | 2000 |\n",
       "|          Good in Bed          |             Atria             | 2001 |\n",
       "| The Five People You Meet i... |            Hyperion           | 2003 |\n",
       "+-------------------------------+-------------------------------+------+\n",
       "+-----------------+-------+\n",
       "|      author     | Count |\n",
       "+-----------------+-------+\n",
       "|   Rich Shapero  |  581  |\n",
       "|    Dan Brown    |  488  |\n",
       "|  Sue Monk Kidd  |  406  |\n",
       "|  Helen Fielding |  377  |\n",
       "|   Yann Martel   |  336  |\n",
       "|   John Grisham  |  309  |\n",
       "|   John Grisham  |  284  |\n",
       "|   Melissa Bank  |  259  |\n",
       "| Jennifer Weiner |  247  |\n",
       "|   Mitch Albom   |  244  |\n",
       "+-----------------+-------+\n",
       "[11121 rows x 5 columns]\n",
       "Note: Only the head of the SFrame is printed.\n",
       "You can use print_rows(num_rows=m, num_columns=n) to print more rows and columns."
      ]
     },
     "execution_count": 11,
     "metadata": {},
     "output_type": "execute_result"
    }
   ],
   "source": [
    "items.sort('Count', ascending=False)"
   ]
  },
  {
   "cell_type": "markdown",
   "metadata": {},
   "source": [
    "Now print the most similar items per item, sorted by the most common books. Hint: Join the two SFrames you created above."
   ]
  },
  {
   "cell_type": "code",
   "execution_count": 12,
   "metadata": {
    "collapsed": false
   },
   "outputs": [
    {
     "name": "stdout",
     "output_type": "stream",
     "text": [
      "+-------------------------------+--------------------------------+------------------+------+-------+\n",
      "|              book             |            similar             |      score       | rank | Count |\n",
      "+-------------------------------+--------------------------------+------------------+------+-------+\n",
      "|          Wild Animus          |    A Prayer for Owen Meany     | 0.00925928354263 |  10  |  581  |\n",
      "|          Wild Animus          |          Empire Falls          | 0.0097222328186  |  9   |  581  |\n",
      "|          Wild Animus          |      When the Wind Blows       | 0.00980395078659 |  8   |  581  |\n",
      "|          Wild Animus          |   The Bonesetter's Daughter    | 0.0108991861343  |  7   |  581  |\n",
      "|          Wild Animus          |           Life of Pi           | 0.0110375285149  |  6   |  581  |\n",
      "|          Wild Animus          |          The Alienist          | 0.0113154053688  |  5   |  581  |\n",
      "|          Wild Animus          |        A Painted House         | 0.0116959214211  |  4   |  581  |\n",
      "|          Wild Animus          | The Bridges of Madison County  | 0.0119840502739  |  3   |  581  |\n",
      "|          Wild Animus          |    The Secret Life of Bees     | 0.0123583674431  |  2   |  581  |\n",
      "|          Wild Animus          |       The Da Vinci Code        | 0.0171265602112  |  1   |  581  |\n",
      "|       The Da Vinci Code       |     Me Talk Pretty One Day     | 0.0232558250427  |  10  |  488  |\n",
      "|       The Da Vinci Code       | The Girls' Guide to Huntin...  | 0.0233837962151  |  9   |  488  |\n",
      "|       The Da Vinci Code       |          Good in Bed           | 0.0237098932266  |  8   |  488  |\n",
      "|       The Da Vinci Code       |           Bleachers            | 0.0255474448204  |  7   |  488  |\n",
      "|       The Da Vinci Code       |     Bridget Jones's Diary      | 0.0264105796814  |  6   |  488  |\n",
      "|       The Da Vinci Code       |   Dude, Where's My Country?    | 0.0284191966057  |  5   |  488  |\n",
      "|       The Da Vinci Code       |          Mystic River          | 0.0299500823021  |  4   |  488  |\n",
      "|       The Da Vinci Code       | The Five People You Meet i...  |  0.033898293972  |  3   |  488  |\n",
      "|       The Da Vinci Code       |           Life of Pi           |  0.036523938179  |  2   |  488  |\n",
      "|       The Da Vinci Code       |    The Secret Life of Bees     |  0.043376326561  |  1   |  488  |\n",
      "|    The Secret Life of Bees    |     The Rapture of Canaan      | 0.0299785733223  |  10  |  406  |\n",
      "|    The Secret Life of Bees    |   The Bonesetter's Daughter    |  0.031135559082  |  9   |  406  |\n",
      "|    The Secret Life of Bees    |     Bridget Jones's Diary      | 0.0322147607803  |  8   |  406  |\n",
      "|    The Secret Life of Bees    | The Girls' Guide to Huntin...  | 0.0345911979675  |  7   |  406  |\n",
      "|    The Secret Life of Bees    |     Girl in Hyacinth Blue      | 0.0375000238419  |  6   |  406  |\n",
      "|    The Secret Life of Bees    | Wicked: The Life and Times...  | 0.0410447716713  |  5   |  406  |\n",
      "|    The Secret Life of Bees    |       The Da Vinci Code        |  0.043376326561  |  4   |  406  |\n",
      "|    The Secret Life of Bees    |           Life of Pi           | 0.0439093708992  |  3   |  406  |\n",
      "|    The Secret Life of Bees    | The Five People You Meet i...  | 0.0470016002655  |  2   |  406  |\n",
      "|    The Secret Life of Bees    |          Good in Bed           | 0.0485436916351  |  1   |  406  |\n",
      "|     Bridget Jones's Diary     |     Girl in Hyacinth Blue      | 0.0266075134277  |  10  |  377  |\n",
      "|     Bridget Jones's Diary     |          Empire Falls          | 0.0280560851097  |  9   |  377  |\n",
      "|     Bridget Jones's Diary     | Wicked: The Life and Times...  | 0.0295275449753  |  8   |  377  |\n",
      "|     Bridget Jones's Diary     |     Me Talk Pretty One Day     | 0.0300353169441  |  7   |  377  |\n",
      "|     Bridget Jones's Diary     |   Dude, Where's My Country?    | 0.0315315127373  |  6   |  377  |\n",
      "|     Bridget Jones's Diary     | The Bridges of Madison County  | 0.0321360826492  |  5   |  377  |\n",
      "|     Bridget Jones's Diary     |    The Secret Life of Bees     | 0.0322147607803  |  4   |  377  |\n",
      "|     Bridget Jones's Diary     | The Girls' Guide to Huntin...  | 0.0348837375641  |  3   |  377  |\n",
      "|     Bridget Jones's Diary     |          Good in Bed           | 0.0354729890823  |  2   |  377  |\n",
      "|     Bridget Jones's Diary     | Bridget Jones: The Edge of...  | 0.0734966397285  |  1   |  377  |\n",
      "|           Life of Pi          |       The Little Friend        |  0.024324297905  |  10  |  336  |\n",
      "|           Life of Pi          |    Bastard Out of Carolina     | 0.0246305465698  |  9   |  336  |\n",
      "|           Life of Pi          |          Good in Bed           | 0.0246913433075  |  8   |  336  |\n",
      "|           Life of Pi          | The Five People You Meet i...  | 0.0247787833214  |  7   |  336  |\n",
      "|           Life of Pi          | Wicked: The Life and Times...  |  0.025052189827  |  6   |  336  |\n",
      "|           Life of Pi          |    I Know This Much Is True    | 0.0255814194679  |  5   |  336  |\n",
      "|           Life of Pi          |   Dude, Where's My Country?    | 0.0265060067177  |  4   |  336  |\n",
      "|           Life of Pi          |          Empire Falls          | 0.0321888327599  |  3   |  336  |\n",
      "|           Life of Pi          |       The Da Vinci Code        |  0.036523938179  |  2   |  336  |\n",
      "|           Life of Pi          |    The Secret Life of Bees     | 0.0439093708992  |  1   |  336  |\n",
      "|          The Summons          |        The Beach House         | 0.0269709825516  |  10  |  309  |\n",
      "|          The Summons          |       Last Man Standing        | 0.0274725556374  |  9   |  309  |\n",
      "|          The Summons          |       The Pelican Brief        | 0.0276595950127  |  8   |  309  |\n",
      "|          The Summons          |        Four Blind Mice         | 0.0300751924515  |  7   |  309  |\n",
      "|          The Summons          |       The King of Torts        | 0.0310077667236  |  6   |  309  |\n",
      "|          The Summons          |           The Client           |     0.03125      |  5   |  309  |\n",
      "|          The Summons          |        A Painted House         |  0.031358897686  |  4   |  309  |\n",
      "|          The Summons          |        Violets Are Blue        | 0.0342465639114  |  3   |  309  |\n",
      "|          The Summons          |            The Firm            | 0.0371819734573  |  2   |  309  |\n",
      "|          The Summons          |          The Brethren          | 0.0407239794731  |  1   |  309  |\n",
      "|        A Painted House        |          Good in Bed           | 0.0211945772171  |  10  |  284  |\n",
      "|        A Painted House        |           The Client           |  0.023913025856  |  9   |  284  |\n",
      "|        A Painted House        |   The Deep End of the Ocean    | 0.0240963697433  |  8   |  284  |\n",
      "|        A Painted House        |      When the Wind Blows       | 0.0241546034813  |  7   |  284  |\n",
      "|        A Painted House        |     We Were the Mulvaneys      | 0.0242130756378  |  6   |  284  |\n",
      "|        A Painted House        |    The Secret Life of Bees     | 0.0254110693932  |  5   |  284  |\n",
      "|        A Painted House        |       The Pelican Brief        | 0.0291479825974  |  4   |  284  |\n",
      "|        A Painted House        |          The Summons           |  0.031358897686  |  3   |  284  |\n",
      "|        A Painted House        |            The Firm            | 0.0347648262978  |  2   |  284  |\n",
      "|        A Painted House        |          The Brethren          | 0.0380952358246  |  1   |  284  |\n",
      "| The Girls' Guide to Huntin... |         Pigs in Heaven         | 0.0258620977402  |  10  |  259  |\n",
      "| The Girls' Guide to Huntin... |     Girl in Hyacinth Blue      | 0.0262390375137  |  9   |  259  |\n",
      "| The Girls' Guide to Huntin... | Wicked: The Life and Times...  | 0.0299999713898  |  8   |  259  |\n",
      "| The Girls' Guide to Huntin... |       The Stone Diaries        | 0.0316455960274  |  7   |  259  |\n",
      "| The Girls' Guide to Huntin... |       The Boy Next Door        | 0.0327869057655  |  6   |  259  |\n",
      "| The Girls' Guide to Huntin... |    The Secret Life of Bees     | 0.0345911979675  |  5   |  259  |\n",
      "| The Girls' Guide to Huntin... |     Bridget Jones's Diary      | 0.0348837375641  |  4   |  259  |\n",
      "| The Girls' Guide to Huntin... |      The Virgin Suicides       |  0.03519064188   |  3   |  259  |\n",
      "| The Girls' Guide to Huntin... | Bridget Jones: The Edge of...  | 0.0363128781319  |  2   |  259  |\n",
      "| The Girls' Guide to Huntin... |          Good in Bed           | 0.0393374562263  |  1   |  259  |\n",
      "|          Good in Bed          | The Crimson Petal and the ...  |  0.029126226902  |  10  |  247  |\n",
      "|          Good in Bed          | The Idiot Girls' Action Ad...  |     0.03125      |  9   |  247  |\n",
      "|          Good in Bed          |        High Maintenance        | 0.0323740839958  |  8   |  247  |\n",
      "|          Good in Bed          |     Girl in Hyacinth Blue      | 0.0332326292992  |  7   |  247  |\n",
      "|          Good in Bed          | Bridget Jones: The Edge of...  | 0.0343839526176  |  6   |  247  |\n",
      "|          Good in Bed          |     Bridget Jones's Diary      | 0.0354729890823  |  5   |  247  |\n",
      "|          Good in Bed          | The Five People You Meet i...  | 0.0381355881691  |  4   |  247  |\n",
      "|          Good in Bed          | The Girls' Guide to Huntin...  | 0.0393374562263  |  3   |  247  |\n",
      "|          Good in Bed          |          Empire Falls          | 0.0397877693176  |  2   |  247  |\n",
      "|          Good in Bed          |    The Secret Life of Bees     | 0.0485436916351  |  1   |  247  |\n",
      "| The Five People You Meet i... |           Life of Pi           | 0.0247787833214  |  10  |  244  |\n",
      "| The Five People You Meet i... |           Bleachers            |  0.025806427002  |  9   |  244  |\n",
      "| The Five People You Meet i... |         The Last Juror         | 0.0266666412354  |  8   |  244  |\n",
      "| The Five People You Meet i... |          Black House           | 0.0268656611443  |  7   |  244  |\n",
      "| The Five People You Meet i... |  Suzanne's Diary for Nicholas  | 0.0283842682838  |  6   |  244  |\n",
      "| The Five People You Meet i... |     Girl in Hyacinth Blue      | 0.0303030014038  |  5   |  244  |\n",
      "| The Five People You Meet i... |        Four Blind Mice         | 0.0327380895615  |  4   |  244  |\n",
      "| The Five People You Meet i... |       The Da Vinci Code        |  0.033898293972  |  3   |  244  |\n",
      "| The Five People You Meet i... |          Good in Bed           | 0.0381355881691  |  2   |  244  |\n",
      "| The Five People You Meet i... |    The Secret Life of Bees     | 0.0470016002655  |  1   |  244  |\n",
      "|  Suzanne's Diary for Nicholas |      When the Wind Blows       | 0.0222841501236  |  10  |  228  |\n",
      "|  Suzanne's Diary for Nicholas |     Bridget Jones's Diary      | 0.0223752260208  |  9   |  228  |\n",
      "|  Suzanne's Diary for Nicholas |           Wanderlust           |    0.0234375     |  8   |  228  |\n",
      "|  Suzanne's Diary for Nicholas |        The Summerhouse         |  0.023569047451  |  7   |  228  |\n",
      "|  Suzanne's Diary for Nicholas |          Good in Bed           | 0.0238095521927  |  6   |  228  |\n",
      "|  Suzanne's Diary for Nicholas |         Here on Earth          | 0.0240550041199  |  5   |  228  |\n",
      "|  Suzanne's Diary for Nicholas |        Violets Are Blue        | 0.0247933864594  |  4   |  228  |\n",
      "|  Suzanne's Diary for Nicholas |       The King of Torts        |  0.025806427002  |  3   |  228  |\n",
      "|  Suzanne's Diary for Nicholas | The Five People You Meet i...  | 0.0283842682838  |  2   |  228  |\n",
      "|  Suzanne's Diary for Nicholas |        The Beach House         | 0.0324189662933  |  1   |  228  |\n",
      "|            The Firm           |        A Painted House         | 0.0347648262978  |  10  |  224  |\n",
      "|            The Firm           |          The Brethren          | 0.0360110998154  |  9   |  224  |\n",
      "|            The Firm           |          The Summons           | 0.0371819734573  |  8   |  224  |\n",
      "|            The Firm           |         Skeleton Crew          | 0.0378006696701  |  7   |  224  |\n",
      "|            The Firm           |       Unnatural Exposure       | 0.0379746556282  |  6   |  224  |\n",
      "|            The Firm           |           Postmortem           | 0.0390070676804  |  5   |  224  |\n",
      "|            The Firm           |      Silence of the Lambs      | 0.0393939614296  |  4   |  224  |\n",
      "|            The Firm           |    The Hunt for Red October    | 0.0415225028992  |  3   |  224  |\n",
      "|            The Firm           |           The Client           | 0.0877659320831  |  2   |  224  |\n",
      "|            The Firm           |       The Pelican Brief        |  0.108938574791  |  1   |  224  |\n",
      "|     Me Talk Pretty One Day    | Wicked: The Life and Times...  | 0.0247933864594  |  10  |  218  |\n",
      "|     Me Talk Pretty One Day    | The Honk and Holler Openin...  | 0.0252707600594  |  9   |  218  |\n",
      "|     Me Talk Pretty One Day    |           Geek Love            | 0.0266159772873  |  8   |  218  |\n",
      "|     Me Talk Pretty One Day    | The Idiot Girls' Action Ad...  | 0.0269230604172  |  7   |  218  |\n",
      "|     Me Talk Pretty One Day    |    The Secret Life of Bees     | 0.0282862186432  |  6   |  218  |\n",
      "|     Me Talk Pretty One Day    | The Color of Water: A Blac...  | 0.0283911824226  |  5   |  218  |\n",
      "|     Me Talk Pretty One Day    |          Good in Bed           | 0.0289532542229  |  4   |  218  |\n",
      "|     Me Talk Pretty One Day    |  Five Quarters of the Orange   | 0.0297029614449  |  3   |  218  |\n",
      "|     Me Talk Pretty One Day    |     Bridget Jones's Diary      | 0.0300353169441  |  2   |  218  |\n",
      "|     Me Talk Pretty One Day    |     Girl in Hyacinth Blue      | 0.0365448594093  |  1   |  218  |\n",
      "|       The Joy Luck Club       |          Fingersmith           | 0.0249999761581  |  10  |  208  |\n",
      "|       The Joy Luck Club       |    The Secret Life of Bees     |  0.025210082531  |  9   |  208  |\n",
      "|       The Joy Luck Club       |       Two for the Dough        | 0.0256410241127  |  8   |  208  |\n",
      "|       The Joy Luck Club       |    I Know This Much Is True    | 0.0261437892914  |  7   |  208  |\n",
      "|       The Joy Luck Club       |  The World According to Garp   | 0.0268199443817  |  6   |  208  |\n",
      "|       The Joy Luck Club       |            The Firm            | 0.0287081599236  |  5   |  208  |\n",
      "|       The Joy Luck Club       |   The Bonesetter's Daughter    | 0.0307262539864  |  4   |  208  |\n",
      "|       The Joy Luck Club       |        The Color Purple        | 0.0322580933571  |  3   |  208  |\n",
      "|       The Joy Luck Club       |   The Hundred Secret Senses    | 0.0546624064445  |  2   |  208  |\n",
      "|       The Joy Luck Club       |     The Kitchen God's Wife     | 0.0627062916756  |  1   |  208  |\n",
      "|           The Client          |         Needful Things         | 0.0313725471497  |  10  |  189  |\n",
      "|           The Client          |           Deja Dead            | 0.0316205620766  |  9   |  189  |\n",
      "|           The Client          |         The Body Farm          | 0.0346153974533  |  8   |  189  |\n",
      "|           The Client          |      When the Wind Blows       | 0.0348101258278  |  7   |  189  |\n",
      "|           The Client          |         Skeleton Crew          |    0.04296875    |  6   |  189  |\n",
      "|           The Client          |      Silence of the Lambs      |  0.044067800045  |  5   |  189  |\n",
      "|           The Client          |           Postmortem           | 0.0445343852043  |  4   |  189  |\n",
      "|           The Client          |       The Street Lawyer        | 0.0483871102333  |  3   |  189  |\n",
      "|           The Client          |       The Pelican Brief        | 0.0805970430374  |  2   |  189  |\n",
      "|           The Client          |            The Firm            | 0.0877659320831  |  1   |  189  |\n",
      "|        The Beach House        |          The Summons           | 0.0269709825516  |  10  |  189  |\n",
      "|        The Beach House        |        Q Is for Quarry         | 0.0271186232567  |  9   |  189  |\n",
      "|        The Beach House        |       Unfit to Practice        | 0.0289855003357  |  8   |  189  |\n",
      "|        The Beach House        |          Mortal Prey           | 0.0291666388512  |  7   |  189  |\n",
      "|        The Beach House        |          Chosen Prey           | 0.0308880209923  |  6   |  189  |\n",
      "|        The Beach House        |      Pop Goes the Weasel       |  0.031358897686  |  5   |  189  |\n",
      "|        The Beach House        |  Suzanne's Diary for Nicholas  | 0.0324189662933  |  4   |  189  |\n",
      "|        The Beach House        |      When the Wind Blows       | 0.0414012670517  |  3   |  189  |\n",
      "|        The Beach House        |        Four Blind Mice         | 0.0431654453278  |  2   |  189  |\n",
      "|        The Beach House        |        Violets Are Blue        | 0.0473186373711  |  1   |  189  |\n",
      "|      The Horse Whisperer      |          Turtle Moon           | 0.0232558250427  |  10  |  182  |\n",
      "|      The Horse Whisperer      |           Wanderlust           | 0.0236966609955  |  9   |  182  |\n",
      "|      The Horse Whisperer      |     The Kitchen God's Wife     | 0.0243055820465  |  8   |  182  |\n",
      "|      The Horse Whisperer      |           Postmortem           | 0.0243902206421  |  7   |  182  |\n",
      "|      The Horse Whisperer      |          Beach Music           | 0.0251045823097  |  6   |  182  |\n",
      "|      The Horse Whisperer      |       Unnatural Exposure       | 0.0286738276482  |  5   |  182  |\n",
      "|      The Horse Whisperer      |       The Pelican Brief        | 0.0289017558098  |  4   |  182  |\n",
      "|      The Horse Whisperer      |          Final Target          | 0.0290456414223  |  3   |  182  |\n",
      "|      The Horse Whisperer      |           The Client           | 0.0308123230934  |  2   |  182  |\n",
      "|      The Horse Whisperer      |            The Loop            | 0.0528634190559  |  1   |  182  |\n",
      "| The Bridges of Madison County | Don't Stand Too Close to a...  | 0.0222222208977  |  10  |  182  |\n",
      "| The Bridges of Madison County |          Mirror Image          | 0.0224215388298  |  9   |  182  |\n",
      "| The Bridges of Madison County |       The King of Torts        | 0.0227272510529  |  8   |  182  |\n",
      "| The Bridges of Madison County |            The Firm            | 0.0229591727257  |  7   |  182  |\n",
      "| The Bridges of Madison County |       The Street Lawyer        | 0.0243902206421  |  6   |  182  |\n",
      "| The Bridges of Madison County |          Good in Bed           | 0.0265700221062  |  5   |  182  |\n",
      "| The Bridges of Madison County |       That Camden Summer       | 0.0276497602463  |  4   |  182  |\n",
      "| The Bridges of Madison County |    Slow Waltz in Cedar Bend    | 0.0288065671921  |  3   |  182  |\n",
      "| The Bridges of Madison County |     Bridget Jones's Diary      | 0.0321360826492  |  2   |  182  |\n",
      "| The Bridges of Madison County |      Tell Me Your Dreams       |  0.033018887043  |  1   |  182  |\n",
      "|    A Prayer for Owen Meany    |   The Bonesetter's Daughter    | 0.0269461274147  |  10  |  182  |\n",
      "|    A Prayer for Owen Meany    |      Silence of the Lambs      | 0.0271186232567  |  9   |  182  |\n",
      "|    A Prayer for Owen Meany    | The Crimson Petal and the ...  | 0.0283401012421  |  8   |  182  |\n",
      "|    A Prayer for Owen Meany    |    I Know This Much Is True    | 0.0285714268684  |  7   |  182  |\n",
      "|    A Prayer for Owen Meany    | The Stand: Complete and Uncut  | 0.0285714268684  |  6   |  182  |\n",
      "|    A Prayer for Owen Meany    |      A Son of the Circus       | 0.0287081599236  |  5   |  182  |\n",
      "|    A Prayer for Owen Meany    |           Geek Love            | 0.0305677056313  |  4   |  182  |\n",
      "|    A Prayer for Owen Meany    |        The Fourth Hand         | 0.0325581431389  |  3   |  182  |\n",
      "|    A Prayer for Owen Meany    |          Empire Falls          | 0.0347003340721  |  2   |  182  |\n",
      "|    A Prayer for Owen Meany    |     The Cider House Rules      | 0.0410094857216  |  1   |  182  |\n",
      "|       The Pelican Brief       |       Two for the Dough        |  0.036101102829  |  10  |  175  |\n",
      "|       The Pelican Brief       |      Silence of the Lambs      | 0.0385965108871  |  9   |  175  |\n",
      "|       The Pelican Brief       |         Hornet's Nest          |    0.0390625     |  8   |  175  |\n",
      "|       The Pelican Brief       |      The Burden of Proof       | 0.0392156839371  |  7   |  175  |\n",
      "|       The Pelican Brief       |      When the Wind Blows       | 0.0396039485931  |  6   |  175  |\n",
      "|       The Pelican Brief       |          Pet Sematary          | 0.0418251156807  |  5   |  175  |\n",
      "|       The Pelican Brief       |          The Brethren          | 0.0480769276619  |  4   |  175  |\n",
      "|       The Pelican Brief       |           Postmortem           | 0.0557940006256  |  3   |  175  |\n",
      "|       The Pelican Brief       |           The Client           | 0.0805970430374  |  2   |  175  |\n",
      "|       The Pelican Brief       |            The Firm            |  0.108938574791  |  1   |  175  |\n",
      "|   The Bonesetter's Daughter   |        The Fourth Hand         | 0.0307692289352  |  10  |  163  |\n",
      "|   The Bonesetter's Daughter   | The Crimson Petal and the ...  | 0.0309734344482  |  9   |  163  |\n",
      "|   The Bonesetter's Daughter   |    The Secret Life of Bees     |  0.031135559082  |  8   |  163  |\n",
      "|   The Bonesetter's Daughter   |      The Handmaid's Tale       | 0.0327273011208  |  7   |  163  |\n",
      "|   The Bonesetter's Daughter   | It Was on Fire When I Lay ...  |  0.033018887043  |  6   |  163  |\n",
      "|   The Bonesetter's Daughter   |    I Know This Much Is True    | 0.0348837375641  |  5   |  163  |\n",
      "|   The Bonesetter's Daughter   |     The Mistress of Spices     | 0.0351758599281  |  4   |  163  |\n",
      "|   The Bonesetter's Daughter   |       The Stone Diaries        | 0.0358744263649  |  3   |  163  |\n",
      "|   The Bonesetter's Daughter   |   The Hundred Secret Senses    | 0.0446096658707  |  2   |  163  |\n",
      "|   The Bonesetter's Daughter   |     The Kitchen God's Wife     | 0.0536398291588  |  1   |  163  |\n",
      "| Wicked: The Life and Times... | The Crimson Petal and the ...  | 0.0316742062569  |  10  |  156  |\n",
      "| Wicked: The Life and Times... |          Fingersmith           | 0.0319148898125  |  9   |  156  |\n",
      "| Wicked: The Life and Times... | Bridget Jones: The Edge of...  |  0.034351170063  |  8   |  156  |\n",
      "| Wicked: The Life and Times... |       Peace Like a River       | 0.0363636612892  |  7   |  156  |\n",
      "| Wicked: The Life and Times... | The Honk and Holler Openin...  | 0.0370370149612  |  6   |  156  |\n",
      "| Wicked: The Life and Times... |          Empire Falls          | 0.0378006696701  |  5   |  156  |\n",
      "| Wicked: The Life and Times... |    The Secret Life of Bees     | 0.0410447716713  |  4   |  156  |\n",
      "| Wicked: The Life and Times... |     Girl in Hyacinth Blue      | 0.0413222908974  |  3   |  156  |\n",
      "| Wicked: The Life and Times... |     The Other Boleyn Girl      | 0.0423728823662  |  2   |  156  |\n",
      "| Wicked: The Life and Times... |       Einstein's Dreams        | 0.0439024567604  |  1   |  156  |\n",
      "|          The Brethren         |          Bag of Bones          | 0.0253164768219  |  10  |  152  |\n",
      "|          The Brethren         |       Presumed Innocent        | 0.0263158082962  |  9   |  152  |\n",
      "|          The Brethren         |    The Hunt for Red October    | 0.0266666412354  |  8   |  152  |\n",
      "|          The Brethren         |           The Client           | 0.0272727012634  |  7   |  152  |\n",
      "|          The Brethren         |        Violets Are Blue        | 0.0276816487312  |  6   |  152  |\n",
      "|          The Brethren         |            The Firm            | 0.0360110998154  |  5   |  152  |\n",
      "|          The Brethren         |        A Painted House         | 0.0380952358246  |  4   |  152  |\n",
      "|          The Brethren         |        The Simple Truth        | 0.0384615659714  |  3   |  152  |\n",
      "|          The Brethren         |          The Summons           | 0.0407239794731  |  2   |  152  |\n",
      "|          The Brethren         |       The Pelican Brief        | 0.0480769276619  |  1   |  152  |\n",
      "|     The Cider House Rules     |    A Walk Through the Fire     |  0.025806427002  |  10  |  149  |\n",
      "|     The Cider House Rules     |     Bridget Jones's Diary      | 0.0258964300156  |  9   |  149  |\n",
      "|     The Cider House Rules     |     The Kitchen God's Wife     |  0.027450978756  |  8   |  149  |\n",
      "|     The Cider House Rules     |         Here on Earth          | 0.0281690359116  |  7   |  149  |\n",
      "|     The Cider House Rules     |     Girl in Hyacinth Blue      | 0.0295358896255  |  6   |  149  |\n",
      "|     The Cider House Rules     |   The Hundred Secret Senses    | 0.0307692289352  |  5   |  149  |\n",
      "|     The Cider House Rules     |      The Prince of Tides       | 0.0309734344482  |  4   |  149  |\n",
      "|     The Cider House Rules     |         One True Thing         |  0.031963467598  |  3   |  149  |\n",
      "|     The Cider House Rules     |  The World According to Garp   |  0.034825861454  |  2   |  149  |\n",
      "|     The Cider House Rules     |    A Prayer for Owen Meany     | 0.0410094857216  |  1   |  149  |\n",
      "|        Violets Are Blue       |          Mortal Prey           | 0.0459183454514  |  10  |  147  |\n",
      "|        Violets Are Blue       |        The Beach House         | 0.0473186373711  |  9   |  147  |\n",
      "|        Violets Are Blue       |        Deadly Decisions        |  0.047872364521  |  8   |  147  |\n",
      "|        Violets Are Blue       |          Final Target          | 0.0495049357414  |  7   |  147  |\n",
      "|        Violets Are Blue       |      Pop Goes the Weasel       | 0.0495867729187  |  6   |  147  |\n",
      "|        Violets Are Blue       |          Isle of Dogs          | 0.0502092242241  |  5   |  147  |\n",
      "|        Violets Are Blue       |      When the Wind Blows       |  0.059479534626  |  4   |  147  |\n",
      "|        Violets Are Blue       |         Roses Are Red          | 0.0621469020844  |  3   |  147  |\n",
      "|        Violets Are Blue       |          Chosen Prey           | 0.0663506984711  |  2   |  147  |\n",
      "|        Violets Are Blue       |        Four Blind Mice         | 0.0877193212509  |  1   |  147  |\n",
      "|           Neverwhere          |         N Is for Noose         | 0.0207253694534  |  10  |  146  |\n",
      "|           Neverwhere          |      Servant of the Bones      |  0.021505355835  |  9   |  146  |\n",
      "|           Neverwhere          | Word Freak: Heartbreak, Tr...  | 0.0216216444969  |  8   |  146  |\n",
      "|           Neverwhere          |      A Son of the Circus       | 0.0229884982109  |  7   |  146  |\n",
      "|           Neverwhere          |      Pattern Recognition       | 0.0233917832375  |  6   |  146  |\n",
      "|           Neverwhere          |     Practical Demonkeeping     | 0.0233917832375  |  5   |  146  |\n",
      "|           Neverwhere          | Death: The High Cost of Living | 0.0266666412354  |  4   |  146  |\n",
      "|           Neverwhere          |       Summon the Keeper        | 0.0310559272766  |  3   |  146  |\n",
      "|           Neverwhere          |           Good Omens           | 0.0311111211777  |  2   |  146  |\n",
      "|           Neverwhere          |   Sandman: The Dream Hunters   | 0.0400000214577  |  1   |  146  |\n",
      "|          Empire Falls         | The Crimson Petal and the ...  | 0.0331753492355  |  10  |  146  |\n",
      "|          Empire Falls         |       The Stone Diaries        | 0.0334928035736  |  9   |  146  |\n",
      "|          Empire Falls         |          Fingersmith           |  0.033707857132  |  8   |  146  |\n",
      "|          Empire Falls         | The Honk and Holler Openin...  | 0.0338163971901  |  7   |  146  |\n",
      "|          Empire Falls         |    A Prayer for Owen Meany     | 0.0347003340721  |  6   |  146  |\n",
      "|          Empire Falls         | Gap Creek: The Story Of A ...  | 0.0355330109596  |  5   |  146  |\n",
      "|          Empire Falls         | Wicked: The Life and Times...  | 0.0378006696701  |  4   |  146  |\n",
      "|          Empire Falls         |          Good in Bed           | 0.0397877693176  |  3   |  146  |\n",
      "|          Empire Falls         |       Peace Like a River       |  0.043062210083  |  2   |  146  |\n",
      "|          Empire Falls         |       The Little Friend        | 0.0439560413361  |  1   |  146  |\n",
      "|        The Color Purple       |     The Kitchen God's Wife     |  0.027888417244  |  10  |  145  |\n",
      "|        The Color Purple       |          Pet Sematary          | 0.0296609997749  |  9   |  145  |\n",
      "|        The Color Purple       | Oranges Are Not the Only Fruit | 0.0308641791344  |  8   |  145  |\n",
      "|        The Color Purple       |            The Firm            |  0.030985891819  |  7   |  145  |\n",
      "|        The Color Purple       |         The River King         | 0.0319148898125  |  6   |  145  |\n",
      "|        The Color Purple       |       The Joy Luck Club        | 0.0322580933571  |  5   |  145  |\n",
      "|        The Color Purple       |       Four Past Midnight       |  0.033018887043  |  4   |  145  |\n",
      "|        The Color Purple       |   The Temple of My Familiar    | 0.0346820950508  |  3   |  145  |\n",
      "|        The Color Purple       |          Animal Farm           | 0.0352941155434  |  2   |  145  |\n",
      "|        The Color Purple       |      The Prince of Tides       |  0.036199092865  |  1   |  145  |\n",
      "|      When the Wind Blows      |          The Program           | 0.0382165312767  |  10  |  144  |\n",
      "|      When the Wind Blows      |        The Devil's Code        |  0.03867405653   |  9   |  144  |\n",
      "|      When the Wind Blows      |          Pet Sematary          |  0.039130449295  |  8   |  144  |\n",
      "|      When the Wind Blows      |       The Pelican Brief        | 0.0396039485931  |  7   |  144  |\n",
      "|      When the Wind Blows      |        The Beach House         | 0.0414012670517  |  6   |  144  |\n",
      "|      When the Wind Blows      |          Mortal Prey           | 0.0416666865349  |  5   |  144  |\n",
      "|      When the Wind Blows      |        Four Blind Mice         | 0.0474137663841  |  4   |  144  |\n",
      "|      When the Wind Blows      |         The Lake House         |  0.053763449192  |  3   |  144  |\n",
      "|      When the Wind Blows      |         Roses Are Red          | 0.0578034520149  |  2   |  144  |\n",
      "|      When the Wind Blows      |        Violets Are Blue        |  0.059479534626  |  1   |  144  |\n",
      "| A Heartbreaking Work of St... |           Life of Pi           | 0.0191489458084  |  10  |  144  |\n",
      "| A Heartbreaking Work of St... |      Mariette in Ecstasy       | 0.0193548202515  |  9   |  144  |\n",
      "| A Heartbreaking Work of St... |      Portnoy's Complaint       | 0.0202702879906  |  8   |  144  |\n",
      "| A Heartbreaking Work of St... |          Pet Sematary          | 0.0210084319115  |  7   |  144  |\n",
      "| A Heartbreaking Work of St... |   Mutant Message Down Under    | 0.0210526585579  |  6   |  144  |\n",
      "| A Heartbreaking Work of St... |          Empire Falls          | 0.0211267471313  |  5   |  144  |\n",
      "| A Heartbreaking Work of St... |           Good Omens           | 0.0221238732338  |  4   |  144  |\n",
      "| A Heartbreaking Work of St... | Bridget Jones: The Edge of...  | 0.0237154364586  |  3   |  144  |\n",
      "| A Heartbreaking Work of St... |           Geek Love            | 0.0259067416191  |  2   |  144  |\n",
      "| A Heartbreaking Work of St... | Wicked: The Life and Times...  |  0.027397274971  |  1   |  144  |\n",
      "|           Icy Sparks          |        Four Blind Mice         | 0.0251045823097  |  10  |  142  |\n",
      "|           Icy Sparks          |      When the Wind Blows       | 0.0254545211792  |  9   |  142  |\n",
      "|           Icy Sparks          |         Drowning Ruth          | 0.0268816947937  |  8   |  142  |\n",
      "|           Icy Sparks          |    Bastard Out of Carolina     | 0.0276497602463  |  7   |  142  |\n",
      "|           Icy Sparks          |         Roses Are Red          | 0.0277777910233  |  6   |  142  |\n",
      "|           Icy Sparks          |          Empire Falls          | 0.0285714268684  |  5   |  142  |\n",
      "|           Icy Sparks          |      Tell Me Your Dreams       | 0.0340909361839  |  4   |  142  |\n",
      "|           Icy Sparks          |     River, Cross My Heart      | 0.0373831987381  |  3   |  142  |\n",
      "|           Icy Sparks          |    I Know This Much Is True    | 0.0508474707603  |  2   |  142  |\n",
      "|           Icy Sparks          |     We Were the Mulvaneys      | 0.0524344444275  |  1   |  142  |\n",
      "|     We Were the Mulvaneys     |     Mary, Called Magdalene     | 0.0256410241127  |  10  |  139  |\n",
      "|     We Were the Mulvaneys     |            The Loop            | 0.0260416865349  |  9   |  139  |\n",
      "|     We Were the Mulvaneys     |   The Bonesetter's Daughter    |  0.027397274971  |  8   |  139  |\n",
      "|     We Were the Mulvaneys     |     The Rapture of Canaan      | 0.0283018946648  |  7   |  139  |\n",
      "|     We Were the Mulvaneys     |          Empire Falls          | 0.0288808941841  |  6   |  139  |\n",
      "|     We Were the Mulvaneys     |   The Hundred Secret Senses    |  0.03187251091   |  5   |  139  |\n",
      "|     We Were the Mulvaneys     |         Drowning Ruth          |  0.032967031002  |  4   |  139  |\n",
      "|     We Were the Mulvaneys     |    I Know This Much Is True    | 0.0470085740089  |  3   |  139  |\n",
      "|     We Were the Mulvaneys     |           Icy Sparks           | 0.0524344444275  |  2   |  139  |\n",
      "|     We Were the Mulvaneys     |     River, Cross My Heart      | 0.0528846383095  |  1   |  139  |\n",
      "| A Child Called \"It\": One C... |    Not Without My Daughter     | 0.0191082954407  |  10  |  136  |\n",
      "| A Child Called \"It\": One C... |       The Pelican Brief        | 0.0196721553802  |  9   |  136  |\n",
      "| A Child Called \"It\": One C... | Life's Little Instruction ...  | 0.0202702879906  |  8   |  136  |\n",
      "| A Child Called \"It\": One C... | The Color of Water: A Blac...  | 0.0207468867302  |  7   |  136  |\n",
      "| A Child Called \"It\": One C... |   The Deep End of the Ocean    | 0.0212765932083  |  6   |  136  |\n",
      "| A Child Called \"It\": One C... | Simple Abundance:  A Daybo...  | 0.0220994353294  |  5   |  136  |\n",
      "| A Child Called \"It\": One C... |           Wanderlust           | 0.0239520668983  |  4   |  136  |\n",
      "| A Child Called \"It\": One C... |            Babyhood            | 0.0253164768219  |  3   |  136  |\n",
      "| A Child Called \"It\": One C... |           Blue Diary           | 0.0261780023575  |  2   |  136  |\n",
      "| A Child Called \"It\": One C... |       J Is for Judgment        | 0.0268816947937  |  1   |  136  |\n",
      "|          The Alienist         |      When the Wind Blows       | 0.0300751924515  |  10  |  134  |\n",
      "|          The Alienist         |           Postmortem           | 0.0301507711411  |  9   |  134  |\n",
      "|          The Alienist         |          Black House           | 0.0308369994164  |  8   |  134  |\n",
      "|          The Alienist         |       The Tommyknockers        | 0.0316742062569  |  7   |  134  |\n",
      "|          The Alienist         |      The Handmaid's Tale       | 0.0321285128593  |  6   |  134  |\n",
      "|          The Alienist         |   The Liar's Club: A Memoir    | 0.0350877046585  |  5   |  134  |\n",
      "|          The Alienist         |       The Stone Diaries        | 0.0355330109596  |  4   |  134  |\n",
      "|          The Alienist         |          Pet Sematary          | 0.0355555415154  |  3   |  134  |\n",
      "|          The Alienist         |          The Shining           | 0.0357142686844  |  2   |  134  |\n",
      "|          The Alienist         |     The Angel of Darkness      | 0.0869565010071  |  1   |  134  |\n",
      "|          Mystic River         |         The Lake House         | 0.0274725556374  |  10  |  133  |\n",
      "|          Mystic River         |          Night Chills          | 0.0275862216949  |  9   |  133  |\n",
      "|          Mystic River         |         Trial by Fire          | 0.0279720425606  |  8   |  133  |\n",
      "|          Mystic River         |          Mortal Fear           | 0.0285714268684  |  7   |  133  |\n",
      "|          Mystic River         |       Falling Backwards        | 0.0291970968246  |  6   |  133  |\n",
      "|          Mystic River         |       The Da Vinci Code        | 0.0299500823021  |  5   |  133  |\n",
      "|          Mystic River         |           Faking It            | 0.0306122303009  |  4   |  133  |\n",
      "|          Mystic River         |           Blue Shoe            | 0.0308641791344  |  3   |  133  |\n",
      "|          Mystic River         |            Dead Run            | 0.0324675440788  |  2   |  133  |\n",
      "|          Mystic River         |           Deja Dead            | 0.0353535413742  |  1   |  133  |\n",
      "|   One Door Away from Heaven   |           Cold Fire            | 0.0304877758026  |  10  |  131  |\n",
      "|   One Door Away from Heaven   |          Winter Moon           | 0.0304877758026  |  9   |  131  |\n",
      "|   One Door Away from Heaven   |        Four Blind Mice         | 0.0309734344482  |  8   |  131  |\n",
      "|   One Door Away from Heaven   |      The Key to Midnight       | 0.0324675440788  |  7   |  131  |\n",
      "|   One Door Away from Heaven   |         Gerald's Game          | 0.0343137383461  |  6   |  131  |\n",
      "|   One Door Away from Heaven   |          Rose Madder           | 0.0346534848213  |  5   |  131  |\n",
      "|   One Door Away from Heaven   |          False Memory          | 0.0396039485931  |  4   |  131  |\n",
      "|   One Door Away from Heaven   |          Black House           | 0.0407239794731  |  3   |  131  |\n",
      "|   One Door Away from Heaven   |        Violets Are Blue        | 0.0416666865349  |  2   |  131  |\n",
      "|   One Door Away from Heaven   |           Mr. Murder           | 0.0476190447807  |  1   |  131  |\n",
      "|          Black Notice         |         Southern Cross         | 0.0445544719696  |  10  |  131  |\n",
      "|          Black Notice         |          Sudden Prey           | 0.0457516312599  |  9   |  131  |\n",
      "|          Black Notice         |           Postmortem           | 0.0466321110725  |  8   |  131  |\n",
      "|          Black Notice         |         The Body Farm          | 0.0597015023232  |  7   |  131  |\n",
      "|          Black Notice         |         Cause of Death         | 0.0645161271095  |  6   |  131  |\n",
      "|          Black Notice         |       The Last Precinct        | 0.0655737519264  |  5   |  131  |\n",
      "|          Black Notice         |         Hornet's Nest          | 0.0673077106476  |  4   |  131  |\n",
      "|          Black Notice         |      From Potter's Field       | 0.0697674155235  |  3   |  131  |\n",
      "|          Black Notice         |       Unnatural Exposure       | 0.0821917653084  |  2   |  131  |\n",
      "|          Black Notice         |        Point of Origin         |  0.104072391987  |  1   |  131  |\n",
      "|       The Last Precinct       |       Praying for Sleep        | 0.0349650382996  |  10  |  130  |\n",
      "|       The Last Precinct       |          Isle of Dogs          | 0.0352423191071  |  9   |  130  |\n",
      "|       The Last Precinct       |         Hornet's Nest          | 0.0377358198166  |  8   |  130  |\n",
      "|       The Last Precinct       |         Southern Cross         | 0.0398010015488  |  7   |  130  |\n",
      "|       The Last Precinct       |         The Body Farm          | 0.0550000071526  |  6   |  130  |\n",
      "|       The Last Precinct       |         Cause of Death         | 0.0552995204926  |  5   |  130  |\n",
      "|       The Last Precinct       |      From Potter's Field       | 0.0604650974274  |  4   |  130  |\n",
      "|       The Last Precinct       |          Black Notice          | 0.0655737519264  |  3   |  130  |\n",
      "|       The Last Precinct       |       Unnatural Exposure       | 0.0730593800545  |  2   |  130  |\n",
      "|       The Last Precinct       |        Point of Origin         | 0.0852017998695  |  1   |  130  |\n",
      "| The Alchemist: A Fable Abo... |  Five Quarters of the Orange   | 0.0231481194496  |  10  |  126  |\n",
      "| The Alchemist: A Fable Abo... | The Idiot Girls' Action Ad...  | 0.0232558250427  |  9   |  126  |\n",
      "| The Alchemist: A Fable Abo... |   Dude, Where's My Country?    | 0.0236966609955  |  8   |  126  |\n",
      "| The Alchemist: A Fable Abo... |    A Tree Grows in Brooklyn    | 0.0246913433075  |  7   |  126  |\n",
      "| The Alchemist: A Fable Abo... |       No Second  Chance        | 0.0259740352631  |  6   |  126  |\n",
      "| The Alchemist: A Fable Abo... | A Natural History of the S...  |  0.027397274971  |  5   |  126  |\n",
      "| The Alchemist: A Fable Abo... | Dogbert's Top Secret Manag...  | 0.0294117927551  |  4   |  126  |\n",
      "| The Alchemist: A Fable Abo... |           The LETTER           | 0.0300751924515  |  3   |  126  |\n",
      "| The Alchemist: A Fable Abo... |    Veronika Decides to Die     | 0.0324675440788  |  2   |  126  |\n",
      "| The Alchemist: A Fable Abo... |        Sophie's Choice         |  0.035971224308  |  1   |  126  |\n",
      "|      The Handmaid's Tale      |            Animist             | 0.0314960479736  |  10  |  125  |\n",
      "|      The Handmaid's Tale      | Baby With the Bathwater an...  | 0.0320000052452  |  9   |  125  |\n",
      "|      The Handmaid's Tale      |          The Alienist          | 0.0321285128593  |  8   |  125  |\n",
      "|      The Handmaid's Tale      |   The Bonesetter's Daughter    | 0.0327273011208  |  7   |  125  |\n",
      "|      The Handmaid's Tale      |      I Capture the Castle      | 0.0331491827965  |  6   |  125  |\n",
      "|      The Handmaid's Tale      |     The Kitchen God's Wife     | 0.0349345207214  |  5   |  125  |\n",
      "|      The Handmaid's Tale      |           Cat's Eye            | 0.0352112650871  |  4   |  125  |\n",
      "|      The Handmaid's Tale      |    Bastard Out of Carolina     | 0.0355330109596  |  3   |  125  |\n",
      "|      The Handmaid's Tale      |         Doomsday Book          | 0.0394737124443  |  2   |  125  |\n",
      "|      The Handmaid's Tale      |      The Prince of Tides       | 0.0400000214577  |  1   |  125  |\n",
      "|   The Hundred Secret Senses   |          Hidden Fires          |     0.03125      |  10  |  121  |\n",
      "|   The Hundred Secret Senses   |     We Were the Mulvaneys      |  0.03187251091   |  9   |  121  |\n",
      "|   The Hundred Secret Senses   |  The Diary of Mattie Spenser   | 0.0320000052452  |  8   |  121  |\n",
      "|   The Hundred Secret Senses   |      A Son of the Circus       | 0.0337837934494  |  7   |  121  |\n",
      "|   The Hundred Secret Senses   |   Dude, Where's My Country?    | 0.0343137383461  |  6   |  121  |\n",
      "|   The Hundred Secret Senses   | Bridget Jones: The Edge of...  | 0.0398229956627  |  5   |  121  |\n",
      "|   The Hundred Secret Senses   |   The Bonesetter's Daughter    | 0.0446096658707  |  4   |  121  |\n",
      "|   The Hundred Secret Senses   |     The Kitchen God's Wife     | 0.0493273735046  |  3   |  121  |\n",
      "|   The Hundred Secret Senses   |       The Stone Diaries        | 0.0497237443924  |  2   |  121  |\n",
      "|   The Hundred Secret Senses   |       The Joy Luck Club        | 0.0546624064445  |  1   |  121  |\n",
      "|      Silence of the Lambs     |            The Firm            | 0.0393939614296  |  10  |  121  |\n",
      "|      Silence of the Lambs     |         Rules of Prey          | 0.0402684807777  |  9   |  121  |\n",
      "|      Silence of the Lambs     |         The Body Farm          | 0.0410256385803  |  8   |  121  |\n",
      "|      Silence of the Lambs     |       Four Past Midnight       | 0.0425531864166  |  7   |  121  |\n",
      "|      Silence of the Lambs     | The Mummy or Ramses the Damned | 0.0434782505035  |  6   |  121  |\n",
      "|      Silence of the Lambs     |       The Tommyknockers        | 0.0436893105507  |  5   |  121  |\n",
      "|      Silence of the Lambs     |           The Client           |  0.044067800045  |  4   |  121  |\n",
      "|      Silence of the Lambs     |         Skeleton Crew          |     0.046875     |  3   |  121  |\n",
      "|      Silence of the Lambs     |          Pet Sematary          | 0.0476190447807  |  2   |  121  |\n",
      "|      Silence of the Lambs     |         The Dark Half          | 0.0480769276619  |  1   |  121  |\n",
      "|          Animal Farm          |           Fight Club           | 0.0233917832375  |  10  |  120  |\n",
      "|          Animal Farm          |     The Eyes of the Dragon     | 0.0233917832375  |  9   |  120  |\n",
      "|          Animal Farm          | How Wal-Mart is Destroying...  |    0.0234375     |  8   |  120  |\n",
      "|          Animal Farm          | The Adventures of Hucklebe...  |    0.0234375     |  7   |  120  |\n",
      "|          Animal Farm          |       The Tommyknockers        | 0.0239234566689  |  6   |  120  |\n",
      "|          Animal Farm          |        Peace Breaks Out        | 0.0243902206421  |  5   |  120  |\n",
      "|          Animal Farm          |         Skeleton Crew          | 0.0256410241127  |  4   |  120  |\n",
      "|          Animal Farm          |   Moreta: Dragonlady of Pern   | 0.0281690359116  |  3   |  120  |\n",
      "|          Animal Farm          |        The Color Purple        | 0.0352941155434  |  2   |  120  |\n",
      "|          Animal Farm          |         Tis: A Memoir          | 0.0355029702187  |  1   |  120  |\n",
      "|     The Kitchen God's Wife    |     Girl in Hyacinth Blue      | 0.0294117927551  |  10  |  116  |\n",
      "|     The Kitchen God's Wife    | The Cat Who Came for Christmas | 0.0298507213593  |  9   |  116  |\n",
      "|     The Kitchen God's Wife    |       Summon the Keeper        | 0.0305343270302  |  8   |  116  |\n",
      "|     The Kitchen God's Wife    |          Westing Game          | 0.0307692289352  |  7   |  116  |\n",
      "|     The Kitchen God's Wife    |     Woman of Independence      | 0.0333333611488  |  6   |  116  |\n",
      "|     The Kitchen God's Wife    |         Doomsday Book          | 0.0347222089767  |  5   |  116  |\n",
      "|     The Kitchen God's Wife    |      The Handmaid's Tale       | 0.0349345207214  |  4   |  116  |\n",
      "|     The Kitchen God's Wife    |   The Hundred Secret Senses    | 0.0493273735046  |  3   |  116  |\n",
      "|     The Kitchen God's Wife    |   The Bonesetter's Daughter    | 0.0536398291588  |  2   |  116  |\n",
      "|     The Kitchen God's Wife    |       The Joy Luck Club        | 0.0627062916756  |  1   |  116  |\n",
      "|        Q Is for Quarry        |       Last Man Standing        | 0.0340909361839  |  10  |  116  |\n",
      "|        Q Is for Quarry        | The Cat Who Brought Down t...  | 0.0342465639114  |  9   |  116  |\n",
      "|        Q Is for Quarry        |           Mind Prey            | 0.0342465639114  |  8   |  116  |\n",
      "|        Q Is for Quarry        |         The Last Juror         | 0.0344827771187  |  7   |  116  |\n",
      "|        Q Is for Quarry        |      The Art of Deception      | 0.0384615659714  |  6   |  116  |\n",
      "|        Q Is for Quarry        |  How to Murder a Millionaire   | 0.0387597084045  |  5   |  116  |\n",
      "|        Q Is for Quarry        |       The Cereal Murders       | 0.0451127886772  |  4   |  116  |\n",
      "|        Q Is for Quarry        |        M Is for Malice         | 0.0454545617104  |  3   |  116  |\n",
      "|        Q Is for Quarry        |       \"O\" Is for Outlaw        | 0.0533333420753  |  2   |  116  |\n",
      "|        Q Is for Quarry        |         P Is for Peril         | 0.0648648738861  |  1   |  116  |\n",
      "| Bridget Jones: The Edge of... |         Enduring Love          | 0.0322580933571  |  10  |  115  |\n",
      "| Bridget Jones: The Edge of... |  Round Ireland With a Fridge   | 0.0324675440788  |  9   |  115  |\n",
      "| Bridget Jones: The Edge of... |    Shopaholic Ties the Knot    |  0.033898293972  |  8   |  115  |\n",
      "| Bridget Jones: The Edge of... | Wicked: The Life and Times...  |  0.034351170063  |  7   |  115  |\n",
      "| Bridget Jones: The Edge of... |          Good in Bed           | 0.0343839526176  |  6   |  115  |\n",
      "| Bridget Jones: The Edge of... | The Girls' Guide to Huntin...  | 0.0363128781319  |  5   |  115  |\n",
      "| Bridget Jones: The Edge of... |       A Year in Provence       | 0.0384615659714  |  4   |  115  |\n",
      "| Bridget Jones: The Edge of... |   The Hundred Secret Senses    | 0.0398229956627  |  3   |  115  |\n",
      "| Bridget Jones: The Edge of... |          Cause Celeb           | 0.0444444417953  |  2   |  115  |\n",
      "| Bridget Jones: The Edge of... |     Bridget Jones's Diary      | 0.0734966397285  |  1   |  115  |\n",
      "|         The Green Mile        | The Stand: Complete and Uncut  | 0.0395480394363  |  10  |  114  |\n",
      "|         The Green Mile        |          Firestarter           | 0.0397350788116  |  9   |  114  |\n",
      "|         The Green Mile        |       The Tommyknockers        | 0.0400000214577  |  8   |  114  |\n",
      "|         The Green Mile        |         Gerald's Game          | 0.0427807569504  |  7   |  114  |\n",
      "|         The Green Mile        |          Salem's Lot           | 0.0431654453278  |  6   |  114  |\n",
      "|         The Green Mile        |          Rose Madder           | 0.0432432293892  |  5   |  114  |\n",
      "|         The Green Mile        | The Girl Who Loved Tom Gordon  |  0.044117629528  |  4   |  114  |\n",
      "|         The Green Mile        |         The Dark Half          | 0.0550000071526  |  3   |  114  |\n",
      "|         The Green Mile        |          Pet Sematary          | 0.0597015023232  |  2   |  114  |\n",
      "|         The Green Mile        |         Skeleton Crew          | 0.0659340620041  |  1   |  114  |\n",
      "|        Point of Origin        |          Sudden Prey           | 0.0364963412285  |  10  |  114  |\n",
      "|        Point of Origin        |          Fat Tuesday           |  0.043795645237  |  9   |  114  |\n",
      "|        Point of Origin        |           Postmortem           | 0.0514285564423  |  8   |  114  |\n",
      "|        Point of Origin        |         Hornet's Nest          |  0.051546394825  |  7   |  114  |\n",
      "|        Point of Origin        |         Cause of Death         | 0.0757575631142  |  6   |  114  |\n",
      "|        Point of Origin        |       The Last Precinct        | 0.0852017998695  |  5   |  114  |\n",
      "|        Point of Origin        |      From Potter's Field       | 0.0871794819832  |  4   |  114  |\n",
      "|        Point of Origin        |         The Body Farm          | 0.0893854498863  |  3   |  114  |\n",
      "|        Point of Origin        |       Unnatural Exposure       | 0.0895522236824  |  2   |  114  |\n",
      "|        Point of Origin        |          Black Notice          |  0.104072391987  |  1   |  114  |\n",
      "|       Two for the Dough       |      When the Wind Blows       | 0.0327869057655  |  10  |  112  |\n",
      "|       Two for the Dough       |        M Is for Malice         | 0.0328947305679  |  9   |  112  |\n",
      "|       Two for the Dough       |         Night Whispers         | 0.0342465639114  |  8   |  112  |\n",
      "|       Two for the Dough       |          Pet Sematary          | 0.0343137383461  |  7   |  112  |\n",
      "|       Two for the Dough       | The Honk and Holler Openin...  | 0.0344827771187  |  6   |  112  |\n",
      "|       Two for the Dough       |           Eden Close           | 0.0352112650871  |  5   |  112  |\n",
      "|       Two for the Dough       |      The Grilling Season       | 0.0352112650871  |  4   |  112  |\n",
      "|       Two for the Dough       |       The Pelican Brief        |  0.036101102829  |  3   |  112  |\n",
      "|       Two for the Dough       |          Westing Game          |  0.039370059967  |  2   |  112  |\n",
      "|       Two for the Dough       |       Peace Like a River       | 0.0395480394363  |  1   |  112  |\n",
      "|      The Poisonwood Bible     |         My Name Is Red         | 0.0258620977402  |  10  |  112  |\n",
      "|      The Poisonwood Bible     |           Loose Lips           | 0.0258620977402  |  9   |  112  |\n",
      "|      The Poisonwood Bible     |    Bastard Out of Carolina     | 0.0267379879951  |  8   |  112  |\n",
      "|      The Poisonwood Bible     | In the Heart of the Sea: T...  | 0.0272108912468  |  7   |  112  |\n",
      "|      The Poisonwood Bible     |       The Midnight Club        | 0.0279720425606  |  6   |  112  |\n",
      "|      The Poisonwood Bible     |           Postmortem           | 0.0282486081123  |  5   |  112  |\n",
      "|      The Poisonwood Bible     |          The Alienist          | 0.0294117927551  |  4   |  112  |\n",
      "|      The Poisonwood Bible     |           Geek Love            |     0.03125      |  3   |  112  |\n",
      "|      The Poisonwood Bible     |         One True Thing         | 0.0327869057655  |  2   |  112  |\n",
      "|      The Poisonwood Bible     |         Pigs in Heaven         | 0.0341463685036  |  1   |  112  |\n",
      "| The Color of Water: A Blac... |         Here on Earth          | 0.0284090638161  |  10  |  111  |\n",
      "| The Color of Water: A Blac... |    I Know This Much Is True    | 0.0285714268684  |  9   |  111  |\n",
      "| The Color of Water: A Blac... | Catch Me If You Can: The T...  | 0.0287356376648  |  8   |  111  |\n",
      "| The Color of Water: A Blac... | The Honk and Holler Openin...  | 0.0289017558098  |  7   |  111  |\n",
      "| The Color of Water: A Blac... |     Running with Scissors      | 0.0291970968246  |  6   |  111  |\n",
      "| The Color of Water: A Blac... |  Roll of Thunder, Hear My Cry  | 0.0300751924515  |  5   |  111  |\n",
      "| The Color of Water: A Blac... |        Dating Big Bird         | 0.0303030014038  |  4   |  111  |\n",
      "| The Color of Water: A Blac... |         Seventh Heaven         | 0.0320000052452  |  3   |  111  |\n",
      "| The Color of Water: A Blac... |           Blue Diary           | 0.0365853905678  |  2   |  111  |\n",
      "| The Color of Water: A Blac... |        Ladder of Years         | 0.0372670888901  |  1   |  111  |\n",
      "|      Pop Goes the Weasel      |         The Night Crew         |  0.035971224308  |  10  |  110  |\n",
      "|      Pop Goes the Weasel      |         Acts of Malice         | 0.0378788113594  |  9   |  110  |\n",
      "|      Pop Goes the Weasel      |          Heartbreaker          | 0.0379746556282  |  8   |  110  |\n",
      "|      Pop Goes the Weasel      |          Chosen Prey           | 0.0384615659714  |  7   |  110  |\n",
      "|      Pop Goes the Weasel      |         Rules of Prey          |  0.043795645237  |  6   |  110  |\n",
      "|      Pop Goes the Weasel      |        Four Blind Mice         | 0.0443349480629  |  5   |  110  |\n",
      "|      Pop Goes the Weasel      |        Violets Are Blue        | 0.0495867729187  |  4   |  110  |\n",
      "|      Pop Goes the Weasel      |          Eyes of Prey          | 0.0510948896408  |  3   |  110  |\n",
      "|      Pop Goes the Weasel      |        See How They Run        | 0.0514705777168  |  2   |  110  |\n",
      "|      Pop Goes the Weasel      |         Roses Are Red          | 0.0704225301743  |  1   |  110  |\n",
      "|        The Smoke Jumper       |          Bloodstream           |    0.0234375     |  10  |  108  |\n",
      "|        The Smoke Jumper       | The First Wives Club Movie...  | 0.0239999890327  |  9   |  108  |\n",
      "|        The Smoke Jumper       | It's Not About the Bike: M...  | 0.0243902206421  |  8   |  108  |\n",
      "|        The Smoke Jumper       |       The Mulberry Tree        | 0.0243902206421  |  7   |  108  |\n",
      "|        The Smoke Jumper       |         Tis: A Memoir          | 0.0251572132111  |  6   |  108  |\n",
      "|        The Smoke Jumper       | Simple Abundance:  A Daybo...  | 0.0261437892914  |  5   |  108  |\n",
      "|        The Smoke Jumper       |       A Winter Haunting        | 0.0270270109177  |  4   |  108  |\n",
      "|        The Smoke Jumper       |          No Other Man          | 0.0275229215622  |  3   |  108  |\n",
      "|        The Smoke Jumper       |          Isle of Dogs          | 0.0288461446762  |  2   |  108  |\n",
      "|        The Smoke Jumper       |            The Loop            | 0.0310559272766  |  1   |  108  |\n",
      "| Midnight in the Garden of ... |       English Passengers       | 0.0263158082962  |  10  |  107  |\n",
      "| Midnight in the Garden of ... |   The Hundred Secret Senses    | 0.0271493196487  |  9   |  107  |\n",
      "| Midnight in the Garden of ... |    Bastard Out of Carolina     | 0.0273224115372  |  8   |  107  |\n",
      "| Midnight in the Garden of ... | The Lust Lizard of Melanch...  | 0.0281690359116  |  7   |  107  |\n",
      "| Midnight in the Garden of ... | The Diary of Ellen Rimbaue...  | 0.0285714268684  |  6   |  107  |\n",
      "| Midnight in the Garden of ... |     The Absence of Nectar      | 0.0289855003357  |  5   |  107  |\n",
      "| Midnight in the Garden of ... | The Stand: Complete and Uncut  | 0.0290697813034  |  4   |  107  |\n",
      "| Midnight in the Garden of ... |  The Professor and the Madman  | 0.0291970968246  |  3   |  107  |\n",
      "| Midnight in the Garden of ... |       The Blind Assassin       | 0.0297029614449  |  2   |  107  |\n",
      "| Midnight in the Garden of ... | The Crimson Petal and the ...  | 0.0346820950508  |  1   |  107  |\n",
      "|       Unnatural Exposure      |         Southern Cross         | 0.0508474707603  |  10  |  106  |\n",
      "|       Unnatural Exposure      |          Eyes of Prey          | 0.0522388219833  |  9   |  106  |\n",
      "|       Unnatural Exposure      |          Sudden Prey           |    0.0546875     |  8   |  106  |\n",
      "|       Unnatural Exposure      |       The Last Precinct        | 0.0730593800545  |  7   |  106  |\n",
      "|       Unnatural Exposure      |           Postmortem           | 0.0792682766914  |  6   |  106  |\n",
      "|       Unnatural Exposure      |          Black Notice          | 0.0821917653084  |  5   |  106  |\n",
      "|       Unnatural Exposure      |         Cause of Death         | 0.0842105150223  |  4   |  106  |\n",
      "|       Unnatural Exposure      |        Point of Origin         | 0.0895522236824  |  3   |  106  |\n",
      "|       Unnatural Exposure      |         The Body Farm          | 0.0994151830673  |  2   |  106  |\n",
      "|       Unnatural Exposure      |      From Potter's Field       |  0.108108103275  |  1   |  106  |\n",
      "|          Isle of Dogs         |       The Last Precinct        | 0.0352423191071  |  10  |  106  |\n",
      "|          Isle of Dogs         |       Last Man Standing        |  0.036144554615  |  9   |  106  |\n",
      "|          Isle of Dogs         |           Void Moon            | 0.0370370149612  |  8   |  106  |\n",
      "|          Isle of Dogs         |       I Is for Innocent        | 0.0387097001076  |  7   |  106  |\n",
      "|          Isle of Dogs         |          Black Notice          | 0.0394737124443  |  6   |  106  |\n",
      "|          Isle of Dogs         |           Easy Prey            | 0.0432098507881  |  5   |  106  |\n",
      "|          Isle of Dogs         |          Eyes of Prey          | 0.0444444417953  |  4   |  106  |\n",
      "|          Isle of Dogs         |        Violets Are Blue        | 0.0502092242241  |  3   |  106  |\n",
      "|          Isle of Dogs         |          The Hearing           |  0.053846180439  |  2   |  106  |\n",
      "|          Isle of Dogs         |         Southern Cross         | 0.0628571510315  |  1   |  106  |\n",
      "|    I Know This Much Is True   |    The Hotel New Hampshire     | 0.0336134433746  |  10  |  106  |\n",
      "|    I Know This Much Is True   |   The Bonesetter's Daughter    | 0.0348837375641  |  9   |  106  |\n",
      "|    I Know This Much Is True   |    The Passion of Artemisia    | 0.0349650382996  |  8   |  106  |\n",
      "|    I Know This Much Is True   |           Slammerkin           | 0.0354610085487  |  7   |  106  |\n",
      "|    I Know This Much Is True   |      Tell Me Your Dreams       | 0.0354610085487  |  6   |  106  |\n",
      "|    I Know This Much Is True   |         Here on Earth          | 0.0411764979362  |  5   |  106  |\n",
      "|    I Know This Much Is True   |        Ladder of Years         | 0.0448718070984  |  4   |  106  |\n",
      "|    I Know This Much Is True   |     We Were the Mulvaneys      | 0.0470085740089  |  3   |  106  |\n",
      "|    I Know This Much Is True   |           Icy Sparks           | 0.0508474707603  |  2   |  106  |\n",
      "|    I Know This Much Is True   |        Dating Big Bird         |  0.055999994278  |  1   |  106  |\n",
      "|        Four Blind Mice        |         The Last Juror         | 0.0437499880791  |  10  |  104  |\n",
      "|        Four Blind Mice        |         Leap of Faith          |  0.043795645237  |  9   |  104  |\n",
      "|        Four Blind Mice        |           Turbulence           | 0.0442478060722  |  8   |  104  |\n",
      "|        Four Blind Mice        |      Pop Goes the Weasel       | 0.0443349480629  |  7   |  104  |\n",
      "|        Four Blind Mice        |          Eyes of Prey          | 0.0454545617104  |  6   |  104  |\n",
      "|        Four Blind Mice        |      When the Wind Blows       | 0.0474137663841  |  5   |  104  |\n",
      "|        Four Blind Mice        |          Mortal Prey           | 0.0584415793419  |  4   |  104  |\n",
      "|        Four Blind Mice        |         The Lake House         | 0.0600000023842  |  3   |  104  |\n",
      "|        Four Blind Mice        |         Roses Are Red          | 0.0656934380531  |  2   |  104  |\n",
      "|        Four Blind Mice        |        Violets Are Blue        | 0.0877193212509  |  1   |  104  |\n",
      "|       The Blind Assassin      |         A Man in Full          | 0.0261437892914  |  10  |  102  |\n",
      "|       The Blind Assassin      |    Bastard Out of Carolina     | 0.0282486081123  |  9   |  102  |\n",
      "|       The Blind Assassin      | The Mambo Kings Play Songs...  | 0.0288461446762  |  8   |  102  |\n",
      "|       The Blind Assassin      | Midnight in the Garden of ...  | 0.0297029614449  |  7   |  102  |\n",
      "|       The Blind Assassin      |        The Rule of Four        | 0.0298507213593  |  6   |  102  |\n",
      "|       The Blind Assassin      |     Girl in Hyacinth Blue      | 0.0314136147499  |  5   |  102  |\n",
      "|       The Blind Assassin      |          The Breaker           | 0.0327869057655  |  4   |  102  |\n",
      "|       The Blind Assassin      | The Crimson Petal and the ...  | 0.0359281301498  |  3   |  102  |\n",
      "|       The Blind Assassin      |        The Corrections         | 0.0372670888901  |  2   |  102  |\n",
      "|       The Blind Assassin      |       Tipping the Velvet       | 0.0423728823662  |  1   |  102  |\n",
      "|         Pigs in Heaven        |        Q Is for Quarry         | 0.0284360051155  |  10  |  102  |\n",
      "|         Pigs in Heaven        |  In the Land of Dreamy Dreams  | 0.0285714268684  |  9   |  102  |\n",
      "|         Pigs in Heaven        |  Possessing the Secret of Joy  | 0.0287770032883  |  8   |  102  |\n",
      "|         Pigs in Heaven        |          The Vineyard          | 0.0300751924515  |  7   |  102  |\n",
      "|         Pigs in Heaven        | Stiff: The Curious Lives o...  |     0.03125      |  6   |  102  |\n",
      "|         Pigs in Heaven        | The Cat Who Could Read Bac...  | 0.0317460298538  |  5   |  102  |\n",
      "|         Pigs in Heaven        |      The Poisonwood Bible      | 0.0341463685036  |  4   |  102  |\n",
      "|         Pigs in Heaven        |   Homeland and Other Stories   | 0.0344827771187  |  3   |  102  |\n",
      "|         Pigs in Heaven        |          Freedomland           | 0.0357142686844  |  2   |  102  |\n",
      "|         Pigs in Heaven        |         Animal Dreams          | 0.0500000119209  |  1   |  102  |\n",
      "|          Pet Sematary         | The Girl Who Loved Tom Gordon  | 0.0819672346115  |  10  |  102  |\n",
      "|          Pet Sematary         |         Gerald's Game          | 0.0909090638161  |  9   |  102  |\n",
      "|          Pet Sematary         |         The Dead Zone          | 0.0985915660858  |  8   |  102  |\n",
      "|          Pet Sematary         |          Rose Madder           | 0.0987654328346  |  7   |  102  |\n",
      "|          Pet Sematary         |         Needful Things         |  0.100628912449  |  6   |  102  |\n",
      "|          Pet Sematary         |          The Shining           |  0.112582802773  |  5   |  102  |\n",
      "|          Pet Sematary         |         The Dark Half          |  0.126436769962  |  4   |  102  |\n",
      "|          Pet Sematary         |         Skeleton Crew          |  0.132911384106  |  3   |  102  |\n",
      "|          Pet Sematary         |       The Tommyknockers        |  0.135294139385  |  2   |  102  |\n",
      "|          Pet Sematary         |       Four Past Midnight       |  0.13725489378   |  1   |  102  |\n",
      "|          Black House          |         Gerald's Game          | 0.0523256063461  |  10  |  101  |\n",
      "|          Black House          |          Rose Madder           | 0.0529412031174  |  9   |  101  |\n",
      "|          Black House          |          Bag of Bones          | 0.0552486181259  |  8   |  101  |\n",
      "|          Black House          |         The Dead Zone          | 0.0608108043671  |  7   |  101  |\n",
      "|          Black House          |          Pet Sematary          | 0.0641711354256  |  6   |  101  |\n",
      "|          Black House          |         Skeleton Crew          | 0.0650887489319  |  5   |  101  |\n",
      "|          Black House          |       The Tommyknockers        | 0.0777778029442  |  4   |  101  |\n",
      "|          Black House          |       Four Past Midnight       |  0.080246925354  |  3   |  101  |\n",
      "|          Black House          |         The Regulators         | 0.0884353518486  |  2   |  101  |\n",
      "|          Black House          |         The Dark Half          | 0.0944444537163  |  1   |  101  |\n",
      "|        Deception Point        |        Reunion in Death        | 0.0300751924515  |  10  |  100  |\n",
      "|        Deception Point        |         City of Bones          | 0.0308641791344  |  9   |  100  |\n",
      "|        Deception Point        |           Blue Diary           | 0.0322580933571  |  8   |  100  |\n",
      "|        Deception Point        |      Speaking in Tongues       | 0.0322580933571  |  7   |  100  |\n",
      "|        Deception Point        |         The Lake House         | 0.0331125855446  |  6   |  100  |\n",
      "|        Deception Point        |        Q Is for Quarry         | 0.0334928035736  |  5   |  100  |\n",
      "|        Deception Point        |          Monkeewrench          | 0.0341880321503  |  4   |  100  |\n",
      "|        Deception Point        |      The Fourth Perimeter      | 0.0350877046585  |  3   |  100  |\n",
      "|        Deception Point        |           Turbulence           | 0.0360360145569  |  2   |  100  |\n",
      "|        Deception Point        |         The Last Juror         | 0.0445860028267  |  1   |  100  |\n",
      "|         Cause of Death        |           Night Prey           | 0.0406504273415  |  10  |  100  |\n",
      "|         Cause of Death        |          Eyes of Prey          | 0.0465116500854  |  9   |  100  |\n",
      "|         Cause of Death        |           Postmortem           | 0.0490797758102  |  8   |  100  |\n",
      "|         Cause of Death        |       The Last Precinct        | 0.0552995204926  |  7   |  100  |\n",
      "|         Cause of Death        |         Hornet's Nest          | 0.0611110925674  |  6   |  100  |\n",
      "|         Cause of Death        |          Black Notice          | 0.0645161271095  |  5   |  100  |\n",
      "|         Cause of Death        |         The Body Farm          | 0.0705882310867  |  4   |  100  |\n",
      "|         Cause of Death        |      From Potter's Field       | 0.0756756663322  |  3   |  100  |\n",
      "|         Cause of Death        |        Point of Origin         | 0.0757575631142  |  2   |  100  |\n",
      "|         Cause of Death        |       Unnatural Exposure       | 0.0842105150223  |  1   |  100  |\n",
      "| The Girl Who Loved Tom Gordon |          False Memory          | 0.0467836260796  |  10  |   99  |\n",
      "| The Girl Who Loved Tom Gordon |          Black House           | 0.0473684072495  |  9   |   99  |\n",
      "| The Girl Who Loved Tom Gordon |         Needful Things         | 0.0479041934013  |  8   |   99  |\n",
      "| The Girl Who Loved Tom Gordon |          Firestarter           | 0.0518518686295  |  7   |   99  |\n",
      "| The Girl Who Loved Tom Gordon |       The Tommyknockers        | 0.0546448230743  |  6   |   99  |\n",
      "| The Girl Who Loved Tom Gordon |       Four Past Midnight       | 0.0609756112099  |  5   |   99  |\n",
      "| The Girl Who Loved Tom Gordon |         The Dark Half          | 0.0652173757553  |  4   |   99  |\n",
      "| The Girl Who Loved Tom Gordon |          Rose Madder           | 0.0658682584763  |  3   |   99  |\n",
      "| The Girl Who Loved Tom Gordon |         The Regulators         | 0.0743243098259  |  2   |   99  |\n",
      "| The Girl Who Loved Tom Gordon |          Pet Sematary          | 0.0819672346115  |  1   |   99  |\n",
      "|             Night             | How to Make an American Quilt  | 0.0266666412354  |  10  |   99  |\n",
      "|             Night             |           My Antonia           | 0.0267857313156  |  9   |   99  |\n",
      "|             Night             |     A Walk Across America      | 0.0267857313156  |  8   |   99  |\n",
      "|             Night             |   Dude, Where's My Country?    | 0.0270270109177  |  7   |   99  |\n",
      "|             Night             |     Children of the Night      | 0.0275229215622  |  6   |   99  |\n",
      "|             Night             |           Good Omens           |  0.027624309063  |  5   |   99  |\n",
      "|             Night             |       How to Cook a Tart       | 0.0280373692513  |  4   |   99  |\n",
      "|             Night             |        Night Gardening         | 0.0283018946648  |  3   |   99  |\n",
      "|             Night             |  The Last Kabbalist of Lisbon  | 0.0283018946648  |  2   |   99  |\n",
      "|             Night             |          Fingersmith           | 0.0300751924515  |  1   |   99  |\n",
      "|      From Potter's Field      |         Hornet's Nest          | 0.0439560413361  |  10  |   99  |\n",
      "|      From Potter's Field      |        Deadly Decisions        | 0.0486111044884  |  9   |   99  |\n",
      "|      From Potter's Field      |        See How They Run        | 0.0555555820465  |  8   |   99  |\n",
      "|      From Potter's Field      |       The Last Precinct        | 0.0604650974274  |  7   |   99  |\n",
      "|      From Potter's Field      |          Black Notice          | 0.0697674155235  |  6   |   99  |\n",
      "|      From Potter's Field      |         Cause of Death         | 0.0756756663322  |  5   |   99  |\n",
      "|      From Potter's Field      |           Postmortem           | 0.0828025341034  |  4   |   99  |\n",
      "|      From Potter's Field      |        Point of Origin         | 0.0871794819832  |  3   |   99  |\n",
      "|      From Potter's Field      |       Unnatural Exposure       |  0.108108103275  |  2   |   99  |\n",
      "|      From Potter's Field      |         The Body Farm          |  0.131250023842  |  1   |   99  |\n",
      "|           Sick Puppy          | The Diary of Ellen Rimbaue...  | 0.0303030014038  |  10  |   98  |\n",
      "|           Sick Puppy          |            Bundori             |  0.030927836895  |  9   |   98  |\n",
      "|           Sick Puppy          |          Final Target          | 0.0314465165138  |  8   |   98  |\n",
      "|           Sick Puppy          |        The Simple Truth        | 0.0320512652397  |  7   |   98  |\n",
      "|           Sick Puppy          |          Strip Tease           | 0.0327869057655  |  6   |   98  |\n",
      "|           Sick Puppy          | The Lone Ranger and Tonto ...  | 0.0330578684807  |  5   |   98  |\n",
      "|           Sick Puppy          |        Lethal Seduction        | 0.0377358198166  |  4   |   98  |\n",
      "|           Sick Puppy          |         Stormy Weather         | 0.0454545617104  |  3   |   98  |\n",
      "|           Sick Puppy          |           Lucky You            | 0.0500000119209  |  2   |   98  |\n",
      "|           Sick Puppy          |          Basket Case           |      0.0625      |  1   |   98  |\n",
      "|      The Virgin Suicides      |  In the Land of Dreamy Dreams  | 0.0297029614449  |  10  |   97  |\n",
      "|      The Virgin Suicides      | The Crimson Petal and the ...  | 0.0304877758026  |  9   |   97  |\n",
      "|      The Virgin Suicides      |      So Much to Tell You       | 0.0306122303009  |  8   |   97  |\n",
      "|      The Virgin Suicides      |         The Box Garden         | 0.0306122303009  |  7   |   97  |\n",
      "|      The Virgin Suicides      |         Big Stone Gap          |     0.03125      |  6   |   97  |\n",
      "|      The Virgin Suicides      | The Honk and Holler Openin...  |     0.03125      |  5   |   97  |\n",
      "|      The Virgin Suicides      |    Bastard Out of Carolina     | 0.0348837375641  |  4   |   97  |\n",
      "|      The Virgin Suicides      | The Girls' Guide to Huntin...  |  0.03519064188   |  3   |   97  |\n",
      "|      The Virgin Suicides      |          Westing Game          | 0.0353982448578  |  2   |   97  |\n",
      "|      The Virgin Suicides      |       The Stone Diaries        | 0.0372670888901  |  1   |   97  |\n",
      "|       The Tommyknockers       | The Bachman Books: Rage, t...  | 0.0900900959969  |  10  |   97  |\n",
      "|       The Tommyknockers       |         Gerald's Game          |  0.107594907284  |  9   |   97  |\n",
      "|       The Tommyknockers       |         The Regulators         |  0.107913672924  |  8   |   97  |\n",
      "|       The Tommyknockers       |          Rose Madder           |  0.116129040718  |  7   |   97  |\n",
      "|       The Tommyknockers       |         Needful Things         |  0.118421077728  |  6   |   97  |\n",
      "|       The Tommyknockers       |         The Dead Zone          |  0.118518531322  |  5   |   97  |\n",
      "|       The Tommyknockers       |         Skeleton Crew          |  0.129870116711  |  4   |   97  |\n",
      "|       The Tommyknockers       |          Pet Sematary          |  0.135294139385  |  3   |   97  |\n",
      "|       The Tommyknockers       |         The Dark Half          |  0.164634168148  |  2   |   97  |\n",
      "|       The Tommyknockers       |       Four Past Midnight       |  0.173611104488  |  1   |   97  |\n",
      "|         The Dark Half         |          Black House           | 0.0944444537163  |  10  |   97  |\n",
      "|         The Dark Half         |          The Shining           | 0.0993377566338  |  9   |   97  |\n",
      "|         The Dark Half         |         The Regulators         |  0.105633795261  |  8   |   97  |\n",
      "|         The Dark Half         |         The Dead Zone          |  0.107913672924  |  7   |   97  |\n",
      "|         The Dark Half         |          Rose Madder           |  0.113924026489  |  6   |   97  |\n",
      "|         The Dark Half         |         Gerald's Game          |  0.119496881962  |  5   |   97  |\n",
      "|         The Dark Half         |          Pet Sematary          |  0.126436769962  |  4   |   97  |\n",
      "|         The Dark Half         |         Skeleton Crew          |  0.14193546772   |  3   |   97  |\n",
      "|         The Dark Half         |       The Tommyknockers        |  0.164634168148  |  2   |   97  |\n",
      "|         The Dark Half         |       Four Past Midnight       |  0.178082168102  |  1   |   97  |\n",
      "|     Girl in Hyacinth Blue     |     Me Talk Pretty One Day     | 0.0365448594093  |  10  |   97  |\n",
      "|     Girl in Hyacinth Blue     |  Round Ireland With a Fridge   | 0.0370370149612  |  9   |   97  |\n",
      "|     Girl in Hyacinth Blue     |    The Secret Life of Bees     | 0.0375000238419  |  8   |   97  |\n",
      "|     Girl in Hyacinth Blue     | The Sisterhood of the Trav...  |  0.037593960762  |  7   |   97  |\n",
      "|     Girl in Hyacinth Blue     | The Honk and Holler Openin...  | 0.0379746556282  |  6   |   97  |\n",
      "|     Girl in Hyacinth Blue     |          Fingersmith           | 0.0387597084045  |  5   |   97  |\n",
      "|     Girl in Hyacinth Blue     |           Blue Shoe            |  0.039370059967  |  4   |   97  |\n",
      "|     Girl in Hyacinth Blue     |           Blue Diary           | 0.0400000214577  |  3   |   97  |\n",
      "|     Girl in Hyacinth Blue     | Wicked: The Life and Times...  | 0.0413222908974  |  2   |   97  |\n",
      "|     Girl in Hyacinth Blue     |    The Passion of Artemisia    | 0.0454545617104  |  1   |   97  |\n",
      "|  Five Quarters of the Orange  |     Girl in Hyacinth Blue      | 0.0322580933571  |  10  |   97  |\n",
      "|  Five Quarters of the Orange  |         Sun Also Rises         | 0.0327869057655  |  9   |   97  |\n",
      "|  Five Quarters of the Orange  |           Blue Diary           | 0.0331125855446  |  8   |   97  |\n",
      "|  Five Quarters of the Orange  | A Natural History of the S...  | 0.0341880321503  |  7   |   97  |\n",
      "|  Five Quarters of the Orange  |   Mutant Message Down Under    | 0.0354610085487  |  6   |   97  |\n",
      "|  Five Quarters of the Orange  |          Fingersmith           | 0.0387597084045  |  5   |   97  |\n",
      "|  Five Quarters of the Orange  | Como Agua Para Chocolate/L...  | 0.0388349294662  |  4   |   97  |\n",
      "|  Five Quarters of the Orange  |  The Last Kabbalist of Lisbon  | 0.0392156839371  |  3   |   97  |\n",
      "|  Five Quarters of the Orange  |       Falling Backwards        | 0.0392156839371  |  2   |   97  |\n",
      "|  Five Quarters of the Orange  |       Every Living Thing       | 0.0406504273415  |  1   |   97  |\n",
      "|          The Hot Zone         |          Chromosome 6          |     0.03125      |  10  |   95  |\n",
      "|          The Hot Zone         |  The House on the Borderland   | 0.0319148898125  |  9   |   95  |\n",
      "|          The Hot Zone         |       Lake Wobegon Days        | 0.0322580933571  |  8   |   95  |\n",
      "|          The Hot Zone         |         The Outsiders          | 0.0325203537941  |  7   |   95  |\n",
      "|          The Hot Zone         | The Cat Who Could Read Bac...  |  0.033898293972  |  6   |   95  |\n",
      "|          The Hot Zone         |           Geek Love            | 0.0352112650871  |  5   |   95  |\n",
      "|          The Hot Zone         | Downsize This! Random Thre...  | 0.0363636612892  |  4   |   95  |\n",
      "|          The Hot Zone         |   The Temple of My Familiar    | 0.0406504273415  |  3   |   95  |\n",
      "|          The Hot Zone         |  The Bonfire of the Vanities   | 0.0416666865349  |  2   |   95  |\n",
      "|          The Hot Zone         |  In the Land of Dreamy Dreams  | 0.0416666865349  |  1   |   95  |\n",
      "|         Hornet's Nest         |         Southern Cross         | 0.0426829457283  |  10  |   93  |\n",
      "|         Hornet's Nest         |      From Potter's Field       | 0.0439560413361  |  9   |   93  |\n",
      "|         Hornet's Nest         |          Certain Prey          | 0.0454545617104  |  8   |   93  |\n",
      "|         Hornet's Nest         |       Unnatural Exposure       |  0.047872364521  |  7   |   93  |\n",
      "|         Hornet's Nest         |          Eyes of Prey          | 0.0500000119209  |  6   |   93  |\n",
      "|         Hornet's Nest         |           Mind Prey            | 0.0500000119209  |  5   |   93  |\n",
      "|         Hornet's Nest         |        Point of Origin         |  0.051546394825  |  4   |   93  |\n",
      "|         Hornet's Nest         |          Sudden Prey           | 0.0526315569878  |  3   |   93  |\n",
      "|         Hornet's Nest         |         Cause of Death         | 0.0611110925674  |  2   |   93  |\n",
      "|         Hornet's Nest         |          Black Notice          | 0.0673077106476  |  1   |   93  |\n",
      "|          Tell No One          |   Patty Jane's House of Curl   | 0.0265486836433  |  10  |   92  |\n",
      "|          Tell No One          |          Black House           | 0.0267379879951  |  9   |   92  |\n",
      "|          Tell No One          |         Tending Roses          | 0.0275229215622  |  8   |   92  |\n",
      "|          Tell No One          |       Two for the Dough        | 0.0303030014038  |  7   |   92  |\n",
      "|          Tell No One          |          Last Breath           | 0.0303030014038  |  6   |   92  |\n",
      "|          Tell No One          |      Suffer the Children       |  0.030927836895  |  5   |   92  |\n",
      "|          Tell No One          |      The Blue Bottle Club      |     0.03125      |  4   |   92  |\n",
      "|          Tell No One          |        House of Leaves         |     0.03125      |  3   |   92  |\n",
      "|          Tell No One          |     Embraced by the Light      | 0.0314960479736  |  2   |   92  |\n",
      "|          Tell No One          |          Pet Sematary          | 0.0380434989929  |  1   |   92  |\n",
      "|       The King of Torts       |    A Sudden Change of Heart    | 0.0285714268684  |  10  |   91  |\n",
      "|       The King of Torts       | Bunnicula: A Rabbit-Tale o...  | 0.0288461446762  |  9   |   91  |\n",
      "|       The King of Torts       |    Diary of a Mad Mom-To-Be    | 0.0297029614449  |  8   |   91  |\n",
      "|       The King of Torts       |          The Summons           | 0.0310077667236  |  7   |   91  |\n",
      "|       The King of Torts       |           3rd Degree           |     0.03125      |  6   |   91  |\n",
      "|       The King of Torts       |           Odd Thomas           | 0.0325203537941  |  5   |   91  |\n",
      "|       The King of Torts       |      The English Assassin      | 0.0396039485931  |  4   |   91  |\n",
      "|       The King of Torts       |        Four Blind Mice         | 0.0430107712746  |  3   |   91  |\n",
      "|       The King of Torts       |         The Last Juror         | 0.0616438388824  |  2   |   91  |\n",
      "|       The King of Torts       |           Bleachers            | 0.0855262875557  |  1   |   91  |\n",
      "|   From the Corner of His Eye  |            Mutation            |  0.033898293972  |  10  |   91  |\n",
      "|   From the Corner of His Eye  |          Salem's Lot           | 0.0341880321503  |  9   |   91  |\n",
      "|   From the Corner of His Eye  |     The Mothman Prophecies     | 0.0344827771187  |  8   |   91  |\n",
      "|   From the Corner of His Eye  |      The Key to Midnight       | 0.0347825884819  |  7   |   91  |\n",
      "|   From the Corner of His Eye  |           Contagion            |  0.037593960762  |  6   |   91  |\n",
      "|   From the Corner of His Eye  |         The Bad Place          |  0.037593960762  |  5   |   91  |\n",
      "|   From the Corner of His Eye  |        Violets Are Blue        | 0.0398229956627  |  4   |   91  |\n",
      "|   From the Corner of His Eye  |          False Memory          | 0.0429447889328  |  3   |   91  |\n",
      "|   From the Corner of His Eye  |      The Door to December      | 0.0606060624123  |  2   |   91  |\n",
      "|   From the Corner of His Eye  |          The Funhouse          | 0.0630630850792  |  1   |   91  |\n",
      "|   Dude, Where's My Country?   |        The Devil's Code        | 0.0296296477318  |  10  |   91  |\n",
      "|   Dude, Where's My Country?   | Harry Potter y la piedra f...  | 0.0297029614449  |  9   |   91  |\n",
      "|   Dude, Where's My Country?   |    I Know This Much Is True    | 0.0314136147499  |  8   |   91  |\n",
      "|   Dude, Where's My Country?   |     Bridget Jones's Diary      | 0.0315315127373  |  7   |   91  |\n",
      "|   Dude, Where's My Country?   | Midnight Louie's Pet Detec...  | 0.0322580933571  |  6   |   91  |\n",
      "|   Dude, Where's My Country?   |   The Hundred Secret Senses    | 0.0343137383461  |  5   |   91  |\n",
      "|   Dude, Where's My Country?   |          Naked Lunch           | 0.0360360145569  |  4   |   91  |\n",
      "|   Dude, Where's My Country?   | Lies and the Lying Liars W...  | 0.0394737124443  |  3   |   91  |\n",
      "|   Dude, Where's My Country?   |        The Corrections         | 0.0397350788116  |  2   |   91  |\n",
      "|   Dude, Where's My Country?   | Downsize This! Random Thre...  | 0.0467289686203  |  1   |   91  |\n",
      "|          Bag of Bones         |          Black House           | 0.0552486181259  |  10  |   91  |\n",
      "|          Bag of Bones         |          Rose Madder           | 0.0559006333351  |  9   |   91  |\n",
      "|          Bag of Bones         |         Needful Things         | 0.0569620132446  |  8   |   91  |\n",
      "|          Bag of Bones         |         The Dead Zone          | 0.0571428537369  |  7   |   91  |\n",
      "|          Bag of Bones         |       Four Past Midnight       | 0.0573248267174  |  6   |   91  |\n",
      "|          Bag of Bones         |          Pet Sematary          | 0.0674157142639  |  5   |   91  |\n",
      "|          Bag of Bones         |         The Dark Half          | 0.0681818127632  |  4   |   91  |\n",
      "|          Bag of Bones         |         Skeleton Crew          | 0.0754716992378  |  3   |   91  |\n",
      "|          Bag of Bones         |         Gerald's Game          | 0.0817610025406  |  2   |   91  |\n",
      "|          Bag of Bones         |       The Tommyknockers        | 0.0818713307381  |  1   |   91  |\n",
      "| Who Moved My Cheese? An Am... |          Border Music          | 0.0256410241127  |  10  |   90  |\n",
      "| Who Moved My Cheese? An Am... |       The Secret Garden        | 0.0268456339836  |  9   |   90  |\n",
      "| Who Moved My Cheese? An Am... |      A Light in the Attic      | 0.0272727012634  |  8   |   90  |\n",
      "| Who Moved My Cheese? An Am... |       Disappearing Acts        | 0.0288461446762  |  7   |   90  |\n",
      "| Who Moved My Cheese? An Am... | Don't Stand Too Close to a...  | 0.0291970968246  |  6   |   90  |\n",
      "| Who Moved My Cheese? An Am... |          White Shark           |     0.03125      |  5   |   90  |\n",
      "| Who Moved My Cheese? An Am... | Rich Dad, Poor Dad: What t...  |     0.03125      |  4   |   90  |\n",
      "| Who Moved My Cheese? An Am... | Life Strategies: Doing Wha...  | 0.0336134433746  |  3   |   90  |\n",
      "| Who Moved My Cheese? An Am... | Fish! A Remarkable Way to ...  | 0.0373831987381  |  2   |   90  |\n",
      "| Who Moved My Cheese? An Am... | The Tightwad Gazette: Prom...  | 0.0396039485931  |  1   |   90  |\n",
      "|     The Other Boleyn Girl     |            Milkrun             | 0.0239999890327  |  10  |   90  |\n",
      "|     The Other Boleyn Girl     |          Fingersmith           | 0.0239999890327  |  9   |   90  |\n",
      "|     The Other Boleyn Girl     |    The Secret Life of Bees     | 0.0249999761581  |  8   |   90  |\n",
      "|     The Other Boleyn Girl     |       Breach of Promise        | 0.0275229215622  |  7   |   90  |\n",
      "|     The Other Boleyn Girl     |       Cold Comfort Farm        | 0.0275229215622  |  6   |   90  |\n",
      "|     The Other Boleyn Girl     | The Broke Diaries: The Com...  | 0.0288461446762  |  5   |   90  |\n",
      "|     The Other Boleyn Girl     | Beware, Princess Elizabeth...  |  0.032967031002  |  4   |   90  |\n",
      "|     The Other Boleyn Girl     |     Girl in Hyacinth Blue      | 0.0333333611488  |  3   |   90  |\n",
      "|     The Other Boleyn Girl     |   Fat Girls and Lawn Chairs    | 0.0388349294662  |  2   |   90  |\n",
      "|     The Other Boleyn Girl     | Wicked: The Life and Times...  | 0.0423728823662  |  1   |   90  |\n",
      "|         Wish You Well         |       Personal Injuries        | 0.0336134433746  |  10  |   89  |\n",
      "|         Wish You Well         |          Saving Faith          | 0.0337837934494  |  9   |   89  |\n",
      "|         Wish You Well         |          Grand Avenue          |  0.033898293972  |  8   |   89  |\n",
      "|         Wish You Well         |        The Simple Truth        | 0.0340136289597  |  7   |   89  |\n",
      "|         Wish You Well         | The Chinese Art of Face Re...  | 0.0340909361839  |  6   |   89  |\n",
      "|         Wish You Well         |         Total Control          | 0.0367646813393  |  5   |   89  |\n",
      "|         Wish You Well         |       Middle of Nowhere        | 0.0370370149612  |  4   |   89  |\n",
      "|         Wish You Well         |       That Camden Summer       |  0.039370059967  |  3   |   89  |\n",
      "|         Wish You Well         |  The Cat Who Blew the Whistle  | 0.0430107712746  |  2   |   89  |\n",
      "|         Wish You Well         |           Dark Lady            | 0.0442478060722  |  1   |   89  |\n",
      "|    The Pillars of the Earth   | The Lost Continent: Travel...  | 0.0243902206421  |  10  |   89  |\n",
      "|    The Pillars of the Earth   |         Hornet Flight          | 0.0247933864594  |  9   |   89  |\n",
      "|    The Pillars of the Earth   |          Strip Tease           | 0.0260869860649  |  8   |   89  |\n",
      "|    The Pillars of the Earth   |        The Fiery Cross         | 0.0277777910233  |  7   |   89  |\n",
      "|    The Pillars of the Earth   |         Tis: A Memoir          | 0.0285714268684  |  6   |   89  |\n",
      "|    The Pillars of the Earth   |    Silence in Hanover Close    | 0.0299999713898  |  5   |   89  |\n",
      "|    The Pillars of the Earth   |     The Sunne in Splendour     |     0.03125      |  4   |   89  |\n",
      "|    The Pillars of the Earth   |          Sky Masters           | 0.0322580933571  |  3   |   89  |\n",
      "|    The Pillars of the Earth   |            Jackdaws            | 0.0342465639114  |  2   |   89  |\n",
      "|    The Pillars of the Earth   |        Night over Water        | 0.0479999780655  |  1   |   89  |\n",
      "|         Falling Angels        |       Breathing Lessons        | 0.0264900922775  |  10  |   88  |\n",
      "|         Falling Angels        |        Chasing Cezanne         | 0.0270270109177  |  9   |   88  |\n",
      "|         Falling Angels        | Dress Your Family in Cordu...  | 0.0270270109177  |  8   |   88  |\n",
      "|         Falling Angels        |       Tipping the Velvet       | 0.0280373692513  |  7   |   88  |\n",
      "|         Falling Angels        | Beauty: A Retelling of the...  | 0.0294117927551  |  6   |   88  |\n",
      "|         Falling Angels        |  Niagara Falls All Over Again  | 0.0306122303009  |  5   |   88  |\n",
      "|         Falling Angels        | The Crimson Petal and the ...  | 0.0322580933571  |  4   |   88  |\n",
      "|         Falling Angels        |           Blue Shoe            | 0.0333333611488  |  3   |   88  |\n",
      "|         Falling Angels        |        The Virgin Blue         |  0.035971224308  |  2   |   88  |\n",
      "|         Falling Angels        |       The Stone Diaries        | 0.0394737124443  |  1   |   88  |\n",
      "|           Good Omens          |     The Far Side Observer      |  0.029126226902  |  10  |   87  |\n",
      "|           Good Omens          |         Skeleton Crew          | 0.0308641791344  |  9   |   87  |\n",
      "|           Good Omens          |     Children of the Night      |  0.030927836895  |  8   |   87  |\n",
      "|           Good Omens          |           Neverwhere           | 0.0311111211777  |  7   |   87  |\n",
      "|           Good Omens          |   Sandman: The Dream Hunters   | 0.0315789580345  |  6   |   87  |\n",
      "|           Good Omens          |          Basket Case           | 0.0327869057655  |  5   |   87  |\n",
      "|           Good Omens          |          Pet Sematary          | 0.0333333611488  |  4   |   87  |\n",
      "|           Good Omens          |       2010: Odyssey Two        | 0.0347825884819  |  3   |   87  |\n",
      "|           Good Omens          |           Lucky You            | 0.0378788113594  |  2   |   87  |\n",
      "|           Good Omens          |          Black Sunday          | 0.0400000214577  |  1   |   87  |\n",
      "|      The Prince of Tides      |       Critical Judgment        | 0.0377358198166  |  10  |   86  |\n",
      "|      The Prince of Tides      |            Hideaway            | 0.0378788113594  |  9   |   86  |\n",
      "|      The Prince of Tides      |         One True Thing         | 0.0382165312767  |  8   |   86  |\n",
      "|      The Prince of Tides      | Simple Abundance:  A Daybo...  | 0.0387597084045  |  7   |   86  |\n",
      "|      The Prince of Tides      |         Rage of Angels         | 0.0396039485931  |  6   |   86  |\n",
      "|      The Prince of Tides      |      The Handmaid's Tale       | 0.0400000214577  |  5   |   86  |\n",
      "|      The Prince of Tides      |           Postmortem           | 0.0400000214577  |  4   |   86  |\n",
      "|      The Prince of Tides      | From the Mixed-Up Files of...  | 0.0416666865349  |  3   |   86  |\n",
      "|      The Prince of Tides      |          Turtle Moon           | 0.0420168042183  |  2   |   86  |\n",
      "|      The Prince of Tides      |       The Great Santini        | 0.0594059228897  |  1   |   86  |\n",
      "|          Three Fates          |         Naked in Death         |  0.066666662693  |  10  |   85  |\n",
      "|          Three Fates          |            The Reef            | 0.0672268867493  |  9   |   85  |\n",
      "|          Three Fates          |          Rising Tides          | 0.0720720887184  |  8   |   85  |\n",
      "|          Three Fates          |          River's End           | 0.0743801593781  |  7   |   85  |\n",
      "|          Three Fates          |        Private Scandals        | 0.0744680762291  |  6   |   85  |\n",
      "|          Three Fates          |        Carnal Innocence        | 0.0747663378716  |  5   |   85  |\n",
      "|          Three Fates          |         Born in Shame          | 0.0761904716492  |  4   |   85  |\n",
      "|          Three Fates          |         Carolina Moon          | 0.0764331221581  |  3   |   85  |\n",
      "|          Three Fates          |         Brazen Virtue          | 0.0825688242912  |  2   |   85  |\n",
      "|          Three Fates          |         Midnight Bayou         | 0.0833333134651  |  1   |   85  |\n",
      "|      The Door to December     |          Eyes of Prey          | 0.0434782505035  |  10  |   85  |\n",
      "|      The Door to December     |    The Servants of Twilight    | 0.0434782505035  |  9   |   85  |\n",
      "|      The Door to December     |         Rules of Prey          | 0.0438596606255  |  8   |   85  |\n",
      "|      The Door to December     |         Gerald's Game          |  0.044025182724  |  7   |   85  |\n",
      "|      The Door to December     |         The Bad Place          | 0.0472440719604  |  6   |   85  |\n",
      "|      The Door to December     |       Unnatural Exposure       | 0.0494505763054  |  5   |   85  |\n",
      "|      The Door to December     |      The Key to Midnight       | 0.0555555820465  |  4   |   85  |\n",
      "|      The Door to December     |      The House of Thunder      | 0.0566037893295  |  3   |   85  |\n",
      "|      The Door to December     |   From the Corner of His Eye   | 0.0606060624123  |  2   |   85  |\n",
      "|      The Door to December     |          The Funhouse          | 0.0660377144814  |  1   |   85  |\n",
      "|         Carolina Moon         |        Summer Pleasures        | 0.0650406479836  |  10  |   85  |\n",
      "|         Carolina Moon         |      Dream a Little Dream      | 0.0652173757553  |  9   |   85  |\n",
      "|         Carolina Moon         |         Born in Shame          | 0.0654205679893  |  8   |   85  |\n",
      "|         Carolina Moon         |            The Reef            |  0.066666662693  |  7   |   85  |\n",
      "|         Carolina Moon         |          Sacred Sins           | 0.0689654946327  |  6   |   85  |\n",
      "|         Carolina Moon         |         Brazen Virtue          | 0.0720720887184  |  5   |   85  |\n",
      "|         Carolina Moon         |          Genuine Lies          | 0.0729166865349  |  4   |   85  |\n",
      "|         Carolina Moon         |          Three Fates           | 0.0764331221581  |  3   |   85  |\n",
      "|         Carolina Moon         |          River's End           | 0.0826446413994  |  2   |   85  |\n",
      "|         Carolina Moon         |          Montana Sky           | 0.0869565010071  |  1   |   85  |\n",
      "|         The Body Farm         |          Chromosome 6          | 0.0521739125252  |  10  |   82  |\n",
      "|         The Body Farm         |           Deja Dead            |  0.05405408144   |  9   |   82  |\n",
      "|         The Body Farm         |       The Last Precinct        | 0.0550000071526  |  8   |   82  |\n",
      "|         The Body Farm         |          Black Notice          | 0.0597015023232  |  7   |   82  |\n",
      "|         The Body Farm         |        Body of Evidence        | 0.0600000023842  |  6   |   82  |\n",
      "|         The Body Farm         |         Cause of Death         | 0.0705882310867  |  5   |   82  |\n",
      "|         The Body Farm         |           Postmortem           | 0.0851063728333  |  4   |   82  |\n",
      "|         The Body Farm         |        Point of Origin         | 0.0893854498863  |  3   |   82  |\n",
      "|         The Body Farm         |       Unnatural Exposure       | 0.0994151830673  |  2   |   82  |\n",
      "|         The Body Farm         |      From Potter's Field       |  0.131250023842  |  1   |   82  |\n",
      "|       Presumed Innocent       |      From Potter's Field       | 0.0342857241631  |  10  |   82  |\n",
      "|       Presumed Innocent       | Rush Limbaugh Is a Big Fat...  | 0.0347825884819  |  9   |   82  |\n",
      "|       Presumed Innocent       |      A Deceptive Clarity       | 0.0365853905678  |  8   |   82  |\n",
      "|       Presumed Innocent       |           Night Prey           | 0.0377358198166  |  7   |   82  |\n",
      "|       Presumed Innocent       |        Pleading Guilty         | 0.0380952358246  |  6   |   82  |\n",
      "|       Presumed Innocent       |         Skeleton Crew          | 0.0384615659714  |  5   |   82  |\n",
      "|       Presumed Innocent       |    The Laws of Our Fathers     | 0.0384615659714  |  4   |   82  |\n",
      "|       Presumed Innocent       | When Bad Things Happen to ...  |  0.04123711586   |  3   |   82  |\n",
      "|       Presumed Innocent       |         A Simple Plan          | 0.0462962985039  |  2   |   82  |\n",
      "|       Presumed Innocent       |        Degree of Guilt         | 0.0480769276619  |  1   |   82  |\n",
      "|         Gerald's Game         |         The Dead Zone          |     0.078125     |  10  |   82  |\n",
      "|         Gerald's Game         |          Firestarter           | 0.0782608985901  |  9   |   82  |\n",
      "|         Gerald's Game         |          Bag of Bones          | 0.0817610025406  |  8   |   82  |\n",
      "|         Gerald's Game         |         Skeleton Crew          | 0.0878378152847  |  7   |   82  |\n",
      "|         Gerald's Game         |          Pet Sematary          | 0.0909090638161  |  6   |   82  |\n",
      "|         Gerald's Game         |         Needful Things         |  0.105633795261  |  5   |   82  |\n",
      "|         Gerald's Game         |       The Tommyknockers        |  0.107594907284  |  4   |   82  |\n",
      "|         Gerald's Game         |         The Dark Half          |  0.119496881962  |  3   |   82  |\n",
      "|         Gerald's Game         |          Rose Madder           |  0.126760542393  |  2   |   82  |\n",
      "|         Gerald's Game         |       Four Past Midnight       |  0.130434811115  |  1   |   82  |\n",
      "|         Skeleton Crew         |          Bag of Bones          | 0.0754716992378  |  10  |   81  |\n",
      "|         Skeleton Crew         |          The Shining           | 0.0797101259232  |  9   |   81  |\n",
      "|         Skeleton Crew         |         Needful Things         | 0.0833333134651  |  8   |   81  |\n",
      "|         Skeleton Crew         |         The Regulators         | 0.0852712988853  |  7   |   81  |\n",
      "|         Skeleton Crew         |         Gerald's Game          | 0.0878378152847  |  6   |   81  |\n",
      "|         Skeleton Crew         |          Rose Madder           | 0.0965517163277  |  5   |   81  |\n",
      "|         Skeleton Crew         |       Four Past Midnight       |  0.107142865658  |  4   |   81  |\n",
      "|         Skeleton Crew         |       The Tommyknockers        |  0.129870116711  |  3   |   81  |\n",
      "|         Skeleton Crew         |          Pet Sematary          |  0.132911384106  |  2   |   81  |\n",
      "|         Skeleton Crew         |         The Dark Half          |  0.14193546772   |  1   |   81  |\n",
      "|         P Is for Peril        |          See Jane Run          | 0.0315789580345  |  10  |   81  |\n",
      "|         P Is for Peril        |         Trial by Fire          | 0.0319148898125  |  9   |   81  |\n",
      "|         P Is for Peril        |          Chosen Prey           | 0.0320512652397  |  8   |   81  |\n",
      "|         P Is for Peril        |        L Is for Lawless        | 0.0322580933571  |  7   |   81  |\n",
      "|         P Is for Peril        |     The Face of Deception      | 0.0322580933571  |  6   |   81  |\n",
      "|         P Is for Peril        |        The Empty Chair         | 0.0322580933571  |  5   |   81  |\n",
      "|         P Is for Peril        |       How to Cook a Tart       |  0.033707857132  |  4   |   81  |\n",
      "|         P Is for Peril        |       J Is for Judgment        | 0.0381679534912  |  3   |   81  |\n",
      "|         P Is for Peril        |        M Is for Malice         | 0.0500000119209  |  2   |   81  |\n",
      "|         P Is for Peril        |        Q Is for Quarry         | 0.0648648738861  |  1   |   81  |\n",
      "|         One True Thing        | And the Band Played on: Po...  | 0.0352941155434  |  10  |   81  |\n",
      "|         One True Thing        |       Bitterroot Landing       | 0.0352941155434  |  9   |   81  |\n",
      "|         One True Thing        | The Honk and Holler Openin...  | 0.0354610085487  |  8   |   81  |\n",
      "|         One True Thing        |      Breaking the Surface      | 0.0365853905678  |  7   |   81  |\n",
      "|         One True Thing        |           Eden Close           |  0.036697268486  |  6   |   81  |\n",
      "|         One True Thing        | Before I Say Goodbye: Reco...  | 0.0375000238419  |  5   |   81  |\n",
      "|         One True Thing        |       Alaska Bear Tales        | 0.0379746556282  |  4   |   81  |\n",
      "|         One True Thing        |      The Prince of Tides       | 0.0382165312767  |  3   |   81  |\n",
      "|         One True Thing        |          Local Girls           | 0.0384615659714  |  2   |   81  |\n",
      "|         One True Thing        |         Tourist Season         | 0.0384615659714  |  1   |   81  |\n",
      "|    Bastard Out of Carolina    |      The Handmaid's Tale       | 0.0355330109596  |  10  |   81  |\n",
      "|    Bastard Out of Carolina    |  The Professor and the Madman  | 0.0360360145569  |  9   |   81  |\n",
      "|    Bastard Out of Carolina    |         The Box Garden         | 0.0365853905678  |  8   |   81  |\n",
      "|    Bastard Out of Carolina    |     The Mothman Prophecies     | 0.0373831987381  |  7   |   81  |\n",
      "|    Bastard Out of Carolina    |           Geek Love            | 0.0384615659714  |  6   |   81  |\n",
      "|    Bastard Out of Carolina    |         Charming Billy         | 0.0384615659714  |  5   |   81  |\n",
      "|    Bastard Out of Carolina    |          Cavedweller           | 0.0388349294662  |  4   |   81  |\n",
      "|    Bastard Out of Carolina    | The Honk and Holler Openin...  | 0.0419580340385  |  3   |   81  |\n",
      "|    Bastard Out of Carolina    |   The Liar's Club: A Memoir    | 0.0420168042183  |  2   |   81  |\n",
      "|    Bastard Out of Carolina    |         The River King         | 0.0479999780655  |  1   |   81  |\n",
      "|         Southern Cross        |         Acts of Malice         | 0.0384615659714  |  10  |   80  |\n",
      "|         Southern Cross        |         N Is for Noose         |  0.039370059967  |  9   |   80  |\n",
      "|         Southern Cross        |       The Last Precinct        | 0.0398010015488  |  8   |   80  |\n",
      "|         Southern Cross        |         Hornet's Nest          | 0.0426829457283  |  7   |   80  |\n",
      "|         Southern Cross        |          Black Notice          | 0.0445544719696  |  6   |   80  |\n",
      "|         Southern Cross        |          Eyes of Prey          | 0.0454545617104  |  5   |   80  |\n",
      "|         Southern Cross        | Taltos: Lives of the Mayfa...  | 0.0465116500854  |  4   |   80  |\n",
      "|         Southern Cross        |       Unnatural Exposure       | 0.0508474707603  |  3   |   80  |\n",
      "|         Southern Cross        |          Shadow Prey           |  0.051546394825  |  2   |   80  |\n",
      "|         Southern Cross        |          Isle of Dogs          | 0.0628571510315  |  1   |   80  |\n",
      "|     River, Cross My Heart     |      Breath, Eyes, Memory      | 0.0314960479736  |  10  |   80  |\n",
      "|     River, Cross My Heart     |        The Song Reader         | 0.0322580933571  |  9   |   80  |\n",
      "|     River, Cross My Heart     |     The Rapture of Canaan      | 0.0324675440788  |  8   |   80  |\n",
      "|     River, Cross My Heart     |        My Soul to Keep         | 0.0340909361839  |  7   |   80  |\n",
      "|     River, Cross My Heart     |     The Book of Questions      | 0.0350877046585  |  6   |   80  |\n",
      "|     River, Cross My Heart     |           Icy Sparks           | 0.0373831987381  |  5   |   80  |\n",
      "|     River, Cross My Heart     |          Local Girls           | 0.0377358198166  |  4   |   80  |\n",
      "|     River, Cross My Heart     |         Drowning Ruth          | 0.0403226017952  |  3   |   80  |\n",
      "|     River, Cross My Heart     |         Here on Earth          | 0.0486111044884  |  2   |   80  |\n",
      "|     River, Cross My Heart     |     We Were the Mulvaneys      | 0.0528846383095  |  1   |   80  |\n",
      "|          False Memory         |   One Door Away from Heaven    | 0.0396039485931  |  10  |   80  |\n",
      "|          False Memory         |         The Bad Place          | 0.0406504273415  |  9   |   80  |\n",
      "|          False Memory         |         The Dark Half          | 0.0411764979362  |  8   |   80  |\n",
      "|          False Memory         |   From the Corner of His Eye   | 0.0429447889328  |  7   |   80  |\n",
      "|          False Memory         |      The Eyes of Darkness      | 0.0431034564972  |  6   |   80  |\n",
      "|          False Memory         |    The Servants of Twilight    | 0.0454545617104  |  5   |   80  |\n",
      "|          False Memory         |          Black House           | 0.0465116500854  |  4   |   80  |\n",
      "|          False Memory         | The Girl Who Loved Tom Gordon  | 0.0467836260796  |  3   |   80  |\n",
      "|          False Memory         |          The Funhouse          | 0.0485436916351  |  2   |   80  |\n",
      "|          False Memory         |          Firestarter           | 0.0512820482254  |  1   |   80  |\n",
      "+-------------------------------+--------------------------------+------------------+------+-------+\n",
      "[106502 rows x 5 columns]\n",
      "\n"
     ]
    }
   ],
   "source": [
    "sims = sims.join(items[['book', 'Count']], on='book')\n",
    "sims = sims.sort(['Count', 'book', 'rank'], ascending=False)\n",
    "sims.print_rows(1000, max_row_width=150)"
   ]
  },
  {
   "cell_type": "markdown",
   "metadata": {},
   "source": [
    "### Experimenting with other models"
   ]
  },
  {
   "cell_type": "markdown",
   "metadata": {},
   "source": [
    "Create a dataset called `implicit` that contains only ratings data where `rating` was 4 or greater."
   ]
  },
  {
   "cell_type": "code",
   "execution_count": 13,
   "metadata": {
    "collapsed": false
   },
   "outputs": [],
   "source": [
    "implicit = ratings[ratings['rating'] >= 4]"
   ]
  },
  {
   "cell_type": "markdown",
   "metadata": {},
   "source": [
    "Create a train/test split of the `implicit` data created above. Hint: Use [random_split_by_user](http://graphlab.com/products/create/docs/generated/graphlab.recommender.random_split_by_user.html#graphlab.recommender.random_split_by_user)."
   ]
  },
  {
   "cell_type": "code",
   "execution_count": 14,
   "metadata": {
    "collapsed": false
   },
   "outputs": [],
   "source": [
    "train, test = gl.recommender.util.random_split_by_user(implicit, user_id='name', item_id='book')"
   ]
  },
  {
   "cell_type": "markdown",
   "metadata": {},
   "source": [
    "Print the first 5 rows of the training set."
   ]
  },
  {
   "cell_type": "code",
   "execution_count": 15,
   "metadata": {
    "collapsed": false
   },
   "outputs": [
    {
     "data": {
      "text/html": [
       "<div style=\"max-height:1000px;max-width:1500px;overflow:auto;\"><table frame=\"box\" rules=\"cols\">\n",
       "    <tr>\n",
       "        <th style=\"padding-left: 1em; padding-right: 1em; text-align: center\">name</th>\n",
       "        <th style=\"padding-left: 1em; padding-right: 1em; text-align: center\">book</th>\n",
       "        <th style=\"padding-left: 1em; padding-right: 1em; text-align: center\">rating</th>\n",
       "    </tr>\n",
       "    <tr>\n",
       "        <td style=\"padding-left: 1em; padding-right: 1em; text-align: center; vertical-align: top\">Channon</td>\n",
       "        <td style=\"padding-left: 1em; padding-right: 1em; text-align: center; vertical-align: top\">Dave Barry's Bad Habits a<br>100% Fact-Free Book ...</td>\n",
       "        <td style=\"padding-left: 1em; padding-right: 1em; text-align: center; vertical-align: top\">5</td>\n",
       "    </tr>\n",
       "    <tr>\n",
       "        <td style=\"padding-left: 1em; padding-right: 1em; text-align: center; vertical-align: top\">Boe</td>\n",
       "        <td style=\"padding-left: 1em; padding-right: 1em; text-align: center; vertical-align: top\">It's Not About the Bike:<br>My Journey Back to Life ...</td>\n",
       "        <td style=\"padding-left: 1em; padding-right: 1em; text-align: center; vertical-align: top\">4</td>\n",
       "    </tr>\n",
       "    <tr>\n",
       "        <td style=\"padding-left: 1em; padding-right: 1em; text-align: center; vertical-align: top\">Raul</td>\n",
       "        <td style=\"padding-left: 1em; padding-right: 1em; text-align: center; vertical-align: top\">The Hero and the Crown</td>\n",
       "        <td style=\"padding-left: 1em; padding-right: 1em; text-align: center; vertical-align: top\">4</td>\n",
       "    </tr>\n",
       "    <tr>\n",
       "        <td style=\"padding-left: 1em; padding-right: 1em; text-align: center; vertical-align: top\">Sarah</td>\n",
       "        <td style=\"padding-left: 1em; padding-right: 1em; text-align: center; vertical-align: top\">One Night of Scandal</td>\n",
       "        <td style=\"padding-left: 1em; padding-right: 1em; text-align: center; vertical-align: top\">4</td>\n",
       "    </tr>\n",
       "    <tr>\n",
       "        <td style=\"padding-left: 1em; padding-right: 1em; text-align: center; vertical-align: top\">Brooklynn</td>\n",
       "        <td style=\"padding-left: 1em; padding-right: 1em; text-align: center; vertical-align: top\">Fat Ollie's Book:  A<br>Novel of the 87th ...</td>\n",
       "        <td style=\"padding-left: 1em; padding-right: 1em; text-align: center; vertical-align: top\">4</td>\n",
       "    </tr>\n",
       "</table>\n",
       "[5 rows x 3 columns]<br/>\n",
       "</div>"
      ],
      "text/plain": [
       "Columns:\n",
       "\tname\tstr\n",
       "\tbook\tstr\n",
       "\trating\tint\n",
       "\n",
       "Rows: 5\n",
       "\n",
       "Data:\n",
       "+-----------+-------------------------------+--------+\n",
       "|    name   |              book             | rating |\n",
       "+-----------+-------------------------------+--------+\n",
       "|  Channon  | Dave Barry's Bad Habits a ... |   5    |\n",
       "|    Boe    | It's Not About the Bike: M... |   4    |\n",
       "|    Raul   |     The Hero and the Crown    |   4    |\n",
       "|   Sarah   |      One Night of Scandal     |   4    |\n",
       "| Brooklynn | Fat Ollie's Book:  A Novel... |   4    |\n",
       "+-----------+-------------------------------+--------+\n",
       "[5 rows x 3 columns]"
      ]
     },
     "execution_count": 15,
     "metadata": {},
     "output_type": "execute_result"
    }
   ],
   "source": [
    "train.head(5)"
   ]
  },
  {
   "cell_type": "markdown",
   "metadata": {},
   "source": [
    "Create a `ranking_factorization_recommender` model using just the training set and 20 factors."
   ]
  },
  {
   "cell_type": "code",
   "execution_count": 16,
   "metadata": {
    "collapsed": false
   },
   "outputs": [
    {
     "data": {
      "text/html": [
       "<pre>Recsys training: model = ranking_factorization_recommender</pre>"
      ],
      "text/plain": [
       "Recsys training: model = ranking_factorization_recommender"
      ]
     },
     "metadata": {},
     "output_type": "display_data"
    },
    {
     "data": {
      "text/html": [
       "<pre>Preparing data set.</pre>"
      ],
      "text/plain": [
       "Preparing data set."
      ]
     },
     "metadata": {},
     "output_type": "display_data"
    },
    {
     "data": {
      "text/html": [
       "<pre>    Data has 57133 observations with 21028 users and 10510 items.</pre>"
      ],
      "text/plain": [
       "    Data has 57133 observations with 21028 users and 10510 items."
      ]
     },
     "metadata": {},
     "output_type": "display_data"
    },
    {
     "data": {
      "text/html": [
       "<pre>    Data prepared in: 0.177179s</pre>"
      ],
      "text/plain": [
       "    Data prepared in: 0.177179s"
      ]
     },
     "metadata": {},
     "output_type": "display_data"
    },
    {
     "data": {
      "text/html": [
       "<pre>Training ranking_factorization_recommender for recommendations.</pre>"
      ],
      "text/plain": [
       "Training ranking_factorization_recommender for recommendations."
      ]
     },
     "metadata": {},
     "output_type": "display_data"
    },
    {
     "data": {
      "text/html": [
       "<pre>+--------------------------------+--------------------------------------------------+----------+</pre>"
      ],
      "text/plain": [
       "+--------------------------------+--------------------------------------------------+----------+"
      ]
     },
     "metadata": {},
     "output_type": "display_data"
    },
    {
     "data": {
      "text/html": [
       "<pre>| Parameter                      | Description                                      | Value    |</pre>"
      ],
      "text/plain": [
       "| Parameter                      | Description                                      | Value    |"
      ]
     },
     "metadata": {},
     "output_type": "display_data"
    },
    {
     "data": {
      "text/html": [
       "<pre>+--------------------------------+--------------------------------------------------+----------+</pre>"
      ],
      "text/plain": [
       "+--------------------------------+--------------------------------------------------+----------+"
      ]
     },
     "metadata": {},
     "output_type": "display_data"
    },
    {
     "data": {
      "text/html": [
       "<pre>| num_factors                    | Factor Dimension                                 | 20       |</pre>"
      ],
      "text/plain": [
       "| num_factors                    | Factor Dimension                                 | 20       |"
      ]
     },
     "metadata": {},
     "output_type": "display_data"
    },
    {
     "data": {
      "text/html": [
       "<pre>| regularization                 | L2 Regularization on Factors                     | 1e-09    |</pre>"
      ],
      "text/plain": [
       "| regularization                 | L2 Regularization on Factors                     | 1e-09    |"
      ]
     },
     "metadata": {},
     "output_type": "display_data"
    },
    {
     "data": {
      "text/html": [
       "<pre>| solver                         | Solver used for training                         | sgd      |</pre>"
      ],
      "text/plain": [
       "| solver                         | Solver used for training                         | sgd      |"
      ]
     },
     "metadata": {},
     "output_type": "display_data"
    },
    {
     "data": {
      "text/html": [
       "<pre>| linear_regularization          | L2 Regularization on Linear Coefficients         | 1e-09    |</pre>"
      ],
      "text/plain": [
       "| linear_regularization          | L2 Regularization on Linear Coefficients         | 1e-09    |"
      ]
     },
     "metadata": {},
     "output_type": "display_data"
    },
    {
     "data": {
      "text/html": [
       "<pre>| ranking_regularization         | Rank-based Regularization Weight                 | 0.25     |</pre>"
      ],
      "text/plain": [
       "| ranking_regularization         | Rank-based Regularization Weight                 | 0.25     |"
      ]
     },
     "metadata": {},
     "output_type": "display_data"
    },
    {
     "data": {
      "text/html": [
       "<pre>| max_iterations                 | Maximum Number of Iterations                     | 25       |</pre>"
      ],
      "text/plain": [
       "| max_iterations                 | Maximum Number of Iterations                     | 25       |"
      ]
     },
     "metadata": {},
     "output_type": "display_data"
    },
    {
     "data": {
      "text/html": [
       "<pre>+--------------------------------+--------------------------------------------------+----------+</pre>"
      ],
      "text/plain": [
       "+--------------------------------+--------------------------------------------------+----------+"
      ]
     },
     "metadata": {},
     "output_type": "display_data"
    },
    {
     "data": {
      "text/html": [
       "<pre>  Optimizing model using SGD; tuning step size.</pre>"
      ],
      "text/plain": [
       "  Optimizing model using SGD; tuning step size."
      ]
     },
     "metadata": {},
     "output_type": "display_data"
    },
    {
     "data": {
      "text/html": [
       "<pre>  Using 10000 / 57133 points for tuning the step size.</pre>"
      ],
      "text/plain": [
       "  Using 10000 / 57133 points for tuning the step size."
      ]
     },
     "metadata": {},
     "output_type": "display_data"
    },
    {
     "data": {
      "text/html": [
       "<pre>+---------+-------------------+------------------------------------------+</pre>"
      ],
      "text/plain": [
       "+---------+-------------------+------------------------------------------+"
      ]
     },
     "metadata": {},
     "output_type": "display_data"
    },
    {
     "data": {
      "text/html": [
       "<pre>| Attempt | Initial Step Size | Estimated Objective Value                |</pre>"
      ],
      "text/plain": [
       "| Attempt | Initial Step Size | Estimated Objective Value                |"
      ]
     },
     "metadata": {},
     "output_type": "display_data"
    },
    {
     "data": {
      "text/html": [
       "<pre>+---------+-------------------+------------------------------------------+</pre>"
      ],
      "text/plain": [
       "+---------+-------------------+------------------------------------------+"
      ]
     },
     "metadata": {},
     "output_type": "display_data"
    },
    {
     "data": {
      "text/html": [
       "<pre>| 0       | 25                | Not Viable                               |</pre>"
      ],
      "text/plain": [
       "| 0       | 25                | Not Viable                               |"
      ]
     },
     "metadata": {},
     "output_type": "display_data"
    },
    {
     "data": {
      "text/html": [
       "<pre>| 1       | 6.25              | Not Viable                               |</pre>"
      ],
      "text/plain": [
       "| 1       | 6.25              | Not Viable                               |"
      ]
     },
     "metadata": {},
     "output_type": "display_data"
    },
    {
     "data": {
      "text/html": [
       "<pre>| 2       | 1.5625            | Not Viable                               |</pre>"
      ],
      "text/plain": [
       "| 2       | 1.5625            | Not Viable                               |"
      ]
     },
     "metadata": {},
     "output_type": "display_data"
    },
    {
     "data": {
      "text/html": [
       "<pre>| 3       | 0.390625          | 0.218508                                 |</pre>"
      ],
      "text/plain": [
       "| 3       | 0.390625          | 0.218508                                 |"
      ]
     },
     "metadata": {},
     "output_type": "display_data"
    },
    {
     "data": {
      "text/html": [
       "<pre>| 4       | 0.195312          | 0.223967                                 |</pre>"
      ],
      "text/plain": [
       "| 4       | 0.195312          | 0.223967                                 |"
      ]
     },
     "metadata": {},
     "output_type": "display_data"
    },
    {
     "data": {
      "text/html": [
       "<pre>| 5       | 0.0976562         | 0.24879                                  |</pre>"
      ],
      "text/plain": [
       "| 5       | 0.0976562         | 0.24879                                  |"
      ]
     },
     "metadata": {},
     "output_type": "display_data"
    },
    {
     "data": {
      "text/html": [
       "<pre>| 6       | 0.0488281         | 0.284226                                 |</pre>"
      ],
      "text/plain": [
       "| 6       | 0.0488281         | 0.284226                                 |"
      ]
     },
     "metadata": {},
     "output_type": "display_data"
    },
    {
     "data": {
      "text/html": [
       "<pre>+---------+-------------------+------------------------------------------+</pre>"
      ],
      "text/plain": [
       "+---------+-------------------+------------------------------------------+"
      ]
     },
     "metadata": {},
     "output_type": "display_data"
    },
    {
     "data": {
      "text/html": [
       "<pre>| Final   | 0.390625          | 0.218508                                 |</pre>"
      ],
      "text/plain": [
       "| Final   | 0.390625          | 0.218508                                 |"
      ]
     },
     "metadata": {},
     "output_type": "display_data"
    },
    {
     "data": {
      "text/html": [
       "<pre>+---------+-------------------+------------------------------------------+</pre>"
      ],
      "text/plain": [
       "+---------+-------------------+------------------------------------------+"
      ]
     },
     "metadata": {},
     "output_type": "display_data"
    },
    {
     "data": {
      "text/html": [
       "<pre>Starting Optimization.</pre>"
      ],
      "text/plain": [
       "Starting Optimization."
      ]
     },
     "metadata": {},
     "output_type": "display_data"
    },
    {
     "data": {
      "text/html": [
       "<pre>+---------+--------------+-------------------+-----------------------+-------------+</pre>"
      ],
      "text/plain": [
       "+---------+--------------+-------------------+-----------------------+-------------+"
      ]
     },
     "metadata": {},
     "output_type": "display_data"
    },
    {
     "data": {
      "text/html": [
       "<pre>| Iter.   | Elapsed Time | Approx. Objective | Approx. Training RMSE | Step Size   |</pre>"
      ],
      "text/plain": [
       "| Iter.   | Elapsed Time | Approx. Objective | Approx. Training RMSE | Step Size   |"
      ]
     },
     "metadata": {},
     "output_type": "display_data"
    },
    {
     "data": {
      "text/html": [
       "<pre>+---------+--------------+-------------------+-----------------------+-------------+</pre>"
      ],
      "text/plain": [
       "+---------+--------------+-------------------+-----------------------+-------------+"
      ]
     },
     "metadata": {},
     "output_type": "display_data"
    },
    {
     "data": {
      "text/html": [
       "<pre>| Initial | 122us        | 0.405542          | 0.454751              |             |</pre>"
      ],
      "text/plain": [
       "| Initial | 122us        | 0.405542          | 0.454751              |             |"
      ]
     },
     "metadata": {},
     "output_type": "display_data"
    },
    {
     "data": {
      "text/html": [
       "<pre>+---------+--------------+-------------------+-----------------------+-------------+</pre>"
      ],
      "text/plain": [
       "+---------+--------------+-------------------+-----------------------+-------------+"
      ]
     },
     "metadata": {},
     "output_type": "display_data"
    },
    {
     "data": {
      "text/html": [
       "<pre>| 1       | 85.117ms     | 0.676417          | 0.643882              | 0.390625    |</pre>"
      ],
      "text/plain": [
       "| 1       | 85.117ms     | 0.676417          | 0.643882              | 0.390625    |"
      ]
     },
     "metadata": {},
     "output_type": "display_data"
    },
    {
     "data": {
      "text/html": [
       "<pre>| 2       | 184.847ms    | 0.484295          | 0.527479              | 0.232267    |</pre>"
      ],
      "text/plain": [
       "| 2       | 184.847ms    | 0.484295          | 0.527479              | 0.232267    |"
      ]
     },
     "metadata": {},
     "output_type": "display_data"
    },
    {
     "data": {
      "text/html": [
       "<pre>| 3       | 272.036ms    | 0.375518          | 0.441009              | 0.171364    |</pre>"
      ],
      "text/plain": [
       "| 3       | 272.036ms    | 0.375518          | 0.441009              | 0.171364    |"
      ]
     },
     "metadata": {},
     "output_type": "display_data"
    },
    {
     "data": {
      "text/html": [
       "<pre>| 4       | 358.101ms    | 0.307976          | 0.38294               | 0.116134    |</pre>"
      ],
      "text/plain": [
       "| 4       | 358.101ms    | 0.307976          | 0.38294               | 0.116134    |"
      ]
     },
     "metadata": {},
     "output_type": "display_data"
    },
    {
     "data": {
      "text/html": [
       "<pre>| 5       | 452.734ms    | 0.273212          | 0.347998              | 0.098237    |</pre>"
      ],
      "text/plain": [
       "| 5       | 452.734ms    | 0.273212          | 0.347998              | 0.098237    |"
      ]
     },
     "metadata": {},
     "output_type": "display_data"
    },
    {
     "data": {
      "text/html": [
       "<pre>| 6       | 576.476ms    | 0.248569          | 0.322504              | 0.0856819   |</pre>"
      ],
      "text/plain": [
       "| 6       | 576.476ms    | 0.248569          | 0.322504              | 0.0856819   |"
      ]
     },
     "metadata": {},
     "output_type": "display_data"
    },
    {
     "data": {
      "text/html": [
       "<pre>| 11      | 1.17s        | 0.18182           | 0.243958              | 0.0543824   |</pre>"
      ],
      "text/plain": [
       "| 11      | 1.17s        | 0.18182           | 0.243958              | 0.0543824   |"
      ]
     },
     "metadata": {},
     "output_type": "display_data"
    },
    {
     "data": {
      "text/html": [
       "<pre>| 25      | 2.76s        | 0.118285          | 0.170874              | 0.0293797   |</pre>"
      ],
      "text/plain": [
       "| 25      | 2.76s        | 0.118285          | 0.170874              | 0.0293797   |"
      ]
     },
     "metadata": {},
     "output_type": "display_data"
    },
    {
     "data": {
      "text/html": [
       "<pre>+---------+--------------+-------------------+-----------------------+-------------+</pre>"
      ],
      "text/plain": [
       "+---------+--------------+-------------------+-----------------------+-------------+"
      ]
     },
     "metadata": {},
     "output_type": "display_data"
    },
    {
     "data": {
      "text/html": [
       "<pre>Optimization Complete: Maximum number of passes through the data reached.</pre>"
      ],
      "text/plain": [
       "Optimization Complete: Maximum number of passes through the data reached."
      ]
     },
     "metadata": {},
     "output_type": "display_data"
    },
    {
     "data": {
      "text/html": [
       "<pre>Computing final objective value and training RMSE.</pre>"
      ],
      "text/plain": [
       "Computing final objective value and training RMSE."
      ]
     },
     "metadata": {},
     "output_type": "display_data"
    },
    {
     "data": {
      "text/html": [
       "<pre>       Final objective value: 0.112011</pre>"
      ],
      "text/plain": [
       "       Final objective value: 0.112011"
      ]
     },
     "metadata": {},
     "output_type": "display_data"
    },
    {
     "data": {
      "text/html": [
       "<pre>       Final training RMSE: 0.15442</pre>"
      ],
      "text/plain": [
       "       Final training RMSE: 0.15442"
      ]
     },
     "metadata": {},
     "output_type": "display_data"
    }
   ],
   "source": [
    "m = gl.ranking_factorization_recommender.create(train, 'name', 'book', target='rating', num_factors=20)"
   ]
  },
  {
   "cell_type": "markdown",
   "metadata": {},
   "source": [
    "Evaluate how well this model recommends items that were seen in the test set you created above. Hint: Check out `m.evaluate_precision_recall()`."
   ]
  },
  {
   "cell_type": "code",
   "execution_count": 17,
   "metadata": {
    "collapsed": false
   },
   "outputs": [
    {
     "data": {
      "text/html": [
       "<div style=\"max-height:1000px;max-width:1500px;overflow:auto;\"><table frame=\"box\" rules=\"cols\">\n",
       "    <tr>\n",
       "        <th style=\"padding-left: 1em; padding-right: 1em; text-align: center\">cutoff</th>\n",
       "        <th style=\"padding-left: 1em; padding-right: 1em; text-align: center\">precision</th>\n",
       "        <th style=\"padding-left: 1em; padding-right: 1em; text-align: center\">recall</th>\n",
       "    </tr>\n",
       "    <tr>\n",
       "        <td style=\"padding-left: 1em; padding-right: 1em; text-align: center; vertical-align: top\">50</td>\n",
       "        <td style=\"padding-left: 1em; padding-right: 1em; text-align: center; vertical-align: top\">0.0026582278481</td>\n",
       "        <td style=\"padding-left: 1em; padding-right: 1em; text-align: center; vertical-align: top\">0.102848101266</td>\n",
       "    </tr>\n",
       "</table>\n",
       "[1 rows x 3 columns]<br/>\n",
       "</div>"
      ],
      "text/plain": [
       "Columns:\n",
       "\tcutoff\tint\n",
       "\tprecision\tfloat\n",
       "\trecall\tfloat\n",
       "\n",
       "Rows: 1\n",
       "\n",
       "Data:\n",
       "+--------+-----------------+----------------+\n",
       "| cutoff |    precision    |     recall     |\n",
       "+--------+-----------------+----------------+\n",
       "|   50   | 0.0026582278481 | 0.102848101266 |\n",
       "+--------+-----------------+----------------+\n",
       "[1 rows x 3 columns]"
      ]
     },
     "execution_count": 17,
     "metadata": {},
     "output_type": "execute_result"
    }
   ],
   "source": [
    "m.evaluate_precision_recall(test, cutoffs=[50])['precision_recall_overall']"
   ]
  },
  {
   "cell_type": "markdown",
   "metadata": {},
   "source": [
    "Create an SFrame containing only one observation, where 'Billy Bob' has rated 'Animal Farm' with score 5.0."
   ]
  },
  {
   "cell_type": "code",
   "execution_count": 18,
   "metadata": {
    "collapsed": false
   },
   "outputs": [],
   "source": [
    "new_observation_data = gl.SFrame({'name': ['Me'], 'book': ['Animal Farm'], 'rating': [5.0]})"
   ]
  },
  {
   "cell_type": "markdown",
   "metadata": {},
   "source": [
    "Use this data when querying for recommendations."
   ]
  },
  {
   "cell_type": "code",
   "execution_count": 19,
   "metadata": {
    "collapsed": false
   },
   "outputs": [
    {
     "data": {
      "text/html": [
       "<div style=\"max-height:1000px;max-width:1500px;overflow:auto;\"><table frame=\"box\" rules=\"cols\">\n",
       "    <tr>\n",
       "        <th style=\"padding-left: 1em; padding-right: 1em; text-align: center\">name</th>\n",
       "        <th style=\"padding-left: 1em; padding-right: 1em; text-align: center\">book</th>\n",
       "        <th style=\"padding-left: 1em; padding-right: 1em; text-align: center\">score</th>\n",
       "        <th style=\"padding-left: 1em; padding-right: 1em; text-align: center\">rank</th>\n",
       "    </tr>\n",
       "    <tr>\n",
       "        <td style=\"padding-left: 1em; padding-right: 1em; text-align: center; vertical-align: top\">Me</td>\n",
       "        <td style=\"padding-left: 1em; padding-right: 1em; text-align: center; vertical-align: top\">The Da Vinci Code</td>\n",
       "        <td style=\"padding-left: 1em; padding-right: 1em; text-align: center; vertical-align: top\">4.72174966921</td>\n",
       "        <td style=\"padding-left: 1em; padding-right: 1em; text-align: center; vertical-align: top\">1</td>\n",
       "    </tr>\n",
       "    <tr>\n",
       "        <td style=\"padding-left: 1em; padding-right: 1em; text-align: center; vertical-align: top\">Me</td>\n",
       "        <td style=\"padding-left: 1em; padding-right: 1em; text-align: center; vertical-align: top\">The Secret Life of Bees</td>\n",
       "        <td style=\"padding-left: 1em; padding-right: 1em; text-align: center; vertical-align: top\">4.6367422997</td>\n",
       "        <td style=\"padding-left: 1em; padding-right: 1em; text-align: center; vertical-align: top\">2</td>\n",
       "    </tr>\n",
       "    <tr>\n",
       "        <td style=\"padding-left: 1em; padding-right: 1em; text-align: center; vertical-align: top\">Me</td>\n",
       "        <td style=\"padding-left: 1em; padding-right: 1em; text-align: center; vertical-align: top\">A Prayer for Owen Meany</td>\n",
       "        <td style=\"padding-left: 1em; padding-right: 1em; text-align: center; vertical-align: top\">4.60010815253</td>\n",
       "        <td style=\"padding-left: 1em; padding-right: 1em; text-align: center; vertical-align: top\">3</td>\n",
       "    </tr>\n",
       "    <tr>\n",
       "        <td style=\"padding-left: 1em; padding-right: 1em; text-align: center; vertical-align: top\">Me</td>\n",
       "        <td style=\"padding-left: 1em; padding-right: 1em; text-align: center; vertical-align: top\">The Five People You Meet<br>in Heaven ...</td>\n",
       "        <td style=\"padding-left: 1em; padding-right: 1em; text-align: center; vertical-align: top\">4.59598705759</td>\n",
       "        <td style=\"padding-left: 1em; padding-right: 1em; text-align: center; vertical-align: top\">4</td>\n",
       "    </tr>\n",
       "    <tr>\n",
       "        <td style=\"padding-left: 1em; padding-right: 1em; text-align: center; vertical-align: top\">Me</td>\n",
       "        <td style=\"padding-left: 1em; padding-right: 1em; text-align: center; vertical-align: top\">Me Talk Pretty One Day</td>\n",
       "        <td style=\"padding-left: 1em; padding-right: 1em; text-align: center; vertical-align: top\">4.55587265482</td>\n",
       "        <td style=\"padding-left: 1em; padding-right: 1em; text-align: center; vertical-align: top\">5</td>\n",
       "    </tr>\n",
       "    <tr>\n",
       "        <td style=\"padding-left: 1em; padding-right: 1em; text-align: center; vertical-align: top\">Me</td>\n",
       "        <td style=\"padding-left: 1em; padding-right: 1em; text-align: center; vertical-align: top\">Life of Pi</td>\n",
       "        <td style=\"padding-left: 1em; padding-right: 1em; text-align: center; vertical-align: top\">4.54568443288</td>\n",
       "        <td style=\"padding-left: 1em; padding-right: 1em; text-align: center; vertical-align: top\">6</td>\n",
       "    </tr>\n",
       "    <tr>\n",
       "        <td style=\"padding-left: 1em; padding-right: 1em; text-align: center; vertical-align: top\">Me</td>\n",
       "        <td style=\"padding-left: 1em; padding-right: 1em; text-align: center; vertical-align: top\">Bridget Jones's Diary</td>\n",
       "        <td style=\"padding-left: 1em; padding-right: 1em; text-align: center; vertical-align: top\">4.54082047035</td>\n",
       "        <td style=\"padding-left: 1em; padding-right: 1em; text-align: center; vertical-align: top\">7</td>\n",
       "    </tr>\n",
       "    <tr>\n",
       "        <td style=\"padding-left: 1em; padding-right: 1em; text-align: center; vertical-align: top\">Me</td>\n",
       "        <td style=\"padding-left: 1em; padding-right: 1em; text-align: center; vertical-align: top\">The Handmaid's Tale</td>\n",
       "        <td style=\"padding-left: 1em; padding-right: 1em; text-align: center; vertical-align: top\">4.54068297734</td>\n",
       "        <td style=\"padding-left: 1em; padding-right: 1em; text-align: center; vertical-align: top\">8</td>\n",
       "    </tr>\n",
       "    <tr>\n",
       "        <td style=\"padding-left: 1em; padding-right: 1em; text-align: center; vertical-align: top\">Me</td>\n",
       "        <td style=\"padding-left: 1em; padding-right: 1em; text-align: center; vertical-align: top\">Suzanne's Diary for<br>Nicholas ...</td>\n",
       "        <td style=\"padding-left: 1em; padding-right: 1em; text-align: center; vertical-align: top\">4.52010121038</td>\n",
       "        <td style=\"padding-left: 1em; padding-right: 1em; text-align: center; vertical-align: top\">9</td>\n",
       "    </tr>\n",
       "    <tr>\n",
       "        <td style=\"padding-left: 1em; padding-right: 1em; text-align: center; vertical-align: top\">Me</td>\n",
       "        <td style=\"padding-left: 1em; padding-right: 1em; text-align: center; vertical-align: top\">The Poisonwood Bible</td>\n",
       "        <td style=\"padding-left: 1em; padding-right: 1em; text-align: center; vertical-align: top\">4.5169126748</td>\n",
       "        <td style=\"padding-left: 1em; padding-right: 1em; text-align: center; vertical-align: top\">10</td>\n",
       "    </tr>\n",
       "</table>\n",
       "[10 rows x 4 columns]<br/>\n",
       "</div>"
      ],
      "text/plain": [
       "Columns:\n",
       "\tname\tstr\n",
       "\tbook\tstr\n",
       "\tscore\tfloat\n",
       "\trank\tint\n",
       "\n",
       "Rows: 10\n",
       "\n",
       "Data:\n",
       "+------+-------------------------------+---------------+------+\n",
       "| name |              book             |     score     | rank |\n",
       "+------+-------------------------------+---------------+------+\n",
       "|  Me  |       The Da Vinci Code       | 4.72174966921 |  1   |\n",
       "|  Me  |    The Secret Life of Bees    |  4.6367422997 |  2   |\n",
       "|  Me  |    A Prayer for Owen Meany    | 4.60010815253 |  3   |\n",
       "|  Me  | The Five People You Meet i... | 4.59598705759 |  4   |\n",
       "|  Me  |     Me Talk Pretty One Day    | 4.55587265482 |  5   |\n",
       "|  Me  |           Life of Pi          | 4.54568443288 |  6   |\n",
       "|  Me  |     Bridget Jones's Diary     | 4.54082047035 |  7   |\n",
       "|  Me  |      The Handmaid's Tale      | 4.54068297734 |  8   |\n",
       "|  Me  |  Suzanne's Diary for Nicholas | 4.52010121038 |  9   |\n",
       "|  Me  |      The Poisonwood Bible     |  4.5169126748 |  10  |\n",
       "+------+-------------------------------+---------------+------+\n",
       "[10 rows x 4 columns]"
      ]
     },
     "execution_count": 19,
     "metadata": {},
     "output_type": "execute_result"
    }
   ],
   "source": [
    "m.recommend(users=['Me'], new_observation_data=new_observation_data)"
   ]
  }
 ],
 "metadata": {
  "kernelspec": {
   "display_name": "Python 2",
   "language": "python",
   "name": "python2"
  },
  "language_info": {
   "codemirror_mode": {
    "name": "ipython",
    "version": 2
   },
   "file_extension": ".py",
   "mimetype": "text/x-python",
   "name": "python",
   "nbconvert_exporter": "python",
   "pygments_lexer": "ipython2",
   "version": "2.7.11"
  }
 },
 "nbformat": 4,
 "nbformat_minor": 0
}
