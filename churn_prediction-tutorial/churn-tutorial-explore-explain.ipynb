{
 "cells": [
  {
   "cell_type": "markdown",
   "metadata": {},
   "source": [
    "# Exploring & Explaining churn prediction models\n",
    "\n",
    "Churn prediction is the task of identifying users that are likely to stop using a service, product or website. In this tutorial, you will learn how to:\n",
    "\n",
    "#### Explore & Evaluate predictions made by the model\n",
    "* Explore predictions made by this model to gain confidence in the model.\n",
    "* Understanding why the model made the predictions that it did make.\n",
    "* Make a churn report by segmenting users based on the their reasons for churn.\n",
    "* Evaluate the model and compare it with a baseline model.\n"
   ]
  },
  {
   "cell_type": "markdown",
   "metadata": {},
   "source": [
    "### Let's get started!"
   ]
  },
  {
   "cell_type": "code",
   "execution_count": 2,
   "metadata": {
    "collapsed": false
   },
   "outputs": [
    {
     "name": "stderr",
     "output_type": "stream",
     "text": [
      "A newer version of GraphLab Create (v2.0.1) is available! Your current version is v2.0.\n",
      "\n",
      "You can use pip to upgrade the graphlab-create package. For more information see https://turi.com/products/create/upgrade.\n",
      "[INFO] graphlab.cython.cy_server: GraphLab Create v2.0 started. Logging: /tmp/graphlab_server_1468133144.log\n"
     ]
    },
    {
     "name": "stdout",
     "output_type": "stream",
     "text": [
      "This commercial license of GraphLab Create is assigned to engr@turi.com.\n"
     ]
    }
   ],
   "source": [
    "import graphlab as gl\n",
    "import datetime\n",
    "gl.canvas.set_target('ipynb') # make sure plots appear inline"
   ]
  },
  {
   "cell_type": "markdown",
   "metadata": {
    "collapsed": true
   },
   "source": [
    "###  Load previously saved data\n",
    "\n",
    "In the previous notebooks, we had saved the data & models in a binary format. Let us try and load them back."
   ]
  },
  {
   "cell_type": "code",
   "execution_count": 3,
   "metadata": {
    "collapsed": false
   },
   "outputs": [],
   "source": [
    "interactions_ts = gl.TimeSeries(\"data/user_activity_data.ts/\")\n",
    "users = gl.SFrame(\"data/users.sf/\")\n",
    "model = gl.load_model(\"data/churn_model.mdl\")"
   ]
  },
  {
   "cell_type": "code",
   "execution_count": 4,
   "metadata": {
    "collapsed": true
   },
   "outputs": [],
   "source": [
    "(train, valid) = gl.churn_predictor.random_split(interactions_ts, user_id = 'CustomerID', fraction = 0.9, seed = 12)"
   ]
  },
  {
   "cell_type": "code",
   "execution_count": 5,
   "metadata": {
    "collapsed": true
   },
   "outputs": [],
   "source": [
    "churn_period_oct =  datetime.datetime(year = 2011, month = 10, day = 1)"
   ]
  },
  {
   "cell_type": "markdown",
   "metadata": {
    "collapsed": true
   },
   "source": [
    "## Interactive view to explore the model"
   ]
  },
  {
   "cell_type": "code",
   "execution_count": 5,
   "metadata": {
    "collapsed": false
   },
   "outputs": [
    {
     "name": "stderr",
     "output_type": "stream",
     "text": [
      "[WARNING] graphlab.toolkits.churn_predictor._churn_predictor: This feature is currently in beta. Please use with caution and not in mission-critical applications. For feedback or suggestions on this feature, please e-mail feedback@turi.com.\n"
     ]
    },
    {
     "name": "stdout",
     "output_type": "stream",
     "text": [
      "PROGRESS: Making a churn forecast for the time window:\n",
      "PROGRESS: --------------------------------------------------\n",
      "PROGRESS:  Start : 2011-10-01 00:00:00\n",
      "PROGRESS:  End   : 2011-10-31 00:00:00\n",
      "PROGRESS: --------------------------------------------------\n",
      "PROGRESS: Grouping dataset by user.\n",
      "PROGRESS: Resampling grouped observation_data by time-period 1 day, 0:00:00.\n"
     ]
    },
    {
     "data": {
      "text/html": [
       "<pre>InvoiceNo is a categorical variable with too many different values (16841) and will be ignored.</pre>"
      ],
      "text/plain": [
       "InvoiceNo is a categorical variable with too many different values (16841) and will be ignored."
      ]
     },
     "metadata": {},
     "output_type": "display_data"
    },
    {
     "data": {
      "text/html": [
       "<pre>StockCode is a categorical variable with too many different values (3649) and will be ignored.</pre>"
      ],
      "text/plain": [
       "StockCode is a categorical variable with too many different values (3649) and will be ignored."
      ]
     },
     "metadata": {},
     "output_type": "display_data"
    },
    {
     "data": {
      "text/html": [
       "<pre>Description is a categorical variable with too many different values (3845) and will be ignored.</pre>"
      ],
      "text/plain": [
       "Description is a categorical variable with too many different values (3845) and will be ignored."
      ]
     },
     "metadata": {},
     "output_type": "display_data"
    },
    {
     "name": "stdout",
     "output_type": "stream",
     "text": [
      "PROGRESS: Generating features for boundary 2011-10-01 00:00:00.\n",
      "PROGRESS: Joining user_data with aggregated features.\n",
      "PROGRESS: Not enough data to make predictions for 657 user(s). \n",
      "PROGRESS: Making a churn forecast for the time window:\n",
      "PROGRESS: --------------------------------------------------\n",
      "PROGRESS:  Start : 2011-10-01 00:00:00\n",
      "PROGRESS:  End   : 2011-10-31 00:00:00\n",
      "PROGRESS: --------------------------------------------------\n",
      "PROGRESS: Grouping dataset by user.\n",
      "PROGRESS: Resampling grouped observation_data by time-period 1 day, 0:00:00.\n"
     ]
    },
    {
     "data": {
      "text/html": [
       "<pre>InvoiceNo is a categorical variable with too many different values (16841) and will be ignored.</pre>"
      ],
      "text/plain": [
       "InvoiceNo is a categorical variable with too many different values (16841) and will be ignored."
      ]
     },
     "metadata": {},
     "output_type": "display_data"
    },
    {
     "data": {
      "text/html": [
       "<pre>StockCode is a categorical variable with too many different values (3649) and will be ignored.</pre>"
      ],
      "text/plain": [
       "StockCode is a categorical variable with too many different values (3649) and will be ignored."
      ]
     },
     "metadata": {},
     "output_type": "display_data"
    },
    {
     "data": {
      "text/html": [
       "<pre>Description is a categorical variable with too many different values (3845) and will be ignored.</pre>"
      ],
      "text/plain": [
       "Description is a categorical variable with too many different values (3845) and will be ignored."
      ]
     },
     "metadata": {},
     "output_type": "display_data"
    },
    {
     "name": "stdout",
     "output_type": "stream",
     "text": [
      "PROGRESS: Generating features for boundary 2011-10-01 00:00:00.\n",
      "PROGRESS: Joining user_data with aggregated features.\n",
      "PROGRESS: Not enough data to make predictions for 66 user(s). \n",
      "PROGRESS: Making a churn forecast for the time window:\n",
      "PROGRESS: --------------------------------------------------\n",
      "PROGRESS:  Start : 2011-10-01 00:00:00\n",
      "PROGRESS:  End   : 2011-10-31 00:00:00\n",
      "PROGRESS: --------------------------------------------------\n",
      "PROGRESS: Grouping dataset by user.\n",
      "PROGRESS: Resampling grouped observation_data by time-period 1 day, 0:00:00.\n"
     ]
    },
    {
     "data": {
      "text/html": [
       "<pre>InvoiceNo is a categorical variable with too many different values (16841) and will be ignored.</pre>"
      ],
      "text/plain": [
       "InvoiceNo is a categorical variable with too many different values (16841) and will be ignored."
      ]
     },
     "metadata": {},
     "output_type": "display_data"
    },
    {
     "data": {
      "text/html": [
       "<pre>StockCode is a categorical variable with too many different values (3649) and will be ignored.</pre>"
      ],
      "text/plain": [
       "StockCode is a categorical variable with too many different values (3649) and will be ignored."
      ]
     },
     "metadata": {},
     "output_type": "display_data"
    },
    {
     "data": {
      "text/html": [
       "<pre>Description is a categorical variable with too many different values (3845) and will be ignored.</pre>"
      ],
      "text/plain": [
       "Description is a categorical variable with too many different values (3845) and will be ignored."
      ]
     },
     "metadata": {},
     "output_type": "display_data"
    },
    {
     "name": "stdout",
     "output_type": "stream",
     "text": [
      "PROGRESS: Generating features for boundary 2011-10-01 00:00:00.\n",
      "PROGRESS: Joining user_data with aggregated features.\n",
      "PROGRESS: Not enough data to make predictions for 66 user(s). \n"
     ]
    }
   ],
   "source": [
    "v = model.views.overview(train, churn_period_oct, valid, user_data=users)\n",
    "v.show()"
   ]
  },
  {
   "cell_type": "markdown",
   "metadata": {},
   "source": [
    "### What are the key features that impact churn?"
   ]
  },
  {
   "cell_type": "code",
   "execution_count": 6,
   "metadata": {
    "collapsed": false
   },
   "outputs": [],
   "source": [
    "importance = model.get_feature_importance()"
   ]
  },
  {
   "cell_type": "code",
   "execution_count": 7,
   "metadata": {
    "collapsed": false
   },
   "outputs": [
    {
     "name": "stdout",
     "output_type": "stream",
     "text": [
      "What are the top 5 factors that impact predictions?\n",
      "----------------------------------------------------\n",
      "1. Days since most recent event\n",
      "2. Sum of \"Quantity\" in the last 60 days\n",
      "3. Sum of \"Quantity\" in the last 90 days\n",
      "4. Days since the first event in the last 90 days\n",
      "5. 90 day trend in the number of events\n"
     ]
    }
   ],
   "source": [
    "print \"What are the top 5 factors that impact predictions?\"\n",
    "print \"----------------------------------------------------\"\n",
    "print '\\n'.join([\"%s. %s\" % (i+1, x) for i,x in enumerate(importance['description'][0:5])])"
   ]
  },
  {
   "cell_type": "markdown",
   "metadata": {},
   "source": [
    "### Segmenting groups of users with similar churn explanations"
   ]
  },
  {
   "cell_type": "code",
   "execution_count": 9,
   "metadata": {
    "collapsed": false
   },
   "outputs": [
    {
     "name": "stdout",
     "output_type": "stream",
     "text": [
      "PROGRESS: Making a churn forecast for the time window:\n",
      "PROGRESS: --------------------------------------------------\n",
      "PROGRESS:  Start : 2011-12-09 12:50:00\n",
      "PROGRESS:  End   : 2012-01-08 12:50:00\n",
      "PROGRESS: --------------------------------------------------\n",
      "PROGRESS: Grouping dataset by user.\n",
      "PROGRESS: Resampling grouped observation_data by time-period 1 day, 0:00:00.\n"
     ]
    },
    {
     "data": {
      "text/html": [
       "<pre>InvoiceNo is a categorical variable with too many different values (22061) and will be ignored.</pre>"
      ],
      "text/plain": [
       "InvoiceNo is a categorical variable with too many different values (22061) and will be ignored."
      ]
     },
     "metadata": {},
     "output_type": "display_data"
    },
    {
     "data": {
      "text/html": [
       "<pre>StockCode is a categorical variable with too many different values (4058) and will be ignored.</pre>"
      ],
      "text/plain": [
       "StockCode is a categorical variable with too many different values (4058) and will be ignored."
      ]
     },
     "metadata": {},
     "output_type": "display_data"
    },
    {
     "data": {
      "text/html": [
       "<pre>Description is a categorical variable with too many different values (4195) and will be ignored.</pre>"
      ],
      "text/plain": [
       "Description is a categorical variable with too many different values (4195) and will be ignored."
      ]
     },
     "metadata": {},
     "output_type": "display_data"
    },
    {
     "name": "stdout",
     "output_type": "stream",
     "text": [
      "PROGRESS: Generating features for boundary 2011-12-09 12:50:00.\n",
      "PROGRESS: Joining user_data with aggregated features.\n"
     ]
    },
    {
     "data": {
      "text/html": [
       "<div style=\"max-height:1000px;max-width:1500px;overflow:auto;\"><table frame=\"box\" rules=\"cols\">\n",
       "    <tr>\n",
       "        <th style=\"padding-left: 1em; padding-right: 1em; text-align: center\">segment_id</th>\n",
       "        <th style=\"padding-left: 1em; padding-right: 1em; text-align: center\">num_users</th>\n",
       "        <th style=\"padding-left: 1em; padding-right: 1em; text-align: center\">num_users_percentage</th>\n",
       "        <th style=\"padding-left: 1em; padding-right: 1em; text-align: center\">explanation</th>\n",
       "        <th style=\"padding-left: 1em; padding-right: 1em; text-align: center\">avg_probability</th>\n",
       "        <th style=\"padding-left: 1em; padding-right: 1em; text-align: center\">stdv_probability</th>\n",
       "    </tr>\n",
       "    <tr>\n",
       "        <td style=\"padding-left: 1em; padding-right: 1em; text-align: center; vertical-align: top\">0</td>\n",
       "        <td style=\"padding-left: 1em; padding-right: 1em; text-align: center; vertical-align: top\">633</td>\n",
       "        <td style=\"padding-left: 1em; padding-right: 1em; text-align: center; vertical-align: top\">14.5852534562</td>\n",
       "        <td style=\"padding-left: 1em; padding-right: 1em; text-align: center; vertical-align: top\">[No events in the last 90<br>days, Feature 'user_t ...</td>\n",
       "        <td style=\"padding-left: 1em; padding-right: 1em; text-align: center; vertical-align: top\">0.936356472366</td>\n",
       "        <td style=\"padding-left: 1em; padding-right: 1em; text-align: center; vertical-align: top\">0.0184749032653</td>\n",
       "    </tr>\n",
       "    <tr>\n",
       "        <td style=\"padding-left: 1em; padding-right: 1em; text-align: center; vertical-align: top\">1</td>\n",
       "        <td style=\"padding-left: 1em; padding-right: 1em; text-align: center; vertical-align: top\">465</td>\n",
       "        <td style=\"padding-left: 1em; padding-right: 1em; text-align: center; vertical-align: top\">10.7142857143</td>\n",
       "        <td style=\"padding-left: 1em; padding-right: 1em; text-align: center; vertical-align: top\">[No events in the last 90<br>days, Feature 'user_t ...</td>\n",
       "        <td style=\"padding-left: 1em; padding-right: 1em; text-align: center; vertical-align: top\">0.863619537123</td>\n",
       "        <td style=\"padding-left: 1em; padding-right: 1em; text-align: center; vertical-align: top\">0.0516703975442</td>\n",
       "    </tr>\n",
       "    <tr>\n",
       "        <td style=\"padding-left: 1em; padding-right: 1em; text-align: center; vertical-align: top\">2</td>\n",
       "        <td style=\"padding-left: 1em; padding-right: 1em; text-align: center; vertical-align: top\">391</td>\n",
       "        <td style=\"padding-left: 1em; padding-right: 1em; text-align: center; vertical-align: top\">9.00921658986</td>\n",
       "        <td style=\"padding-left: 1em; padding-right: 1em; text-align: center; vertical-align: top\">[No \"Quantity\" events in<br>the last 21 days, Sum of ...</td>\n",
       "        <td style=\"padding-left: 1em; padding-right: 1em; text-align: center; vertical-align: top\">0.560969559738</td>\n",
       "        <td style=\"padding-left: 1em; padding-right: 1em; text-align: center; vertical-align: top\">0.0684262171812</td>\n",
       "    </tr>\n",
       "    <tr>\n",
       "        <td style=\"padding-left: 1em; padding-right: 1em; text-align: center; vertical-align: top\">3</td>\n",
       "        <td style=\"padding-left: 1em; padding-right: 1em; text-align: center; vertical-align: top\">291</td>\n",
       "        <td style=\"padding-left: 1em; padding-right: 1em; text-align: center; vertical-align: top\">6.70506912442</td>\n",
       "        <td style=\"padding-left: 1em; padding-right: 1em; text-align: center; vertical-align: top\">[No events in the last 90<br>days, Feature 'user_t ...</td>\n",
       "        <td style=\"padding-left: 1em; padding-right: 1em; text-align: center; vertical-align: top\">0.942066940245</td>\n",
       "        <td style=\"padding-left: 1em; padding-right: 1em; text-align: center; vertical-align: top\">0.0277551105101</td>\n",
       "    </tr>\n",
       "    <tr>\n",
       "        <td style=\"padding-left: 1em; padding-right: 1em; text-align: center; vertical-align: top\">4</td>\n",
       "        <td style=\"padding-left: 1em; padding-right: 1em; text-align: center; vertical-align: top\">221</td>\n",
       "        <td style=\"padding-left: 1em; padding-right: 1em; text-align: center; vertical-align: top\">5.09216589862</td>\n",
       "        <td style=\"padding-left: 1em; padding-right: 1em; text-align: center; vertical-align: top\">[No events in the last 90<br>days, No events in the ...</td>\n",
       "        <td style=\"padding-left: 1em; padding-right: 1em; text-align: center; vertical-align: top\">0.640921664723</td>\n",
       "        <td style=\"padding-left: 1em; padding-right: 1em; text-align: center; vertical-align: top\">0.0258596294124</td>\n",
       "    </tr>\n",
       "    <tr>\n",
       "        <td style=\"padding-left: 1em; padding-right: 1em; text-align: center; vertical-align: top\">5</td>\n",
       "        <td style=\"padding-left: 1em; padding-right: 1em; text-align: center; vertical-align: top\">206</td>\n",
       "        <td style=\"padding-left: 1em; padding-right: 1em; text-align: center; vertical-align: top\">4.7465437788</td>\n",
       "        <td style=\"padding-left: 1em; padding-right: 1em; text-align: center; vertical-align: top\">[Sum of \"Quantity\" in the<br>last 90 days greater  ...</td>\n",
       "        <td style=\"padding-left: 1em; padding-right: 1em; text-align: center; vertical-align: top\">0.921328827883</td>\n",
       "        <td style=\"padding-left: 1em; padding-right: 1em; text-align: center; vertical-align: top\">0.0375340152673</td>\n",
       "    </tr>\n",
       "    <tr>\n",
       "        <td style=\"padding-left: 1em; padding-right: 1em; text-align: center; vertical-align: top\">7</td>\n",
       "        <td style=\"padding-left: 1em; padding-right: 1em; text-align: center; vertical-align: top\">151</td>\n",
       "        <td style=\"padding-left: 1em; padding-right: 1em; text-align: center; vertical-align: top\">3.47926267281</td>\n",
       "        <td style=\"padding-left: 1em; padding-right: 1em; text-align: center; vertical-align: top\">[Sum of \"Quantity\" is<br>less than 109.50 each ...</td>\n",
       "        <td style=\"padding-left: 1em; padding-right: 1em; text-align: center; vertical-align: top\">0.526150263501</td>\n",
       "        <td style=\"padding-left: 1em; padding-right: 1em; text-align: center; vertical-align: top\">0.0907998464538</td>\n",
       "    </tr>\n",
       "    <tr>\n",
       "        <td style=\"padding-left: 1em; padding-right: 1em; text-align: center; vertical-align: top\">6</td>\n",
       "        <td style=\"padding-left: 1em; padding-right: 1em; text-align: center; vertical-align: top\">151</td>\n",
       "        <td style=\"padding-left: 1em; padding-right: 1em; text-align: center; vertical-align: top\">3.47926267281</td>\n",
       "        <td style=\"padding-left: 1em; padding-right: 1em; text-align: center; vertical-align: top\">[Less than 48.00 days<br>since most recent event, ...</td>\n",
       "        <td style=\"padding-left: 1em; padding-right: 1em; text-align: center; vertical-align: top\">0.146823709078</td>\n",
       "        <td style=\"padding-left: 1em; padding-right: 1em; text-align: center; vertical-align: top\">0.0918502770671</td>\n",
       "    </tr>\n",
       "    <tr>\n",
       "        <td style=\"padding-left: 1em; padding-right: 1em; text-align: center; vertical-align: top\">8</td>\n",
       "        <td style=\"padding-left: 1em; padding-right: 1em; text-align: center; vertical-align: top\">130</td>\n",
       "        <td style=\"padding-left: 1em; padding-right: 1em; text-align: center; vertical-align: top\">2.99539170507</td>\n",
       "        <td style=\"padding-left: 1em; padding-right: 1em; text-align: center; vertical-align: top\">[No events in the last 90<br>days, No days with an ...</td>\n",
       "        <td style=\"padding-left: 1em; padding-right: 1em; text-align: center; vertical-align: top\">0.757004905206</td>\n",
       "        <td style=\"padding-left: 1em; padding-right: 1em; text-align: center; vertical-align: top\">0.0345380212176</td>\n",
       "    </tr>\n",
       "    <tr>\n",
       "        <td style=\"padding-left: 1em; padding-right: 1em; text-align: center; vertical-align: top\">9</td>\n",
       "        <td style=\"padding-left: 1em; padding-right: 1em; text-align: center; vertical-align: top\">128</td>\n",
       "        <td style=\"padding-left: 1em; padding-right: 1em; text-align: center; vertical-align: top\">2.94930875576</td>\n",
       "        <td style=\"padding-left: 1em; padding-right: 1em; text-align: center; vertical-align: top\">[Sum of \"Quantity\" is<br>greater than (or equal ...</td>\n",
       "        <td style=\"padding-left: 1em; padding-right: 1em; text-align: center; vertical-align: top\">0.365221123851</td>\n",
       "        <td style=\"padding-left: 1em; padding-right: 1em; text-align: center; vertical-align: top\">0.169689745667</td>\n",
       "    </tr>\n",
       "</table>\n",
       "<table frame=\"box\" rules=\"cols\">\n",
       "    <tr>\n",
       "        <th style=\"padding-left: 1em; padding-right: 1em; text-align: center\">users</th>\n",
       "    </tr>\n",
       "    <tr>\n",
       "        <td style=\"padding-left: 1em; padding-right: 1em; text-align: center; vertical-align: top\">[12346, 12350, 12353,<br>12355, 12361, 12373, ...</td>\n",
       "    </tr>\n",
       "    <tr>\n",
       "        <td style=\"padding-left: 1em; padding-right: 1em; text-align: center; vertical-align: top\">[12363, 12365, 12410,<br>12414, 12418, 12422, ...</td>\n",
       "    </tr>\n",
       "    <tr>\n",
       "        <td style=\"padding-left: 1em; padding-right: 1em; text-align: center; vertical-align: top\">[12370, 12372, 12393,<br>12407, 12408, 12412, ...</td>\n",
       "    </tr>\n",
       "    <tr>\n",
       "        <td style=\"padding-left: 1em; padding-right: 1em; text-align: center; vertical-align: top\">[12367, 12375, 12403,<br>12430, 12442, 12454, ...</td>\n",
       "    </tr>\n",
       "    <tr>\n",
       "        <td style=\"padding-left: 1em; padding-right: 1em; text-align: center; vertical-align: top\">[12378, 12383, 12399,<br>12405, 12453, 12502, ...</td>\n",
       "    </tr>\n",
       "    <tr>\n",
       "        <td style=\"padding-left: 1em; padding-right: 1em; text-align: center; vertical-align: top\">[12374, 12390, 12420,<br>12425, 12427, 12435, ...</td>\n",
       "    </tr>\n",
       "    <tr>\n",
       "        <td style=\"padding-left: 1em; padding-right: 1em; text-align: center; vertical-align: top\">[12356, 12409, 15312,<br>13815, 15329, 13824, ...</td>\n",
       "    </tr>\n",
       "    <tr>\n",
       "        <td style=\"padding-left: 1em; padding-right: 1em; text-align: center; vertical-align: top\">[12362, 12437, 12471,<br>12474, 12476, 12490, ...</td>\n",
       "    </tr>\n",
       "    <tr>\n",
       "        <td style=\"padding-left: 1em; padding-right: 1em; text-align: center; vertical-align: top\">[12354, 12377, 12501,<br>16795, 15353, 15415, ...</td>\n",
       "    </tr>\n",
       "    <tr>\n",
       "        <td style=\"padding-left: 1em; padding-right: 1em; text-align: center; vertical-align: top\">[12381, 16779, 16790,<br>15351, 13854, 16814, ...</td>\n",
       "    </tr>\n",
       "</table>\n",
       "[79 rows x 7 columns]<br/>Note: Only the head of the SFrame is printed.<br/>You can use print_rows(num_rows=m, num_columns=n) to print more rows and columns.\n",
       "</div>"
      ],
      "text/plain": [
       "Columns:\n",
       "\tsegment_id\tstr\n",
       "\tnum_users\tint\n",
       "\tnum_users_percentage\tfloat\n",
       "\texplanation\tlist\n",
       "\tavg_probability\tfloat\n",
       "\tstdv_probability\tfloat\n",
       "\tusers\tlist\n",
       "\n",
       "Rows: 79\n",
       "\n",
       "Data:\n",
       "+------------+-----------+----------------------+-------------------------------+\n",
       "| segment_id | num_users | num_users_percentage |          explanation          |\n",
       "+------------+-----------+----------------------+-------------------------------+\n",
       "|     0      |    633    |    14.5852534562     | [No events in the last 90 ... |\n",
       "|     1      |    465    |    10.7142857143     | [No events in the last 90 ... |\n",
       "|     2      |    391    |    9.00921658986     | [No \"Quantity\" events in t... |\n",
       "|     3      |    291    |    6.70506912442     | [No events in the last 90 ... |\n",
       "|     4      |    221    |    5.09216589862     | [No events in the last 90 ... |\n",
       "|     5      |    206    |     4.7465437788     | [Sum of \"Quantity\" in the ... |\n",
       "|     7      |    151    |    3.47926267281     | [Sum of \"Quantity\" is less... |\n",
       "|     6      |    151    |    3.47926267281     | [Less than 48.00 days sinc... |\n",
       "|     8      |    130    |    2.99539170507     | [No events in the last 90 ... |\n",
       "|     9      |    128    |    2.94930875576     | [Sum of \"Quantity\" is grea... |\n",
       "+------------+-----------+----------------------+-------------------------------+\n",
       "+-----------------+------------------+-------------------------------+\n",
       "| avg_probability | stdv_probability |             users             |\n",
       "+-----------------+------------------+-------------------------------+\n",
       "|  0.936356472366 | 0.0184749032653  | [12346, 12350, 12353, 1235... |\n",
       "|  0.863619537123 | 0.0516703975442  | [12363, 12365, 12410, 1241... |\n",
       "|  0.560969559738 | 0.0684262171812  | [12370, 12372, 12393, 1240... |\n",
       "|  0.942066940245 | 0.0277551105101  | [12367, 12375, 12403, 1243... |\n",
       "|  0.640921664723 | 0.0258596294124  | [12378, 12383, 12399, 1240... |\n",
       "|  0.921328827883 | 0.0375340152673  | [12374, 12390, 12420, 1242... |\n",
       "|  0.526150263501 | 0.0907998464538  | [12356, 12409, 15312, 1381... |\n",
       "|  0.146823709078 | 0.0918502770671  | [12362, 12437, 12471, 1247... |\n",
       "|  0.757004905206 | 0.0345380212176  | [12354, 12377, 12501, 1679... |\n",
       "|  0.365221123851 |  0.169689745667  | [12381, 16779, 16790, 1535... |\n",
       "+-----------------+------------------+-------------------------------+\n",
       "[79 rows x 7 columns]\n",
       "Note: Only the head of the SFrame is printed.\n",
       "You can use print_rows(num_rows=m, num_columns=n) to print more rows and columns."
      ]
     },
     "execution_count": 9,
     "metadata": {},
     "output_type": "execute_result"
    }
   ],
   "source": [
    "report = model.get_churn_report(interactions_ts, user_data=users)\n",
    "report"
   ]
  },
  {
   "cell_type": "code",
   "execution_count": 10,
   "metadata": {
    "collapsed": false
   },
   "outputs": [
    {
     "data": {
      "application/javascript": [
       "$(\"head\").append($(\"<link/>\").attr({\n",
       "  rel:  \"stylesheet\",\n",
       "  type: \"text/css\",\n",
       "  href: \"//cdnjs.cloudflare.com/ajax/libs/font-awesome/4.1.0/css/font-awesome.min.css\"\n",
       "}));\n",
       "$(\"head\").append($(\"<link/>\").attr({\n",
       "  rel:  \"stylesheet\",\n",
       "  type: \"text/css\",\n",
       "  href: \"https://static.turi.com/products/graphlab-create/2.0/canvas/css/canvas.css\"\n",
       "}));\n",
       "\n",
       "            (function(){\n",
       "\n",
       "                var e = null;\n",
       "                if (typeof element == 'undefined') {\n",
       "                    var scripts = document.getElementsByTagName('script');\n",
       "                    var thisScriptTag = scripts[scripts.length-1];\n",
       "                    var parentDiv = thisScriptTag.parentNode;\n",
       "                    e = document.createElement('div');\n",
       "                    parentDiv.appendChild(e);\n",
       "                } else {\n",
       "                    e = element[0];\n",
       "                }\n",
       "\n",
       "                if (typeof requirejs !== 'undefined') {\n",
       "                    // disable load timeout; ipython_app.js is large and can take a while to load.\n",
       "                    requirejs.config({waitSeconds: 0});\n",
       "                }\n",
       "\n",
       "                require(['https://static.turi.com/products/graphlab-create/2.0/canvas/js/ipython_app.js'], function(IPythonApp){\n",
       "                    var app = new IPythonApp();\n",
       "                    app.attachView('sarray','Numeric', {\"ipython\": true, \"sketch\": {\"std\": 105.895977353005, \"complete\": true, \"min\": 1.0, \"max\": 633.0, \"quantile\": [1.0, 1.0, 1.0, 1.0, 1.0, 1.0, 1.0, 1.0, 1.0, 1.0, 1.0, 2.0, 2.0, 2.0, 2.0, 2.0, 2.0, 2.0, 2.0, 2.0, 2.0, 3.0, 3.0, 3.0, 3.0, 3.0, 4.0, 4.0, 4.0, 4.0, 4.0, 5.0, 5.0, 6.0, 6.0, 6.0, 7.0, 7.0, 7.0, 7.0, 8.0, 8.0, 8.0, 8.0, 8.0, 10.0, 10.0, 10.0, 10.0, 11.0, 12.0, 12.0, 14.0, 14.0, 15.0, 16.0, 16.0, 17.0, 17.0, 20.0, 24.0, 25.0, 25.0, 27.0, 29.0, 30.0, 35.0, 35.0, 39.0, 42.0, 42.0, 47.0, 47.0, 51.0, 52.0, 53.0, 54.0, 54.0, 54.0, 60.0, 70.0, 70.0, 79.0, 96.0, 122.0, 126.0, 126.0, 126.0, 128.0, 130.0, 151.0, 151.0, 151.0, 206.0, 221.0, 291.0, 291.0, 391.0, 465.0, 633.0, 633.0], \"median\": 12.0, \"numeric\": true, \"num_unique\": 44, \"num_undefined\": 0, \"var\": 11213.958019548147, \"progress\": 1.0, \"size\": 79, \"frequent_items\": {\"128\": {\"frequency\": 1, \"value\": 128}, \"1\": {\"frequency\": 8, \"value\": 1}, \"130\": {\"frequency\": 1, \"value\": 130}, \"3\": {\"frequency\": 4, \"value\": 3}, \"4\": {\"frequency\": 4, \"value\": 4}, \"5\": {\"frequency\": 2, \"value\": 5}, \"6\": {\"frequency\": 2, \"value\": 6}, \"391\": {\"frequency\": 1, \"value\": 391}, \"8\": {\"frequency\": 4, \"value\": 8}, \"10\": {\"frequency\": 3, \"value\": 10}, \"11\": {\"frequency\": 1, \"value\": 11}, \"12\": {\"frequency\": 2, \"value\": 12}, \"2\": {\"frequency\": 8, \"value\": 2}, \"14\": {\"frequency\": 1, \"value\": 14}, \"15\": {\"frequency\": 1, \"value\": 15}, \"16\": {\"frequency\": 2, \"value\": 16}, \"17\": {\"frequency\": 1, \"value\": 17}, \"20\": {\"frequency\": 1, \"value\": 20}, \"151\": {\"frequency\": 2, \"value\": 151}, \"24\": {\"frequency\": 1, \"value\": 24}, \"25\": {\"frequency\": 1, \"value\": 25}, \"27\": {\"frequency\": 1, \"value\": 27}, \"29\": {\"frequency\": 1, \"value\": 29}, \"30\": {\"frequency\": 1, \"value\": 30}, \"291\": {\"frequency\": 1, \"value\": 291}, \"39\": {\"frequency\": 1, \"value\": 39}, \"42\": {\"frequency\": 2, \"value\": 42}, \"7\": {\"frequency\": 3, \"value\": 7}, \"47\": {\"frequency\": 1, \"value\": 47}, \"51\": {\"frequency\": 1, \"value\": 51}, \"52\": {\"frequency\": 1, \"value\": 52}, \"53\": {\"frequency\": 1, \"value\": 53}, \"54\": {\"frequency\": 2, \"value\": 54}, \"60\": {\"frequency\": 1, \"value\": 60}, \"70\": {\"frequency\": 1, \"value\": 70}, \"206\": {\"frequency\": 1, \"value\": 206}, \"79\": {\"frequency\": 1, \"value\": 79}, \"465\": {\"frequency\": 1, \"value\": 465}, \"35\": {\"frequency\": 1, \"value\": 35}, \"221\": {\"frequency\": 1, \"value\": 221}, \"96\": {\"frequency\": 1, \"value\": 96}, \"633\": {\"frequency\": 1, \"value\": 633}, \"122\": {\"frequency\": 1, \"value\": 122}, \"126\": {\"frequency\": 2, \"value\": 126}}, \"mean\": 54.93670886075949}, \"selected_variable\": {\"name\": [\"<SArray>\"], \"dtype\": \"int\", \"view_component\": \"Numeric\", \"view_file\": \"sarray\", \"descriptives\": {\"rows\": 79}, \"type\": \"SArray\", \"view_components\": [\"Numeric\", \"Categorical\"]}, \"histogram\": {\"progress\": 1.0, \"histogram\": {\"max\": 640.3919999999999, \"bins\": [57, 9, 7, 1, 1, 1, 0, 1, 1, 0, 0, 1], \"min\": -4.728000000000009}, \"min\": 1, \"complete\": 1, \"max\": 633}}, e);\n",
       "                });\n",
       "            })();\n",
       "        "
      ]
     },
     "metadata": {},
     "output_type": "display_data"
    }
   ],
   "source": [
    "report['num_users'].show()"
   ]
  },
  {
   "cell_type": "markdown",
   "metadata": {},
   "source": [
    "### What does a segment look like?"
   ]
  },
  {
   "cell_type": "code",
   "execution_count": 11,
   "metadata": {
    "collapsed": false
   },
   "outputs": [],
   "source": [
    "segment = report[report['segment_id'] == '2'][0]"
   ]
  },
  {
   "cell_type": "code",
   "execution_count": 14,
   "metadata": {
    "collapsed": false
   },
   "outputs": [
    {
     "name": "stdout",
     "output_type": "stream",
     "text": [
      "\n",
      "Segment 2\n",
      "---------------------------------------\n",
      "Segment size      : 9.01 % of users\n",
      "Churn probability : 0.560969559738\n",
      "\n",
      "Characteristics of users in segment 2?\n",
      "-----------------------------------------------\n",
      "1. No \"Quantity\" events in the last 21 days\n",
      "2. Sum of \"Quantity\" is greater than (or equal to) 109.50 each day in the last 90 days\n",
      "3. Feature 'user_type' is 'extra-heavy'\n",
      "4. Less than 2.50 days with an event in the last 90 days\n",
      "5. Maximum events in a day the last 90 days less than 46.50\n",
      "6. No \"UnitPrice\" events in the last 14 days\n"
     ]
    }
   ],
   "source": [
    "print \"\"\n",
    "print \"Segment 2\"\n",
    "print \"---------------------------------------\"\n",
    "print 'Segment size      : %.2f %% of users' % segment[\"num_users_percentage\"]\n",
    "print 'Churn probability : %s' % segment[\"avg_probability\"]\n",
    "print \"\"\n",
    "print \"Characteristics of users in segment 2?\"\n",
    "print \"-----------------------------------------------\"\n",
    "print \"\\n\".join(['%s. %s' % (i + 1, x) for i, x in enumerate(segment[\"explanation\"])])"
   ]
  },
  {
   "cell_type": "markdown",
   "metadata": {
    "collapsed": false
   },
   "source": [
    "### Understanding individual predictions: Why did the model make a prediction?"
   ]
  },
  {
   "cell_type": "code",
   "execution_count": 15,
   "metadata": {
    "collapsed": false
   },
   "outputs": [
    {
     "data": {
      "text/html": [
       "<div style=\"max-height:1000px;max-width:1500px;overflow:auto;\"><table frame=\"box\" rules=\"cols\">\n",
       "    <tr>\n",
       "        <th style=\"padding-left: 1em; padding-right: 1em; text-align: center\">InvoiceDate</th>\n",
       "        <th style=\"padding-left: 1em; padding-right: 1em; text-align: center\">InvoiceNo</th>\n",
       "        <th style=\"padding-left: 1em; padding-right: 1em; text-align: center\">StockCode</th>\n",
       "        <th style=\"padding-left: 1em; padding-right: 1em; text-align: center\">Description</th>\n",
       "        <th style=\"padding-left: 1em; padding-right: 1em; text-align: center\">Quantity</th>\n",
       "        <th style=\"padding-left: 1em; padding-right: 1em; text-align: center\">UnitPrice</th>\n",
       "        <th style=\"padding-left: 1em; padding-right: 1em; text-align: center\">CustomerID</th>\n",
       "    </tr>\n",
       "    <tr>\n",
       "        <td style=\"padding-left: 1em; padding-right: 1em; text-align: center; vertical-align: top\">2011-06-28 15:47:00</td>\n",
       "        <td style=\"padding-left: 1em; padding-right: 1em; text-align: center; vertical-align: top\">558372</td>\n",
       "        <td style=\"padding-left: 1em; padding-right: 1em; text-align: center; vertical-align: top\">22847</td>\n",
       "        <td style=\"padding-left: 1em; padding-right: 1em; text-align: center; vertical-align: top\">BREAD BIN DINER STYLE<br>IVORY ...</td>\n",
       "        <td style=\"padding-left: 1em; padding-right: 1em; text-align: center; vertical-align: top\">2</td>\n",
       "        <td style=\"padding-left: 1em; padding-right: 1em; text-align: center; vertical-align: top\">16.95</td>\n",
       "        <td style=\"padding-left: 1em; padding-right: 1em; text-align: center; vertical-align: top\">16200</td>\n",
       "    </tr>\n",
       "    <tr>\n",
       "        <td style=\"padding-left: 1em; padding-right: 1em; text-align: center; vertical-align: top\">2011-06-28 15:47:00</td>\n",
       "        <td style=\"padding-left: 1em; padding-right: 1em; text-align: center; vertical-align: top\">558372</td>\n",
       "        <td style=\"padding-left: 1em; padding-right: 1em; text-align: center; vertical-align: top\">23287</td>\n",
       "        <td style=\"padding-left: 1em; padding-right: 1em; text-align: center; vertical-align: top\">RED VINTAGE SPOT BEAKER</td>\n",
       "        <td style=\"padding-left: 1em; padding-right: 1em; text-align: center; vertical-align: top\">4</td>\n",
       "        <td style=\"padding-left: 1em; padding-right: 1em; text-align: center; vertical-align: top\">0.85</td>\n",
       "        <td style=\"padding-left: 1em; padding-right: 1em; text-align: center; vertical-align: top\">16200</td>\n",
       "    </tr>\n",
       "    <tr>\n",
       "        <td style=\"padding-left: 1em; padding-right: 1em; text-align: center; vertical-align: top\">2011-06-28 15:47:00</td>\n",
       "        <td style=\"padding-left: 1em; padding-right: 1em; text-align: center; vertical-align: top\">558372</td>\n",
       "        <td style=\"padding-left: 1em; padding-right: 1em; text-align: center; vertical-align: top\">23288</td>\n",
       "        <td style=\"padding-left: 1em; padding-right: 1em; text-align: center; vertical-align: top\">GREEN VINTAGE SPOT BEAKER</td>\n",
       "        <td style=\"padding-left: 1em; padding-right: 1em; text-align: center; vertical-align: top\">4</td>\n",
       "        <td style=\"padding-left: 1em; padding-right: 1em; text-align: center; vertical-align: top\">0.85</td>\n",
       "        <td style=\"padding-left: 1em; padding-right: 1em; text-align: center; vertical-align: top\">16200</td>\n",
       "    </tr>\n",
       "    <tr>\n",
       "        <td style=\"padding-left: 1em; padding-right: 1em; text-align: center; vertical-align: top\">2011-06-28 15:47:00</td>\n",
       "        <td style=\"padding-left: 1em; padding-right: 1em; text-align: center; vertical-align: top\">558372</td>\n",
       "        <td style=\"padding-left: 1em; padding-right: 1em; text-align: center; vertical-align: top\">23285</td>\n",
       "        <td style=\"padding-left: 1em; padding-right: 1em; text-align: center; vertical-align: top\">PINK VINTAGE SPOT BEAKER</td>\n",
       "        <td style=\"padding-left: 1em; padding-right: 1em; text-align: center; vertical-align: top\">4</td>\n",
       "        <td style=\"padding-left: 1em; padding-right: 1em; text-align: center; vertical-align: top\">0.85</td>\n",
       "        <td style=\"padding-left: 1em; padding-right: 1em; text-align: center; vertical-align: top\">16200</td>\n",
       "    </tr>\n",
       "    <tr>\n",
       "        <td style=\"padding-left: 1em; padding-right: 1em; text-align: center; vertical-align: top\">2011-06-28 15:47:00</td>\n",
       "        <td style=\"padding-left: 1em; padding-right: 1em; text-align: center; vertical-align: top\">558372</td>\n",
       "        <td style=\"padding-left: 1em; padding-right: 1em; text-align: center; vertical-align: top\">23286</td>\n",
       "        <td style=\"padding-left: 1em; padding-right: 1em; text-align: center; vertical-align: top\">BLUE VINTAGE SPOT BEAKER</td>\n",
       "        <td style=\"padding-left: 1em; padding-right: 1em; text-align: center; vertical-align: top\">4</td>\n",
       "        <td style=\"padding-left: 1em; padding-right: 1em; text-align: center; vertical-align: top\">0.85</td>\n",
       "        <td style=\"padding-left: 1em; padding-right: 1em; text-align: center; vertical-align: top\">16200</td>\n",
       "    </tr>\n",
       "    <tr>\n",
       "        <td style=\"padding-left: 1em; padding-right: 1em; text-align: center; vertical-align: top\">2011-06-28 15:47:00</td>\n",
       "        <td style=\"padding-left: 1em; padding-right: 1em; text-align: center; vertical-align: top\">558372</td>\n",
       "        <td style=\"padding-left: 1em; padding-right: 1em; text-align: center; vertical-align: top\">23175</td>\n",
       "        <td style=\"padding-left: 1em; padding-right: 1em; text-align: center; vertical-align: top\">REGENCY MILK JUG PINK</td>\n",
       "        <td style=\"padding-left: 1em; padding-right: 1em; text-align: center; vertical-align: top\">2</td>\n",
       "        <td style=\"padding-left: 1em; padding-right: 1em; text-align: center; vertical-align: top\">3.25</td>\n",
       "        <td style=\"padding-left: 1em; padding-right: 1em; text-align: center; vertical-align: top\">16200</td>\n",
       "    </tr>\n",
       "    <tr>\n",
       "        <td style=\"padding-left: 1em; padding-right: 1em; text-align: center; vertical-align: top\">2011-06-28 15:47:00</td>\n",
       "        <td style=\"padding-left: 1em; padding-right: 1em; text-align: center; vertical-align: top\">558372</td>\n",
       "        <td style=\"padding-left: 1em; padding-right: 1em; text-align: center; vertical-align: top\">23322</td>\n",
       "        <td style=\"padding-left: 1em; padding-right: 1em; text-align: center; vertical-align: top\">LARGE WHITE HEART OF<br>WICKER ...</td>\n",
       "        <td style=\"padding-left: 1em; padding-right: 1em; text-align: center; vertical-align: top\">3</td>\n",
       "        <td style=\"padding-left: 1em; padding-right: 1em; text-align: center; vertical-align: top\">2.95</td>\n",
       "        <td style=\"padding-left: 1em; padding-right: 1em; text-align: center; vertical-align: top\">16200</td>\n",
       "    </tr>\n",
       "    <tr>\n",
       "        <td style=\"padding-left: 1em; padding-right: 1em; text-align: center; vertical-align: top\">2011-06-28 15:47:00</td>\n",
       "        <td style=\"padding-left: 1em; padding-right: 1em; text-align: center; vertical-align: top\">558372</td>\n",
       "        <td style=\"padding-left: 1em; padding-right: 1em; text-align: center; vertical-align: top\">22469</td>\n",
       "        <td style=\"padding-left: 1em; padding-right: 1em; text-align: center; vertical-align: top\">HEART OF WICKER SMALL</td>\n",
       "        <td style=\"padding-left: 1em; padding-right: 1em; text-align: center; vertical-align: top\">3</td>\n",
       "        <td style=\"padding-left: 1em; padding-right: 1em; text-align: center; vertical-align: top\">1.65</td>\n",
       "        <td style=\"padding-left: 1em; padding-right: 1em; text-align: center; vertical-align: top\">16200</td>\n",
       "    </tr>\n",
       "    <tr>\n",
       "        <td style=\"padding-left: 1em; padding-right: 1em; text-align: center; vertical-align: top\">2011-06-28 15:47:00</td>\n",
       "        <td style=\"padding-left: 1em; padding-right: 1em; text-align: center; vertical-align: top\">558372</td>\n",
       "        <td style=\"padding-left: 1em; padding-right: 1em; text-align: center; vertical-align: top\">23307</td>\n",
       "        <td style=\"padding-left: 1em; padding-right: 1em; text-align: center; vertical-align: top\">SET OF 60 PANTRY DESIGN<br>CAKE CASES ...</td>\n",
       "        <td style=\"padding-left: 1em; padding-right: 1em; text-align: center; vertical-align: top\">4</td>\n",
       "        <td style=\"padding-left: 1em; padding-right: 1em; text-align: center; vertical-align: top\">0.55</td>\n",
       "        <td style=\"padding-left: 1em; padding-right: 1em; text-align: center; vertical-align: top\">16200</td>\n",
       "    </tr>\n",
       "    <tr>\n",
       "        <td style=\"padding-left: 1em; padding-right: 1em; text-align: center; vertical-align: top\">2011-06-28 15:47:00</td>\n",
       "        <td style=\"padding-left: 1em; padding-right: 1em; text-align: center; vertical-align: top\">558372</td>\n",
       "        <td style=\"padding-left: 1em; padding-right: 1em; text-align: center; vertical-align: top\">22082</td>\n",
       "        <td style=\"padding-left: 1em; padding-right: 1em; text-align: center; vertical-align: top\">RIBBON REEL STRIPES<br>DESIGN ...</td>\n",
       "        <td style=\"padding-left: 1em; padding-right: 1em; text-align: center; vertical-align: top\">1</td>\n",
       "        <td style=\"padding-left: 1em; padding-right: 1em; text-align: center; vertical-align: top\">1.65</td>\n",
       "        <td style=\"padding-left: 1em; padding-right: 1em; text-align: center; vertical-align: top\">16200</td>\n",
       "    </tr>\n",
       "</table>\n",
       "[179 rows x 7 columns]<br/>Note: Only the head of the TimeSeries is printed.<br/>You can use print_rows(num_rows=m, num_columns=n) to print more rows and columns.\n",
       "</div>"
      ],
      "text/plain": [
       "Columns:\n",
       "\tInvoiceDate\tdatetime (index column)\n",
       "\tInvoiceNo\tstr\n",
       "\tStockCode\tstr\n",
       "\tDescription\tstr\n",
       "\tQuantity\tint\n",
       "\tUnitPrice\tfloat\n",
       "\tCustomerID\tstr\n",
       "\n",
       "Rows: 179\n",
       "\n",
       "Data:\n",
       "+---------------------+-----------+-----------+-------------------------------+\n",
       "|     InvoiceDate     | InvoiceNo | StockCode |          Description          |\n",
       "+---------------------+-----------+-----------+-------------------------------+\n",
       "| 2011-06-28 15:47:00 |   558372  |   22847   |  BREAD BIN DINER STYLE IVORY  |\n",
       "| 2011-06-28 15:47:00 |   558372  |   23287   |    RED VINTAGE SPOT BEAKER    |\n",
       "| 2011-06-28 15:47:00 |   558372  |   23288   |   GREEN VINTAGE SPOT BEAKER   |\n",
       "| 2011-06-28 15:47:00 |   558372  |   23285   |    PINK VINTAGE SPOT BEAKER   |\n",
       "| 2011-06-28 15:47:00 |   558372  |   23286   |    BLUE VINTAGE SPOT BEAKER   |\n",
       "| 2011-06-28 15:47:00 |   558372  |   23175   |     REGENCY MILK JUG PINK     |\n",
       "| 2011-06-28 15:47:00 |   558372  |   23322   |  LARGE WHITE HEART OF WICKER  |\n",
       "| 2011-06-28 15:47:00 |   558372  |   22469   |     HEART OF WICKER SMALL     |\n",
       "| 2011-06-28 15:47:00 |   558372  |   23307   | SET OF 60 PANTRY DESIGN CA... |\n",
       "| 2011-06-28 15:47:00 |   558372  |   22082   |   RIBBON REEL STRIPES DESIGN  |\n",
       "+---------------------+-----------+-----------+-------------------------------+\n",
       "+----------+-----------+------------+\n",
       "| Quantity | UnitPrice | CustomerID |\n",
       "+----------+-----------+------------+\n",
       "|    2     |   16.95   |   16200    |\n",
       "|    4     |    0.85   |   16200    |\n",
       "|    4     |    0.85   |   16200    |\n",
       "|    4     |    0.85   |   16200    |\n",
       "|    4     |    0.85   |   16200    |\n",
       "|    2     |    3.25   |   16200    |\n",
       "|    3     |    2.95   |   16200    |\n",
       "|    3     |    1.65   |   16200    |\n",
       "|    4     |    0.55   |   16200    |\n",
       "|    1     |    1.65   |   16200    |\n",
       "+----------+-----------+------------+\n",
       "[179 rows x 7 columns]\n",
       "Note: Only the head of the TimeSeries is printed.\n",
       "You can use print_rows(num_rows=m, num_columns=n) to print more rows and columns."
      ]
     },
     "execution_count": 15,
     "metadata": {},
     "output_type": "execute_result"
    }
   ],
   "source": [
    "particular_user = valid[valid['CustomerID'] == '16200']\n",
    "particular_user"
   ]
  },
  {
   "cell_type": "code",
   "execution_count": 16,
   "metadata": {
    "collapsed": false
   },
   "outputs": [
    {
     "name": "stdout",
     "output_type": "stream",
     "text": [
      "PROGRESS: Making a churn forecast for the time window:\n",
      "PROGRESS: --------------------------------------------------\n",
      "PROGRESS:  Start : 2011-12-05 14:40:00\n",
      "PROGRESS:  End   : 2012-01-04 14:40:00\n",
      "PROGRESS: --------------------------------------------------\n",
      "PROGRESS: Grouping dataset by user.\n",
      "PROGRESS: Resampling grouped observation_data by time-period 1 day, 0:00:00.\n"
     ]
    },
    {
     "data": {
      "text/html": [
       "<pre>InvoiceNo is a categorical variable with too many different values (22061) and will be ignored.</pre>"
      ],
      "text/plain": [
       "InvoiceNo is a categorical variable with too many different values (22061) and will be ignored."
      ]
     },
     "metadata": {},
     "output_type": "display_data"
    },
    {
     "data": {
      "text/html": [
       "<pre>StockCode is a categorical variable with too many different values (4058) and will be ignored.</pre>"
      ],
      "text/plain": [
       "StockCode is a categorical variable with too many different values (4058) and will be ignored."
      ]
     },
     "metadata": {},
     "output_type": "display_data"
    },
    {
     "name": "stdout",
     "output_type": "stream",
     "text": [
      "PROGRESS: Generating features for boundary 2011-12-05 14:40:00.\n"
     ]
    },
    {
     "data": {
      "text/html": [
       "<pre>Description is a categorical variable with too many different values (4195) and will be ignored.</pre>"
      ],
      "text/plain": [
       "Description is a categorical variable with too many different values (4195) and will be ignored."
      ]
     },
     "metadata": {},
     "output_type": "display_data"
    },
    {
     "name": "stdout",
     "output_type": "stream",
     "text": [
      "PROGRESS: Joining user_data with aggregated features.\n"
     ]
    }
   ],
   "source": [
    "explanations = model.explain(particular_user, user_data=users)"
   ]
  },
  {
   "cell_type": "code",
   "execution_count": 17,
   "metadata": {
    "collapsed": false
   },
   "outputs": [
    {
     "name": "stdout",
     "output_type": "stream",
     "text": [
      "\n",
      "Model explanations\n",
      "---------------------------------------\n",
      "Customer ID       : ['16200']\n",
      "Churn probability : [0.44427892565727234]\n",
      "\n",
      "Why did the model make this prediction?\n",
      "---------------------------------------\n",
      "1. Greater than (or equal to) 89.50 events in the last 60 days\n",
      "2. Less than 187.50 days since most recent event\n",
      "3. Maximum events in a day the last 90 days greater than (or equal to) 46.50\n",
      "4. Less than 2.50 days with an event in the last 90 days\n",
      "5. Feature 'user_type' is 'extra-heavy'\n",
      "6. Average number of events in the last 21 days greater than (or equal to) 106.50\n"
     ]
    }
   ],
   "source": [
    "print \"\"\n",
    "print \"Model explanations\"\n",
    "print \"---------------------------------------\"\n",
    "print 'Customer ID       : %s' % explanations[\"CustomerID\"]\n",
    "print 'Churn probability : %s' % explanations[\"probability\"]\n",
    "print \"\"\n",
    "print \"Why did the model make this prediction?\"\n",
    "print \"---------------------------------------\"\n",
    "print \"\\n\".join(['%s. %s' % (i + 1, x) for i, x in enumerate(explanations[\"explanation\"][0])])"
   ]
  }
 ],
 "metadata": {
  "kernelspec": {
   "display_name": "Python 2",
   "language": "python",
   "name": "python2"
  },
  "language_info": {
   "codemirror_mode": {
    "name": "ipython",
    "version": 2
   },
   "file_extension": ".py",
   "mimetype": "text/x-python",
   "name": "python",
   "nbconvert_exporter": "python",
   "pygments_lexer": "ipython2",
   "version": "2.7.11"
  }
 },
 "nbformat": 4,
 "nbformat_minor": 0
}
